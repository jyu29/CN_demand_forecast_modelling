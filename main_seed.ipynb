{
 "cells": [
  {
   "cell_type": "markdown",
   "id": "b7af95a8",
   "metadata": {},
   "source": [
    "# Requirements"
   ]
  },
  {
   "cell_type": "code",
   "execution_count": null,
   "id": "859fd9f0",
   "metadata": {},
   "outputs": [],
   "source": [
    "%load_ext autoreload\n",
    "%autoreload 2\n",
    "\n",
    "import pandas as pd\n",
    "import src.data_handler as dh\n",
    "import src.sagemaker_utils as su\n",
    "import src.outputs_stacking as osk\n",
    "import src.utils as ut"
   ]
  },
  {
   "cell_type": "markdown",
   "id": "194d9efa",
   "metadata": {},
   "source": [
    "# Parameters"
   ]
  },
  {
   "cell_type": "markdown",
   "id": "39c943b4",
   "metadata": {},
   "source": [
    "#### Modeling arguments handling"
   ]
  },
  {
   "cell_type": "code",
   "execution_count": null,
   "id": "2f5bafa3",
   "metadata": {},
   "outputs": [],
   "source": [
    "ENVIRONMENT = 'seed'\n",
    "LIST_CUTOFF = [202120, 202121, 202122, 202123, 202124, 202125, 202126, 202127, 202128, 202129, \n",
    "               202130, 202131, 202132, 202133, 202134, 202135, 202136, 202137, 202138, 202139, \n",
    "               202140, 202141, 202142, 202143, 202144]\n",
    "RUN_NAME = 'forecast-v22-init'\n",
    "\n",
    "ut.check_environment(ENVIRONMENT)\n",
    "list_cutoff = ut.check_list_cutoff(LIST_CUTOFF)\n",
    "ut.check_run_name(RUN_NAME)"
   ]
  },
  {
   "cell_type": "markdown",
   "id": "45055700",
   "metadata": {},
   "source": [
    "#### Logging level"
   ]
  },
  {
   "cell_type": "code",
   "execution_count": null,
   "id": "448fd237",
   "metadata": {},
   "outputs": [],
   "source": [
    "LOGGING_LVL = 'INFO'\n",
    "assert LOGGING_LVL in ['CRITICAL', 'ERROR', 'WARNING', 'INFO', 'DEBUG'], 'Wrong logging level'\n",
    "for module in [dh, su, osk]:\n",
    "    module.logger.setLevel(LOGGING_LVL)"
   ]
  },
  {
   "cell_type": "markdown",
   "id": "98bb31ee",
   "metadata": {},
   "source": [
    "#### Constants"
   ]
  },
  {
   "cell_type": "code",
   "execution_count": null,
   "id": "5a28fc33",
   "metadata": {},
   "outputs": [],
   "source": [
    "main_params = ut.import_modeling_parameters(ENVIRONMENT)\n",
    "\n",
    "REFINED_DATA_GLOBAL_BUCKET = main_params['refined_data_global_bucket']\n",
    "REFINED_DATA_SPECIFIC_BUCKET = main_params['refined_data_specific_bucket']\n",
    "REFINED_DATA_GLOBAL_PATH = main_params['refined_global_path']\n",
    "REFINED_DATA_SPECIFIC_PATH = main_params['refined_specific_path']\n",
    "REFINED_DATA_SPECIFIC_URI = ut.to_uri(REFINED_DATA_SPECIFIC_BUCKET, REFINED_DATA_SPECIFIC_PATH)\n",
    "\n",
    "MODEL_WEEK_SALES_PATH = f\"{REFINED_DATA_GLOBAL_PATH}model_week_sales\"\n",
    "MODEL_WEEK_TREE_PATH = f\"{REFINED_DATA_GLOBAL_PATH}model_week_tree\"\n",
    "MODEL_WEEK_MRP_PATH = f\"{REFINED_DATA_GLOBAL_PATH}model_week_mrp\"\n",
    "RECONSTRUCTED_SALES_LOCKDOWNS_PATH = f\"{REFINED_DATA_GLOBAL_PATH}reconstructed_sales_lockdowns.parquet\"\n",
    "\n",
    "LIST_ALGORITHM = list(main_params['algorithm'])\n",
    "OUTPUTS_STACKING = main_params['outputs_stacking']\n",
    "SHORT_TERM_ALGORITHM = main_params['short_term_algorithm']\n",
    "LONG_TERM_ALGORITHM = main_params['long_term_algorithm']\n",
    "SMOOTH_STACKING_RANGE = main_params['smooth_stacking_range']"
   ]
  },
  {
   "cell_type": "markdown",
   "id": "27388465",
   "metadata": {},
   "source": [
    "# Data Loading"
   ]
  },
  {
   "cell_type": "code",
   "execution_count": null,
   "id": "1d1e7e2a",
   "metadata": {},
   "outputs": [],
   "source": [
    "df_model_week_sales = ut.read_multipart_parquet_s3(REFINED_DATA_GLOBAL_BUCKET, MODEL_WEEK_SALES_PATH)\n",
    "df_model_week_tree = ut.read_multipart_parquet_s3(REFINED_DATA_GLOBAL_BUCKET, MODEL_WEEK_TREE_PATH)\n",
    "df_model_week_mrp = ut.read_multipart_parquet_s3(REFINED_DATA_GLOBAL_BUCKET, MODEL_WEEK_MRP_PATH)\n",
    "df_reconstructed_sales_lockdowns = ut.read_multipart_parquet_s3(REFINED_DATA_GLOBAL_BUCKET, RECONSTRUCTED_SALES_LOCKDOWNS_PATH)"
   ]
  },
  {
   "cell_type": "markdown",
   "id": "aad70114",
   "metadata": {},
   "source": [
    "# Initialize df_jobs"
   ]
  },
  {
   "cell_type": "code",
   "execution_count": null,
   "id": "28b135e0",
   "metadata": {},
   "outputs": [],
   "source": [
    "df_jobs = su.generate_df_jobs(list_cutoff=list_cutoff,\n",
    "                              run_name=RUN_NAME,\n",
    "                              list_algorithm=LIST_ALGORITHM,\n",
    "                              refined_data_specific_path=REFINED_DATA_SPECIFIC_URI\n",
    "                              )\n",
    "df_jobs"
   ]
  },
  {
   "cell_type": "markdown",
   "id": "54a6507c",
   "metadata": {},
   "source": [
    "# Generate modeling specific data"
   ]
  },
  {
   "cell_type": "code",
   "execution_count": null,
   "id": "01a43a3b",
   "metadata": {
    "scrolled": true
   },
   "outputs": [],
   "source": [
    "for _, job in df_jobs.iterrows():\n",
    "\n",
    "    # Parameters init\n",
    "    algorithm = job['algorithm']\n",
    "    cutoff = job['cutoff']\n",
    "    train_path = job['train_path']\n",
    "    predict_path = job['predict_path']\n",
    "\n",
    "    refining_params = dh.import_refining_config(environment=ENVIRONMENT,\n",
    "                                                algorithm=algorithm,\n",
    "                                                cutoff=cutoff,\n",
    "                                                train_path=train_path,\n",
    "                                                predict_path=predict_path\n",
    "                                                )\n",
    "\n",
    "    # Data/Features init\n",
    "    base_data = {\n",
    "        'model_week_sales': df_model_week_sales,\n",
    "        'model_week_tree': df_model_week_tree,\n",
    "        'model_week_mrp': df_model_week_mrp,\n",
    "        'reconstructed_sales_lockdowns': df_reconstructed_sales_lockdowns\n",
    "    }\n",
    "\n",
    "    if algorithm == 'deepar':\n",
    "        df_static_tree = df_model_week_tree[df_model_week_tree['week_id'] == cutoff].copy()\n",
    "\n",
    "        static_features = {\n",
    "            'family_id': df_static_tree[['model_id', 'family_id']],\n",
    "            'sub_department_id': df_static_tree[['model_id', 'sub_department_id']],\n",
    "            'department_id': df_static_tree[['model_id', 'department_id']],\n",
    "            'univers_id': df_static_tree[['model_id', 'univers_id']],\n",
    "            'product_nature_id': df_static_tree[['model_id', 'product_nature_id']]\n",
    "        }\n",
    "    else:\n",
    "        static_features = None\n",
    "    \n",
    "    global_dynamic_features = None\n",
    "\n",
    "    specific_dynamic_features = None\n",
    "\n",
    "    # Execute data refining\n",
    "    refining_handler = dh.DataHandler(base_data=base_data,\n",
    "                                      static_features=static_features,\n",
    "                                      global_dynamic_features=global_dynamic_features,\n",
    "                                      specific_dynamic_features=specific_dynamic_features,\n",
    "                                      **refining_params\n",
    "                                      )\n",
    "\n",
    "    refining_handler.execute_data_refining_specific()"
   ]
  },
  {
   "cell_type": "markdown",
   "id": "60a9de99",
   "metadata": {},
   "source": [
    "## Launch Fit & Transform"
   ]
  },
  {
   "cell_type": "code",
   "execution_count": null,
   "id": "206cfd1d",
   "metadata": {},
   "outputs": [],
   "source": [
    "for algorithm in LIST_ALGORITHM:\n",
    "\n",
    "    df_jobs_algo = df_jobs[df_jobs['algorithm'] == algorithm].copy()\n",
    "\n",
    "    sagemaker_params = su.import_sagemaker_params(environment=ENVIRONMENT, algorithm=algorithm)\n",
    "\n",
    "    modeling_handler = su.SagemakerHandler(df_jobs=df_jobs_algo, **sagemaker_params)\n",
    "\n",
    "    modeling_handler.launch_training_jobs()\n",
    "\n",
    "    if algorithm == 'deepar':\n",
    "        modeling_handler.launch_transform_jobs()"
   ]
  },
  {
   "cell_type": "markdown",
   "id": "45185ba4",
   "metadata": {},
   "source": [
    "# Calculate outputs stacking"
   ]
  },
  {
   "cell_type": "code",
   "execution_count": null,
   "id": "51a62f1c",
   "metadata": {
    "scrolled": true
   },
   "outputs": [],
   "source": [
    "if OUTPUTS_STACKING:\n",
    "    osk.calculate_outputs_stacking(\n",
    "        df_jobs,\n",
    "        short_term_algorithm=SHORT_TERM_ALGORITHM,\n",
    "        long_term_algorithm=LONG_TERM_ALGORITHM,\n",
    "        smooth_stacking_range=SMOOTH_STACKING_RANGE\n",
    "    )"
   ]
  }
 ],
 "metadata": {
  "kernelspec": {
   "display_name": "conda_forecast-modeling-demand",
   "language": "python",
   "name": "conda_forecast-modeling-demand"
  },
  "language_info": {
   "codemirror_mode": {
    "name": "ipython",
    "version": 3
   },
   "file_extension": ".py",
   "mimetype": "text/x-python",
   "name": "python",
   "nbconvert_exporter": "python",
   "pygments_lexer": "ipython3",
   "version": "3.7.10"
  }
 },
 "nbformat": 4,
 "nbformat_minor": 5
}

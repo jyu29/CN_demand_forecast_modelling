{
 "cells": [
  {
   "cell_type": "markdown",
   "id": "c94f7095",
   "metadata": {},
   "source": [
    "## Requirements"
   ]
  },
  {
   "cell_type": "code",
   "execution_count": 1,
   "id": "60a1cffe",
   "metadata": {},
   "outputs": [],
   "source": [
    "%load_ext autoreload\n",
    "%autoreload 2\n",
    "\n",
    "import pandas as pd\n",
    "import src.data_handler as dh\n",
    "import src.sagemaker_utils as su\n",
    "import src.utils as ut"
   ]
  },
  {
   "cell_type": "markdown",
   "id": "b827e0e2",
   "metadata": {},
   "source": [
    "## Params"
   ]
  },
  {
   "cell_type": "code",
   "execution_count": 2,
   "id": "1e046624",
   "metadata": {},
   "outputs": [],
   "source": [
    "list_cutoff = [202050, 202051, 202052, 202053, 202101, 202102, 202103, 202104, 202105, 202106, 202107, 202108,\n",
    "               202109, 202110, 202111, 202112, 202113, 202114, 202115, 202116]\n",
    "list_cutoff = [202117]\n",
    "run_name = 'deepar-16w-init'\n",
    "environment = 'seed'"
   ]
  },
  {
   "cell_type": "markdown",
   "id": "2e1e95d4",
   "metadata": {},
   "source": [
    "## Configs"
   ]
  },
  {
   "cell_type": "code",
   "execution_count": null,
   "id": "5965d56b",
   "metadata": {},
   "outputs": [],
   "source": [
    "confs = ut.import_raw_config(environment)\n",
    "\n",
    "global_bucket = confs['buckets']['refined_data_global']\n",
    "global_path = confs['paths']['refined_global_path']\n",
    "\n",
    "specific_bucket = confs['buckets']['refined_data_specific']\n",
    "specific_path = confs['paths']['refined_specific_path']\n",
    "\n",
    "algorithm = ut.import_raw_config(environment)['modeling_parameters']['algorithm']"
   ]
  },
  {
   "cell_type": "markdown",
   "id": "21500aac",
   "metadata": {},
   "source": [
    "## Load data"
   ]
  },
  {
   "cell_type": "code",
   "execution_count": null,
   "id": "943d86c1",
   "metadata": {},
   "outputs": [],
   "source": [
    "df_model_week_sales = ut.read_multipart_parquet_s3(global_bucket, global_path + 'model_week_sales')\n",
    "df_model_week_tree = ut.read_multipart_parquet_s3(global_bucket, global_path + 'model_week_tree')\n",
    "df_model_week_mrp = ut.read_multipart_parquet_s3(global_bucket, global_path + 'model_week_mrp')\n",
    "df_imputed_sales_lockdown_1 = ut.read_multipart_parquet_s3('fcst-refined-demand-forecast-dev', \n",
    "                                                           global_path + 'imputed_sales_lockdown_1.parquet')"
   ]
  },
  {
   "cell_type": "markdown",
   "id": "cfb24bdb",
   "metadata": {},
   "source": [
    "## Generate df_jobs"
   ]
  },
  {
   "cell_type": "code",
   "execution_count": null,
   "id": "a9b191e2",
   "metadata": {},
   "outputs": [],
   "source": [
    "refined_data_specific_path = ut.to_uri(specific_bucket, specific_path)\n",
    "\n",
    "df_jobs = generate_df_jobs(\n",
    "    list_cutoff=list_cutoff,\n",
    "    run_name=run_name,\n",
    "    algorithm=algorithm,\n",
    "    refined_data_specific_path=refined_data_specific_path\n",
    ")\n",
    "\n",
    "df_jobs"
   ]
  },
  {
   "cell_type": "markdown",
   "id": "e396db41",
   "metadata": {},
   "source": [
    "## Generate modeling specific data"
   ]
  },
  {
   "cell_type": "code",
   "execution_count": null,
   "id": "dfe1486d",
   "metadata": {
    "scrolled": true
   },
   "outputs": [],
   "source": [
    "for cutoff in list_cutoff:\n",
    "    \n",
    "    print(cutoff)\n",
    "    \n",
    "    # Base data\n",
    "    base_data = {\n",
    "        'model_week_sales': df_model_week_sales,\n",
    "        'model_week_tree': df_model_week_tree,\n",
    "        'model_week_mrp': df_model_week_mrp,\n",
    "        'imputed_sales_lockdown_1': df_imputed_sales_lockdown_1\n",
    "    }\n",
    "    \n",
    "    # Static features\n",
    "    df_static_tree = df_model_week_tree[df_model_week_tree['week_id'] == cutoff].copy()\n",
    "    \n",
    "    static_features = {\n",
    "        'family_id': df_static_tree[['model_id', 'family_id']],\n",
    "        'sub_department_id': df_static_tree[['model_id', 'sub_department_id']],\n",
    "        'department_id': df_static_tree[['model_id', 'department_id']],\n",
    "        'univers_id': df_static_tree[['model_id', 'univers_id']],\n",
    "        'product_nature_id': df_static_tree[['model_id', 'product_nature_id']]\n",
    "    }\n",
    "\n",
    "    global_dynamic_features = None\n",
    "    \n",
    "    specific_dynamic_features = None\n",
    "    \n",
    "    # Import refining config\n",
    "    train_path = df_jobs[df_jobs['cutoff'] == cutoff].loc[:, 'train_path'].values[0]\n",
    "    predict_path = df_jobs[df_jobs['cutoff'] == cutoff].loc[:, 'predict_path'].values[0]\n",
    "    \n",
    "    refining_params = import_refining_config(\n",
    "        environment=environment,\n",
    "        cutoff=cutoff,\n",
    "        run_name=run_name,\n",
    "        train_path=train_path,\n",
    "        predict_path=predict_path\n",
    "    )\n",
    "    \n",
    "    dh = data_handler(\n",
    "        base_data=base_data,\n",
    "        static_features=static_features,\n",
    "        global_dynamic_features=global_dynamic_features,\n",
    "        specific_dynamic_features=specific_dynamic_features,\n",
    "        **refining_params\n",
    "    )\n",
    "    \n",
    "    dh.execute_data_refining_specific()"
   ]
  },
  {
   "cell_type": "markdown",
   "id": "5337cc7a",
   "metadata": {},
   "source": [
    "## Launch parallel Fit-Transform"
   ]
  },
  {
   "cell_type": "code",
   "execution_count": null,
   "id": "2b0859d2",
   "metadata": {},
   "outputs": [],
   "source": [
    "sagemaker_params = import_sagemaker_params(environment=environment)\n",
    "\n",
    "sh = SagemakerHandler(\n",
    "    run_name=run_name,\n",
    "    df_jobs=df_jobs,\n",
    "    **sagemaker_params\n",
    ")\n",
    "\n",
    "sh.launch_training_jobs()\n",
    "\n",
    "sh.launch_transform_jobs()"
   ]
  }
 ],
 "metadata": {
  "kernelspec": {
   "display_name": "conda_forecast-modeling-demand",
   "language": "python",
   "name": "conda_forecast-modeling-demand"
  },
  "language_info": {
   "codemirror_mode": {
    "name": "ipython",
    "version": 3
   },
   "file_extension": ".py",
   "mimetype": "text/x-python",
   "name": "python",
   "nbconvert_exporter": "python",
   "pygments_lexer": "ipython3",
   "version": "3.7.10"
  }
 },
 "nbformat": 4,
 "nbformat_minor": 5
}

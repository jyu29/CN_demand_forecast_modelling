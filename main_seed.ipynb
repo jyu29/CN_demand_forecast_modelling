{
 "cells": [
  {
   "cell_type": "markdown",
   "id": "9dcbfb81",
   "metadata": {},
   "source": [
    "# Requirements"
   ]
  },
  {
   "cell_type": "code",
   "execution_count": null,
   "id": "88219411",
   "metadata": {},
   "outputs": [],
   "source": [
    "%load_ext autoreload\n",
    "%autoreload 2\n",
    "\n",
    "import pandas as pd\n",
    "import src.data_handler as dh\n",
    "import src.sagemaker_utils as su\n",
    "import src.model_stacking as ms\n",
    "import src.utils as ut"
   ]
  },
  {
   "cell_type": "markdown",
   "id": "147cd2b2",
   "metadata": {},
   "source": [
    "# Parameters"
   ]
  },
  {
   "cell_type": "markdown",
   "id": "ed1fa3b7",
   "metadata": {},
   "source": [
    "#### Modeling arguments handling"
   ]
  },
  {
   "cell_type": "code",
   "execution_count": null,
   "id": "2cb161b7",
   "metadata": {},
   "outputs": [],
   "source": [
    "ENVIRONMENT = 'seed'\n",
    "LIST_CUTOFF = [201925, 201929, 201933, 201937, 201941, 201945, 201949, 202001, 202005, 202009, 202013, 202017, \n",
    "               202021, 202025, 202029, 202033, 202037, 202041, 202045, 202049, 202050, 202051, 202052, 202053, \n",
    "               202101, 202102, 202103, 202104, 202105, 202106, 202107, 202108, 202109, 202110, 202111, 202112, \n",
    "               202113, 202114, 202115, 202116, 202117, 202118, 202119, 202120]\n",
    "RUN_NAME = 'forecast-v2-init'\n",
    "ut.check_environment(ENVIRONMENT)\n",
    "list_cutoff = ut.check_list_cutoff(LIST_CUTOFF)\n",
    "ut.check_run_name(RUN_NAME)"
   ]
  },
  {
   "cell_type": "markdown",
   "id": "77f37f0e",
   "metadata": {},
   "source": [
    "#### Logging level"
   ]
  },
  {
   "cell_type": "code",
   "execution_count": null,
   "id": "28514d13",
   "metadata": {},
   "outputs": [],
   "source": [
    "LOGGING_LVL = 'INFO'\n",
    "assert LOGGING_LVL in ['CRITICAL', 'ERROR', 'WARNING', 'INFO', 'DEBUG'], 'Wrong logging level'\n",
    "for module in [dh, su, ms]:\n",
    "    module.logger.setLevel(LOGGING_LVL)"
   ]
  },
  {
   "cell_type": "markdown",
   "id": "c10d7b13",
   "metadata": {},
   "source": [
    "#### Constants"
   ]
  },
  {
   "cell_type": "code",
   "execution_count": null,
   "id": "9842950c",
   "metadata": {},
   "outputs": [],
   "source": [
    "main_params = ut.import_modeling_parameters(ENVIRONMENT)\n",
    "REFINED_DATA_GLOBAL_BUCKET = main_params['refined_data_global_bucket']\n",
    "REFINED_DATA_SPECIFIC_BUCKET = main_params['refined_data_specific_bucket']\n",
    "REFINED_DATA_GLOBAL_PATH = main_params['refined_global_path']\n",
    "REFINED_DATA_SPECIFIC_PATH = main_params['refined_specific_path']\n",
    "REFINED_DATA_SPECIFIC_URI = ut.to_uri(REFINED_DATA_SPECIFIC_BUCKET, REFINED_DATA_SPECIFIC_PATH)\n",
    "MODEL_WEEK_SALES_PATH = f\"{REFINED_DATA_GLOBAL_PATH}model_week_sales\"\n",
    "MODEL_WEEK_TREE_PATH = f\"{REFINED_DATA_GLOBAL_PATH}model_week_tree\"\n",
    "MODEL_WEEK_MRP_PATH = f\"{REFINED_DATA_GLOBAL_PATH}model_week_mrp\"\n",
    "IMPUTED_SALES_LOCKDOWN_1_PATH = f\"{REFINED_DATA_GLOBAL_PATH}imputed_sales_lockdown_1.parquet\"\n",
    "LIST_ALGORITHM = list(main_params['algorithm'])\n",
    "DEEPAR_ARIMA_STACKING = main_params['deepar_arima_stacking']"
   ]
  },
  {
   "cell_type": "markdown",
   "id": "fff0dedc",
   "metadata": {},
   "source": [
    "# Data Loading"
   ]
  },
  {
   "cell_type": "code",
   "execution_count": null,
   "id": "691d2f60",
   "metadata": {},
   "outputs": [],
   "source": [
    "df_model_week_sales = ut.read_multipart_parquet_s3(REFINED_DATA_GLOBAL_BUCKET, MODEL_WEEK_SALES_PATH)\n",
    "df_model_week_tree = ut.read_multipart_parquet_s3(REFINED_DATA_GLOBAL_BUCKET, MODEL_WEEK_TREE_PATH)\n",
    "df_model_week_mrp = ut.read_multipart_parquet_s3(REFINED_DATA_GLOBAL_BUCKET, MODEL_WEEK_MRP_PATH)\n",
    "df_imputed_sales_lockdown_1 = ut.read_multipart_parquet_s3(REFINED_DATA_GLOBAL_BUCKET, IMPUTED_SALES_LOCKDOWN_1_PATH)"
   ]
  },
  {
   "cell_type": "markdown",
   "id": "a9d8347f",
   "metadata": {},
   "source": [
    "# Initialize df_jobs"
   ]
  },
  {
   "cell_type": "code",
   "execution_count": null,
   "id": "147f0eac",
   "metadata": {},
   "outputs": [],
   "source": [
    "df_jobs = su.generate_df_jobs(list_cutoff=list_cutoff,\n",
    "                              run_name=RUN_NAME,\n",
    "                              list_algorithm=LIST_ALGORITHM,\n",
    "                              refined_data_specific_path=REFINED_DATA_SPECIFIC_URI\n",
    "                              )\n",
    "df_jobs"
   ]
  },
  {
   "cell_type": "markdown",
   "id": "8ff9917a",
   "metadata": {},
   "source": [
    "# Generate modeling specific data"
   ]
  },
  {
   "cell_type": "code",
   "execution_count": null,
   "id": "20ed17b1",
   "metadata": {},
   "outputs": [],
   "source": [
    "for _, job in df_jobs.iterrows():\n",
    "\n",
    "    # Parameters init\n",
    "    algorithm = job['algorithm']\n",
    "    cutoff = job['cutoff']\n",
    "    train_path = job['train_path']\n",
    "    predict_path = job['predict_path']\n",
    "\n",
    "    refining_params = dh.import_refining_config(environment=ENVIRONMENT,\n",
    "                                                algorithm=algorithm,\n",
    "                                                cutoff=cutoff,\n",
    "                                                train_path=train_path,\n",
    "                                                predict_path=predict_path\n",
    "                                                )\n",
    "\n",
    "    # Data/Features init\n",
    "    base_data = {\n",
    "        'model_week_sales': df_model_week_sales,\n",
    "        'model_week_tree': df_model_week_tree,\n",
    "        'model_week_mrp': df_model_week_mrp,\n",
    "        'imputed_sales_lockdown_1': df_imputed_sales_lockdown_1\n",
    "    }\n",
    "\n",
    "    df_static_tree = df_model_week_tree[df_model_week_tree['week_id'] == cutoff].copy()\n",
    "\n",
    "    static_features = {\n",
    "        'family_id': df_static_tree[['model_id', 'family_id']],\n",
    "        'sub_department_id': df_static_tree[['model_id', 'sub_department_id']],\n",
    "        'department_id': df_static_tree[['model_id', 'department_id']],\n",
    "        'univers_id': df_static_tree[['model_id', 'univers_id']],\n",
    "        'product_nature_id': df_static_tree[['model_id', 'product_nature_id']]\n",
    "    }\n",
    "\n",
    "    global_dynamic_features = None\n",
    "\n",
    "    specific_dynamic_features = None\n",
    "\n",
    "    # Execute data refining\n",
    "    refining_handler = dh.DataHandler(base_data=base_data,\n",
    "                                      static_features=static_features,\n",
    "                                      global_dynamic_features=global_dynamic_features,\n",
    "                                      specific_dynamic_features=specific_dynamic_features,\n",
    "                                      **refining_params\n",
    "                                      )\n",
    "\n",
    "    refining_handler.execute_data_refining_specific()"
   ]
  },
  {
   "cell_type": "markdown",
   "id": "c9ab241f",
   "metadata": {},
   "source": [
    "## Launch Fit & Transform"
   ]
  },
  {
   "cell_type": "code",
   "execution_count": null,
   "id": "dc21e256",
   "metadata": {},
   "outputs": [],
   "source": [
    "for algorithm in LIST_ALGORITHM:\n",
    "\n",
    "    df_jobs_algo = df_jobs[df_jobs['algorithm'] == algorithm].copy()\n",
    "\n",
    "    sagemaker_params = su.import_sagemaker_params(environment=ENVIRONMENT, algorithm=algorithm)\n",
    "\n",
    "    modeling_handler = su.SagemakerHandler(df_jobs=df_jobs_algo, **sagemaker_params)\n",
    "\n",
    "    modeling_handler.launch_training_jobs()\n",
    "\n",
    "    if algorithm == 'deepar':\n",
    "        modeling_handler.launch_transform_jobs()"
   ]
  },
  {
   "cell_type": "markdown",
   "id": "10a28475",
   "metadata": {},
   "source": [
    "# Calculate model stacking"
   ]
  },
  {
   "cell_type": "code",
   "execution_count": null,
   "id": "207804a5",
   "metadata": {},
   "outputs": [],
   "source": [
    "if DEEPAR_ARIMA_STACKING:\n",
    "    ms.calculate_deepar_arima_stacking(df_jobs)"
   ]
  }
 ],
 "metadata": {
  "kernelspec": {
   "display_name": "conda_forecast-modeling-demand",
   "language": "python",
   "name": "conda_forecast-modeling-demand"
  },
  "language_info": {
   "codemirror_mode": {
    "name": "ipython",
    "version": 3
   },
   "file_extension": ".py",
   "mimetype": "text/x-python",
   "name": "python",
   "nbconvert_exporter": "python",
   "pygments_lexer": "ipython3",
   "version": "3.7.10"
  }
 },
 "nbformat": 4,
 "nbformat_minor": 5
}

{
 "cells": [
  {
   "cell_type": "code",
   "execution_count": 1,
   "metadata": {},
   "outputs": [],
   "source": [
    "import os\n",
    "\n",
    "os.environ['HTTP_PROXY'] = \"http://proxy-internet-aws-eu.subsidia.org:3128\"\n",
    "os.environ['HTTPS_PROXY'] = \"http://proxy-internet-aws-eu.subsidia.org:3128\"\n",
    "os.environ['no_proxy'] = \"169.254.169.254,127.0.0.1\""
   ]
  },
  {
   "cell_type": "markdown",
   "metadata": {},
   "source": [
    "## Parameters & Configuration"
   ]
  },
  {
   "cell_type": "code",
   "execution_count": 2,
   "metadata": {},
   "outputs": [],
   "source": [
    "ENVIRONMENT = \"preprod\""
   ]
  },
  {
   "cell_type": "code",
   "execution_count": 7,
   "metadata": {},
   "outputs": [],
   "source": [
    "import subprocess\n",
    "import sys\n",
    "sys.path.insert(0,'..')\n",
    "\n",
    "import src.config as cf"
   ]
  },
  {
   "cell_type": "code",
   "execution_count": 6,
   "metadata": {},
   "outputs": [],
   "source": [
    "config_file = \"../conf/prod.yml\" if ENVIRONMENT==\"prod\" else \"../conf/dev.yml\"\n",
    "config = cf.ProgramConfiguration(config_file, \"../conf/functional.yml\")"
   ]
  },
  {
   "cell_type": "markdown",
   "metadata": {},
   "source": [
    "## Build Docker images for train & serve"
   ]
  },
  {
   "cell_type": "code",
   "execution_count": 23,
   "metadata": {},
   "outputs": [
    {
     "data": {
      "text/plain": [
       "0"
      ]
     },
     "execution_count": 23,
     "metadata": {},
     "output_type": "execute_result"
    }
   ],
   "source": [
    "subprocess.call(['sh', '../_sagemaker_/build_image.sh', config.get_train_image_name()])"
   ]
  },
  {
   "cell_type": "markdown",
   "metadata": {},
   "source": [
    "## Training"
   ]
  },
  {
   "cell_type": "markdown",
   "metadata": {},
   "source": [
    "### Training config"
   ]
  },
  {
   "cell_type": "code",
   "execution_count": 11,
   "metadata": {},
   "outputs": [],
   "source": [
    "#from sagemaker import get_execution_role\n",
    "#hyperparameters = {\n",
    "#        'yearly_order': 26,\n",
    "#        'quaterly_order': 5,\n",
    "#    \n",
    "#        'weekly_seasonality': False,\n",
    "#        'daily_seasonality': False,\n",
    "#        'yearly_seasonality': False,\n",
    "#    \n",
    "#        'n_changepoints': 36,\n",
    "#        'changepoint_range': 0.69,\n",
    "#        'changepoint_prior_scale': 1.91,\n",
    "#        'seasonality_prior_scale': 2.04\n",
    "#}"
   ]
  },
  {
   "cell_type": "code",
   "execution_count": 20,
   "metadata": {},
   "outputs": [],
   "source": [
    "from sagemaker.estimator import Estimator"
   ]
  },
  {
   "cell_type": "code",
   "execution_count": 18,
   "metadata": {},
   "outputs": [],
   "source": [
    "role = config.get_global_role_arn()\n",
    "image_name = config.get_train_docker_image()\n",
    "bucket = config.get_train_bucket_input()\n",
    "project_id = config.get_train_path_refined_data_input()\n",
    "hyperparameters = config.get_train_hyperparameters()\n",
    "train_instance_count = config.get_train_instance_count()\n",
    "train_instance_type = config.get_train_instance_type()\n",
    "security_group_ids = config.get_global_security_group_ids()\n",
    "subnets = config.get_global_subnets()"
   ]
  },
  {
   "cell_type": "code",
   "execution_count": 19,
   "metadata": {},
   "outputs": [
    {
     "name": "stdout",
     "output_type": "stream",
     "text": [
      "- role: arn:aws:iam::150258775384:role/FORECAST-SAGEMAKER-DEV \n",
      "- image name: 150258775384.dkr.ecr.eu-west-1.amazonaws.com/demand-forecast-prophet-training:latest \n",
      "- bucket: fcst-refined-demand-forecast-dev \n",
      "- project_id: specific/domyos_nov_2019/train_data_cutoff/ \n",
      "- hyperparameters:\n",
      " {'yearly_order': '25', \"quaterly_order'\": '5', 'weekly_seasonality': 'False', 'daily_seasonality': 'False', 'yearly_seasonality': 'False', 'n_changepoints': '36', 'changepoint_range': '0.69', 'changepoint_prior_scale': '1.91', 'seasonality_prior_scale': '2.04'} \n",
      "- train_instance_count: 1 \n",
      "- train_instance_type: ml.m4.xlarge \n",
      "- security_group_id:s ['sg-0186b5ab868f43e42'] \n",
      "- subnets: ['subnet-0f87a7ed73f4ead6d', 'subnet-02c60aed04f0d4ee5']\n"
     ]
    }
   ],
   "source": [
    "print(\"- role:\", role,\n",
    "      \"\\n- image name:\", image_name,\n",
    "      \"\\n- bucket:\", bucket,\n",
    "      \"\\n- project_id:\", project_id,\n",
    "      \"\\n- hyperparameters:\\n\", hyperparameters,\n",
    "      \"\\n- train_instance_count:\", train_instance_count,\n",
    "      \"\\n- train_instance_type:\", train_instance_type,\n",
    "      \"\\n- security_group_id:s\", security_group_ids,\n",
    "      \"\\n- subnets:\", subnets\n",
    "     )"
   ]
  },
  {
   "cell_type": "code",
   "execution_count": 34,
   "metadata": {},
   "outputs": [],
   "source": [
    "# If you'd like to run the docker container locally instead of popping a machine ( faster to check your dev )\n",
    "train_instance_type = 'local'"
   ]
  },
  {
   "cell_type": "code",
   "execution_count": null,
   "metadata": {},
   "outputs": [
    {
     "name": "stdout",
     "output_type": "stream",
     "text": [
      "Creating tmph4ubgbzj_algo-1-8b4vf_1 ... \n",
      "\u001b[1BAttaching to tmph4ubgbzj_algo-1-8b4vf_12mdone\u001b[0m\n",
      "\u001b[36malgo-1-8b4vf_1  |\u001b[0m Run Env: preprod\n",
      "\u001b[36malgo-1-8b4vf_1  |\u001b[0m Only Last: True\n",
      "\u001b[36malgo-1-8b4vf_1  |\u001b[0m Content /opt/ml/input/data/training ['train_data_cutoff_201927', 'train_data_cutoff_201929', 'train_data_cutoff_201933', 'train_data_cutoff_201931', 'train_data_cutoff_201943', 'train_data_cutoff_201912', 'train_data_cutoff_201928', 'train_data_cutoff_201944', 'train_data_cutoff_201834', 'train_data_cutoff_201948', 'train_data_cutoff_202003', 'train_data_cutoff_201951', 'train_data_cutoff_201930', 'train_data_cutoff_201940', 'train_data_cutoff_201923', 'train_data_cutoff_201925', 'train_data_cutoff_201936', 'train_data_cutoff_201949', 'train_data_cutoff_201902', 'train_data_cutoff_201950', 'train_data_cutoff_201947', 'train_data_cutoff_201924', 'train_data_cutoff_201942', 'train_data_cutoff_202004', 'train_data_cutoff_201922', 'train_data_cutoff_201932', 'train_data_cutoff_202002', 'train_data_cutoff_201824', 'train_data_cutoff_201935', 'train_data_cutoff_201844', 'train_data_cutoff_201946', 'train_data_cutoff_201937', 'train_data_cutoff_202001', 'train_data_cutoff_201945', 'train_data_cutoff_201939', 'train_data_cutoff_201952', 'train_data_cutoff_201941', 'train_data_cutoff_201814', 'train_data_cutoff_201926', 'train_data_cutoff_201934', 'train_data_cutoff_201938']\n",
      "\u001b[36malgo-1-8b4vf_1  |\u001b[0m Content /opt/program: ['functional.yml', 'dev.yml', 'prod.yml', '.ipynb_checkpoints', 'config.py', '__pycache__', 'utils.py', 'preprocess.py', 'model.py', 'train', 'requirements.txt']\n",
      "\u001b[36malgo-1-8b4vf_1  |\u001b[0m downloaded fcst-workspace/qlik/data/clean/active_sales.csv to: /opt/ml/input/data/active_sales.csv\n",
      "\u001b[36malgo-1-8b4vf_1  |\u001b[0m Generating GluonTS dataset for cutoff 202004...\n"
     ]
    }
   ],
   "source": [
    "estimator = Estimator(role=role,\n",
    "                      train_instance_count=train_instance_count,\n",
    "                      train_instance_type=train_instance_type,\n",
    "                      image_name=image_name,\n",
    "                      hyperparameters=hyperparameters,\n",
    "                      security_group_ids=security_group_ids,\n",
    "                      subnets=subnets\n",
    "                      )\n",
    "\n",
    "estimator.fit('s3://'+bucket+'/'+project_id)"
   ]
  },
  {
   "cell_type": "markdown",
   "metadata": {},
   "source": [
    "## Bring your own hyperopt"
   ]
  },
  {
   "cell_type": "code",
   "execution_count": 11,
   "metadata": {},
   "outputs": [],
   "source": [
    "import boto3\n",
    "\n",
    "from time import gmtime, strftime\n",
    "from sagemaker.tuner import IntegerParameter, CategoricalParameter, ContinuousParameter, HyperparameterTuner"
   ]
  },
  {
   "cell_type": "code",
   "execution_count": 20,
   "metadata": {},
   "outputs": [],
   "source": [
    "tuning_job_name = 'demand-forecast-prophet-tuning'# + strftime(\"%d-%H-%M-%S\", gmtime())\n",
    "\n",
    "\n",
    "hyperparameter_ranges = {\n",
    "        'yearly_order': IntegerParameter (26, 29),#, #(1, 30)\n",
    "        'quaterly_order': IntegerParameter(4, 6)#, #(1, 10)\n",
    "}    \n",
    "#        'n_changepoints': IntegerParameter(30, 32), #(1, 50)\n",
    "#        'changepoint_range': ContinuousParameter(0.65, 0.69), #(0.6, 1.)\n",
    "#        'changepoint_prior_scale': ContinuousParameter(1.8, 1.9, scaling_type=\"Logarithmic\"), #1e-2, 1e2\n",
    "#        'seasonality_prior_scale': ContinuousParameter(2.2, 2.4, scaling_type=\"Logarithmic\")\n",
    "#}\n"
   ]
  },
  {
   "cell_type": "code",
   "execution_count": 21,
   "metadata": {},
   "outputs": [],
   "source": [
    "objective_metric_name = 'global_wape'\n",
    "objective_type = 'Minimize'\n",
    "metric_definitions = [{'Name': 'global_wape',\n",
    "                       'Regex': 'global_wape: ([0-9\\\\.]+)'}]"
   ]
  },
  {
   "cell_type": "code",
   "execution_count": 22,
   "metadata": {},
   "outputs": [],
   "source": [
    "tuner = HyperparameterTuner(estimator,\n",
    "                            objective_metric_name,\n",
    "                            hyperparameter_ranges,\n",
    "                            metric_definitions,\n",
    "                            max_jobs=9,\n",
    "                            max_parallel_jobs=1,\n",
    "                            objective_type=objective_type)"
   ]
  },
  {
   "cell_type": "code",
   "execution_count": 23,
   "metadata": {},
   "outputs": [],
   "source": [
    "#tuner.fit({'training': 's3://'+bucket+'/'+project_id,\n",
    "#          'test': 's3://'+bucket+'/'+project_id})\n",
    "\n",
    "tuner.fit('s3://'+bucket+'/'+project_id)"
   ]
  },
  {
   "cell_type": "code",
   "execution_count": 24,
   "metadata": {},
   "outputs": [
    {
     "data": {
      "text/plain": [
       "'InProgress'"
      ]
     },
     "execution_count": 24,
     "metadata": {},
     "output_type": "execute_result"
    }
   ],
   "source": [
    "boto3.client('sagemaker').describe_hyper_parameter_tuning_job(\n",
    "    HyperParameterTuningJobName=tuner.latest_tuning_job.job_name)['HyperParameterTuningJobStatus']"
   ]
  }
 ],
 "metadata": {
  "kernelspec": {
   "display_name": "conda_python3",
   "language": "python",
   "name": "conda_python3"
  },
  "language_info": {
   "codemirror_mode": {
    "name": "ipython",
    "version": 3
   },
   "file_extension": ".py",
   "mimetype": "text/x-python",
   "name": "python",
   "nbconvert_exporter": "python",
   "pygments_lexer": "ipython3",
   "version": "3.6.5"
  }
 },
 "nbformat": 4,
 "nbformat_minor": 4
}

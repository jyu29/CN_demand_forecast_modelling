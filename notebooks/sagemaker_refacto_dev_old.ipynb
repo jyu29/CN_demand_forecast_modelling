{
 "cells": [
  {
   "cell_type": "code",
   "execution_count": 1,
   "metadata": {},
   "outputs": [],
   "source": [
    "import os\n",
    "\n",
    "os.environ['HTTP_PROXY'] = \"http://proxy-internet-aws-eu.subsidia.org:3128\"\n",
    "os.environ['HTTPS_PROXY'] = \"http://proxy-internet-aws-eu.subsidia.org:3128\"\n",
    "os.environ['no_proxy'] = \"169.254.169.254,127.0.0.1\""
   ]
  },
  {
   "cell_type": "code",
   "execution_count": 2,
   "metadata": {},
   "outputs": [
    {
     "name": "stdout",
     "output_type": "stream",
     "text": [
      "Stopping docker: [  OK  ]\n",
      "Starting docker:\t.[  OK  ]\n"
     ]
    }
   ],
   "source": [
    "%%sh\n",
    "\n",
    "sudo su\n",
    "\n",
    "cat <<EOF >> /etc/sysconfig/docker\n",
    "export HTTPS_PROXY=http://proxy-internet-aws-eu.subsidia.org:3128\n",
    "export HTTP_PROXY=http://proxy-internet-aws-eu.subsidia.org:3128\n",
    "export NO_PROXY=169.254.169.254,127.0.0.1\n",
    "EOF\n",
    "\n",
    "service docker restart"
   ]
  },
  {
   "cell_type": "markdown",
   "metadata": {},
   "source": [
    "## Build Docker images for train & serve"
   ]
  },
  {
   "cell_type": "markdown",
   "metadata": {},
   "source": [
    "### Build generic train image : MXNET + Gluonts\n",
    "*Do not execute cell, image already exists in ECR*"
   ]
  },
  {
   "cell_type": "code",
   "execution_count": null,
   "metadata": {},
   "outputs": [],
   "source": [
    "%%sh\n",
    "\n",
    "export HTTPS_PROXY=http://proxy-internet-aws-eu.subsidia.org:3128\n",
    "export HTTP_PROXY=http://proxy-internet-aws-eu.subsidia.org:3128\n",
    "export NO_PROXY=169.254.169.254,127.0.0.1\n",
    "\n",
    "# Image name\n",
    "image_name=mxnet-gluonts-training-0.3.3-cpu\n",
    "\n",
    "cd container\n",
    "account=$(aws sts get-caller-identity --query Account --output text)\n",
    "\n",
    "# Get the region defined in the current configuration (default to us-west-2 if none defined)\n",
    "region=$(aws configure get region)\n",
    "region=${region:-eu-west-1}\n",
    "\n",
    "fullname=\"${account}.dkr.ecr.${region}.amazonaws.com/${image_name}:latest\"\n",
    "\n",
    "# If the repository doesn't exist in ECR, create it.\n",
    "aws ecr describe-repositories --repository-names \"${image_name}\" > /dev/null 2>&1\n",
    "if [ $? -ne 0 ]\n",
    "then\n",
    "    aws ecr create-repository --repository-name \"${image_name}\" > /dev/null\n",
    "fi\n",
    "\n",
    "# Get the login command from ECR and execute it directly\n",
    "$(aws ecr get-login --region ${region} --registry-ids ${account} --no-include-email) #for docker you must authenticate both accounts, dkt and amazon\n",
    "$(aws ecr get-login --region ${region} --registry-ids 763104351884 --no-include-email) #for amazon\n",
    "\n",
    "# Build the docker image locally with the image name and then push it to ECR\n",
    "# with the full name.\n",
    "docker build  --no-cache --pull --file 'Dockerfile_gluonts_training_0.3.3_cpu' -t ${image_name} .\n",
    "docker tag ${image_name} ${fullname}\n",
    "docker push ${fullname}"
   ]
  },
  {
   "cell_type": "markdown",
   "metadata": {},
   "source": [
    "### Build training image ( from gluonts image + src code )"
   ]
  },
  {
   "cell_type": "code",
   "execution_count": 33,
   "metadata": {},
   "outputs": [
    {
     "name": "stdout",
     "output_type": "stream",
     "text": [
      "Login Succeeded\n",
      "Sending build context to Docker daemon  101.4kB\n",
      "Step 1/4 : FROM 150258775384.dkr.ecr.eu-west-1.amazonaws.com/mxnet-gluonts-training-0.3.3-cpu:latest\n",
      "latest: Pulling from mxnet-gluonts-training-0.3.3-cpu\n",
      "Digest: sha256:060009925c389f20c3be2b291cf1032097c7aaedff213456c789ed19a315056a\n",
      "Status: Image is up to date for 150258775384.dkr.ecr.eu-west-1.amazonaws.com/mxnet-gluonts-training-0.3.3-cpu:latest\n",
      " ---> 31ee196156f7\n",
      "Step 2/4 : COPY src/ /opt/program\n",
      " ---> 269d32b68776\n",
      "Step 3/4 : COPY config/ /opt/program\n",
      " ---> f58cf8271300\n",
      "Step 4/4 : ENTRYPOINT [\"python\"]\n",
      " ---> Running in d1966df114b1\n",
      "Removing intermediate container d1966df114b1\n",
      " ---> efeab13f01c2\n",
      "Successfully built efeab13f01c2\n",
      "Successfully tagged apo-demand-forecast-training:latest\n",
      "The push refers to repository [150258775384.dkr.ecr.eu-west-1.amazonaws.com/apo-demand-forecast-training]\n",
      "3d6e4288adf5: Preparing\n",
      "e2577ffe6788: Preparing\n",
      "2b3fd2c0e44f: Preparing\n",
      "98db11483f2b: Preparing\n",
      "3190daa7d5b8: Preparing\n",
      "8dfd6a9b4a23: Preparing\n",
      "76f3ba8c633a: Preparing\n",
      "6994e2dcf65c: Preparing\n",
      "2ba2938b1081: Preparing\n",
      "c2bd17c23a00: Preparing\n",
      "03d55c086506: Preparing\n",
      "0b1e8a5461c8: Preparing\n",
      "92d3f22d44f3: Preparing\n",
      "10e46f329a25: Preparing\n",
      "24ab7de5faec: Preparing\n",
      "1ea5a27b0484: Preparing\n",
      "8dfd6a9b4a23: Waiting\n",
      "76f3ba8c633a: Waiting\n",
      "6994e2dcf65c: Waiting\n",
      "2ba2938b1081: Waiting\n",
      "c2bd17c23a00: Waiting\n",
      "03d55c086506: Waiting\n",
      "0b1e8a5461c8: Waiting\n",
      "92d3f22d44f3: Waiting\n",
      "10e46f329a25: Waiting\n",
      "24ab7de5faec: Waiting\n",
      "1ea5a27b0484: Waiting\n",
      "2b3fd2c0e44f: Layer already exists\n",
      "3190daa7d5b8: Layer already exists\n",
      "98db11483f2b: Layer already exists\n",
      "6994e2dcf65c: Layer already exists\n",
      "8dfd6a9b4a23: Layer already exists\n",
      "76f3ba8c633a: Layer already exists\n",
      "2ba2938b1081: Layer already exists\n",
      "c2bd17c23a00: Layer already exists\n",
      "03d55c086506: Layer already exists\n",
      "10e46f329a25: Layer already exists\n",
      "0b1e8a5461c8: Layer already exists\n",
      "92d3f22d44f3: Layer already exists\n",
      "24ab7de5faec: Layer already exists\n",
      "1ea5a27b0484: Layer already exists\n",
      "3d6e4288adf5: Pushed\n",
      "e2577ffe6788: Pushed\n",
      "latest: digest: sha256:3beeafb99a4ee21bc648b8618cb45a8631cf7c507168f820242c0127344dde1c size: 3665\n"
     ]
    },
    {
     "name": "stderr",
     "output_type": "stream",
     "text": [
      "WARNING! Using --password via the CLI is insecure. Use --password-stdin.\n",
      "WARNING! Your password will be stored unencrypted in /home/ec2-user/.docker/config.json.\n",
      "Configure a credential helper to remove this warning. See\n",
      "https://docs.docker.com/engine/reference/commandline/login/#credentials-store\n",
      "\n"
     ]
    }
   ],
   "source": [
    "%%sh\n",
    "\n",
    "export HTTPS_PROXY=http://proxy-internet-aws-eu.subsidia.org:3128\n",
    "export HTTP_PROXY=http://proxy-internet-aws-eu.subsidia.org:3128\n",
    "export NO_PROXY=169.254.169.254,127.0.0.1\n",
    "\n",
    "# The name of our algorithm\n",
    "algorithm_name=apo-demand-forecast-training\n",
    "\n",
    "cd container\n",
    "chmod +x train\n",
    "#chmod -R +x src/\n",
    "\n",
    "account=$(aws sts get-caller-identity --query Account --output text)\n",
    "\n",
    "# Get the region defined in the current configuration (default to us-west-2 if none defined)\n",
    "region=$(aws configure get region)\n",
    "region=${region:-eu-west-1}\n",
    "\n",
    "fullname=\"${account}.dkr.ecr.${region}.amazonaws.com/${algorithm_name}:latest\"\n",
    "\n",
    "# If the repository doesn't exist in ECR, create it.\n",
    "aws ecr describe-repositories --repository-names \"${algorithm_name}\" > /dev/null 2>&1\n",
    "if [ $? -ne 0 ]\n",
    "then\n",
    "    aws ecr create-repository --repository-name \"${algorithm_name}\" > /dev/null\n",
    "fi\n",
    "\n",
    "# Get the login command from ECR and execute it directly\n",
    "$(aws ecr get-login --region ${region} --registry-ids ${account} --no-include-email) #for docker you must authenticate both accounts, dkt and amazon\n",
    "\n",
    "# Build the docker image locally with the image name and then push it to ECR\n",
    "# with the full name.\n",
    "docker build  --no-cache --pull --file 'Dockerfile_train' -t ${algorithm_name} .\n",
    "docker tag ${algorithm_name} ${fullname}\n",
    "docker push ${fullname}"
   ]
  },
  {
   "cell_type": "code",
   "execution_count": 1,
   "metadata": {},
   "outputs": [],
   "source": [
    "from sagemaker import get_execution_role"
   ]
  },
  {
   "cell_type": "code",
   "execution_count": 35,
   "metadata": {},
   "outputs": [
    {
     "data": {
      "text/plain": [
       "'arn:aws:iam::150258775384:role/FORECAST-SAGEMAKER-DEV'"
      ]
     },
     "execution_count": 35,
     "metadata": {},
     "output_type": "execute_result"
    }
   ],
   "source": [
    "role = get_execution_role()\n",
    "role"
   ]
  },
  {
   "cell_type": "code",
   "execution_count": 36,
   "metadata": {},
   "outputs": [],
   "source": [
    "bucket = 'fcst-workspace'\n",
    "project_id = 'qlik/data/refined/domyos_nov_2019/gluonts_data' #/train_data_cutoff_201922.csv"
   ]
  },
  {
   "cell_type": "markdown",
   "metadata": {},
   "source": [
    "## Bring your own Docker Image Sagemaker"
   ]
  },
  {
   "cell_type": "code",
   "execution_count": 37,
   "metadata": {},
   "outputs": [],
   "source": [
    "image_name = '150258775384.dkr.ecr.eu-west-1.amazonaws.com/apo-demand-forecast-training:latest'"
   ]
  },
  {
   "cell_type": "code",
   "execution_count": 38,
   "metadata": {},
   "outputs": [],
   "source": [
    "hyperparameters = {\n",
    "        'yearly_order': 26,\n",
    "        'quaterly_order': 5,\n",
    "    \n",
    "        'weekly_seasonality': False,\n",
    "        'daily_seasonality': False,\n",
    "        'yearly_seasonality': False,\n",
    "    \n",
    "        'n_changepoints': 36,\n",
    "        'changepoint_range': 0.69,\n",
    "        'changepoint_prior_scale': 1.91,\n",
    "        'seasonality_prior_scale': 2.04\n",
    "}"
   ]
  },
  {
   "cell_type": "code",
   "execution_count": 39,
   "metadata": {},
   "outputs": [],
   "source": [
    "from sagemaker.estimator import Estimator\n",
    "#from sagemaker.estimator import EstimatorBase"
   ]
  },
  {
   "cell_type": "code",
   "execution_count": null,
   "metadata": {},
   "outputs": [],
   "source": [
    "instance_type = 'ml.m5.xlarge' #'local''ml.m5.2xlarge' #'local'#'ml.p3.2xlarge' # #'local' #'local_gpu'\n",
    "\n",
    "estimator = Estimator(role=role,\n",
    "                      train_instance_count=1,\n",
    "                      train_instance_type=instance_type,\n",
    "                      image_name=image_name,\n",
    "                      hyperparameters=hyperparameters,\n",
    "                      security_group_ids=[\"sg-0186b5ab868f43e42\"],\n",
    "                      subnets=[\"subnet-0f87a7ed73f4ead6d\", \"subnet-02c60aed04f0d4ee5\"] #, entry_point='src/train.py'\n",
    "                      )\n",
    "\n",
    "estimator.fit('s3://'+bucket+'/'+project_id) #'/gluonts_ds_cutoff_201922.pkl' #job_name"
   ]
  },
  {
   "cell_type": "markdown",
   "metadata": {},
   "source": [
    "## Bring your own hyperopt"
   ]
  },
  {
   "cell_type": "code",
   "execution_count": 11,
   "metadata": {},
   "outputs": [],
   "source": [
    "import boto3\n",
    "\n",
    "from time import gmtime, strftime\n",
    "from sagemaker.tuner import IntegerParameter, CategoricalParameter, ContinuousParameter, HyperparameterTuner"
   ]
  },
  {
   "cell_type": "code",
   "execution_count": 20,
   "metadata": {},
   "outputs": [],
   "source": [
    "tuning_job_name = 'demand-forecast-prophet-tuning'# + strftime(\"%d-%H-%M-%S\", gmtime())\n",
    "\n",
    "\n",
    "hyperparameter_ranges = {\n",
    "        'yearly_order': IntegerParameter (26, 29),#, #(1, 30)\n",
    "        'quaterly_order': IntegerParameter(4, 6)#, #(1, 10)\n",
    "}    \n",
    "#        'n_changepoints': IntegerParameter(30, 32), #(1, 50)\n",
    "#        'changepoint_range': ContinuousParameter(0.65, 0.69), #(0.6, 1.)\n",
    "#        'changepoint_prior_scale': ContinuousParameter(1.8, 1.9, scaling_type=\"Logarithmic\"), #1e-2, 1e2\n",
    "#        'seasonality_prior_scale': ContinuousParameter(2.2, 2.4, scaling_type=\"Logarithmic\")\n",
    "#}\n"
   ]
  },
  {
   "cell_type": "code",
   "execution_count": 21,
   "metadata": {},
   "outputs": [],
   "source": [
    "objective_metric_name = 'global_wape'\n",
    "objective_type = 'Minimize'\n",
    "metric_definitions = [{'Name': 'global_wape',\n",
    "                       'Regex': 'global_wape: ([0-9\\\\.]+)'}]"
   ]
  },
  {
   "cell_type": "code",
   "execution_count": 22,
   "metadata": {},
   "outputs": [],
   "source": [
    "tuner = HyperparameterTuner(estimator,\n",
    "                            objective_metric_name,\n",
    "                            hyperparameter_ranges,\n",
    "                            metric_definitions,\n",
    "                            max_jobs=9,\n",
    "                            max_parallel_jobs=1,\n",
    "                            objective_type=objective_type)"
   ]
  },
  {
   "cell_type": "code",
   "execution_count": 23,
   "metadata": {},
   "outputs": [],
   "source": [
    "#tuner.fit({'training': 's3://'+bucket+'/'+project_id,\n",
    "#          'test': 's3://'+bucket+'/'+project_id})\n",
    "\n",
    "tuner.fit('s3://'+bucket+'/'+project_id)"
   ]
  },
  {
   "cell_type": "code",
   "execution_count": 24,
   "metadata": {},
   "outputs": [
    {
     "data": {
      "text/plain": [
       "'InProgress'"
      ]
     },
     "execution_count": 24,
     "metadata": {},
     "output_type": "execute_result"
    }
   ],
   "source": [
    "boto3.client('sagemaker').describe_hyper_parameter_tuning_job(\n",
    "    HyperParameterTuningJobName=tuner.latest_tuning_job.job_name)['HyperParameterTuningJobStatus']"
   ]
  }
 ],
 "metadata": {
  "kernelspec": {
   "display_name": "conda_python3",
   "language": "python",
   "name": "conda_python3"
  },
  "language_info": {
   "codemirror_mode": {
    "name": "ipython",
    "version": 3
   },
   "file_extension": ".py",
   "mimetype": "text/x-python",
   "name": "python",
   "nbconvert_exporter": "python",
   "pygments_lexer": "ipython3",
   "version": "3.6.5"
  }
 },
 "nbformat": 4,
 "nbformat_minor": 4
}

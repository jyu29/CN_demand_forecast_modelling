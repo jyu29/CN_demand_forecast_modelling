{
 "cells": [
  {
   "cell_type": "code",
   "execution_count": null,
   "metadata": {},
   "outputs": [],
   "source": [
    "%load_ext autoreload\n",
    "%autoreload 2\n",
    "\n",
    "import boto3\n",
    "import sagemaker\n",
    "import pandas as pd\n",
    "import os\n",
    "import sys\n",
    "\n",
    "sys.path.insert(0,'..')\n",
    "\n",
    "import src.config as cf\n",
    "import src.utils as ut\n",
    "\n",
    "os.environ['HTTP_PROXY'] = \"http://proxy-internet-aws-eu.subsidia.org:3128\"\n",
    "os.environ['HTTPS_PROXY'] = \"http://proxy-internet-aws-eu.subsidia.org:3128\"\n",
    "os.environ['no_proxy'] = \"169.254.169.254,127.0.0.1\""
   ]
  },
  {
   "cell_type": "markdown",
   "metadata": {},
   "source": [
    "# Params"
   ]
  },
  {
   "cell_type": "code",
   "execution_count": null,
   "metadata": {},
   "outputs": [],
   "source": [
    "RUN_ENV = \"dev\"\n",
    "freq = 'W'\n",
    "prediction_length = 16\n",
    "cutoff_week_id = 201922"
   ]
  },
  {
   "cell_type": "code",
   "execution_count": null,
   "metadata": {},
   "outputs": [],
   "source": [
    "config_file = \"../conf/prod.yml\" if RUN_ENV == \"prod\" else \"../conf/dev.yml\"\n",
    "config = cf.ProgramConfiguration(config_file, \"../conf/functional.yml\")\n",
    "\n",
    "sagemaker_session = sagemaker.Session()\n",
    "role = config.get_global_role_arn()\n",
    "\n",
    "bucket = config.get_train_bucket_input()\n",
    "prefix = 'test_deepAR' # Your S3 test dir\n",
    "\n",
    "s3_data_path = \"{}/{}/data\".format(bucket, prefix)\n",
    "s3_output_path = \"{}/{}/output\".format(bucket, prefix)"
   ]
  },
  {
   "cell_type": "markdown",
   "metadata": {},
   "source": [
    "# Get DeepAR Image"
   ]
  },
  {
   "cell_type": "code",
   "execution_count": null,
   "metadata": {},
   "outputs": [],
   "source": [
    "from sagemaker.amazon.amazon_estimator import get_image_uri\n",
    "image_name = get_image_uri(boto3.Session().region_name, 'forecasting-deepar')"
   ]
  },
  {
   "cell_type": "markdown",
   "metadata": {},
   "source": [
    "# HyperParameters Tuning Job"
   ]
  },
  {
   "cell_type": "code",
   "execution_count": null,
   "metadata": {},
   "outputs": [],
   "source": [
    "from sagemaker.tuner import IntegerParameter, CategoricalParameter, ContinuousParameter, HyperparameterTuner"
   ]
  },
  {
   "cell_type": "code",
   "execution_count": null,
   "metadata": {},
   "outputs": [],
   "source": [
    "s3_output_path = \"s3://{}/model\".format(s3_output_path)\n",
    "\n",
    "estimator = sagemaker.estimator.Estimator(\n",
    "    sagemaker_session=sagemaker_session,\n",
    "    image_name=image_name,\n",
    "    role=role,\n",
    "    train_instance_count=1,\n",
    "    train_instance_type='ml.p3.2xlarge',\n",
    "    output_path=s3_output_path,\n",
    "    train_use_spot_instances=True,\n",
    "    train_max_run=3600,\n",
    "    train_max_wait=3600\n",
    ")"
   ]
  },
  {
   "cell_type": "code",
   "execution_count": null,
   "metadata": {},
   "outputs": [],
   "source": [
    "hyperparameters = {\n",
    "    \"time_freq\": freq,\n",
    "    \"prediction_length\": str(prediction_length),\n",
    "    \"test_quantiles\" : [0.5]\n",
    "}\n",
    "\n",
    "estimator.set_hyperparameters(**hyperparameters)"
   ]
  },
  {
   "cell_type": "code",
   "execution_count": null,
   "metadata": {},
   "outputs": [],
   "source": [
    "hyperparameter_ranges = {\n",
    "    \"context_length\": IntegerParameter(16, 110),\n",
    "    \"num_cells\": IntegerParameter(30, 200),\n",
    "    \"num_layers\": IntegerParameter(2, 6), # 1 - 8\n",
    "    \"epochs\":  IntegerParameter(10, 200),\n",
    "    \"mini_batch_size\": CategoricalParameter([32, 64, 128, 256, 512, 1024]),\n",
    "    \"learning_rate\": ContinuousParameter(1e-5, 1e-1, scaling_type=\"Logarithmic\"),\n",
    "    \"dropout_rate\": ContinuousParameter(0, 0.2),\n",
    "    \"likelihood\": CategoricalParameter([\"negative-binomial\", \"student-T\"]),\n",
    "}"
   ]
  },
  {
   "cell_type": "code",
   "execution_count": null,
   "metadata": {},
   "outputs": [],
   "source": [
    "tuning_job_name = \"TUNING-{}-DEEPAR\".format(cutoff_week_id)\n",
    "\n",
    "tuner = HyperparameterTuner(\n",
    "    estimator=estimator,\n",
    "    objective_metric_name='test:mean_wQuantileLoss',\n",
    "    hyperparameter_ranges=hyperparameter_ranges,\n",
    "    objective_type='Minimize',\n",
    "    max_jobs=25,\n",
    "    max_parallel_jobs=2,\n",
    "    early_stopping_type='Off',\n",
    "    base_tuning_job_name=tuning_job_name\n",
    ")"
   ]
  },
  {
   "cell_type": "code",
   "execution_count": null,
   "metadata": {},
   "outputs": [],
   "source": [
    "data_channels = {\n",
    "    \"train\" : \"s3://{}/cutoff_{}/train.json\".format(s3_data_path, cutoff_week_id),\n",
    "    'test': \"s3://{}/cutoff_{}/val.json\".format(s3_data_path, cutoff_week_id),\n",
    "}"
   ]
  },
  {
   "cell_type": "code",
   "execution_count": null,
   "metadata": {},
   "outputs": [],
   "source": [
    "tuner.fit(inputs=data_channels)\n",
    "sagemaker_session.wait_for_tuning_job(tuner.latest_tuning_job.name)"
   ]
  }
 ],
 "metadata": {
  "kernelspec": {
   "display_name": "conda_forecast-modeling-demand",
   "language": "python",
   "name": "conda_forecast-modeling-demand"
  },
  "language_info": {
   "codemirror_mode": {
    "name": "ipython",
    "version": 3
   },
   "file_extension": ".py",
   "mimetype": "text/x-python",
   "name": "python",
   "nbconvert_exporter": "python",
   "pygments_lexer": "ipython3",
   "version": "3.6.5"
  }
 },
 "nbformat": 4,
 "nbformat_minor": 4
}

{
 "cells": [
  {
   "cell_type": "code",
   "execution_count": null,
   "metadata": {},
   "outputs": [],
   "source": [
    "%load_ext autoreload\n",
    "%autoreload 2\n",
    "\n",
    "import boto3\n",
    "import sagemaker\n",
    "import pandas as pd\n",
    "import numpy as np\n",
    "import os\n",
    "import sys\n",
    "import re\n",
    "import time\n",
    "\n",
    "sys.path.insert(0,'..')\n",
    "\n",
    "import src.config as cf\n",
    "import src.utils as ut\n",
    "\n",
    "os.environ['HTTP_PROXY'] = \"http://proxy-internet-aws-eu.subsidia.org:3128\"\n",
    "os.environ['HTTPS_PROXY'] = \"http://proxy-internet-aws-eu.subsidia.org:3128\"\n",
    "os.environ['no_proxy'] = \"169.254.169.254,127.0.0.1\""
   ]
  },
  {
   "cell_type": "markdown",
   "metadata": {},
   "source": [
    "# Params"
   ]
  },
  {
   "cell_type": "code",
   "execution_count": null,
   "metadata": {},
   "outputs": [],
   "source": [
    "RUN_ENV = \"dev\"\n",
    "freq = 'W'\n",
    "prediction_length = 16"
   ]
  },
  {
   "cell_type": "code",
   "execution_count": null,
   "metadata": {},
   "outputs": [],
   "source": [
    "config_file = \"../conf/prod.yml\" if RUN_ENV == \"prod\" else \"../conf/dev.yml\"\n",
    "config = cf.ProgramConfiguration(config_file, \"../conf/functional.yml\")\n",
    "\n",
    "sagemaker_session = sagemaker.Session()\n",
    "client = boto3.client('sagemaker')\n",
    "role = config.get_global_role_arn()\n",
    "\n",
    "bucket = config.get_train_bucket_input()\n",
    "prefix = 'test_deepAR' # Your S3 test dir\n",
    "\n",
    "s3_data_path = \"{}/{}/data\".format(bucket, prefix)\n",
    "s3_output_path = \"{}/{}/output\".format(bucket, prefix)"
   ]
  },
  {
   "cell_type": "markdown",
   "metadata": {},
   "source": [
    "# Get DeepAR Image"
   ]
  },
  {
   "cell_type": "code",
   "execution_count": null,
   "metadata": {},
   "outputs": [],
   "source": [
    "from sagemaker.amazon.amazon_estimator import get_image_uri\n",
    "image_name = get_image_uri(boto3.Session().region_name, 'forecasting-deepar')"
   ]
  },
  {
   "cell_type": "markdown",
   "metadata": {},
   "source": [
    "# Run Training Job"
   ]
  },
  {
   "cell_type": "code",
   "execution_count": null,
   "metadata": {},
   "outputs": [],
   "source": [
    "cutoff_files = sagemaker_session.list_s3_files(bucket, \"{}/data/\".format(prefix))\n",
    "l_cutoff_week_id = np.sort(np.unique([int(re.findall('\\d+', f)[0]) for f in cutoff_files]))\n",
    "l_cutoff_week_id = l_cutoff_week_id[:1]\n",
    "l_cutoff_week_id"
   ]
  },
  {
   "cell_type": "code",
   "execution_count": null,
   "metadata": {
    "scrolled": true
   },
   "outputs": [],
   "source": [
    "for cutoff_week_id in l_cutoff_week_id:\n",
    "    \n",
    "    print(cutoff_week_id)\n",
    "    \n",
    "    model_name = \"APO-{}-DEEPAR\".format(cutoff_week_id)\n",
    "    \n",
    "    job_name = \"TRAINING-{}\".format(model_name)\n",
    "    output_path = \"s3://{}/model\".format(s3_output_path)\n",
    "    \n",
    "    estimator = sagemaker.estimator.Estimator(\n",
    "        sagemaker_session=sagemaker_session,\n",
    "        image_name=image_name,\n",
    "        role=role,\n",
    "        train_instance_count=1,\n",
    "        train_instance_type='ml.p3.2xlarge',\n",
    "        base_job_name=job_name,\n",
    "        output_path=output_path,\n",
    "        train_use_spot_instances=True,\n",
    "        train_max_run=3600,\n",
    "        train_max_wait=3600\n",
    "    )\n",
    "    \n",
    "    hyperparameters = {\n",
    "        \"time_freq\": freq,\n",
    "        \"prediction_length\": str(prediction_length),\n",
    "        \"context_length\": \"21\",\n",
    "        \"num_cells\": \"199\",\n",
    "        \"num_layers\": \"3\",\n",
    "        \"likelihood\": \"negative-binomial\",\n",
    "        \"epochs\": \"126\",\n",
    "        \"mini_batch_size\": \"256\",\n",
    "        \"learning_rate\": \"9.958020405900597e-05\",\n",
    "        \"dropout_rate\": \"0.17555152252766837\",\n",
    "        \"test_quantiles\" : \"[0.5]\",\n",
    "        \"early_stopping_patience\" : \"10\"\n",
    "    }\n",
    "\n",
    "    estimator.set_hyperparameters(**hyperparameters)\n",
    "    \n",
    "    inputs = {\n",
    "        \"train\" : \"s3://{}/cutoff_{}/val.json\".format(s3_data_path, cutoff_week_id)\n",
    "    }\n",
    "    \n",
    "    while True:\n",
    "        try:\n",
    "            estimator.fit(inputs=inputs, wait=False)\n",
    "            break\n",
    "        except:\n",
    "            print(\"...\")\n",
    "            time.sleep(120)\n",
    "            continue"
   ]
  },
  {
   "cell_type": "markdown",
   "metadata": {},
   "source": [
    "### /!\\ Wait until all previous jobs have been completed before starting the next cell."
   ]
  },
  {
   "cell_type": "code",
   "execution_count": null,
   "metadata": {},
   "outputs": [],
   "source": [
    "l_training_jobs = client.list_training_jobs(MaxResults=100)[\"TrainingJobSummaries\"]\n",
    "l_training_jobs_name = [l_training_jobs[i]['TrainingJobName'] for i in range(len(l_training_jobs))]\n",
    "\n",
    "for cutoff_week_id in l_cutoff_week_id:\n",
    "\n",
    "    model_name = \"APO-{}-DEEPAR\".format(cutoff_week_id)\n",
    "    job_name = \"TRAINING-{}\".format(model_name)\n",
    "    \n",
    "    # Delete old model version if exists\n",
    "    try: \n",
    "        sagemaker_session.delete_model(model_name)\n",
    "    except:\n",
    "        pass\n",
    "    \n",
    "    training_job_name = [j for j in l_training_jobs_name if job_name in j][0]\n",
    "    \n",
    "    print(model_name)\n",
    "    \n",
    "    model = sagemaker_session.create_model_from_job(\n",
    "        training_job_name,\n",
    "        name=model_name,\n",
    "        role=role,\n",
    "    )"
   ]
  }
 ],
 "metadata": {
  "kernelspec": {
   "display_name": "conda_forecast-modeling-demand",
   "language": "python",
   "name": "conda_forecast-modeling-demand"
  },
  "language_info": {
   "codemirror_mode": {
    "name": "ipython",
    "version": 3
   },
   "file_extension": ".py",
   "mimetype": "text/x-python",
   "name": "python",
   "nbconvert_exporter": "python",
   "pygments_lexer": "ipython3",
   "version": "3.6.5"
  }
 },
 "nbformat": 4,
 "nbformat_minor": 4
}

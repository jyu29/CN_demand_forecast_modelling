{
 "cells": [
  {
   "cell_type": "code",
   "execution_count": null,
   "metadata": {},
   "outputs": [],
   "source": [
    "%load_ext autoreload\n",
    "%autoreload 2\n",
    "\n",
    "import json\n",
    "import s3fs\n",
    "import boto3\n",
    "import sagemaker\n",
    "import numpy as np\n",
    "import pandas as pd\n",
    "import os\n",
    "import sys\n",
    "\n",
    "sys.path.insert(0,'..')\n",
    "\n",
    "import src.config as cf\n",
    "import src.utils as ut\n",
    "\n",
    "os.environ['HTTP_PROXY'] = \"http://proxy-internet-aws-eu.subsidia.org:3128\"\n",
    "os.environ['HTTPS_PROXY'] = \"http://proxy-internet-aws-eu.subsidia.org:3128\"\n",
    "os.environ['no_proxy'] = \"169.254.169.254,127.0.0.1\""
   ]
  },
  {
   "cell_type": "markdown",
   "metadata": {},
   "source": [
    "# Params"
   ]
  },
  {
   "cell_type": "code",
   "execution_count": null,
   "metadata": {},
   "outputs": [],
   "source": [
    "RUN_ENV = \"dev\"\n",
    "freq = 'W'\n",
    "prediction_length = 16\n",
    "cutoff_week_id = 201922"
   ]
  },
  {
   "cell_type": "code",
   "execution_count": null,
   "metadata": {},
   "outputs": [],
   "source": [
    "config_file = \"../conf/prod.yml\" if RUN_ENV == \"prod\" else \"../conf/dev.yml\"\n",
    "config = cf.ProgramConfiguration(config_file, \"../conf/functional.yml\")\n",
    "\n",
    "sagemaker_session = sagemaker.Session()\n",
    "role = config.get_global_role_arn()\n",
    "\n",
    "bucket = config.get_train_bucket_input()\n",
    "prefix = 'test_deepAR' # Your S3 test dir\n",
    "\n",
    "s3_data_path = \"{}/{}/data\".format(bucket, prefix)\n",
    "s3_output_path = \"{}/{}/output\".format(bucket, prefix)\n",
    "\n",
    "model_name = \"APO-{}-DEEPAR\".format(cutoff_week_id)"
   ]
  },
  {
   "cell_type": "markdown",
   "metadata": {},
   "source": [
    "# Forecast with Batch Transform "
   ]
  },
  {
   "cell_type": "code",
   "execution_count": null,
   "metadata": {},
   "outputs": [],
   "source": [
    "transform_job_name = \"FORECASTING-{}\".format(model_name)\n",
    "output_path = \"s3://{}/result/cutoff_{}\".format(s3_output_path, cutoff_week_id)\n",
    "\n",
    "transformer = sagemaker.transformer.Transformer(\n",
    "    model_name=model_name,\n",
    "    instance_count=1,\n",
    "    instance_type='ml.c5.4xlarge',\n",
    "    strategy='SingleRecord',\n",
    "    assemble_with='Line',\n",
    "    base_transform_job_name=transform_job_name,\n",
    "    output_path=output_path,\n",
    "    sagemaker_session=sagemaker_session\n",
    ")"
   ]
  },
  {
   "cell_type": "code",
   "execution_count": null,
   "metadata": {},
   "outputs": [],
   "source": [
    "data = \"s3://{}/cutoff_{}/test.json\".format(s3_data_path, cutoff_week_id)\n",
    "\n",
    "transformer.transform(data=data, split_type='Line')\n",
    "sagemaker_session.wait_for_transform_job(transformer.latest_transform_job.name)"
   ]
  },
  {
   "cell_type": "markdown",
   "metadata": {},
   "source": [
    "# Format Results"
   ]
  },
  {
   "cell_type": "code",
   "execution_count": null,
   "metadata": {},
   "outputs": [],
   "source": [
    "# Get back info from input data\n",
    "fs = s3fs.S3FileSystem()\n",
    "\n",
    "data = []\n",
    "with fs.open(\"s3://{}/cutoff_{}/test.json\".format(s3_data_path, cutoff_week_id), 'r', encoding='utf-8') as f:\n",
    "    for line in f:\n",
    "        data.append(json.loads(line, encoding='utf-8'))\n",
    "        \n",
    "l_model = []\n",
    "for x in data:\n",
    "    l_model.append(int(x['model']))\n",
    "    \n",
    "nb_ts = len(l_model)"
   ]
  },
  {
   "cell_type": "code",
   "execution_count": null,
   "metadata": {
    "scrolled": true
   },
   "outputs": [],
   "source": [
    "# Read output results\n",
    "fs = s3fs.S3FileSystem()\n",
    "\n",
    "res = []\n",
    "with fs.open(\"s3://{}/result/cutoff_{}/test.json.out\".format(s3_output_path, cutoff_week_id), 'r', encoding='utf-8') as f:\n",
    "    for line in f:\n",
    "        res.append(json.loads(line, encoding='utf-8'))"
   ]
  },
  {
   "cell_type": "code",
   "execution_count": null,
   "metadata": {},
   "outputs": [],
   "source": [
    "res = pd.DataFrame.from_records(res)\n",
    "res = pd.concat([pd.DataFrame.from_records(res['quantiles']), res[['mean']]], axis=1)\n",
    "res = res[['0.5']] # keep only quantile 0.5 for now\n",
    "res['model'] = l_model\n",
    "res = res.set_index(['model'])['0.5'].apply(pd.Series).stack().reset_index()\n",
    "res.rename(columns={0 : 'yhat'}, inplace=True)"
   ]
  },
  {
   "cell_type": "code",
   "execution_count": null,
   "metadata": {},
   "outputs": [],
   "source": [
    "week_id_range = ut.get_next_n_week(cutoff_week_id, prediction_length)\n",
    "\n",
    "res['cutoff_week_id'] = cutoff_week_id\n",
    "res['cutoff_date'] = ut.week_id_to_date(cutoff_week_id)\n",
    "res['week_id'] = week_id_range * nb_ts\n",
    "res['date'] = [ut.week_id_to_date(w) for w in week_id_range] * nb_ts\n",
    "\n",
    "res['cutoff_date'] = res['cutoff_date'].dt.date\n",
    "res['date'] = res['date'].dt.date\n",
    "res['yhat'] = res['yhat'].astype(int)\n",
    "\n",
    "res = res[['cutoff_week_id', 'cutoff_date', 'week_id', 'date', 'model', 'yhat']].reset_index(drop=True)\n",
    "\n",
    "res.head()"
   ]
  },
  {
   "cell_type": "markdown",
   "metadata": {},
   "source": [
    "# Calculate WAPE"
   ]
  },
  {
   "cell_type": "code",
   "execution_count": null,
   "metadata": {},
   "outputs": [],
   "source": [
    "active_sales = ut.read_parquet_S3(bucket, \"global/active_sales\")"
   ]
  },
  {
   "cell_type": "code",
   "execution_count": null,
   "metadata": {},
   "outputs": [],
   "source": [
    "error = pd.merge(res, active_sales, how=\"inner\")\n",
    "error[\"forecast_step\"] = ((error[\"date\"] - error[\"cutoff_date\"]) / np.timedelta64(1, 'W')).astype(int) + 1\n",
    "error[\"ae\"] = np.abs(error[\"yhat\"] - error[\"y\"])"
   ]
  },
  {
   "cell_type": "code",
   "execution_count": null,
   "metadata": {},
   "outputs": [],
   "source": [
    "wape = np.round(error[\"ae\"].sum() / error[\"y\"].sum() * 100, 3)\n",
    "print(\"Global WAPE \", str(wape))\n",
    "print(\"Nb products \", str(error.model.unique().shape[0]))"
   ]
  },
  {
   "cell_type": "code",
   "execution_count": null,
   "metadata": {},
   "outputs": [],
   "source": [
    "for s in np.sort(error[\"forecast_step\"].unique()):\n",
    "    error_s = error[error[\"forecast_step\"] == s]\n",
    "    wape = error_s[\"ae\"].sum() / error_s[\"y\"].sum()\n",
    "    \n",
    "    print(\"Forecast Step\", str(s), \":\")\n",
    "    print(\"WAPE:     \", str(wape))\n",
    "    print(\"\\n-------------------------\\n\")"
   ]
  }
 ],
 "metadata": {
  "kernelspec": {
   "display_name": "conda_forecast-modeling-demand",
   "language": "python",
   "name": "conda_forecast-modeling-demand"
  },
  "language_info": {
   "codemirror_mode": {
    "name": "ipython",
    "version": 3
   },
   "file_extension": ".py",
   "mimetype": "text/x-python",
   "name": "python",
   "nbconvert_exporter": "python",
   "pygments_lexer": "ipython3",
   "version": "3.6.5"
  }
 },
 "nbformat": 4,
 "nbformat_minor": 4
}

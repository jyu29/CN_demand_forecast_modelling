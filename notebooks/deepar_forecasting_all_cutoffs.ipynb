{
 "cells": [
  {
   "cell_type": "code",
   "execution_count": null,
   "metadata": {},
   "outputs": [],
   "source": [
    "%load_ext autoreload\n",
    "%autoreload 2\n",
    "\n",
    "import json\n",
    "import s3fs\n",
    "import boto3\n",
    "import sagemaker\n",
    "import numpy as np\n",
    "import pandas as pd\n",
    "import os\n",
    "import sys\n",
    "import re\n",
    "import time\n",
    "\n",
    "sys.path.insert(0,'..')\n",
    "\n",
    "import src.config as cf\n",
    "import src.utils as ut\n",
    "\n",
    "os.environ['HTTP_PROXY'] = \"http://proxy-internet-aws-eu.subsidia.org:3128\"\n",
    "os.environ['HTTPS_PROXY'] = \"http://proxy-internet-aws-eu.subsidia.org:3128\"\n",
    "os.environ['no_proxy'] = \"169.254.169.254,127.0.0.1\""
   ]
  },
  {
   "cell_type": "markdown",
   "metadata": {},
   "source": [
    "# Params"
   ]
  },
  {
   "cell_type": "code",
   "execution_count": null,
   "metadata": {},
   "outputs": [],
   "source": [
    "RUN_ENV = \"dev\"\n",
    "freq = 'W'\n",
    "prediction_length = 16"
   ]
  },
  {
   "cell_type": "code",
   "execution_count": null,
   "metadata": {},
   "outputs": [],
   "source": [
    "config_file = \"../conf/prod.yml\" if RUN_ENV == \"prod\" else \"../conf/dev.yml\"\n",
    "config = cf.ProgramConfiguration(config_file, \"../conf/functional.yml\")\n",
    "\n",
    "sagemaker_session = sagemaker.Session()\n",
    "client = boto3.client('sagemaker')\n",
    "role = config.get_global_role_arn()\n",
    "\n",
    "bucket = config.get_train_bucket_input()\n",
    "prefix = 'test_deepAR' # Your S3 test dir\n",
    "\n",
    "s3_data_path = \"{}/{}/data\".format(bucket, prefix)\n",
    "s3_output_path = \"{}/{}/output\".format(bucket, prefix)"
   ]
  },
  {
   "cell_type": "markdown",
   "metadata": {},
   "source": [
    "# Forecast with Batch Transform "
   ]
  },
  {
   "cell_type": "code",
   "execution_count": null,
   "metadata": {},
   "outputs": [],
   "source": [
    "cutoff_files = sagemaker_session.list_s3_files(bucket, \"{}/data/\".format(prefix))\n",
    "l_cutoff_week_id = np.sort(np.unique([int(re.findall('\\d+', f)[0]) for f in cutoff_files]))\n",
    "#l_cutoff_week_id = l_cutoff_week_id[1:]\n",
    "l_cutoff_week_id"
   ]
  },
  {
   "cell_type": "code",
   "execution_count": null,
   "metadata": {},
   "outputs": [],
   "source": [
    "for cutoff_week_id in l_cutoff_week_id:\n",
    "    print(cutoff_week_id)\n",
    "    \n",
    "    model_name = \"APO-{}-DEEPAR\".format(cutoff_week_id)\n",
    "    transform_job_name = \"FORECASTING-APO-{}-DEEPAR\".format(cutoff_week_id)\n",
    "    output_path = \"s3://{}/result/cutoff_{}\".format(s3_output_path, cutoff_week_id)\n",
    "    \n",
    "    transformer = sagemaker.transformer.Transformer(\n",
    "        model_name=model_name,\n",
    "        instance_count=1,\n",
    "        instance_type='ml.c5.4xlarge',\n",
    "        strategy='SingleRecord',\n",
    "        assemble_with='Line',\n",
    "        base_transform_job_name=transform_job_name,\n",
    "        output_path=output_path,\n",
    "        sagemaker_session=sagemaker_session\n",
    "    )\n",
    "    \n",
    "    data = \"s3://{}/cutoff_{}/test.json\".format(s3_data_path, cutoff_week_id)\n",
    "    \n",
    "    while True:\n",
    "        try:\n",
    "            transformer.transform(data=data, split_type='Line')\n",
    "            break\n",
    "        except:\n",
    "            print(\"...\")\n",
    "            time.sleep(120)\n",
    "            continue"
   ]
  },
  {
   "cell_type": "markdown",
   "metadata": {},
   "source": [
    "### ----- /!\\ Wait until all previous jobs have been completed before starting the next cell. -----"
   ]
  },
  {
   "cell_type": "markdown",
   "metadata": {},
   "source": [
    "# Format Results"
   ]
  },
  {
   "cell_type": "code",
   "execution_count": null,
   "metadata": {},
   "outputs": [],
   "source": [
    "fs = s3fs.S3FileSystem()\n",
    "\n",
    "for cutoff_week_id in l_cutoff_week_id:\n",
    "    \n",
    "    print(cutoff_week_id)\n",
    "    \n",
    "    data = []\n",
    "    with fs.open(\"s3://{}/cutoff_{}/test.json\".format(s3_data_path, cutoff_week_id), 'r', encoding='utf-8') as f:\n",
    "        for line in f:\n",
    "            data.append(json.loads(line, encoding='utf-8'))\n",
    "            \n",
    "    l_model = []\n",
    "    for x in data:\n",
    "        l_model.append(int(x['model']))\n",
    "        \n",
    "    nb_ts = len(l_model)\n",
    "    \n",
    "    res = []\n",
    "    with fs.open(\"s3://{}/result/cutoff_{}/test.json.out\".format(s3_output_path, cutoff_week_id), 'r', encoding='utf-8') as f:\n",
    "        for line in f:\n",
    "            res.append(json.loads(line, encoding='utf-8'))\n",
    "            \n",
    "    res = pd.DataFrame.from_records(res)\n",
    "    res = pd.concat([pd.DataFrame.from_records(res['quantiles']), res[['mean']]], axis=1)\n",
    "    res = res[['0.5']] # keep only quantile 0.5 for now\n",
    "    res['model'] = l_model\n",
    "    res = res.set_index(['model'])['0.5'].apply(pd.Series).stack().reset_index()\n",
    "    res.rename(columns={0 : 'yhat'}, inplace=True)\n",
    "    \n",
    "    week_id_range = ut.get_next_n_week(cutoff_week_id, prediction_length)\n",
    "\n",
    "    res['cutoff_week_id'] = cutoff_week_id\n",
    "    res['cutoff_date'] = ut.week_id_to_date(cutoff_week_id)\n",
    "    res['week_id'] = week_id_range * nb_ts\n",
    "    res['date'] = [ut.week_id_to_date(w) for w in week_id_range] * nb_ts\n",
    "    \n",
    "    res['cutoff_date'] = res['cutoff_date'].dt.date\n",
    "    res['date'] = res['date'].dt.date\n",
    "    res['yhat'] = res['yhat'].astype(int)\n",
    "    \n",
    "    res = res[['cutoff_week_id', 'cutoff_date', 'week_id', 'date', 'model', 'yhat']].reset_index(drop=True)\n",
    "    \n",
    "    ut.write_csv_S3(res, \n",
    "                    \"fcst-data-exchange-dev\", \n",
    "                    \"qlik/model/full_scope/Sagemaker_DeepAR_V2_cutoff_{}.csv\".format(cutoff_week_id))"
   ]
  }
 ],
 "metadata": {
  "kernelspec": {
   "display_name": "conda_forecast-modeling-demand",
   "language": "python",
   "name": "conda_forecast-modeling-demand"
  },
  "language_info": {
   "codemirror_mode": {
    "name": "ipython",
    "version": 3
   },
   "file_extension": ".py",
   "mimetype": "text/x-python",
   "name": "python",
   "nbconvert_exporter": "python",
   "pygments_lexer": "ipython3",
   "version": "3.6.5"
  }
 },
 "nbformat": 4,
 "nbformat_minor": 4
}

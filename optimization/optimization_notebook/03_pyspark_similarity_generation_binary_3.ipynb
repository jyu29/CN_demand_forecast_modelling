{
 "cells": [
  {
   "cell_type": "markdown",
   "id": "03b1a207",
   "metadata": {},
   "source": [
    "#### Setup"
   ]
  },
  {
   "cell_type": "code",
   "execution_count": 1,
   "id": "ca248ca2",
   "metadata": {},
   "outputs": [
    {
     "name": "stdout",
     "output_type": "stream",
     "text": [
      "Starting Spark application\n"
     ]
    },
    {
     "data": {
      "text/html": [
       "<table>\n",
       "<tr><th>ID</th><th>YARN Application ID</th><th>Kind</th><th>State</th><th>Spark UI</th><th>Driver log</th><th>User</th><th>Current session?</th></tr><tr><td>2</td><td>application_1641875220807_0005</td><td>pyspark</td><td>idle</td><td><a target=\"_blank\" href=\"http://ip-10-226-39-168.ie.aws.dktinfra.cloud:20888/proxy/application_1641875220807_0005/\">Link</a></td><td><a target=\"_blank\" href=\"http://ip-10-226-39-62.ie.aws.dktinfra.cloud:8042/node/containerlogs/container_1641875220807_0005_01_000001/livy\">Link</a></td><td>None</td><td>✔</td></tr></table>"
      ],
      "text/plain": [
       "<IPython.core.display.HTML object>"
      ]
     },
     "metadata": {},
     "output_type": "display_data"
    },
    {
     "data": {
      "application/vnd.jupyter.widget-view+json": {
       "model_id": "6635b94b79d548a1bc24ea32f484334a",
       "version_major": 2,
       "version_minor": 0
      },
      "text/plain": [
       "FloatProgress(value=0.0, bar_style='info', description='Progress:', layout=Layout(height='25px', width='50%'),…"
      ]
     },
     "metadata": {},
     "output_type": "display_data"
    },
    {
     "name": "stdout",
     "output_type": "stream",
     "text": [
      "SparkSession available as 'spark'.\n"
     ]
    },
    {
     "data": {
      "application/vnd.jupyter.widget-view+json": {
       "model_id": "dd6895c179a847abbb4491a687766bc0",
       "version_major": 2,
       "version_minor": 0
      },
      "text/plain": [
       "FloatProgress(value=0.0, bar_style='info', description='Progress:', layout=Layout(height='25px', width='50%'),…"
      ]
     },
     "metadata": {},
     "output_type": "display_data"
    }
   ],
   "source": [
    "import pyspark"
   ]
  },
  {
   "cell_type": "code",
   "execution_count": 2,
   "id": "cc2ae760",
   "metadata": {},
   "outputs": [
    {
     "name": "stdout",
     "output_type": "stream",
     "text": [
      "Starting Spark application\n"
     ]
    },
    {
     "data": {
      "text/html": [
       "<table>\n",
       "<tr><th>ID</th><th>YARN Application ID</th><th>Kind</th><th>State</th><th>Spark UI</th><th>Driver log</th><th>User</th><th>Current session?</th></tr><tr><td>3</td><td>application_1641875220807_0006</td><td>pyspark</td><td>idle</td><td><a target=\"_blank\" href=\"http://ip-10-226-39-168.ie.aws.dktinfra.cloud:20888/proxy/application_1641875220807_0006/\">Link</a></td><td><a target=\"_blank\" href=\"http://ip-10-226-39-108.ie.aws.dktinfra.cloud:8042/node/containerlogs/container_1641875220807_0006_01_000001/livy\">Link</a></td><td>None</td><td>✔</td></tr></table>"
      ],
      "text/plain": [
       "<IPython.core.display.HTML object>"
      ]
     },
     "metadata": {},
     "output_type": "display_data"
    },
    {
     "data": {
      "application/vnd.jupyter.widget-view+json": {
       "model_id": "b99e9be833424aeba3ad8e503f8070f8",
       "version_major": 2,
       "version_minor": 0
      },
      "text/plain": [
       "FloatProgress(value=0.0, bar_style='info', description='Progress:', layout=Layout(height='25px', width='50%'),…"
      ]
     },
     "metadata": {},
     "output_type": "display_data"
    },
    {
     "name": "stdout",
     "output_type": "stream",
     "text": [
      "SparkSession available as 'spark'.\n"
     ]
    },
    {
     "data": {
      "text/html": [
       "Current session configs: <tt>{'conf': {'spark.serializer': 'org.apache.spark.serializer.KryoSerializer', 'spark.sql.legacy.parquet.int96RebaseModeInRead': 'CORRECTED', 'spark.sql.legacy.parquet.datetimeRebaseModeInWrite': 'CORRECTED', 'spark.sql.legacy.parquet.datetimeRebaseModeInRead': 'CORRECTED', 'spark.sql.legacy.timeParserPolicy': 'LEGACY'}, 'kind': 'pyspark'}</tt><br>"
      ],
      "text/plain": [
       "<IPython.core.display.HTML object>"
      ]
     },
     "metadata": {},
     "output_type": "display_data"
    },
    {
     "data": {
      "text/html": [
       "<table>\n",
       "<tr><th>ID</th><th>YARN Application ID</th><th>Kind</th><th>State</th><th>Spark UI</th><th>Driver log</th><th>User</th><th>Current session?</th></tr><tr><td>1</td><td>application_1641875220807_0004</td><td>pyspark</td><td>idle</td><td><a target=\"_blank\" href=\"http://ip-10-226-39-168.ie.aws.dktinfra.cloud:20888/proxy/application_1641875220807_0004/\">Link</a></td><td><a target=\"_blank\" href=\"http://ip-10-226-39-165.ie.aws.dktinfra.cloud:8042/node/containerlogs/container_1641875220807_0004_01_000001/livy\">Link</a></td><td>None</td><td></td></tr><tr><td>3</td><td>application_1641875220807_0006</td><td>pyspark</td><td>idle</td><td><a target=\"_blank\" href=\"http://ip-10-226-39-168.ie.aws.dktinfra.cloud:20888/proxy/application_1641875220807_0006/\">Link</a></td><td><a target=\"_blank\" href=\"http://ip-10-226-39-108.ie.aws.dktinfra.cloud:8042/node/containerlogs/container_1641875220807_0006_01_000001/livy\">Link</a></td><td>None</td><td>✔</td></tr></table>"
      ],
      "text/plain": [
       "<IPython.core.display.HTML object>"
      ]
     },
     "metadata": {},
     "output_type": "display_data"
    }
   ],
   "source": [
    "%%configure -f\n",
    "{\n",
    "\"conf\" :\n",
    "{\n",
    "\"spark.serializer\" : \"org.apache.spark.serializer.KryoSerializer\",\n",
    "\"spark.sql.legacy.parquet.int96RebaseModeInRead\" : \"CORRECTED\",\n",
    "\"spark.sql.legacy.parquet.datetimeRebaseModeInWrite\" : \"CORRECTED\",\n",
    "\"spark.sql.legacy.parquet.datetimeRebaseModeInRead\" : \"CORRECTED\",\n",
    "\"spark.sql.legacy.timeParserPolicy\" : \"LEGACY\"\n",
    "}\n",
    "}"
   ]
  },
  {
   "cell_type": "code",
   "execution_count": 3,
   "id": "c38669b5",
   "metadata": {},
   "outputs": [
    {
     "data": {
      "application/vnd.jupyter.widget-view+json": {
       "model_id": "bbf19d35a2ed43cc99fd5a5dbeea2e8b",
       "version_major": 2,
       "version_minor": 0
      },
      "text/plain": [
       "FloatProgress(value=0.0, bar_style='info', description='Progress:', layout=Layout(height='25px', width='50%'),…"
      ]
     },
     "metadata": {},
     "output_type": "display_data"
    }
   ],
   "source": [
    "import time\n",
    "\n",
    "from datetime import datetime, timedelta\n",
    "from functools import reduce\n",
    "\n",
    "from pyspark import SparkConf, StorageLevel\n",
    "from pyspark.sql import SparkSession, HiveContext, Window\n",
    "import pyspark.sql.functions as F"
   ]
  },
  {
   "cell_type": "markdown",
   "id": "82da5018",
   "metadata": {},
   "source": [
    "#### Utils"
   ]
  },
  {
   "cell_type": "code",
   "execution_count": 4,
   "id": "9e103c6e",
   "metadata": {},
   "outputs": [
    {
     "data": {
      "application/vnd.jupyter.widget-view+json": {
       "model_id": "58ed820d50f9466f95eb6a010f326d68",
       "version_major": 2,
       "version_minor": 0
      },
      "text/plain": [
       "FloatProgress(value=0.0, bar_style='info', description='Progress:', layout=Layout(height='25px', width='50%'),…"
      ]
     },
     "metadata": {},
     "output_type": "display_data"
    }
   ],
   "source": [
    "def to_uri(bucket, key):\n",
    "    \"\"\"\n",
    "    Transforms bucket & key strings into S3 URI\n",
    "\n",
    "    Args:\n",
    "        bucket (string): name of the S3 bucket\n",
    "        key (string): S3 key\n",
    "\n",
    "    Returns:\n",
    "        object (string): URI format\n",
    "    \"\"\"\n",
    "    return 's3://{}/{}'.format(bucket, key)\n",
    "\n",
    "\n",
    "def spark_read_parquet_s3(spark, bucket, path):\n",
    "    \"\"\"\n",
    "    Read parquet file(s) hosted on a S3 bucket, load and return as spark dataframe\n",
    "\n",
    "    Args:\n",
    "        spark (SparkSession): spark app\n",
    "        bucket (string): S3 bucket\n",
    "        path (string): full path to the parquet directory or file within the S3 bucket\n",
    "\n",
    "    Returns:\n",
    "        (SparkDataframe): data loaded\n",
    "    \"\"\"\n",
    "    return spark.read.parquet(to_uri(bucket, path))\n",
    "\n",
    "\n",
    "def spark_write_parquet_s3(df, bucket, dir_path, repartition=10, mode='overwrite'):\n",
    "    \"\"\"\n",
    "    Write a in-memory SparkDataframe to parquet files on a S3 bucket\n",
    "\n",
    "    Args:\n",
    "        df (SparkDataframe): the data to save\n",
    "        bucket (string): S3 bucket\n",
    "        dir_path (string): full path to the parquet directory within the S3 bucket\n",
    "        repartition (int): number of partitions files to write\n",
    "        mode (string): writing mode\n",
    "    \"\"\"\n",
    "    df.repartition(repartition).write.parquet(to_uri(bucket, dir_path), mode=mode)\n",
    "    \n",
    "\n",
    "def spark_write_parquet_s3_coal(df, bucket, dir_path, mode='overwrite'):\n",
    "    df.coalesce(10).write.parquet(to_uri(bucket, dir_path), mode=mode)\n",
    "    \n",
    "    \n",
    "def get_timer(starting_time):\n",
    "    \"\"\"\n",
    "    Displays the time that has elapsed between the input timer and the current time.\n",
    "\n",
    "    Args:\n",
    "        starting_time (timecode): timecode from Python 'time' package\n",
    "    \"\"\"\n",
    "    end_time = time.time()\n",
    "    minutes, seconds = divmod(int(end_time - starting_time), 60)\n",
    "    print(\"{} minute(s) {} second(s)\".format(int(minutes), seconds))\n",
    "\n",
    "\n",
    "def union_all(l_df):\n",
    "    \"\"\"\n",
    "    Apply union function on all spark dataframes in l_df\n",
    "\n",
    "    \"\"\"\n",
    "    return reduce(lambda df1, df2: df1.union(df2.select(df1.columns)), l_df)\n",
    "\n",
    "\n",
    "def date_to_week_id(date):\n",
    "    \"\"\"\n",
    "    Turn a date to Decathlon week id\n",
    "    Args:\n",
    "        date (str, pd.Timestamp or pd.Series): the date or pandas column of dates\n",
    "    Returns:\n",
    "        (int): the week id\n",
    "\n",
    "    \"\"\"\n",
    "    day_of_week = date.strftime(\"%w\")\n",
    "    date = date if (day_of_week != '0') else date + timedelta(days=1)\n",
    "    return int(str(date.isocalendar()[0]) + str(date.isocalendar()[1]).zfill(2))\n",
    "\n",
    "\n",
    "def get_current_week_id():\n",
    "    \"\"\"\n",
    "    Return current week id (international standard ISO 8601 - first day of week\n",
    "    is Sunday, with format 'YYYYWW', as integer\n",
    "\n",
    "    \"\"\"\n",
    "    return date_to_week_id(datetime.today())\n",
    "\n",
    "\n",
    "def get_shift_n_week(week_id, nb_weeks):\n",
    "    \"\"\"\n",
    "    Return input week_id shifted by nb_weeks (could be negative)\n",
    "\n",
    "    \"\"\"\n",
    "    shifted_date = datetime.strptime(str(week_id) + '1', '%G%V%u') + timedelta(weeks=nb_weeks)\n",
    "    ret_week_id = date_to_week_id(shifted_date)\n",
    "    return ret_week_id"
   ]
  },
  {
   "cell_type": "markdown",
   "id": "820b2c35",
   "metadata": {},
   "source": [
    "#### Fetch data & Processing"
   ]
  },
  {
   "cell_type": "code",
   "execution_count": 5,
   "id": "0bdb7ebc",
   "metadata": {},
   "outputs": [
    {
     "data": {
      "application/vnd.jupyter.widget-view+json": {
       "model_id": "7c2822163fb44a2482f05d577da5a432",
       "version_major": 2,
       "version_minor": 0
      },
      "text/plain": [
       "FloatProgress(value=0.0, bar_style='info', description='Progress:', layout=Layout(height='25px', width='50%'),…"
      ]
     },
     "metadata": {},
     "output_type": "display_data"
    }
   ],
   "source": [
    "bucket_refined = 'fcst-workspace/forecast-cn/fcst-refined-demand-forecast-dev'"
   ]
  },
  {
   "cell_type": "code",
   "execution_count": 6,
   "id": "6bc4d3df",
   "metadata": {},
   "outputs": [
    {
     "data": {
      "application/vnd.jupyter.widget-view+json": {
       "model_id": "16dbf1b3c57e43d9b996408c69693a89",
       "version_major": 2,
       "version_minor": 0
      },
      "text/plain": [
       "FloatProgress(value=0.0, bar_style='info', description='Progress:', layout=Layout(height='25px', width='50%'),…"
      ]
     },
     "metadata": {},
     "output_type": "display_data"
    },
    {
     "name": "stdout",
     "output_type": "stream",
     "text": [
      "12741"
     ]
    }
   ],
   "source": [
    "# fetch sales to get the list of new model\n",
    "df_sales = spark_read_parquet_s3(spark,bucket_refined,'global/model_week_sales')\n",
    "selling_weeks = df_sales.groupby(['model_id']).agg(F.min('week_id').alias('start_selling_week'),\n",
    "                                                   F.max('week_id').alias('last_selling_week'),\n",
    "                                                   F.count('week_id').alias('selling_weeks')\n",
    "                                                  )\n",
    "selling_weeks_new = selling_weeks.filter('start_selling_week >= 201838').filter('last_selling_week >= 202137')\n",
    "selling_weeks_new.count()"
   ]
  },
  {
   "cell_type": "code",
   "execution_count": 7,
   "id": "3dcfe0c0",
   "metadata": {},
   "outputs": [
    {
     "data": {
      "application/vnd.jupyter.widget-view+json": {
       "model_id": "6658105a2a104d3ebc86afdf5b60ecc3",
       "version_major": 2,
       "version_minor": 0
      },
      "text/plain": [
       "FloatProgress(value=0.0, bar_style='info', description='Progress:', layout=Layout(height='25px', width='50%'),…"
      ]
     },
     "metadata": {},
     "output_type": "display_data"
    },
    {
     "name": "stdout",
     "output_type": "stream",
     "text": [
      "6397"
     ]
    }
   ],
   "source": [
    "selling_weeks_ref = selling_weeks.filter('start_selling_week < 201838').filter('last_selling_week >= 202137')\n",
    "selling_weeks_ref.count()"
   ]
  },
  {
   "cell_type": "code",
   "execution_count": 8,
   "id": "7f918ac7",
   "metadata": {},
   "outputs": [
    {
     "data": {
      "application/vnd.jupyter.widget-view+json": {
       "model_id": "e94a6d75e8ee43809fe3b23b4be0e951",
       "version_major": 2,
       "version_minor": 0
      },
      "text/plain": [
       "FloatProgress(value=0.0, bar_style='info', description='Progress:', layout=Layout(height='25px', width='50%'),…"
      ]
     },
     "metadata": {},
     "output_type": "display_data"
    },
    {
     "name": "stdout",
     "output_type": "stream",
     "text": [
      "+--------+---------+-----------------+\n",
      "|model_id|family_id|product_nature_id|\n",
      "+--------+---------+-----------------+\n",
      "| 8356685|    34003|            25014|\n",
      "| 8501382|     3180|            25216|\n",
      "+--------+---------+-----------------+\n",
      "only showing top 2 rows"
     ]
    }
   ],
   "source": [
    "# fetch sports tree\n",
    "df_tree = spark_read_parquet_s3(spark,bucket_refined,'global/model_week_tree')\n",
    "df_tree = df_tree.filter('week_id == 202138').select('model_id','family_id','product_nature_id')\n",
    "df_tree.show(2)"
   ]
  },
  {
   "cell_type": "code",
   "execution_count": 9,
   "id": "6d91b560",
   "metadata": {},
   "outputs": [
    {
     "data": {
      "application/vnd.jupyter.widget-view+json": {
       "model_id": "457d88d4b7b04a3f8b81a7953d38ea50",
       "version_major": 2,
       "version_minor": 0
      },
      "text/plain": [
       "FloatProgress(value=0.0, bar_style='info', description='Progress:', layout=Layout(height='25px', width='50%'),…"
      ]
     },
     "metadata": {},
     "output_type": "display_data"
    },
    {
     "name": "stdout",
     "output_type": "stream",
     "text": [
      "+--------+------------------+\n",
      "|model_id|     average_price|\n",
      "+--------+------------------+\n",
      "| 8185920|134.04879167562228|\n",
      "| 8217708|17.400000000000002|\n",
      "+--------+------------------+\n",
      "only showing top 2 rows"
     ]
    }
   ],
   "source": [
    "# fetch price\n",
    "df_price = spark_read_parquet_s3(spark,bucket_refined,'global/model_week_price')\n",
    "df_price = df_price.groupby(['model_id']).agg(F.mean('average_price').alias('average_price'))\n",
    "df_price.show(2)"
   ]
  },
  {
   "cell_type": "code",
   "execution_count": 10,
   "id": "26258410",
   "metadata": {},
   "outputs": [
    {
     "data": {
      "application/vnd.jupyter.widget-view+json": {
       "model_id": "f50e91482da44b3e8eefde80219a84ca",
       "version_major": 2,
       "version_minor": 0
      },
      "text/plain": [
       "FloatProgress(value=0.0, bar_style='info', description='Progress:', layout=Layout(height='25px', width='50%'),…"
      ]
     },
     "metadata": {},
     "output_type": "display_data"
    },
    {
     "name": "stdout",
     "output_type": "stream",
     "text": [
      "+--------+--------+\n",
      "|model_id|dsm_code|\n",
      "+--------+--------+\n",
      "|  611790| X611790|\n",
      "|  621230| X621230|\n",
      "+--------+--------+\n",
      "only showing top 2 rows"
     ]
    }
   ],
   "source": [
    "# fetch d_sku\n",
    "d_sku = spark.read.parquet('s3://fcst-clean-prod/datalake/d_sku/')\n",
    "d_sku = d_sku.withColumn('rn',F.row_number().over(Window.partitionBy('mdl_num_model_r3').orderBy(F.desc('rs_technical_date'))))\\\n",
    ".filter('rn = 1').drop('rn')\\\n",
    ".selectExpr('mdl_num_model_r3 as model_id','dsm_code').filter('dsm_code is not null')\n",
    "d_sku.show(2)"
   ]
  },
  {
   "cell_type": "code",
   "execution_count": 11,
   "id": "38affb9c",
   "metadata": {},
   "outputs": [
    {
     "data": {
      "application/vnd.jupyter.widget-view+json": {
       "model_id": "a8acdfecffdf4b6888fc23ea88bff34a",
       "version_major": 2,
       "version_minor": 0
      },
      "text/plain": [
       "FloatProgress(value=0.0, bar_style='info', description='Progress:', layout=Layout(height='25px', width='50%'),…"
      ]
     },
     "metadata": {},
     "output_type": "display_data"
    },
    {
     "name": "stdout",
     "output_type": "stream",
     "text": [
      "+--------+---------+-----------------+--------+------------------+\n",
      "|model_id|family_id|product_nature_id|dsm_code|     average_price|\n",
      "+--------+---------+-----------------+--------+------------------+\n",
      "|  960734|     8607|            25032|  307300|179.81955445583893|\n",
      "|  962836|    11956|            25015|  121764| 62.89103098512449|\n",
      "+--------+---------+-----------------+--------+------------------+\n",
      "only showing top 2 rows"
     ]
    }
   ],
   "source": [
    "new_model_pool = selling_weeks_new.selectExpr('model_id').join(df_tree,on='model_id',how='left')\\\n",
    ".join(d_sku,on='model_id',how='left')\\\n",
    ".join(df_price,on='model_id',how='left')\n",
    "new_model_pool.show(2)"
   ]
  },
  {
   "cell_type": "code",
   "execution_count": 12,
   "id": "36830018",
   "metadata": {},
   "outputs": [
    {
     "data": {
      "application/vnd.jupyter.widget-view+json": {
       "model_id": "06e5241f908e40bfaff74f1ef0fa3a94",
       "version_major": 2,
       "version_minor": 0
      },
      "text/plain": [
       "FloatProgress(value=0.0, bar_style='info', description='Progress:', layout=Layout(height='25px', width='50%'),…"
      ]
     },
     "metadata": {},
     "output_type": "display_data"
    },
    {
     "name": "stdout",
     "output_type": "stream",
     "text": [
      "+---------+-------------+------------+---------------------+------------------+\n",
      "|ref_model|family_id_ref|dsm_code_ref|product_nature_id_ref| average_price_ref|\n",
      "+---------+-------------+------------+---------------------+------------------+\n",
      "|  8371831|         2502|      144349|                10855|  76.2989024230731|\n",
      "|  8488150|        34010|      165554|                12183|26.532270075187963|\n",
      "+---------+-------------+------------+---------------------+------------------+\n",
      "only showing top 2 rows"
     ]
    }
   ],
   "source": [
    "# ref_model_pool\n",
    "ref_model_pool = spark_read_parquet_s3(spark,bucket_refined,'test_data/cold_start_dev/ref_model_pool_202138.parquet')\n",
    "ref_model_pool = selling_weeks_ref.selectExpr('model_id').join(ref_model_pool, on = 'model_id', how = 'inner')\n",
    "ref_model_pool = ref_model_pool.selectExpr('model_id as ref_model','family_id as family_id_ref','dsm_code as dsm_code_ref',\n",
    "                                           'product_nature_id as product_nature_id_ref','average_price as average_price_ref')\n",
    "ref_model_pool.show(2)"
   ]
  },
  {
   "cell_type": "code",
   "execution_count": 13,
   "id": "685b52d9",
   "metadata": {},
   "outputs": [
    {
     "data": {
      "application/vnd.jupyter.widget-view+json": {
       "model_id": "3d3ab2400191418994d6d1af2be1baff",
       "version_major": 2,
       "version_minor": 0
      },
      "text/plain": [
       "FloatProgress(value=0.0, bar_style='info', description='Progress:', layout=Layout(height='25px', width='50%'),…"
      ]
     },
     "metadata": {},
     "output_type": "display_data"
    },
    {
     "name": "stdout",
     "output_type": "stream",
     "text": [
      "+--------+---------+-----------------+--------+------------------+---------+-------------+------------+---------------------+-----------------+\n",
      "|model_id|family_id|product_nature_id|dsm_code|     average_price|ref_model|family_id_ref|dsm_code_ref|product_nature_id_ref|average_price_ref|\n",
      "+--------+---------+-----------------+--------+------------------+---------+-------------+------------+---------------------+-----------------+\n",
      "|  960734|     8607|            25032|  307300|179.81955445583893|  8369958|        11504|      146051|                25111| 7.96458341362338|\n",
      "|  960734|     8607|            25032|  307300|179.81955445583893|  8371831|         2502|      144349|                10855| 76.2989024230731|\n",
      "+--------+---------+-----------------+--------+------------------+---------+-------------+------------+---------------------+-----------------+\n",
      "only showing top 2 rows\n",
      "\n",
      "43523256"
     ]
    }
   ],
   "source": [
    "# create ref_model_base with random sampling\n",
    "ref_model_base = new_model_pool.alias('df1')\\\n",
    ".join(ref_model_pool.alias('df2'),F.col('df1.model_id') != F.col('df2.ref_model'),how='left')\n",
    "ref_model_base.show(2)\n",
    "ref_model_base.count()"
   ]
  },
  {
   "cell_type": "code",
   "execution_count": 14,
   "id": "e061881f",
   "metadata": {},
   "outputs": [
    {
     "data": {
      "application/vnd.jupyter.widget-view+json": {
       "model_id": "dedf9c3ec92f49149b681325301b09e8",
       "version_major": 2,
       "version_minor": 0
      },
      "text/plain": [
       "FloatProgress(value=0.0, bar_style='info', description='Progress:', layout=Layout(height='25px', width='50%'),…"
      ]
     },
     "metadata": {},
     "output_type": "display_data"
    }
   ],
   "source": [
    "# features = ['family_id','sub_department_id','department_id','univers_id','product_nature_id','sports']\n",
    "ref_model_base = ref_model_base\\\n",
    ".withColumn('is_same_family',F.expr('case when family_id = family_id_ref then 1 else 0 end as is_same_family'))\\\n",
    ".withColumn('is_same_dsm',F.expr('case when dsm_code = dsm_code_ref then 1 else 0 end as is_same_dsm'))\\\n",
    ".withColumn('is_same_product_nature',F.expr('case when product_nature_id = product_nature_id_ref then 1 else 0 end as is_same_product_nature'))\\\n",
    ".withColumn('price_difference',ref_model_base.average_price - ref_model_base.average_price_ref)"
   ]
  },
  {
   "cell_type": "code",
   "execution_count": 52,
   "id": "f483dac7",
   "metadata": {},
   "outputs": [
    {
     "data": {
      "application/vnd.jupyter.widget-view+json": {
       "model_id": "c8774ab64f3b49628f5a36b9cc5991eb",
       "version_major": 2,
       "version_minor": 0
      },
      "text/plain": [
       "FloatProgress(value=0.0, bar_style='info', description='Progress:', layout=Layout(height='25px', width='50%'),…"
      ]
     },
     "metadata": {},
     "output_type": "display_data"
    },
    {
     "name": "stdout",
     "output_type": "stream",
     "text": [
      "+---------------------+\n",
      "|min(price_difference)|\n",
      "+---------------------+\n",
      "|   -13650.96939190476|\n",
      "+---------------------+"
     ]
    }
   ],
   "source": [
    "ref_model_base.agg(F.min('price_difference')).show()"
   ]
  },
  {
   "cell_type": "code",
   "execution_count": 53,
   "id": "03a4d750",
   "metadata": {},
   "outputs": [
    {
     "data": {
      "application/vnd.jupyter.widget-view+json": {
       "model_id": "482d942157634066a104d3198fcb9aed",
       "version_major": 2,
       "version_minor": 0
      },
      "text/plain": [
       "FloatProgress(value=0.0, bar_style='info', description='Progress:', layout=Layout(height='25px', width='50%'),…"
      ]
     },
     "metadata": {},
     "output_type": "display_data"
    },
    {
     "name": "stdout",
     "output_type": "stream",
     "text": [
      "+---------------------+\n",
      "|max(price_difference)|\n",
      "+---------------------+\n",
      "|   25997.014545454545|\n",
      "+---------------------+"
     ]
    }
   ],
   "source": [
    "ref_model_base.agg(F.max('price_difference')).show()"
   ]
  },
  {
   "cell_type": "code",
   "execution_count": 15,
   "id": "43b9e550",
   "metadata": {},
   "outputs": [
    {
     "data": {
      "application/vnd.jupyter.widget-view+json": {
       "model_id": "6206ad005498481a87ae833dc1805e5d",
       "version_major": 2,
       "version_minor": 0
      },
      "text/plain": [
       "FloatProgress(value=0.0, bar_style='info', description='Progress:', layout=Layout(height='25px', width='50%'),…"
      ]
     },
     "metadata": {},
     "output_type": "display_data"
    }
   ],
   "source": [
    "ref_model_base = ref_model_base\\\n",
    ".withColumn('price_difference_norm',(ref_model_base.price_difference - (-13650.96939190476)) / (25998.000000000004 - (-13650.96939190476)))"
   ]
  },
  {
   "cell_type": "code",
   "execution_count": 16,
   "id": "923276a7",
   "metadata": {},
   "outputs": [
    {
     "data": {
      "application/vnd.jupyter.widget-view+json": {
       "model_id": "8195b30d812141aaaee375d8ac0e67a8",
       "version_major": 2,
       "version_minor": 0
      },
      "text/plain": [
       "FloatProgress(value=0.0, bar_style='info', description='Progress:', layout=Layout(height='25px', width='50%'),…"
      ]
     },
     "metadata": {},
     "output_type": "display_data"
    }
   ],
   "source": [
    "'''\n",
    "dsm_code\t1.622797071815100\n",
    "family_id\t0.606589832402213\n",
    "price_difference\t0.010834530380563\n",
    "product_nature_id\t0.121562762967326\n",
    "intercept\t-0.143325296539284\n",
    "'''\n",
    "ref_model_base = ref_model_base.withColumn('similarity',\n",
    "                                           (ref_model_base.is_same_dsm * 1.622797071815100 + ref_model_base.is_same_family * 0.606589832402213 \\\n",
    "                                            + ref_model_base.price_difference_norm * 0.010834530380563 + ref_model_base.is_same_product_nature * 0.121562762967326))"
   ]
  },
  {
   "cell_type": "code",
   "execution_count": 17,
   "id": "0ced6d89",
   "metadata": {},
   "outputs": [
    {
     "data": {
      "application/vnd.jupyter.widget-view+json": {
       "model_id": "7dbef4e73630416b8eb08129462d0836",
       "version_major": 2,
       "version_minor": 0
      },
      "text/plain": [
       "FloatProgress(value=0.0, bar_style='info', description='Progress:', layout=Layout(height='25px', width='50%'),…"
      ]
     },
     "metadata": {},
     "output_type": "display_data"
    },
    {
     "name": "stdout",
     "output_type": "stream",
     "text": [
      "+--------+---------+-----------------+--------+------------------+---------+-------------+------------+---------------------+-----------------+--------------+-----------+----------------------+------------------+---------------------+--------------------+\n",
      "|model_id|family_id|product_nature_id|dsm_code|     average_price|ref_model|family_id_ref|dsm_code_ref|product_nature_id_ref|average_price_ref|is_same_family|is_same_dsm|is_same_product_nature|  price_difference|price_difference_norm|          similarity|\n",
      "+--------+---------+-----------------+--------+------------------+---------+-------------+------------+---------------------+-----------------+--------------+-----------+----------------------+------------------+---------------------+--------------------+\n",
      "|  960734|     8607|            25032|  307300|179.81955445583893|  8369958|        11504|      146051|                25111| 7.96458341362338|             0|          0|                     0|171.85497104221554|  0.34863010501779196|0.003777243464394136|\n",
      "|  960734|     8607|            25032|  307300|179.81955445583893|  8371831|         2502|      144349|                10855| 76.2989024230731|             0|          0|                     0|103.52065203276582|  0.34690662216168017|0.003758570337029...|\n",
      "+--------+---------+-----------------+--------+------------------+---------+-------------+------------+---------------------+-----------------+--------------+-----------+----------------------+------------------+---------------------+--------------------+\n",
      "only showing top 2 rows"
     ]
    }
   ],
   "source": [
    "ref_model_base.show(2)"
   ]
  },
  {
   "cell_type": "code",
   "execution_count": 18,
   "id": "409273e2",
   "metadata": {},
   "outputs": [
    {
     "data": {
      "application/vnd.jupyter.widget-view+json": {
       "model_id": "be4ab6ddfd884a9e9171646be3a2601c",
       "version_major": 2,
       "version_minor": 0
      },
      "text/plain": [
       "FloatProgress(value=0.0, bar_style='info', description='Progress:', layout=Layout(height='25px', width='50%'),…"
      ]
     },
     "metadata": {},
     "output_type": "display_data"
    },
    {
     "name": "stdout",
     "output_type": "stream",
     "text": [
      "43523256"
     ]
    }
   ],
   "source": [
    "ref_model_base.count()"
   ]
  },
  {
   "cell_type": "code",
   "execution_count": 19,
   "id": "aa119093",
   "metadata": {},
   "outputs": [
    {
     "data": {
      "application/vnd.jupyter.widget-view+json": {
       "model_id": "61fe963793674206a2d211abcac13f67",
       "version_major": 2,
       "version_minor": 0
      },
      "text/plain": [
       "FloatProgress(value=0.0, bar_style='info', description='Progress:', layout=Layout(height='25px', width='50%'),…"
      ]
     },
     "metadata": {},
     "output_type": "display_data"
    }
   ],
   "source": [
    "# Save to S3\n",
    "spark_write_parquet_s3(ref_model_base.select('model_id','ref_model','similarity'), 'fcst-workspace',\n",
    "                       'forecast-cn/fcst-refined-demand-forecast-dev/global/ref_model_base_simple_v2',\n",
    "                       repartition=10, mode='overwrite')"
   ]
  },
  {
   "cell_type": "code",
   "execution_count": null,
   "id": "58e96a86",
   "metadata": {},
   "outputs": [],
   "source": []
  }
 ],
 "metadata": {
  "kernelspec": {
   "display_name": "Sparkmagic (PySpark)",
   "language": "python",
   "name": "pysparkkernel"
  },
  "language_info": {
   "codemirror_mode": {
    "name": "python",
    "version": 3
   },
   "file_extension": ".py",
   "mimetype": "text/x-python",
   "name": "pyspark",
   "pygments_lexer": "python3"
  }
 },
 "nbformat": 4,
 "nbformat_minor": 5
}

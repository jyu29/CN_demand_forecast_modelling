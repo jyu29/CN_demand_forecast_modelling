{
 "cells": [
  {
   "cell_type": "markdown",
   "id": "28012dc1",
   "metadata": {},
   "source": [
    "#### Setup"
   ]
  },
  {
   "cell_type": "code",
   "execution_count": 1,
   "id": "6b84e29f",
   "metadata": {},
   "outputs": [
    {
     "name": "stdout",
     "output_type": "stream",
     "text": [
      "Starting Spark application\n"
     ]
    },
    {
     "data": {
      "text/html": [
       "<table>\n",
       "<tr><th>ID</th><th>YARN Application ID</th><th>Kind</th><th>State</th><th>Spark UI</th><th>Driver log</th><th>User</th><th>Current session?</th></tr><tr><td>7</td><td>application_1640569960358_0010</td><td>pyspark</td><td>idle</td><td><a target=\"_blank\" href=\"http://ip-10-226-39-217.ie.aws.dktinfra.cloud:20888/proxy/application_1640569960358_0010/\">Link</a></td><td><a target=\"_blank\" href=\"http://ip-10-226-39-5.ie.aws.dktinfra.cloud:8042/node/containerlogs/container_1640569960358_0010_01_000001/livy\">Link</a></td><td>None</td><td>✔</td></tr></table>"
      ],
      "text/plain": [
       "<IPython.core.display.HTML object>"
      ]
     },
     "metadata": {},
     "output_type": "display_data"
    },
    {
     "data": {
      "application/vnd.jupyter.widget-view+json": {
       "model_id": "a214ac2c6da949168d476e03b0994304",
       "version_major": 2,
       "version_minor": 0
      },
      "text/plain": [
       "FloatProgress(value=0.0, bar_style='info', description='Progress:', layout=Layout(height='25px', width='50%'),…"
      ]
     },
     "metadata": {},
     "output_type": "display_data"
    },
    {
     "name": "stdout",
     "output_type": "stream",
     "text": [
      "SparkSession available as 'spark'.\n"
     ]
    },
    {
     "data": {
      "application/vnd.jupyter.widget-view+json": {
       "model_id": "7140d0478a76449f98d2a725515066cd",
       "version_major": 2,
       "version_minor": 0
      },
      "text/plain": [
       "FloatProgress(value=0.0, bar_style='info', description='Progress:', layout=Layout(height='25px', width='50%'),…"
      ]
     },
     "metadata": {},
     "output_type": "display_data"
    }
   ],
   "source": [
    "import pyspark"
   ]
  },
  {
   "cell_type": "code",
   "execution_count": 2,
   "id": "f18f4b9b",
   "metadata": {},
   "outputs": [
    {
     "name": "stdout",
     "output_type": "stream",
     "text": [
      "Starting Spark application\n"
     ]
    },
    {
     "data": {
      "text/html": [
       "<table>\n",
       "<tr><th>ID</th><th>YARN Application ID</th><th>Kind</th><th>State</th><th>Spark UI</th><th>Driver log</th><th>User</th><th>Current session?</th></tr><tr><td>8</td><td>application_1640569960358_0011</td><td>pyspark</td><td>idle</td><td><a target=\"_blank\" href=\"http://ip-10-226-39-217.ie.aws.dktinfra.cloud:20888/proxy/application_1640569960358_0011/\">Link</a></td><td><a target=\"_blank\" href=\"http://ip-10-226-39-5.ie.aws.dktinfra.cloud:8042/node/containerlogs/container_1640569960358_0011_01_000001/livy\">Link</a></td><td>None</td><td>✔</td></tr></table>"
      ],
      "text/plain": [
       "<IPython.core.display.HTML object>"
      ]
     },
     "metadata": {},
     "output_type": "display_data"
    },
    {
     "data": {
      "application/vnd.jupyter.widget-view+json": {
       "model_id": "4bc16303862043bf87cf521818855842",
       "version_major": 2,
       "version_minor": 0
      },
      "text/plain": [
       "FloatProgress(value=0.0, bar_style='info', description='Progress:', layout=Layout(height='25px', width='50%'),…"
      ]
     },
     "metadata": {},
     "output_type": "display_data"
    },
    {
     "name": "stdout",
     "output_type": "stream",
     "text": [
      "SparkSession available as 'spark'.\n"
     ]
    },
    {
     "data": {
      "text/html": [
       "Current session configs: <tt>{'conf': {'spark.serializer': 'org.apache.spark.serializer.KryoSerializer', 'spark.sql.legacy.parquet.int96RebaseModeInRead': 'CORRECTED', 'spark.sql.legacy.parquet.datetimeRebaseModeInWrite': 'CORRECTED', 'spark.sql.legacy.parquet.datetimeRebaseModeInRead': 'CORRECTED', 'spark.sql.legacy.timeParserPolicy': 'LEGACY'}, 'kind': 'pyspark'}</tt><br>"
      ],
      "text/plain": [
       "<IPython.core.display.HTML object>"
      ]
     },
     "metadata": {},
     "output_type": "display_data"
    },
    {
     "data": {
      "text/html": [
       "<table>\n",
       "<tr><th>ID</th><th>YARN Application ID</th><th>Kind</th><th>State</th><th>Spark UI</th><th>Driver log</th><th>User</th><th>Current session?</th></tr><tr><td>6</td><td>application_1640569960358_0009</td><td>pyspark</td><td>busy</td><td><a target=\"_blank\" href=\"http://ip-10-226-39-217.ie.aws.dktinfra.cloud:20888/proxy/application_1640569960358_0009/\">Link</a></td><td><a target=\"_blank\" href=\"http://ip-10-226-39-139.ie.aws.dktinfra.cloud:8042/node/containerlogs/container_1640569960358_0009_01_000001/livy\">Link</a></td><td>None</td><td></td></tr><tr><td>8</td><td>application_1640569960358_0011</td><td>pyspark</td><td>idle</td><td><a target=\"_blank\" href=\"http://ip-10-226-39-217.ie.aws.dktinfra.cloud:20888/proxy/application_1640569960358_0011/\">Link</a></td><td><a target=\"_blank\" href=\"http://ip-10-226-39-5.ie.aws.dktinfra.cloud:8042/node/containerlogs/container_1640569960358_0011_01_000001/livy\">Link</a></td><td>None</td><td>✔</td></tr></table>"
      ],
      "text/plain": [
       "<IPython.core.display.HTML object>"
      ]
     },
     "metadata": {},
     "output_type": "display_data"
    }
   ],
   "source": [
    "%%configure -f\n",
    "{\n",
    "\"conf\" :\n",
    "{\n",
    "\"spark.serializer\" : \"org.apache.spark.serializer.KryoSerializer\",\n",
    "\"spark.sql.legacy.parquet.int96RebaseModeInRead\" : \"CORRECTED\",\n",
    "\"spark.sql.legacy.parquet.datetimeRebaseModeInWrite\" : \"CORRECTED\",\n",
    "\"spark.sql.legacy.parquet.datetimeRebaseModeInRead\" : \"CORRECTED\",\n",
    "\"spark.sql.legacy.timeParserPolicy\" : \"LEGACY\"\n",
    "}\n",
    "}"
   ]
  },
  {
   "cell_type": "code",
   "execution_count": 3,
   "id": "b89f9ad6",
   "metadata": {},
   "outputs": [
    {
     "data": {
      "application/vnd.jupyter.widget-view+json": {
       "model_id": "c94d5f32b61848aca6150a04aace33ad",
       "version_major": 2,
       "version_minor": 0
      },
      "text/plain": [
       "FloatProgress(value=0.0, bar_style='info', description='Progress:', layout=Layout(height='25px', width='50%'),…"
      ]
     },
     "metadata": {},
     "output_type": "display_data"
    }
   ],
   "source": [
    "import time\n",
    "\n",
    "from datetime import datetime, timedelta\n",
    "from functools import reduce\n",
    "\n",
    "from pyspark import SparkConf, StorageLevel\n",
    "from pyspark.sql import SparkSession, HiveContext, Window\n",
    "import pyspark.sql.functions as F"
   ]
  },
  {
   "cell_type": "markdown",
   "id": "b94705d0",
   "metadata": {},
   "source": [
    "#### Utils"
   ]
  },
  {
   "cell_type": "code",
   "execution_count": 4,
   "id": "db69f5b9",
   "metadata": {},
   "outputs": [
    {
     "data": {
      "application/vnd.jupyter.widget-view+json": {
       "model_id": "09bf55193f3e450f85fcf1e3fbbbba98",
       "version_major": 2,
       "version_minor": 0
      },
      "text/plain": [
       "FloatProgress(value=0.0, bar_style='info', description='Progress:', layout=Layout(height='25px', width='50%'),…"
      ]
     },
     "metadata": {},
     "output_type": "display_data"
    }
   ],
   "source": [
    "def to_uri(bucket, key):\n",
    "    \"\"\"\n",
    "    Transforms bucket & key strings into S3 URI\n",
    "\n",
    "    Args:\n",
    "        bucket (string): name of the S3 bucket\n",
    "        key (string): S3 key\n",
    "\n",
    "    Returns:\n",
    "        object (string): URI format\n",
    "    \"\"\"\n",
    "    return 's3://{}/{}'.format(bucket, key)\n",
    "\n",
    "\n",
    "def spark_read_parquet_s3(spark, bucket, path):\n",
    "    \"\"\"\n",
    "    Read parquet file(s) hosted on a S3 bucket, load and return as spark dataframe\n",
    "\n",
    "    Args:\n",
    "        spark (SparkSession): spark app\n",
    "        bucket (string): S3 bucket\n",
    "        path (string): full path to the parquet directory or file within the S3 bucket\n",
    "\n",
    "    Returns:\n",
    "        (SparkDataframe): data loaded\n",
    "    \"\"\"\n",
    "    return spark.read.parquet(to_uri(bucket, path))\n",
    "\n",
    "\n",
    "def spark_write_parquet_s3(df, bucket, dir_path, repartition=10, mode='overwrite'):\n",
    "    \"\"\"\n",
    "    Write a in-memory SparkDataframe to parquet files on a S3 bucket\n",
    "\n",
    "    Args:\n",
    "        df (SparkDataframe): the data to save\n",
    "        bucket (string): S3 bucket\n",
    "        dir_path (string): full path to the parquet directory within the S3 bucket\n",
    "        repartition (int): number of partitions files to write\n",
    "        mode (string): writing mode\n",
    "    \"\"\"\n",
    "    df.repartition(repartition).write.parquet(to_uri(bucket, dir_path), mode=mode)\n",
    "    \n",
    "\n",
    "def spark_write_parquet_s3_coal(df, bucket, dir_path, mode='overwrite'):\n",
    "    df.coalesce(10).write.parquet(to_uri(bucket, dir_path), mode=mode)\n",
    "    \n",
    "    \n",
    "def get_timer(starting_time):\n",
    "    \"\"\"\n",
    "    Displays the time that has elapsed between the input timer and the current time.\n",
    "\n",
    "    Args:\n",
    "        starting_time (timecode): timecode from Python 'time' package\n",
    "    \"\"\"\n",
    "    end_time = time.time()\n",
    "    minutes, seconds = divmod(int(end_time - starting_time), 60)\n",
    "    print(\"{} minute(s) {} second(s)\".format(int(minutes), seconds))\n",
    "\n",
    "\n",
    "def union_all(l_df):\n",
    "    \"\"\"\n",
    "    Apply union function on all spark dataframes in l_df\n",
    "\n",
    "    \"\"\"\n",
    "    return reduce(lambda df1, df2: df1.union(df2.select(df1.columns)), l_df)\n",
    "\n",
    "\n",
    "def date_to_week_id(date):\n",
    "    \"\"\"\n",
    "    Turn a date to Decathlon week id\n",
    "    Args:\n",
    "        date (str, pd.Timestamp or pd.Series): the date or pandas column of dates\n",
    "    Returns:\n",
    "        (int): the week id\n",
    "\n",
    "    \"\"\"\n",
    "    day_of_week = date.strftime(\"%w\")\n",
    "    date = date if (day_of_week != '0') else date + timedelta(days=1)\n",
    "    return int(str(date.isocalendar()[0]) + str(date.isocalendar()[1]).zfill(2))\n",
    "\n",
    "\n",
    "def get_current_week_id():\n",
    "    \"\"\"\n",
    "    Return current week id (international standard ISO 8601 - first day of week\n",
    "    is Sunday, with format 'YYYYWW', as integer\n",
    "\n",
    "    \"\"\"\n",
    "    return date_to_week_id(datetime.today())\n",
    "\n",
    "\n",
    "def get_shift_n_week(week_id, nb_weeks):\n",
    "    \"\"\"\n",
    "    Return input week_id shifted by nb_weeks (could be negative)\n",
    "\n",
    "    \"\"\"\n",
    "    shifted_date = datetime.strptime(str(week_id) + '1', '%G%V%u') + timedelta(weeks=nb_weeks)\n",
    "    ret_week_id = date_to_week_id(shifted_date)\n",
    "    return ret_week_id"
   ]
  },
  {
   "cell_type": "markdown",
   "id": "41539c35",
   "metadata": {},
   "source": [
    "#### Fetch data & Processing"
   ]
  },
  {
   "cell_type": "code",
   "execution_count": 5,
   "id": "0710b5a8",
   "metadata": {},
   "outputs": [
    {
     "data": {
      "application/vnd.jupyter.widget-view+json": {
       "model_id": "831d0e5e34ff4d1ab2f72995a3cbd62b",
       "version_major": 2,
       "version_minor": 0
      },
      "text/plain": [
       "FloatProgress(value=0.0, bar_style='info', description='Progress:', layout=Layout(height='25px', width='50%'),…"
      ]
     },
     "metadata": {},
     "output_type": "display_data"
    }
   ],
   "source": [
    "bucket_refined = 'fcst-workspace/forecast-cn/fcst-refined-demand-forecast-dev'"
   ]
  },
  {
   "cell_type": "code",
   "execution_count": 6,
   "id": "08b7a29e",
   "metadata": {},
   "outputs": [
    {
     "data": {
      "application/vnd.jupyter.widget-view+json": {
       "model_id": "1d602fd42b174eb980924693053cb743",
       "version_major": 2,
       "version_minor": 0
      },
      "text/plain": [
       "FloatProgress(value=0.0, bar_style='info', description='Progress:', layout=Layout(height='25px', width='50%'),…"
      ]
     },
     "metadata": {},
     "output_type": "display_data"
    }
   ],
   "source": [
    "#df_tree = spark_read_parquet_s3(spark,bucket_refined,'global/model_week_tree')"
   ]
  },
  {
   "cell_type": "code",
   "execution_count": 7,
   "id": "cf977f9c",
   "metadata": {},
   "outputs": [
    {
     "data": {
      "application/vnd.jupyter.widget-view+json": {
       "model_id": "a07d221d7fc848b2a063c170934454f7",
       "version_major": 2,
       "version_minor": 0
      },
      "text/plain": [
       "FloatProgress(value=0.0, bar_style='info', description='Progress:', layout=Layout(height='25px', width='50%'),…"
      ]
     },
     "metadata": {},
     "output_type": "display_data"
    },
    {
     "name": "stdout",
     "output_type": "stream",
     "text": [
      "+--------+---------+--------+-----------------+------------------+\n",
      "|model_id|family_id|dsm_code|product_nature_id|     average_price|\n",
      "+--------+---------+--------+-----------------+------------------+\n",
      "|  720719|     3174|    3322|            25715|20.000315014540725|\n",
      "|  765283|     3462|    null|                0| 19.23076923076923|\n",
      "+--------+---------+--------+-----------------+------------------+\n",
      "only showing top 2 rows"
     ]
    }
   ],
   "source": [
    "# ref_model_pool\n",
    "ref_model_pool = spark_read_parquet_s3(spark,bucket_refined,'test_data/cold_start_dev/ref_model_pool_202138.parquet')\n",
    "ref_model_pool = ref_model_pool.selectExpr('model_id','family_id','dsm_code','product_nature_id','average_price')\n",
    "ref_model_pool.show(2)"
   ]
  },
  {
   "cell_type": "code",
   "execution_count": 8,
   "id": "0fc8bb8c",
   "metadata": {},
   "outputs": [
    {
     "data": {
      "application/vnd.jupyter.widget-view+json": {
       "model_id": "7cfc87d8eb7c42f48ba6fb13703e175c",
       "version_major": 2,
       "version_minor": 0
      },
      "text/plain": [
       "FloatProgress(value=0.0, bar_style='info', description='Progress:', layout=Layout(height='25px', width='50%'),…"
      ]
     },
     "metadata": {},
     "output_type": "display_data"
    }
   ],
   "source": [
    "ref_model_pool_2 = ref_model_pool.selectExpr('model_id as model_id_dp','family_id as family_id_dp',\n",
    "                                             'dsm_code as dsm_code_dp','product_nature_id as product_nature_id_dp',\n",
    "                                             'average_price as average_price_dp')"
   ]
  },
  {
   "cell_type": "code",
   "execution_count": 9,
   "id": "bab66c8c",
   "metadata": {},
   "outputs": [
    {
     "data": {
      "application/vnd.jupyter.widget-view+json": {
       "model_id": "7caad39148924955b08bba144a4b0468",
       "version_major": 2,
       "version_minor": 0
      },
      "text/plain": [
       "FloatProgress(value=0.0, bar_style='info', description='Progress:', layout=Layout(height='25px', width='50%'),…"
      ]
     },
     "metadata": {},
     "output_type": "display_data"
    },
    {
     "name": "stdout",
     "output_type": "stream",
     "text": [
      "+--------+---------+--------+-----------------+------------------+-----------+------------+-----------+--------------------+------------------+\n",
      "|model_id|family_id|dsm_code|product_nature_id|     average_price|model_id_dp|family_id_dp|dsm_code_dp|product_nature_id_dp|  average_price_dp|\n",
      "+--------+---------+--------+-----------------+------------------+-----------+------------+-----------+--------------------+------------------+\n",
      "|  720719|     3174|    3322|            25715|20.000315014540725|     864028|        3180|     181371|               25216|152.00243646907234|\n",
      "|  720719|     3174|    3322|            25715|20.000315014540725|     962789|       34905|     326724|               25014| 61.18427534146343|\n",
      "+--------+---------+--------+-----------------+------------------+-----------+------------+-----------+--------------------+------------------+\n",
      "only showing top 2 rows"
     ]
    }
   ],
   "source": [
    "# create ref_model_base with random sampling\n",
    "ref_model_base = ref_model_pool.alias('df1').join(ref_model_pool_2.alias('df2'),\n",
    "                                                  F.col('df1.model_id') != F.col('df2.model_id_dp'),how='left')\n",
    "#.filter('df1.product_nature_id == df2.product_nature_id_dp')\n",
    "ref_model_base = ref_model_base.sample(withReplacement=True, fraction=0.05, seed=3)\n",
    "ref_model_base.show(2)"
   ]
  },
  {
   "cell_type": "code",
   "execution_count": 10,
   "id": "2825c023",
   "metadata": {},
   "outputs": [
    {
     "data": {
      "application/vnd.jupyter.widget-view+json": {
       "model_id": "9a619b64bac64a79a262bef133af81d2",
       "version_major": 2,
       "version_minor": 0
      },
      "text/plain": [
       "FloatProgress(value=0.0, bar_style='info', description='Progress:', layout=Layout(height='25px', width='50%'),…"
      ]
     },
     "metadata": {},
     "output_type": "display_data"
    },
    {
     "name": "stdout",
     "output_type": "stream",
     "text": [
      "3464843"
     ]
    }
   ],
   "source": [
    "ref_model_base.count()"
   ]
  },
  {
   "cell_type": "code",
   "execution_count": 11,
   "id": "f6608db8",
   "metadata": {},
   "outputs": [
    {
     "data": {
      "application/vnd.jupyter.widget-view+json": {
       "model_id": "7e88075375c04c0094e0745f4ace10f6",
       "version_major": 2,
       "version_minor": 0
      },
      "text/plain": [
       "FloatProgress(value=0.0, bar_style='info', description='Progress:', layout=Layout(height='25px', width='50%'),…"
      ]
     },
     "metadata": {},
     "output_type": "display_data"
    }
   ],
   "source": [
    "# features = ['family_id','sub_department_id','department_id','univers_id','product_nature_id','sports']\n",
    "ref_model_base = ref_model_base\\\n",
    ".withColumn('is_same_family',F.expr('case when family_id = family_id_dp then 1 else 0 end as is_same_family'))\\\n",
    ".withColumn('is_same_dsm',F.expr('case when dsm_code = dsm_code_dp then 1 else 0 end as is_same_dsm'))\\\n",
    ".withColumn('is_same_product_nature',F.expr('case when product_nature_id = product_nature_id_dp then 1 else 0 end as is_same_product_nature'))"
   ]
  },
  {
   "cell_type": "code",
   "execution_count": 12,
   "id": "5237aaf9",
   "metadata": {},
   "outputs": [
    {
     "data": {
      "application/vnd.jupyter.widget-view+json": {
       "model_id": "29b93911d83a4139af7fc36a2c83f8ed",
       "version_major": 2,
       "version_minor": 0
      },
      "text/plain": [
       "FloatProgress(value=0.0, bar_style='info', description='Progress:', layout=Layout(height='25px', width='50%'),…"
      ]
     },
     "metadata": {},
     "output_type": "display_data"
    },
    {
     "name": "stdout",
     "output_type": "stream",
     "text": [
      "+--------+-------+--------------+\n",
      "|model_id|week_id|sales_quantity|\n",
      "+--------+-------+--------------+\n",
      "|  720719| 202031|          63.0|\n",
      "|  720719| 202032|          78.0|\n",
      "+--------+-------+--------------+\n",
      "only showing top 2 rows"
     ]
    }
   ],
   "source": [
    "# fetch transaction data\n",
    "ref_model_transaction = spark_read_parquet_s3(spark,bucket_refined,'test_data/cold_start_dev/ref_model_transaction_202138.parquet')\n",
    "ref_model_transaction = ref_model_transaction.select('model_id','week_id','sales_quantity')\\\n",
    "#.join(ref_model_pool.select('model_id','family_id','dsm_code','product_nature_id'),on='model_id',how='left')\n",
    "ref_model_transaction.show(2)"
   ]
  },
  {
   "cell_type": "code",
   "execution_count": 13,
   "id": "3c7342d5",
   "metadata": {},
   "outputs": [
    {
     "data": {
      "application/vnd.jupyter.widget-view+json": {
       "model_id": "ea7176264bf14c349980fc1be7692226",
       "version_major": 2,
       "version_minor": 0
      },
      "text/plain": [
       "FloatProgress(value=0.0, bar_style='info', description='Progress:', layout=Layout(height='25px', width='50%'),…"
      ]
     },
     "metadata": {},
     "output_type": "display_data"
    },
    {
     "name": "stdout",
     "output_type": "stream",
     "text": [
      "+--------+---------+--------+-----------------+------------------+-----------+------------+-----------+--------------------+------------------+--------------+-----------+----------------------+-------+--------------+--------+-------+-----------------+\n",
      "|model_id|family_id|dsm_code|product_nature_id|     average_price|model_id_dp|family_id_dp|dsm_code_dp|product_nature_id_dp|  average_price_dp|is_same_family|is_same_dsm|is_same_product_nature|week_id|sales_quantity|model_id|week_id|sales_quantity_dp|\n",
      "+--------+---------+--------+-----------------+------------------+-----------+------------+-----------+--------------------+------------------+--------------+-----------+----------------------+-------+--------------+--------+-------+-----------------+\n",
      "|  720719|     3174|    3322|            25715|20.000315014540725|     864028|        3180|     181371|               25216|152.00243646907234|             0|          0|                     0| 202137|          41.0|  864028| 202137|             18.0|\n",
      "|  720719|     3174|    3322|            25715|20.000315014540725|     864028|        3180|     181371|               25216|152.00243646907234|             0|          0|                     0| 202136|          38.0|  864028| 202136|             29.0|\n",
      "+--------+---------+--------+-----------------+------------------+-----------+------------+-----------+--------------------+------------------+--------------+-----------+----------------------+-------+--------------+--------+-------+-----------------+\n",
      "only showing top 2 rows"
     ]
    }
   ],
   "source": [
    "# calculating similarity\n",
    "ref_model_base_tran = ref_model_base.join(ref_model_transaction, on='model_id', how='left')\n",
    "\n",
    "ref_model_base_tran = ref_model_base_tran.alias('df1')\\\n",
    ".join(ref_model_transaction.selectExpr('model_id','week_id','sales_quantity as sales_quantity_dp').alias('df2'),\n",
    "      [F.col('df1.model_id_dp') == F.col('df2.model_id'),F.col('df1.week_id') == F.col('df2.week_id')],how='left')\n",
    "\n",
    "ref_model_base_tran.show(2)"
   ]
  },
  {
   "cell_type": "code",
   "execution_count": 14,
   "id": "480b7235",
   "metadata": {},
   "outputs": [
    {
     "data": {
      "application/vnd.jupyter.widget-view+json": {
       "model_id": "7eb2223c79f64fcc9527ff4db49490de",
       "version_major": 2,
       "version_minor": 0
      },
      "text/plain": [
       "FloatProgress(value=0.0, bar_style='info', description='Progress:', layout=Layout(height='25px', width='50%'),…"
      ]
     },
     "metadata": {},
     "output_type": "display_data"
    }
   ],
   "source": [
    "ref_model_base_tran = ref_model_base_tran.withColumn('difference',ref_model_base_tran.sales_quantity - ref_model_base_tran.sales_quantity_dp)\n",
    "\n",
    "ref_model_distance = ref_model_base_tran.groupby(['df1.model_id','model_id_dp']).agg(F.sqrt(F.sum('difference')**2).alias('model_euc_distance'))\n",
    "family_model_distance = ref_model_base_tran.groupby(['df1.family_id','family_id_dp']).agg(F.sqrt(F.sum('difference')**2).alias('family_euc_distance'))\n",
    "dsm_model_distance = ref_model_base_tran.groupby(['df1.dsm_code','dsm_code_dp']).agg(F.sqrt(F.sum('difference')**2).alias('dsm_euc_distance'))\n",
    "prod_nature_model_distance = ref_model_base_tran.groupby(['df1.product_nature_id','product_nature_id_dp']).agg(F.sqrt(F.sum('difference')**2).alias('prod_nature_euc_distance'))"
   ]
  },
  {
   "cell_type": "code",
   "execution_count": 15,
   "id": "4a42f3cc",
   "metadata": {},
   "outputs": [
    {
     "data": {
      "application/vnd.jupyter.widget-view+json": {
       "model_id": "6ca8beb7f06349f5ac2d56ed74faa0f0",
       "version_major": 2,
       "version_minor": 0
      },
      "text/plain": [
       "FloatProgress(value=0.0, bar_style='info', description='Progress:', layout=Layout(height='25px', width='50%'),…"
      ]
     },
     "metadata": {},
     "output_type": "display_data"
    },
    {
     "name": "stdout",
     "output_type": "stream",
     "text": [
      "+--------+-----------+------------------+\n",
      "|model_id|model_id_dp|model_euc_distance|\n",
      "+--------+-----------+------------------+\n",
      "|  765283|    8355692|           22661.0|\n",
      "|  863881|    8554577|             915.0|\n",
      "+--------+-----------+------------------+\n",
      "only showing top 2 rows\n",
      "\n",
      "<bound method DataFrame.count of DataFrame[model_id: bigint, model_id_dp: bigint, model_euc_distance: double]>"
     ]
    }
   ],
   "source": [
    "ref_model_distance.show(2)\n",
    "ref_model_distance.count()"
   ]
  },
  {
   "cell_type": "code",
   "execution_count": 18,
   "id": "88aae406",
   "metadata": {},
   "outputs": [
    {
     "data": {
      "application/vnd.jupyter.widget-view+json": {
       "model_id": "b63d3e9ffae1437dafb2f0020b9c2fb6",
       "version_major": 2,
       "version_minor": 0
      },
      "text/plain": [
       "FloatProgress(value=0.0, bar_style='info', description='Progress:', layout=Layout(height='25px', width='50%'),…"
      ]
     },
     "metadata": {},
     "output_type": "display_data"
    },
    {
     "name": "stdout",
     "output_type": "stream",
     "text": [
      "+---------+------------+-------------------+\n",
      "|family_id|family_id_dp|family_euc_distance|\n",
      "+---------+------------+-------------------+\n",
      "|     1165|        2250|           214378.0|\n",
      "|    11956|       34374|             4921.0|\n",
      "+---------+------------+-------------------+\n",
      "only showing top 2 rows\n",
      "\n",
      "498976"
     ]
    }
   ],
   "source": [
    "family_model_distance.show(2)\n",
    "family_model_distance.count()"
   ]
  },
  {
   "cell_type": "code",
   "execution_count": 21,
   "id": "c7c9666e",
   "metadata": {},
   "outputs": [
    {
     "data": {
      "application/vnd.jupyter.widget-view+json": {
       "model_id": "58a19698cbe84c2ba03da21b154912b0",
       "version_major": 2,
       "version_minor": 0
      },
      "text/plain": [
       "FloatProgress(value=0.0, bar_style='info', description='Progress:', layout=Layout(height='25px', width='50%'),…"
      ]
     },
     "metadata": {},
     "output_type": "display_data"
    },
    {
     "name": "stdout",
     "output_type": "stream",
     "text": [
      "+--------+-----------+----------------+\n",
      "|dsm_code|dsm_code_dp|dsm_euc_distance|\n",
      "+--------+-----------+----------------+\n",
      "|  326551|     169253|        341059.0|\n",
      "|  326558|      12895|           535.0|\n",
      "+--------+-----------+----------------+\n",
      "only showing top 2 rows\n",
      "\n",
      "3091053"
     ]
    }
   ],
   "source": [
    "dsm_model_distance.show(2)\n",
    "dsm_model_distance.count()"
   ]
  },
  {
   "cell_type": "code",
   "execution_count": 22,
   "id": "337953f2",
   "metadata": {},
   "outputs": [
    {
     "data": {
      "application/vnd.jupyter.widget-view+json": {
       "model_id": "0c257299c19d407c97a84730aee4e715",
       "version_major": 2,
       "version_minor": 0
      },
      "text/plain": [
       "FloatProgress(value=0.0, bar_style='info', description='Progress:', layout=Layout(height='25px', width='50%'),…"
      ]
     },
     "metadata": {},
     "output_type": "display_data"
    },
    {
     "name": "stdout",
     "output_type": "stream",
     "text": [
      "+-----------------+--------------------+------------------------+\n",
      "|product_nature_id|product_nature_id_dp|prod_nature_euc_distance|\n",
      "+-----------------+--------------------+------------------------+\n",
      "|            25216|               11797|               1333183.0|\n",
      "|              262|               10492|                 23511.0|\n",
      "+-----------------+--------------------+------------------------+\n",
      "only showing top 2 rows\n",
      "\n",
      "340692"
     ]
    }
   ],
   "source": [
    "prod_nature_model_distance.show(2)\n",
    "prod_nature_model_distance.count()"
   ]
  },
  {
   "cell_type": "code",
   "execution_count": null,
   "id": "58b5312b",
   "metadata": {},
   "outputs": [
    {
     "data": {
      "application/vnd.jupyter.widget-view+json": {
       "model_id": "cf83f8b3c3974986900764f177341a9a",
       "version_major": 2,
       "version_minor": 0
      },
      "text/plain": [
       "FloatProgress(value=0.0, bar_style='info', description='Progress:', layout=Layout(height='25px', width='50%'),…"
      ]
     },
     "metadata": {},
     "output_type": "display_data"
    }
   ],
   "source": [
    "'''\n",
    "ref_model_base = ref_model_base.alias('df1').join(ref_model_distance.alias('df2'),\n",
    "                                                  [F.col('df1.model_id') == F.col('df2.model_id'),F.col('df1.model_id_dp') == F.col('df2.model_id_dp')],how='left')\\\n",
    ".join(family_model_distance.alias('df3'),\n",
    "      [F.col('df1.family_id') == F.col('df3.family_id'),F.col('df1.family_id_dp') == F.col('df3.family_id_dp')],how='left')\\\n",
    ".join(dsm_model_distance.alias('df4'),\n",
    "      [F.col('df1.dsm_code') == F.col('df4.dsm_code'),F.col('df1.dsm_code_dp') == F.col('df4.dsm_code_dp')],how='left')\\\n",
    ".join(prod_nature_model_distance.alias('df5'),\n",
    "      [F.col('df1.prduct_nature_id') == F.col('df5.prduct_nature_id'),F.col('df1.prduct_nature_id_dp') == F.col('df5.prduct_nature_id_dp')],how='left')\n",
    "'''"
   ]
  },
  {
   "cell_type": "code",
   "execution_count": 25,
   "id": "ed5f44a3",
   "metadata": {},
   "outputs": [
    {
     "data": {
      "application/vnd.jupyter.widget-view+json": {
       "model_id": "11ade22e180141a3b382493a88142134",
       "version_major": 2,
       "version_minor": 0
      },
      "text/plain": [
       "FloatProgress(value=0.0, bar_style='info', description='Progress:', layout=Layout(height='25px', width='50%'),…"
      ]
     },
     "metadata": {},
     "output_type": "display_data"
    }
   ],
   "source": [
    "ref_model_base = ref_model_base.selectExpr('model_id','model_id_dp','is_same_family','is_same_dsm','is_same_product_nature',\n",
    "                                           'average_price','average_price_dp')"
   ]
  },
  {
   "cell_type": "code",
   "execution_count": 26,
   "id": "4dc78c9f",
   "metadata": {},
   "outputs": [
    {
     "data": {
      "application/vnd.jupyter.widget-view+json": {
       "model_id": "684f576f3cf0416294e0faa9ce226573",
       "version_major": 2,
       "version_minor": 0
      },
      "text/plain": [
       "FloatProgress(value=0.0, bar_style='info', description='Progress:', layout=Layout(height='25px', width='50%'),…"
      ]
     },
     "metadata": {},
     "output_type": "display_data"
    }
   ],
   "source": [
    "# Save to S3\n",
    "spark_write_parquet_s3(ref_model_base, 'fcst-workspace',\n",
    "                       'forecast-cn/fcst-refined-demand-forecast-dev/test_data/cold_start_dev/ref_model_base',\n",
    "                       repartition=10, mode='overwrite')"
   ]
  },
  {
   "cell_type": "code",
   "execution_count": null,
   "id": "00c53a20",
   "metadata": {},
   "outputs": [
    {
     "data": {
      "application/vnd.jupyter.widget-view+json": {
       "model_id": "0684d5f1858f401984fca999a1f84285",
       "version_major": 2,
       "version_minor": 0
      },
      "text/plain": [
       "FloatProgress(value=0.0, bar_style='info', description='Progress:', layout=Layout(height='25px', width='50%'),…"
      ]
     },
     "metadata": {},
     "output_type": "display_data"
    }
   ],
   "source": [
    "spark_write_parquet_s3(ref_model_distance, 'fcst-workspace',\n",
    "                       'forecast-cn/fcst-refined-demand-forecast-dev/test_data/cold_start_dev/ref_model_distance',\n",
    "                       repartition=10, mode='overwrite')\n",
    "\n",
    "spark_write_parquet_s3(family_model_distance, 'fcst-workspace',\n",
    "                       'forecast-cn/fcst-refined-demand-forecast-dev/test_data/cold_start_dev/family_model_distance',\n",
    "                       repartition=10, mode='overwrite')\n",
    "\n",
    "spark_write_parquet_s3(dsm_model_distance, 'fcst-workspace',\n",
    "                       'forecast-cn/fcst-refined-demand-forecast-dev/test_data/cold_start_dev/dsm_model_distance',\n",
    "                       repartition=10, mode='overwrite')\n",
    "\n",
    "spark_write_parquet_s3(prod_nature_model_distance, 'fcst-workspace',\n",
    "                       'forecast-cn/fcst-refined-demand-forecast-dev/test_data/cold_start_dev/prod_nature_model_distance',\n",
    "                       repartition=10, mode='overwrite')"
   ]
  },
  {
   "cell_type": "code",
   "execution_count": 93,
   "id": "d5f35e0d",
   "metadata": {},
   "outputs": [
    {
     "data": {
      "application/vnd.jupyter.widget-view+json": {
       "model_id": "e04d5aeed06b4f50aae317f9c71faf50",
       "version_major": 2,
       "version_minor": 0
      },
      "text/plain": [
       "FloatProgress(value=0.0, bar_style='info', description='Progress:', layout=Layout(height='25px', width='50%'),…"
      ]
     },
     "metadata": {},
     "output_type": "display_data"
    },
    {
     "name": "stderr",
     "output_type": "stream",
     "text": [
      "Interrupted by user\n"
     ]
    }
   ],
   "source": [
    "'''\n",
    "spark_write_parquet_s3_coal(ref_model_base, 'fcst-workspace',\n",
    "                            'forecast-cn/fcst-refined-demand-forecast-dev/test_data/cold_start_dev/ref_model_base_tran',\n",
    "                            mode='overwrite')\n",
    "'''"
   ]
  },
  {
   "cell_type": "code",
   "execution_count": null,
   "id": "9722046e",
   "metadata": {},
   "outputs": [],
   "source": [
    "'''\n",
    "# Fetch sales data\n",
    "cutoff = 202138\n",
    "# Shutdown reconstructed sales\n",
    "reconstructed_sales_lockdowns = read_multipart_parquet_s3('fcst-workspace/forecast-cn/fcst-refined-demand-forecast-dev',\n",
    "                                           'global/reconstructed_sales_lockdowns.parquet', prefix_filename ='part-')\n",
    "# Sales refining\n",
    "df_sales = read_multipart_parquet_s3('fcst-workspace/forecast-cn/fcst-refined-demand-forecast-dev',\n",
    "                                     'global/model_week_sales', prefix_filename ='part-')\n",
    "df_sales = df_sales.groupby(by=['model_id','week_id','date'],as_index=False).agg({'sales_quantity':'sum'})\n",
    "df_sales = df_sales[df_sales['week_id'] < cutoff]\n",
    "df_sales = apply_lockdowns_reconstruction(df_sales, reconstructed_sales_lockdowns)\n",
    "df_weekly_sales = df_sales\n",
    "\n",
    "# filter out the sales in the latest 60 weeks\n",
    "df_weekly_sales = df_weekly_sales[df_weekly_sales['week_id'].apply(lambda x:get_week_id(x,60)) >= 202138]\n",
    "\n",
    "ref_model_base = ref_model_pool.merge(df_weekly_sales[['model_id','week_id','sales_quantity']], on='model_id', how='left')\n",
    "#ref_model_base.to_csv('result/ref_model_base.csv',index=False)\n",
    "write_df_to_parquet_on_s3(ref_model_base, 'fcst-workspace', \n",
    "                          'forecast-cn/fcst-refined-demand-forecast-dev/test_data/cold_start_dev/ref_model_transaction_202138.parquet')\n",
    "'''"
   ]
  }
 ],
 "metadata": {
  "kernelspec": {
   "display_name": "Sparkmagic (PySpark)",
   "language": "python",
   "name": "pysparkkernel"
  },
  "language_info": {
   "codemirror_mode": {
    "name": "python",
    "version": 3
   },
   "file_extension": ".py",
   "mimetype": "text/x-python",
   "name": "pyspark",
   "pygments_lexer": "python3"
  }
 },
 "nbformat": 4,
 "nbformat_minor": 5
}

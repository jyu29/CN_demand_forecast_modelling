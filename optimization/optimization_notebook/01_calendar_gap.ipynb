{
 "cells": [
  {
   "cell_type": "code",
   "execution_count": 1,
   "id": "37c0edeb",
   "metadata": {},
   "outputs": [],
   "source": [
    "import numpy as np\n",
    "import pandas as pd\n",
    "import datetime\n",
    "import io\n",
    "import boto3\n",
    "import pyarrow.parquet as pq\n",
    "import s3fs\n",
    "import math\n",
    "import yaml"
   ]
  },
  {
   "cell_type": "code",
   "execution_count": 2,
   "id": "b785d2d0",
   "metadata": {},
   "outputs": [],
   "source": [
    "# realized sales\n",
    "def to_uri(bucket, key):\n",
    "    \"\"\"\n",
    "    List all files under a S3 bucket\n",
    "    :param bucket: (string) name of the S3 bucket\n",
    "    :param key: (string) S3 key\n",
    "    :return: (string) URI format\n",
    "    \"\"\"\n",
    "    return f's3://{bucket}/{key}'\n",
    "\n",
    "def read_multipart_parquet_s3(bucket, dir_path, prefix_filename='part-'):\n",
    "    \"\"\"\n",
    "    Read a multipart parquet file (splitted) hosted on a S3 bucket, load and return as pandas dataframe. Note that only\n",
    "    files with name starting with <prefix_filename> value are taken into account.\n",
    "    :param bucket: (string) S3 source bucket\n",
    "    :param dir_path: (string) full path to the folder that contains all parts within this S3 bucket\n",
    "    :param prefix_filename: (string) Optional. Default is 'part-' which is what Spark generates. Only files with name\n",
    "    starting with this value will be loaded\n",
    "    :return: (pandas DataFrame) data loaded\n",
    "    \"\"\"\n",
    "    fs = s3fs.S3FileSystem()\n",
    "    s3_uri = to_uri(bucket, dir_path)\n",
    "    data = pq.ParquetDataset(s3_uri, filesystem=fs).read().to_pandas(date_as_object=False)\n",
    "\n",
    "    return data\n",
    "\n",
    "def keys(bucket_name, prefix='/', delimiter='/'):\n",
    "    prefix = prefix[1:] if prefix.startswith(delimiter) else prefix\n",
    "    bucket = boto3.resource('s3').Bucket(bucket_name)\n",
    "    return (_.key for _ in bucket.objects.filter(Prefix=prefix))"
   ]
  },
  {
   "cell_type": "code",
   "execution_count": 3,
   "id": "7947e1df",
   "metadata": {},
   "outputs": [],
   "source": [
    "def date_to_week_id(date):\n",
    "    \"\"\"\n",
    "    Turn a date to Decathlon week id\n",
    "    :param date: (str, pd.Timestamp or pd.Series) the date or pandas column of dates\n",
    "    :return: (int or pd.Series) the week id or pandas column of week ids\n",
    "    \"\"\"\n",
    "    assert isinstance(date, (str, pd.Timestamp, pd.Series, datetime.date))\n",
    "    if isinstance(date, (str, pd.Timestamp, datetime.date)):\n",
    "        date = pd.Timestamp(date)\n",
    "        if date.dayofweek == 6:  # If sunday, replace by next monday to get the correct iso week\n",
    "            date = date + pd.Timedelta(1, unit='D')\n",
    "        week_id = int(str(date.isocalendar()[0]) + str(date.isocalendar()[1]).zfill(2))\n",
    "        return week_id\n",
    "    else:\n",
    "        df = pd.DataFrame({'date': pd.to_datetime(date)})\n",
    "        df['dow'] = df['date'].dt.dayofweek\n",
    "        df.loc[df['dow'] == 6, 'date'] = df.loc[df['dow'] == 6, 'date'] + pd.Timedelta(1, unit='D')\n",
    "        df['week_id'] = df['date'].apply(lambda x: int(str(x.isocalendar()[0]) + str(x.isocalendar()[1]).zfill(2)))\n",
    "        return df['week_id']"
   ]
  },
  {
   "cell_type": "code",
   "execution_count": 4,
   "id": "d6a19010",
   "metadata": {},
   "outputs": [],
   "source": [
    "def read_yml(file_path):\n",
    "    \"\"\"\n",
    "    Read a local yaml file and return a python dictionary\n",
    "    :param file_path: (string) full path to the yaml file\n",
    "    :return: (dict) data loaded\n",
    "    \"\"\"\n",
    "\n",
    "    if file_path[:2] == \"s3\":\n",
    "        fs = s3fs.S3FileSystem()\n",
    "        with fs.open(file_path, 'r') as f:\n",
    "            yaml_dict = yaml.safe_load(f)\n",
    "    else:\n",
    "        with open(file_path) as f:\n",
    "            yaml_dict = yaml.safe_load(f)\n",
    "\n",
    "    return yaml_dict"
   ]
  },
  {
   "cell_type": "markdown",
   "id": "c8e1c1be",
   "metadata": {},
   "source": [
    "Create holiday calendar dataframe"
   ]
  },
  {
   "cell_type": "code",
   "execution_count": 5,
   "id": "98b41ebb",
   "metadata": {},
   "outputs": [],
   "source": [
    "# generate a dataframe contains all dates from year2016 to year2022\n",
    "ts = pd.DataFrame({'date':pd.date_range('2016-01-01','2022-12-31')})\n",
    "#ts.date = ts.date.astype(str)\n",
    "ts['week_id'] = ts['date'].apply(lambda x:date_to_week_id(x))"
   ]
  },
  {
   "cell_type": "code",
   "execution_count": 6,
   "id": "2ee9786a",
   "metadata": {},
   "outputs": [],
   "source": [
    "cn_holidays = read_yml('cn_holidays.yaml')"
   ]
  },
  {
   "cell_type": "code",
   "execution_count": 7,
   "id": "4f1455ad",
   "metadata": {},
   "outputs": [],
   "source": [
    "holidays = []\n",
    "tradeoff = []\n",
    "for year in [2016,2017,2018,2019,2020,2021]:\n",
    "    holidays += cn_holidays[year]['holiday']\n",
    "    tradeoff += cn_holidays[year]['tradeoff']\n",
    "    \n",
    "def if_holiday(date):\n",
    "    if date.weekday() >= 5 and date not in tradeoff:\n",
    "        return 'num_holiday_weekend'\n",
    "    elif date in holidays:\n",
    "        return 'num_holiday_weekday'\n",
    "    else:\n",
    "        return np.nan\n",
    "    \n",
    "ts['if_holiday'] = ts['date'].apply(lambda x:if_holiday(x))"
   ]
  },
  {
   "cell_type": "markdown",
   "id": "afd484d1",
   "metadata": {},
   "source": [
    "#### Option 1: calculate holidays per week weekday and weekend seperately"
   ]
  },
  {
   "cell_type": "code",
   "execution_count": 8,
   "id": "701aaee0",
   "metadata": {},
   "outputs": [],
   "source": [
    "calendar_gap = pd.pivot_table(data=ts,index='week_id',columns='if_holiday',values='date',aggfunc='count').reset_index()\\\n",
    "[['week_id','num_holiday_weekend','num_holiday_weekday']].fillna(0)"
   ]
  },
  {
   "cell_type": "code",
   "execution_count": 9,
   "id": "cfef66ac",
   "metadata": {},
   "outputs": [
    {
     "data": {
      "text/html": [
       "<div>\n",
       "<style scoped>\n",
       "    .dataframe tbody tr th:only-of-type {\n",
       "        vertical-align: middle;\n",
       "    }\n",
       "\n",
       "    .dataframe tbody tr th {\n",
       "        vertical-align: top;\n",
       "    }\n",
       "\n",
       "    .dataframe thead th {\n",
       "        text-align: right;\n",
       "    }\n",
       "</style>\n",
       "<table border=\"1\" class=\"dataframe\">\n",
       "  <thead>\n",
       "    <tr style=\"text-align: right;\">\n",
       "      <th>if_holiday</th>\n",
       "      <th>week_id</th>\n",
       "      <th>num_holiday_weekend</th>\n",
       "      <th>num_holiday_weekday</th>\n",
       "    </tr>\n",
       "  </thead>\n",
       "  <tbody>\n",
       "    <tr>\n",
       "      <th>0</th>\n",
       "      <td>201553</td>\n",
       "      <td>1.0</td>\n",
       "      <td>1.0</td>\n",
       "    </tr>\n",
       "    <tr>\n",
       "      <th>1</th>\n",
       "      <td>201601</td>\n",
       "      <td>2.0</td>\n",
       "      <td>0.0</td>\n",
       "    </tr>\n",
       "  </tbody>\n",
       "</table>\n",
       "</div>"
      ],
      "text/plain": [
       "if_holiday  week_id  num_holiday_weekend  num_holiday_weekday\n",
       "0            201553                  1.0                  1.0\n",
       "1            201601                  2.0                  0.0"
      ]
     },
     "execution_count": 9,
     "metadata": {},
     "output_type": "execute_result"
    }
   ],
   "source": [
    "calendar_gap.head(2)"
   ]
  },
  {
   "cell_type": "code",
   "execution_count": 10,
   "id": "a9b41d66",
   "metadata": {},
   "outputs": [],
   "source": [
    "# save the result\n",
    "calendar_gap.to_parquet('additional_datasource/calendar_gap.parquet')"
   ]
  },
  {
   "cell_type": "markdown",
   "id": "f943607e",
   "metadata": {},
   "source": [
    "#### Option 2: calculate holidays per week together"
   ]
  },
  {
   "cell_type": "code",
   "execution_count": 89,
   "id": "5f4a3cc5",
   "metadata": {},
   "outputs": [],
   "source": [
    "calendar_gap = ts.groupby(by='week_id',as_index=False).agg({'if_holiday':'count'}).rename(columns={'if_holiday':'num_holidays'}).fillna(0)"
   ]
  },
  {
   "cell_type": "code",
   "execution_count": 90,
   "id": "ebfd9a40",
   "metadata": {},
   "outputs": [],
   "source": [
    "# save the result\n",
    "calendar_gap.to_parquet('additional_datasource/calendar_gap.parquet')"
   ]
  },
  {
   "cell_type": "code",
   "execution_count": 91,
   "id": "31a905ff",
   "metadata": {},
   "outputs": [
    {
     "data": {
      "text/html": [
       "<div>\n",
       "<style scoped>\n",
       "    .dataframe tbody tr th:only-of-type {\n",
       "        vertical-align: middle;\n",
       "    }\n",
       "\n",
       "    .dataframe tbody tr th {\n",
       "        vertical-align: top;\n",
       "    }\n",
       "\n",
       "    .dataframe thead th {\n",
       "        text-align: right;\n",
       "    }\n",
       "</style>\n",
       "<table border=\"1\" class=\"dataframe\">\n",
       "  <thead>\n",
       "    <tr style=\"text-align: right;\">\n",
       "      <th></th>\n",
       "      <th>week_id</th>\n",
       "      <th>num_holidays</th>\n",
       "    </tr>\n",
       "  </thead>\n",
       "  <tbody>\n",
       "    <tr>\n",
       "      <th>0</th>\n",
       "      <td>201553</td>\n",
       "      <td>2</td>\n",
       "    </tr>\n",
       "    <tr>\n",
       "      <th>1</th>\n",
       "      <td>201601</td>\n",
       "      <td>2</td>\n",
       "    </tr>\n",
       "  </tbody>\n",
       "</table>\n",
       "</div>"
      ],
      "text/plain": [
       "   week_id  num_holidays\n",
       "0   201553             2\n",
       "1   201601             2"
      ]
     },
     "execution_count": 91,
     "metadata": {},
     "output_type": "execute_result"
    }
   ],
   "source": [
    "calendar_gap.head(2)"
   ]
  },
  {
   "cell_type": "code",
   "execution_count": null,
   "id": "8a60ccab",
   "metadata": {},
   "outputs": [],
   "source": []
  }
 ],
 "metadata": {
  "kernelspec": {
   "display_name": "conda_pytorch_p36",
   "language": "python",
   "name": "conda_pytorch_p36"
  },
  "language_info": {
   "codemirror_mode": {
    "name": "ipython",
    "version": 3
   },
   "file_extension": ".py",
   "mimetype": "text/x-python",
   "name": "python",
   "nbconvert_exporter": "python",
   "pygments_lexer": "ipython3",
   "version": "3.6.13"
  }
 },
 "nbformat": 4,
 "nbformat_minor": 5
}

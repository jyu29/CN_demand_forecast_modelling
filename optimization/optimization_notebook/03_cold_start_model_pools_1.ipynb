{
 "cells": [
  {
   "cell_type": "code",
   "execution_count": 2,
   "id": "b70ec9a6",
   "metadata": {},
   "outputs": [],
   "source": [
    "import datetime\n",
    "import io\n",
    "import re\n",
    "import numpy as np\n",
    "import pandas as pd\n",
    "import boto3\n",
    "import pyarrow.parquet as pq\n",
    "import s3fs\n",
    "import math"
   ]
  },
  {
   "cell_type": "markdown",
   "id": "b0033d51",
   "metadata": {},
   "source": [
    "#### Fetch data"
   ]
  },
  {
   "cell_type": "code",
   "execution_count": 3,
   "id": "c6f5539a",
   "metadata": {},
   "outputs": [],
   "source": [
    "# realized sales\n",
    "def to_uri(bucket, key):\n",
    "    \"\"\"\n",
    "    List all files under a S3 bucket\n",
    "    :param bucket: (string) name of the S3 bucket\n",
    "    :param key: (string) S3 key\n",
    "    :return: (string) URI format\n",
    "    \"\"\"\n",
    "    return f's3://{bucket}/{key}'\n",
    "\n",
    "def read_multipart_parquet_s3(bucket, dir_path, prefix_filename ='part-'):\n",
    "    \"\"\"\n",
    "    Read a multipart parquet file (splitted) hosted on a S3 bucket, load and return as pandas dataframe. Note that only\n",
    "    files with name starting with <prefix_filename> value are taken into account.\n",
    "    :param bucket: (string) S3 source bucket\n",
    "    :param dir_path: (string) full path to the folder that contains all parts within this S3 bucket\n",
    "    :param prefix_filename: (string) Optional. Default is 'part-' which is what Spark generates. Only files with name\n",
    "    starting with this value will be loaded\n",
    "    :return: (pandas DataFrame) data loaded\n",
    "    \"\"\"\n",
    "    fs = s3fs.S3FileSystem()\n",
    "    s3_uri = to_uri(bucket, dir_path)\n",
    "    data = pq.ParquetDataset(s3_uri, filesystem =fs).read().to_pandas(date_as_object = False)\n",
    "\n",
    "    return data\n",
    "\n",
    "def week_id_to_date(week_id):\n",
    "    \"\"\"\n",
    "    Turn a Decathlon week id to date\n",
    "    :param week_id: (int or pd.Series) the week id or pandas column of week ids\n",
    "    :return: (pd.Timestamp or pd.Series) the date or pandas column of dates\n",
    "    \"\"\"\n",
    "    assert isinstance(week_id, (int, np.integer, pd.Series, list))\n",
    "    if isinstance(week_id, (int, np.integer)):\n",
    "        assert is_iso_format(week_id), f\"`week_id` {week_id} doesn't follow conform YYYYWW format\"\n",
    "        return pd.to_datetime(str(week_id) + '-0', format = '%G%V-%w') - pd.Timedelta(1, unit = 'W')\n",
    "    else:\n",
    "        if isinstance(week_id, (list)):\n",
    "            week_id = pd.Series(week_id)\n",
    "        for w in week_id:\n",
    "            assert is_iso_format(w), f\"Week_id {w} doesn't follow conform YYYYWW format\"\n",
    "        return pd.to_datetime(week_id.astype(str) + '-0', format = '%G%V-%w') - pd.Timedelta(1, unit = 'W')\n",
    "\n",
    "def is_iso_format(week_id: int) -> bool:\n",
    "    \"\"\"\n",
    "    Checks if `week` has conform YYYYWW ISO 8601 format.\n",
    "    :param week_id: (int or pd.Series) the week id or pandas column of week ids\n",
    "    :return: (bool) wether `week_id` follows the expected format\n",
    "    \"\"\"\n",
    "    assert isinstance(week_id, (int, np.int32, np.int64)), \"week_id must be of type integer.\"\n",
    "    pattern = \"^20[0-9]{2}(0[1-9]|[1-4][0-9]|5[0-3])$\"\n",
    "    is_iso_format = re.match(pattern, str(week_id))\n",
    "\n",
    "    return is_iso_format is not None\n",
    "\n",
    "def date_to_week_id(date):\n",
    "    \"\"\"\n",
    "    Turn a date to Decathlon week id\n",
    "    :param date: (str, pd.Timestamp or pd.Series) the date or pandas column of dates\n",
    "    :return: (int or pd.Series) the week id or pandas column of week ids\n",
    "    \"\"\"\n",
    "    assert isinstance(date, (str, pd.Timestamp, pd.Series, datetime.date))\n",
    "    if isinstance(date, (str, pd.Timestamp, datetime.date)):\n",
    "        date = pd.Timestamp(date)\n",
    "        if date.dayofweek == 6:  # If sunday, replace by next monday to get the correct iso week\n",
    "            date = date + pd.Timedelta(1, unit = 'D')\n",
    "        week_id = int(str(date.isocalendar()[0]) + str(date.isocalendar()[1]).zfill(2))\n",
    "        return week_id\n",
    "    else:\n",
    "        df = pd.DataFrame({'date': pd.to_datetime(date)})\n",
    "        df['dow'] = df['date'].dt.dayofweek\n",
    "        df.loc[df['dow'] == 6, 'date'] = df.loc[df['dow'] == 6, 'date'] + pd.Timedelta(1, unit = 'D')\n",
    "        df['week_id'] = df['date'].apply(lambda x: int(str(x.isocalendar()[0]) + str(x.isocalendar()[1]).zfill(2)))\n",
    "        return df['week_id']\n",
    "    \n",
    "def get_week_id(str_,step):\n",
    "    str_ = str(str_)\n",
    "    year = int(str_[:4])\n",
    "    week = int(str_[4:])\n",
    "    step = step - 1\n",
    "    if week + step <= 52:\n",
    "        if week+step < 10:\n",
    "            return int(str(year) + '0' +str(week + step))\n",
    "        else:\n",
    "            return int(str(year) + str(week + step))\n",
    "    else:\n",
    "        round_ = math.floor((week + step) / 52)\n",
    "        year = year + round_\n",
    "        week = week + step - 52 * round_\n",
    "        if week < 10:\n",
    "            return int(str(year) + '0' + str(week))\n",
    "        else:\n",
    "            return int(str(year) + str(week))"
   ]
  },
  {
   "cell_type": "code",
   "execution_count": 4,
   "id": "c60624b6",
   "metadata": {},
   "outputs": [],
   "source": [
    "def apply_lockdowns_reconstruction(df_sales, df_sales_reconstructed):\n",
    "    \"\"\"\n",
    "    Replaces the lockdown weeks of `df_sales` with the reconstructed ones of `df_sales_reconstructed`.\n",
    "\n",
    "    Args:\n",
    "        df_sales (pd.DataFrame): The initial sales dataframe\n",
    "        df_sales_reconstructed (pd.DataFrame): The reconstructed sales dataframe\n",
    "\n",
    "    Returns:\n",
    "        pd.DataFrame with the same structure as `df_sales`, whose lockdown weeks have been\n",
    "        replaced by the ones in `df_sales_reconstructed`\n",
    "    \"\"\"\n",
    "    df_sales = pd.merge(df_sales, df_sales_reconstructed, how = 'left')\n",
    "    df_sales['sales_quantity'] = np.where(df_sales['sales_quantity_reconstructed'].notnull(),\n",
    "                                          df_sales['sales_quantity_reconstructed'],\n",
    "                                          df_sales['sales_quantity'])\n",
    "    df_sales.drop(columns='sales_quantity_reconstructed', inplace = True)\n",
    "    return df_sales\n",
    "\n",
    "def pad_to_cutoff(df_ts: pd.DataFrame,\n",
    "                  cutoff: int,\n",
    "                  col: str = 'sales_quantity',\n",
    "                  ) -> pd.DataFrame:\n",
    "    \"\"\"\n",
    "    Forward fills with zeros time series in Pandas DataFrame up to week cutoff.\n",
    "\n",
    "    The function will complete the dataframe for all models (`model_id`) with a frequency\n",
    "    of 1 week, up to week_id cutoff (excluding it) on the column `col` with value = 0.\n",
    "    The input dataframe must include columns ['model_id', 'week_id', 'date'].\n",
    "\n",
    "    Args:\n",
    "        df_ts (pd.DataFrame): Timeseries DataFrame\n",
    "        cutoff (int): ISO 8601 Format Week id (YYYYWW) to forward fill to\n",
    "        col (str): Name of the column to fill\n",
    "\n",
    "    Returns:\n",
    "        df (pd.DataFrame): Padded DataFrame\n",
    "    \"\"\"\n",
    "    assert is_iso_format(cutoff)\n",
    "    assert isinstance(cutoff, (int, np.int64))\n",
    "    assert isinstance(df_ts, pd.DataFrame)\n",
    "    assert pd.api.types.is_datetime64_any_dtype(df_ts['date'])\n",
    "    assert set(df_ts.columns) == set(['model_id', 'week_id', 'date', col])\n",
    "\n",
    "    # Limiting dataset to avoid errors if we have data further than cutoff\n",
    "    df_ts = df_ts[df_ts['week_id'] < cutoff]\n",
    "    # Add the cutoff weekend to all models to put a limit for the bfill\n",
    "    models = df_ts['model_id'].unique()\n",
    "    test_cutoff_date = week_id_to_date(cutoff)\n",
    "    md, cu = pd.core.reshape.util.cartesian_product([models, [cutoff]])\n",
    "    df_ts_tail = pd.DataFrame({\"model_id\": md, \"week_id\": cu})\n",
    "    df_ts_tail['date'] = test_cutoff_date\n",
    "    df_ts_tail[col] = 0\n",
    "    df = df_ts.append(df_ts_tail)\n",
    "\n",
    "    # Backfill for the cutoff week\n",
    "    df = df.set_index('date').groupby(['model_id']).resample('1W').asfreq().fillna(0)\n",
    "    \n",
    "    # Getting the df back to its original form\n",
    "    df.drop(['model_id'], axis = 1, inplace = True)\n",
    "    df.reset_index(inplace = True)\n",
    "    df['week_id'] = date_to_week_id(df['date'])\n",
    "\n",
    "    # Getting rid of the cutoff week\n",
    "    df = df[df['week_id'] < cutoff]\n",
    "    \n",
    "    if col == 'sales_quantity':\n",
    "        df[col] = df[col].astype(int)\n",
    "    \n",
    "    return df"
   ]
  },
  {
   "cell_type": "code",
   "execution_count": 8,
   "id": "e8286adf",
   "metadata": {},
   "outputs": [],
   "source": [
    "cutoff = 202138\n",
    "# shutdown reconstructed sales\n",
    "reconstructed_sales_lockdowns = read_multipart_parquet_s3('fcst-workspace/forecast-cn/fcst-refined-demand-forecast-dev',\n",
    "                                           'global/reconstructed_sales_lockdowns.parquet', prefix_filename ='part-')\n",
    "\n",
    "# Sales refining\n",
    "df_sales = read_multipart_parquet_s3('fcst-workspace/forecast-cn/fcst-refined-demand-forecast-dev',\n",
    "                                     'global/model_week_sales', prefix_filename ='part-')\n",
    "df_sales = df_sales.groupby(by=['model_id','week_id','date'],as_index=False).agg({'sales_quantity':'sum'})\n",
    "df_sales = df_sales[df_sales['week_id'] < cutoff]\n",
    "df_sales = apply_lockdowns_reconstruction(df_sales, reconstructed_sales_lockdowns)\n",
    "df_weekly_sales = df_sales\n",
    "\n",
    "# MRP refining\n",
    "df_mrp = read_multipart_parquet_s3('fcst-workspace/forecast-cn/fcst-refined-demand-forecast-dev',\n",
    "                                   'global/model_week_mrp', prefix_filename ='part-')\n",
    "df_mrp = df_mrp[df_mrp['week_id'] == cutoff]\n",
    "\n",
    "# Tree refining\n",
    "df_tree = read_multipart_parquet_s3('fcst-workspace/forecast-cn/fcst-refined-demand-forecast-dev',\n",
    "                                    'global/model_week_tree', prefix_filename ='part-')\n",
    "df_tree = df_tree[df_tree['week_id'] == cutoff]\n",
    "\n",
    "# Limiting Sales data to MRP active models\n",
    "df_sales = pd.merge(df_sales, df_mrp.loc[df_mrp['is_mrp_active'], ['model_id']])\n",
    "\n",
    "# Pad to cutoff Sales data\n",
    "df_sales = pad_to_cutoff(df_sales, cutoff)"
   ]
  },
  {
   "cell_type": "code",
   "execution_count": 9,
   "id": "82477e38",
   "metadata": {},
   "outputs": [
    {
     "data": {
      "text/html": [
       "<div>\n",
       "<style scoped>\n",
       "    .dataframe tbody tr th:only-of-type {\n",
       "        vertical-align: middle;\n",
       "    }\n",
       "\n",
       "    .dataframe tbody tr th {\n",
       "        vertical-align: top;\n",
       "    }\n",
       "\n",
       "    .dataframe thead th {\n",
       "        text-align: right;\n",
       "    }\n",
       "</style>\n",
       "<table border=\"1\" class=\"dataframe\">\n",
       "  <thead>\n",
       "    <tr style=\"text-align: right;\">\n",
       "      <th></th>\n",
       "      <th>model_id</th>\n",
       "      <th>date</th>\n",
       "      <th>week_id</th>\n",
       "      <th>sales_quantity</th>\n",
       "    </tr>\n",
       "  </thead>\n",
       "  <tbody>\n",
       "    <tr>\n",
       "      <th>0</th>\n",
       "      <td>720719</td>\n",
       "      <td>2016-01-03</td>\n",
       "      <td>201601</td>\n",
       "      <td>45</td>\n",
       "    </tr>\n",
       "    <tr>\n",
       "      <th>1</th>\n",
       "      <td>720719</td>\n",
       "      <td>2016-01-10</td>\n",
       "      <td>201602</td>\n",
       "      <td>55</td>\n",
       "    </tr>\n",
       "  </tbody>\n",
       "</table>\n",
       "</div>"
      ],
      "text/plain": [
       "   model_id       date  week_id  sales_quantity\n",
       "0    720719 2016-01-03   201601              45\n",
       "1    720719 2016-01-10   201602              55"
      ]
     },
     "execution_count": 9,
     "metadata": {},
     "output_type": "execute_result"
    }
   ],
   "source": [
    "# for new model pool\n",
    "df_sales.head(2)"
   ]
  },
  {
   "cell_type": "code",
   "execution_count": 10,
   "id": "d1225857",
   "metadata": {},
   "outputs": [
    {
     "data": {
      "text/html": [
       "<div>\n",
       "<style scoped>\n",
       "    .dataframe tbody tr th:only-of-type {\n",
       "        vertical-align: middle;\n",
       "    }\n",
       "\n",
       "    .dataframe tbody tr th {\n",
       "        vertical-align: top;\n",
       "    }\n",
       "\n",
       "    .dataframe thead th {\n",
       "        text-align: right;\n",
       "    }\n",
       "</style>\n",
       "<table border=\"1\" class=\"dataframe\">\n",
       "  <thead>\n",
       "    <tr style=\"text-align: right;\">\n",
       "      <th></th>\n",
       "      <th>model_id</th>\n",
       "      <th>week_id</th>\n",
       "      <th>date</th>\n",
       "      <th>sales_quantity</th>\n",
       "    </tr>\n",
       "  </thead>\n",
       "  <tbody>\n",
       "    <tr>\n",
       "      <th>0</th>\n",
       "      <td>18259</td>\n",
       "      <td>201614</td>\n",
       "      <td>2016-04-03</td>\n",
       "      <td>1.0</td>\n",
       "    </tr>\n",
       "    <tr>\n",
       "      <th>1</th>\n",
       "      <td>94885</td>\n",
       "      <td>201716</td>\n",
       "      <td>2017-04-16</td>\n",
       "      <td>1.0</td>\n",
       "    </tr>\n",
       "  </tbody>\n",
       "</table>\n",
       "</div>"
      ],
      "text/plain": [
       "   model_id  week_id       date  sales_quantity\n",
       "0     18259   201614 2016-04-03             1.0\n",
       "1     94885   201716 2017-04-16             1.0"
      ]
     },
     "execution_count": 10,
     "metadata": {},
     "output_type": "execute_result"
    }
   ],
   "source": [
    "# for old model pool\n",
    "df_weekly_sales.head(2)"
   ]
  },
  {
   "cell_type": "code",
   "execution_count": 11,
   "id": "54105dd5",
   "metadata": {},
   "outputs": [],
   "source": [
    "# generate start selling week\n",
    "selling_weeks = df_weekly_sales.groupby(by='model_id',as_index=False).agg({'week_id':['min','max']})\n",
    "selling_weeks.columns = ['model_id','start_selling_week','last_selling_week']\n",
    "selling_weeks['length'] = selling_weeks.last_selling_week - selling_weeks.start_selling_week"
   ]
  },
  {
   "cell_type": "code",
   "execution_count": 12,
   "id": "36792ed3",
   "metadata": {},
   "outputs": [
    {
     "data": {
      "text/html": [
       "<div>\n",
       "<style scoped>\n",
       "    .dataframe tbody tr th:only-of-type {\n",
       "        vertical-align: middle;\n",
       "    }\n",
       "\n",
       "    .dataframe tbody tr th {\n",
       "        vertical-align: top;\n",
       "    }\n",
       "\n",
       "    .dataframe thead th {\n",
       "        text-align: right;\n",
       "    }\n",
       "</style>\n",
       "<table border=\"1\" class=\"dataframe\">\n",
       "  <thead>\n",
       "    <tr style=\"text-align: right;\">\n",
       "      <th></th>\n",
       "      <th>model_id</th>\n",
       "      <th>week_id</th>\n",
       "      <th>family_id</th>\n",
       "      <th>sub_department_id</th>\n",
       "      <th>department_id</th>\n",
       "      <th>univers_id</th>\n",
       "      <th>product_nature_id</th>\n",
       "      <th>model_label</th>\n",
       "      <th>family_label</th>\n",
       "      <th>sub_department_label</th>\n",
       "      <th>department_label</th>\n",
       "      <th>univers_label</th>\n",
       "      <th>product_nature_label</th>\n",
       "      <th>brand_label</th>\n",
       "      <th>brand_type</th>\n",
       "    </tr>\n",
       "  </thead>\n",
       "  <tbody>\n",
       "    <tr>\n",
       "      <th>145</th>\n",
       "      <td>8356685</td>\n",
       "      <td>202138</td>\n",
       "      <td>34003</td>\n",
       "      <td>2088</td>\n",
       "      <td>403</td>\n",
       "      <td>8</td>\n",
       "      <td>25014</td>\n",
       "      <td>TEE SHIRT LIGHT M YELLOW</td>\n",
       "      <td>M INT BADM APP</td>\n",
       "      <td>BADMINTON INTER</td>\n",
       "      <td>BADMINTON SQUAS</td>\n",
       "      <td>RACKETS SPORTS</td>\n",
       "      <td>T-SHIRT</td>\n",
       "      <td>ARTENGO</td>\n",
       "      <td>MP</td>\n",
       "    </tr>\n",
       "    <tr>\n",
       "      <th>308</th>\n",
       "      <td>8315913</td>\n",
       "      <td>202138</td>\n",
       "      <td>34218</td>\n",
       "      <td>2143</td>\n",
       "      <td>117</td>\n",
       "      <td>35</td>\n",
       "      <td>25053</td>\n",
       "      <td>PA W EVOSTYLE SQUARRED PURPLE</td>\n",
       "      <td>WOMEN SNB CLTHG</td>\n",
       "      <td>SKI SNOWBOARD F</td>\n",
       "      <td>SKI FREESKI SNO</td>\n",
       "      <td>WINTER SPORTS U</td>\n",
       "      <td>TROUSERS</td>\n",
       "      <td>WEDZE</td>\n",
       "      <td>MP</td>\n",
       "    </tr>\n",
       "  </tbody>\n",
       "</table>\n",
       "</div>"
      ],
      "text/plain": [
       "     model_id  week_id  family_id  sub_department_id  department_id  \\\n",
       "145   8356685   202138      34003               2088            403   \n",
       "308   8315913   202138      34218               2143            117   \n",
       "\n",
       "     univers_id product_nature_id                    model_label  \\\n",
       "145           8             25014       TEE SHIRT LIGHT M YELLOW   \n",
       "308          35             25053  PA W EVOSTYLE SQUARRED PURPLE   \n",
       "\n",
       "        family_label sub_department_label department_label    univers_label  \\\n",
       "145   M INT BADM APP      BADMINTON INTER  BADMINTON SQUAS   RACKETS SPORTS   \n",
       "308  WOMEN SNB CLTHG      SKI SNOWBOARD F  SKI FREESKI SNO  WINTER SPORTS U   \n",
       "\n",
       "    product_nature_label brand_label brand_type  \n",
       "145              T-SHIRT     ARTENGO         MP  \n",
       "308             TROUSERS       WEDZE         MP  "
      ]
     },
     "execution_count": 12,
     "metadata": {},
     "output_type": "execute_result"
    }
   ],
   "source": [
    "df_tree.head(2)"
   ]
  },
  {
   "cell_type": "code",
   "execution_count": 23,
   "id": "22eb9f4c",
   "metadata": {},
   "outputs": [],
   "source": [
    "tree_df = df_tree[['model_id','family_id','sub_department_id','department_id','univers_id','product_nature_id',\n",
    "                   'brand_label','brand_type']]"
   ]
  },
  {
   "cell_type": "code",
   "execution_count": 19,
   "id": "dd2f2cc4",
   "metadata": {},
   "outputs": [],
   "source": [
    "# weekly price in model level\n",
    "df_weekly_price = read_multipart_parquet_s3('fcst-workspace/forecast-cn/fcst-refined-demand-forecast-dev',\n",
    "                                           'global/model_week_price', prefix_filename ='part-')\n",
    "df_weekly_price = df_weekly_price.groupby(['model_id', 'week_id','date']).agg(average_price = ('average_price', 'mean')).reset_index()"
   ]
  },
  {
   "cell_type": "code",
   "execution_count": 20,
   "id": "c989b0b0",
   "metadata": {},
   "outputs": [],
   "source": [
    "price_df = df_weekly_price.groupby(by='model_id',as_index=False).agg({'average_price':'median'})"
   ]
  },
  {
   "cell_type": "code",
   "execution_count": 21,
   "id": "9c90f3f2",
   "metadata": {},
   "outputs": [
    {
     "data": {
      "text/html": [
       "<div>\n",
       "<style scoped>\n",
       "    .dataframe tbody tr th:only-of-type {\n",
       "        vertical-align: middle;\n",
       "    }\n",
       "\n",
       "    .dataframe tbody tr th {\n",
       "        vertical-align: top;\n",
       "    }\n",
       "\n",
       "    .dataframe thead th {\n",
       "        text-align: right;\n",
       "    }\n",
       "</style>\n",
       "<table border=\"1\" class=\"dataframe\">\n",
       "  <thead>\n",
       "    <tr style=\"text-align: right;\">\n",
       "      <th></th>\n",
       "      <th>model_id</th>\n",
       "      <th>average_price</th>\n",
       "    </tr>\n",
       "  </thead>\n",
       "  <tbody>\n",
       "    <tr>\n",
       "      <th>0</th>\n",
       "      <td>18259</td>\n",
       "      <td>59.0</td>\n",
       "    </tr>\n",
       "    <tr>\n",
       "      <th>1</th>\n",
       "      <td>94885</td>\n",
       "      <td>14.9</td>\n",
       "    </tr>\n",
       "  </tbody>\n",
       "</table>\n",
       "</div>"
      ],
      "text/plain": [
       "   model_id  average_price\n",
       "0     18259           59.0\n",
       "1     94885           14.9"
      ]
     },
     "execution_count": 21,
     "metadata": {},
     "output_type": "execute_result"
    }
   ],
   "source": [
    "price_df.head(2)"
   ]
  },
  {
   "cell_type": "markdown",
   "id": "db30b1b3",
   "metadata": {},
   "source": [
    "##### Size - not leveraging now"
   ]
  },
  {
   "cell_type": "code",
   "execution_count": 3,
   "id": "7083165c",
   "metadata": {},
   "outputs": [],
   "source": [
    "# Fetch SKU information\n",
    "sku = read_multipart_parquet_s3('fcst-clean-prod/datalake', 'd_sku', prefix_filename ='part-')\n",
    "sku['rank'] = sku.groupby(by='mdl_num_model_r3')['rs_technical_date'].rank(method='first',ascending=False)\n",
    "sku['rank'] = sku['rank'].astype(int)"
   ]
  },
  {
   "cell_type": "code",
   "execution_count": 18,
   "id": "9956f678",
   "metadata": {},
   "outputs": [],
   "source": [
    "size_df = sku[(sku.mdl_num_model_r3.isna()==False) & (sku['rank'] < 2)][['mdl_num_model_r3','grid_size']].fillna('NO SIZE').drop_duplicates()\n",
    "size_df.mdl_num_model_r3 = size_df.mdl_num_model_r3.apply(lambda x: int(x))\n",
    "size_df.columns = ['model_id','size']"
   ]
  },
  {
   "cell_type": "code",
   "execution_count": 19,
   "id": "97c644ee",
   "metadata": {},
   "outputs": [],
   "source": [
    "# Data Cleaning\n",
    "## Remove useless information\n",
    "#size_df['size'] = size_df['size'].astype(str)\n",
    "#size_df['size'] = size_df['size'].replace('.',np.nan).replace(' .',np.nan).replace(' ',np.nan).fillna('NO SIZE')"
   ]
  },
  {
   "cell_type": "code",
   "execution_count": 20,
   "id": "60700f0e",
   "metadata": {},
   "outputs": [
    {
     "data": {
      "text/plain": [
       "NO SIZE      558943\n",
       ".             87938\n",
       " .            13208\n",
       "M             11681\n",
       "L             11294\n",
       "              ...  \n",
       "18 LITRES         1\n",
       "16'5              1\n",
       "K                 1\n",
       "21/22             1\n",
       "28 HOLES          1\n",
       "Name: size, Length: 2068, dtype: int64"
      ]
     },
     "execution_count": 20,
     "metadata": {},
     "output_type": "execute_result"
    }
   ],
   "source": [
    "size_df['size'].value_counts()"
   ]
  },
  {
   "cell_type": "markdown",
   "id": "1a948b65",
   "metadata": {},
   "source": [
    "##### DSM Code"
   ]
  },
  {
   "cell_type": "code",
   "execution_count": 14,
   "id": "32dac1a6",
   "metadata": {},
   "outputs": [],
   "source": [
    "dsm_df = sku[(sku.mdl_num_model_r3.isna()==False) & (sku['rank'] < 2)][['mdl_num_model_r3','dsm_code']].drop_duplicates()\n",
    "dsm_df.mdl_num_model_r3 = dsm_df.mdl_num_model_r3.apply(lambda x: int(x))\n",
    "dsm_df.columns = ['model_id','dsm_code']"
   ]
  },
  {
   "cell_type": "code",
   "execution_count": 17,
   "id": "ac2c5bab",
   "metadata": {},
   "outputs": [
    {
     "data": {
      "text/html": [
       "<div>\n",
       "<style scoped>\n",
       "    .dataframe tbody tr th:only-of-type {\n",
       "        vertical-align: middle;\n",
       "    }\n",
       "\n",
       "    .dataframe tbody tr th {\n",
       "        vertical-align: top;\n",
       "    }\n",
       "\n",
       "    .dataframe thead th {\n",
       "        text-align: right;\n",
       "    }\n",
       "</style>\n",
       "<table border=\"1\" class=\"dataframe\">\n",
       "  <thead>\n",
       "    <tr style=\"text-align: right;\">\n",
       "      <th></th>\n",
       "      <th>model_id</th>\n",
       "      <th>dsm_code</th>\n",
       "    </tr>\n",
       "  </thead>\n",
       "  <tbody>\n",
       "    <tr>\n",
       "      <th>0</th>\n",
       "      <td>8663039</td>\n",
       "      <td>None</td>\n",
       "    </tr>\n",
       "    <tr>\n",
       "      <th>1</th>\n",
       "      <td>676051</td>\n",
       "      <td>None</td>\n",
       "    </tr>\n",
       "  </tbody>\n",
       "</table>\n",
       "</div>"
      ],
      "text/plain": [
       "   model_id dsm_code\n",
       "0   8663039     None\n",
       "1    676051     None"
      ]
     },
     "execution_count": 17,
     "metadata": {},
     "output_type": "execute_result"
    }
   ],
   "source": [
    "dsm_df.head(2)"
   ]
  },
  {
   "cell_type": "markdown",
   "id": "8d0fb8a1",
   "metadata": {},
   "source": [
    "##### Sports"
   ]
  },
  {
   "cell_type": "code",
   "execution_count": 21,
   "id": "942c789a",
   "metadata": {},
   "outputs": [
    {
     "data": {
      "text/html": [
       "<div>\n",
       "<style scoped>\n",
       "    .dataframe tbody tr th:only-of-type {\n",
       "        vertical-align: middle;\n",
       "    }\n",
       "\n",
       "    .dataframe tbody tr th {\n",
       "        vertical-align: top;\n",
       "    }\n",
       "\n",
       "    .dataframe thead th {\n",
       "        text-align: right;\n",
       "    }\n",
       "</style>\n",
       "<table border=\"1\" class=\"dataframe\">\n",
       "  <thead>\n",
       "    <tr style=\"text-align: right;\">\n",
       "      <th></th>\n",
       "      <th>family_id</th>\n",
       "      <th>sports</th>\n",
       "    </tr>\n",
       "  </thead>\n",
       "  <tbody>\n",
       "    <tr>\n",
       "      <th>0</th>\n",
       "      <td>11451</td>\n",
       "      <td>BASEBALL AMERICAN FO</td>\n",
       "    </tr>\n",
       "    <tr>\n",
       "      <th>1</th>\n",
       "      <td>147</td>\n",
       "      <td>BASEBALL AMERICAN FO</td>\n",
       "    </tr>\n",
       "  </tbody>\n",
       "</table>\n",
       "</div>"
      ],
      "text/plain": [
       "   family_id                sports\n",
       "0      11451  BASEBALL AMERICAN FO\n",
       "1        147  BASEBALL AMERICAN FO"
      ]
     },
     "execution_count": 21,
     "metadata": {},
     "output_type": "execute_result"
    }
   ],
   "source": [
    "# Get sports\n",
    "sports_mapping = pd.read_csv('../additional_datasource/sports_mapping.csv')\n",
    "sports_mapping = sports_mapping[['family_id','sports']]\n",
    "sports_mapping.head(2)"
   ]
  },
  {
   "cell_type": "markdown",
   "id": "b722f441",
   "metadata": {},
   "source": [
    "##### Color"
   ]
  },
  {
   "cell_type": "code",
   "execution_count": 22,
   "id": "643ac132",
   "metadata": {},
   "outputs": [],
   "source": [
    "d_item_universe_cube = pd.read_csv('result/d_item_universe_cube.csv')\n",
    "color_df = d_item_universe_cube[['model_code','colors']].dropna().drop_duplicates()\n",
    "color_df.columns = ['model_id','colors']"
   ]
  },
  {
   "cell_type": "code",
   "execution_count": 23,
   "id": "502c7df4",
   "metadata": {},
   "outputs": [
    {
     "name": "stdout",
     "output_type": "stream",
     "text": [
      "7185\n"
     ]
    },
    {
     "data": {
      "text/plain": [
       "黑色                 1259\n",
       "蓝色                  883\n",
       "灰色                  602\n",
       "粉红色                 383\n",
       "白色                  339\n",
       "                   ... \n",
       "紫红色|紫色                1\n",
       "橘黄色|红色|绿色             1\n",
       "棕色|灰色|米色|绿色|黄褐色       1\n",
       "红色|绿色|蓝绿色|蓝色          1\n",
       "枣红色|粉红色|红色            1\n",
       "Name: colors, Length: 332, dtype: int64"
      ]
     },
     "execution_count": 23,
     "metadata": {},
     "output_type": "execute_result"
    }
   ],
   "source": [
    "print(color_df.shape[0])\n",
    "color_df.colors.value_counts()"
   ]
  },
  {
   "cell_type": "code",
   "execution_count": 24,
   "id": "1be0036d",
   "metadata": {},
   "outputs": [],
   "source": [
    "# data cleaning\n",
    "colors = color_df['colors'].str.split('|', expand=True)\n",
    "colors = colors.stack().reset_index(level=1, drop=True)\n",
    "colors.name = 'colors'\n",
    "color_res = color_df.drop(['colors'], axis=1).join(colors)"
   ]
  },
  {
   "cell_type": "code",
   "execution_count": 25,
   "id": "d041d0ae",
   "metadata": {},
   "outputs": [],
   "source": [
    "color_map = {\n",
    "    '粉红色':'红色',\n",
    "    '枣红色':'红色',\n",
    "    '紫红色':'红色',\n",
    "    '蓝绿色':'蓝色',\n",
    "    '赭色':'棕色',\n",
    "    '黄褐色':'棕色',\n",
    "    '橘黄色':'黄色',\n",
    "    '米色':'白色'\n",
    "}\n",
    "color_res.colors = color_res.colors.replace(color_map)\n",
    "color_res = color_res.drop_duplicates()"
   ]
  },
  {
   "cell_type": "code",
   "execution_count": 26,
   "id": "75a5bf83",
   "metadata": {},
   "outputs": [],
   "source": [
    "color_base = color_res[['model_id']].drop_duplicates()\n",
    "for i in color_res.colors.unique():\n",
    "    color_base = color_base.merge(color_res[color_res.colors == i],on='model_id',how='left')\n",
    "    color_base = color_base.rename(columns = {'colors':f'is_{i}'})\n",
    "    color_base[f'is_{i}'] = color_base[f'is_{i}'].where(color_base[f'is_{i}'].isna(),1).fillna(0)\n",
    "    \n",
    "color_base['color_cnt'] = color_base[[i for i in color_base.columns if i.startswith('is')]].sum(axis=1)"
   ]
  },
  {
   "cell_type": "code",
   "execution_count": 27,
   "id": "1e629b3f",
   "metadata": {},
   "outputs": [
    {
     "data": {
      "text/html": [
       "<div>\n",
       "<style scoped>\n",
       "    .dataframe tbody tr th:only-of-type {\n",
       "        vertical-align: middle;\n",
       "    }\n",
       "\n",
       "    .dataframe tbody tr th {\n",
       "        vertical-align: top;\n",
       "    }\n",
       "\n",
       "    .dataframe thead th {\n",
       "        text-align: right;\n",
       "    }\n",
       "</style>\n",
       "<table border=\"1\" class=\"dataframe\">\n",
       "  <thead>\n",
       "    <tr style=\"text-align: right;\">\n",
       "      <th></th>\n",
       "      <th>model_id</th>\n",
       "      <th>is_多色</th>\n",
       "      <th>is_黑色</th>\n",
       "      <th>is_灰色</th>\n",
       "      <th>is_红色</th>\n",
       "      <th>is_白色</th>\n",
       "      <th>is_蓝色</th>\n",
       "      <th>is_黄色</th>\n",
       "      <th>is_紫色</th>\n",
       "      <th>is_绿色</th>\n",
       "      <th>is_棕色</th>\n",
       "      <th>is_无色</th>\n",
       "      <th>color_cnt</th>\n",
       "    </tr>\n",
       "  </thead>\n",
       "  <tbody>\n",
       "    <tr>\n",
       "      <th>0</th>\n",
       "      <td>8362957</td>\n",
       "      <td>1</td>\n",
       "      <td>0</td>\n",
       "      <td>0</td>\n",
       "      <td>0</td>\n",
       "      <td>0</td>\n",
       "      <td>0</td>\n",
       "      <td>0</td>\n",
       "      <td>0</td>\n",
       "      <td>0</td>\n",
       "      <td>0</td>\n",
       "      <td>0</td>\n",
       "      <td>1</td>\n",
       "    </tr>\n",
       "    <tr>\n",
       "      <th>1</th>\n",
       "      <td>8510763</td>\n",
       "      <td>0</td>\n",
       "      <td>1</td>\n",
       "      <td>0</td>\n",
       "      <td>0</td>\n",
       "      <td>0</td>\n",
       "      <td>0</td>\n",
       "      <td>0</td>\n",
       "      <td>0</td>\n",
       "      <td>0</td>\n",
       "      <td>0</td>\n",
       "      <td>0</td>\n",
       "      <td>1</td>\n",
       "    </tr>\n",
       "  </tbody>\n",
       "</table>\n",
       "</div>"
      ],
      "text/plain": [
       "   model_id  is_多色  is_黑色  is_灰色  is_红色  is_白色  is_蓝色  is_黄色  is_紫色  is_绿色  \\\n",
       "0   8362957      1      0      0      0      0      0      0      0      0   \n",
       "1   8510763      0      1      0      0      0      0      0      0      0   \n",
       "\n",
       "   is_棕色  is_无色  color_cnt  \n",
       "0      0      0          1  \n",
       "1      0      0          1  "
      ]
     },
     "execution_count": 27,
     "metadata": {},
     "output_type": "execute_result"
    }
   ],
   "source": [
    "color_base.head(2)"
   ]
  },
  {
   "cell_type": "markdown",
   "id": "1c20d689",
   "metadata": {},
   "source": [
    "##### Gender"
   ]
  },
  {
   "cell_type": "code",
   "execution_count": 28,
   "id": "4b58f9f6",
   "metadata": {},
   "outputs": [],
   "source": [
    "genders_df = d_item_universe_cube[['model_code','genders']].dropna().drop_duplicates()\n",
    "genders_df.columns = ['model_id','genders']"
   ]
  },
  {
   "cell_type": "code",
   "execution_count": 29,
   "id": "35653e71",
   "metadata": {},
   "outputs": [
    {
     "data": {
      "text/plain": [
       "中性                   3005\n",
       "男士                   1711\n",
       "女士                   1439\n",
       "女童|男童                1254\n",
       "女士|男士                1094\n",
       "女士|女婴|女童|男士|男婴|男童     383\n",
       "女童                    177\n",
       "男童                    175\n",
       "男婴                     83\n",
       "女婴|男婴                  72\n",
       "小马驹|马                  58\n",
       "女士|女童|男士|男童            43\n",
       "女婴                     16\n",
       "女士|女童                   8\n",
       "男士|男童                   8\n",
       "小马驹                     7\n",
       "女婴|女童|男婴|男童             5\n",
       "马                       3\n",
       "女婴|女童                   3\n",
       "女士|女童|男童                2\n",
       "中性|女士|男士                2\n",
       "成人                      2\n",
       "女婴|女童|男童                1\n",
       "Name: genders, dtype: int64"
      ]
     },
     "execution_count": 29,
     "metadata": {},
     "output_type": "execute_result"
    }
   ],
   "source": [
    "genders_df.genders.value_counts()"
   ]
  },
  {
   "cell_type": "code",
   "execution_count": 30,
   "id": "f68a0495",
   "metadata": {},
   "outputs": [],
   "source": [
    "genders = genders_df['genders'].str.split('|', expand = True)\n",
    "genders = genders.stack().reset_index(level=1,drop=True)\n",
    "genders.name = 'genders'\n",
    "genders_res = genders_df.drop(['genders'], axis=1).join(genders)"
   ]
  },
  {
   "cell_type": "code",
   "execution_count": 31,
   "id": "708979ba",
   "metadata": {},
   "outputs": [
    {
     "data": {
      "text/plain": [
       "男士     3241\n",
       "中性     3007\n",
       "女士     2971\n",
       "女童     1876\n",
       "男童     1871\n",
       "男婴      543\n",
       "女婴      480\n",
       "小马驹      65\n",
       "马        61\n",
       "成人        2\n",
       "Name: genders, dtype: int64"
      ]
     },
     "execution_count": 31,
     "metadata": {},
     "output_type": "execute_result"
    }
   ],
   "source": [
    "genders_res.genders.value_counts()"
   ]
  },
  {
   "cell_type": "code",
   "execution_count": 32,
   "id": "2b71e338",
   "metadata": {},
   "outputs": [],
   "source": [
    "genders_base = genders_res[['model_id']].drop_duplicates()\n",
    "for i in genders_res.genders.unique():\n",
    "    genders_base = genders_base.merge(genders_res[genders_res.genders == i],on='model_id',how='left')\n",
    "    genders_base = genders_base.rename(columns = {'genders':f'is_{i}'})\n",
    "    genders_base[f'is_{i}'] = genders_base[f'is_{i}'].where(genders_base[f'is_{i}'].isna(),1).fillna(0)\n",
    "    \n",
    "genders_base['genders_cnt'] = genders_base[[i for i in genders_base.columns if i.startswith('is')]].sum(axis=1)"
   ]
  },
  {
   "cell_type": "code",
   "execution_count": 33,
   "id": "ff8243f2",
   "metadata": {},
   "outputs": [
    {
     "data": {
      "text/html": [
       "<div>\n",
       "<style scoped>\n",
       "    .dataframe tbody tr th:only-of-type {\n",
       "        vertical-align: middle;\n",
       "    }\n",
       "\n",
       "    .dataframe tbody tr th {\n",
       "        vertical-align: top;\n",
       "    }\n",
       "\n",
       "    .dataframe thead th {\n",
       "        text-align: right;\n",
       "    }\n",
       "</style>\n",
       "<table border=\"1\" class=\"dataframe\">\n",
       "  <thead>\n",
       "    <tr style=\"text-align: right;\">\n",
       "      <th></th>\n",
       "      <th>model_id</th>\n",
       "      <th>is_中性</th>\n",
       "      <th>is_女士</th>\n",
       "      <th>is_男士</th>\n",
       "      <th>is_女婴</th>\n",
       "      <th>is_男婴</th>\n",
       "      <th>is_女童</th>\n",
       "      <th>is_男童</th>\n",
       "      <th>is_小马驹</th>\n",
       "      <th>is_马</th>\n",
       "      <th>is_成人</th>\n",
       "      <th>genders_cnt</th>\n",
       "    </tr>\n",
       "  </thead>\n",
       "  <tbody>\n",
       "    <tr>\n",
       "      <th>0</th>\n",
       "      <td>8383857</td>\n",
       "      <td>1</td>\n",
       "      <td>0</td>\n",
       "      <td>0</td>\n",
       "      <td>0</td>\n",
       "      <td>0</td>\n",
       "      <td>0</td>\n",
       "      <td>0</td>\n",
       "      <td>0</td>\n",
       "      <td>0</td>\n",
       "      <td>0</td>\n",
       "      <td>1</td>\n",
       "    </tr>\n",
       "    <tr>\n",
       "      <th>1</th>\n",
       "      <td>8383858</td>\n",
       "      <td>1</td>\n",
       "      <td>0</td>\n",
       "      <td>0</td>\n",
       "      <td>0</td>\n",
       "      <td>0</td>\n",
       "      <td>0</td>\n",
       "      <td>0</td>\n",
       "      <td>0</td>\n",
       "      <td>0</td>\n",
       "      <td>0</td>\n",
       "      <td>1</td>\n",
       "    </tr>\n",
       "  </tbody>\n",
       "</table>\n",
       "</div>"
      ],
      "text/plain": [
       "   model_id  is_中性  is_女士  is_男士  is_女婴  is_男婴  is_女童  is_男童  is_小马驹  is_马  \\\n",
       "0   8383857      1      0      0      0      0      0      0       0     0   \n",
       "1   8383858      1      0      0      0      0      0      0       0     0   \n",
       "\n",
       "   is_成人  genders_cnt  \n",
       "0      0            1  \n",
       "1      0            1  "
      ]
     },
     "execution_count": 33,
     "metadata": {},
     "output_type": "execute_result"
    }
   ],
   "source": [
    "genders_base.head(2)"
   ]
  },
  {
   "cell_type": "markdown",
   "id": "b13c05ca",
   "metadata": {},
   "source": [
    "#### Part II - Join tables"
   ]
  },
  {
   "cell_type": "code",
   "execution_count": 24,
   "id": "1e7be323",
   "metadata": {},
   "outputs": [],
   "source": [
    "features_df = {\n",
    "    'price':[price_df,'model_id'],\n",
    "    'tree':[tree_df,'model_id'],\n",
    "    'dsm_code':[dsm_df,'model_id']\n",
    "    #'color':[color_base,'model_id'],\n",
    "    #'genders':[genders_base,'model_id'],\n",
    "    #'sports':[sports_mapping,'family_id']\n",
    "}"
   ]
  },
  {
   "cell_type": "code",
   "execution_count": 25,
   "id": "fd982d62",
   "metadata": {},
   "outputs": [
    {
     "name": "stdout",
     "output_type": "stream",
     "text": [
      "There are 2365 model with less than 60 selling weeks\n"
     ]
    }
   ],
   "source": [
    "selling_len = 60\n",
    "\n",
    "new_model_base = df_sales[['model_id']].drop_duplicates().merge(selling_weeks,on='model_id',how='left')\n",
    "new_model_base = new_model_base[new_model_base.start_selling_week.apply(lambda x:get_week_id(x,selling_len)) > 202138]\n",
    "\n",
    "print(f'There are {new_model_base.shape[0]} model with less than {selling_len} selling weeks')"
   ]
  },
  {
   "cell_type": "code",
   "execution_count": 26,
   "id": "287633a0",
   "metadata": {},
   "outputs": [
    {
     "name": "stdout",
     "output_type": "stream",
     "text": [
      "There are 8326 model with at least 120 selling weeks\n"
     ]
    }
   ],
   "source": [
    "thres = 120\n",
    "\n",
    "ref_model_base = df_weekly_sales[['model_id']].drop_duplicates().merge(selling_weeks,on='model_id',how='left')\n",
    "ref_model_base = ref_model_base[(ref_model_base.length >= thres) & (ref_model_base.last_selling_week == 202137)]\n",
    "\n",
    "print(f'There are {ref_model_base.shape[0]} model with at least {thres} selling weeks')"
   ]
  },
  {
   "cell_type": "code",
   "execution_count": 37,
   "id": "77db6f51",
   "metadata": {},
   "outputs": [
    {
     "name": "stdout",
     "output_type": "stream",
     "text": [
      "the number of pairs would be 19690990.\n"
     ]
    }
   ],
   "source": [
    "print(f'the number of pairs would be {2365*8326}.')"
   ]
  },
  {
   "cell_type": "code",
   "execution_count": 27,
   "id": "3044020e",
   "metadata": {},
   "outputs": [],
   "source": [
    "def create_feature_pool(base,features_df):\n",
    "    for df in features_df.keys():\n",
    "        base = base.merge(features_df[df][0],on=features_df[df][1],how='left')\n",
    "    return base"
   ]
  },
  {
   "cell_type": "code",
   "execution_count": 28,
   "id": "1d24ac6a",
   "metadata": {},
   "outputs": [],
   "source": [
    "new_model_pool = create_feature_pool(new_model_base,features_df)\n",
    "ref_model_pool = create_feature_pool(ref_model_base,features_df)"
   ]
  },
  {
   "cell_type": "markdown",
   "id": "747908be",
   "metadata": {},
   "source": [
    "#### Write to S3 buckets"
   ]
  },
  {
   "cell_type": "code",
   "execution_count": 33,
   "id": "2e43607a",
   "metadata": {},
   "outputs": [],
   "source": [
    "def write_df_to_parquet_on_s3(df, bucket, filename, index=False, verbose=False, region_name='eu-west-1'):\n",
    "    \"\"\"\n",
    "    Write an in-memory pandas DataFrame to a parquet file on a S3 bucket\n",
    "    :param dataframe: (pandas DataFrame) the data to save\n",
    "    :param bucket: (string) S3 bucket name\n",
    "    :param filename: (string) full path to the parquet file within the given bucket\n",
    "    :param index: (bool) index value of the underlying 'to_parquet' function called\n",
    "    \"\"\"\n",
    "    if verbose:\n",
    "        print(\"Writing {} records to {}\".format(len(df), to_uri(bucket, filename)))\n",
    "\n",
    "    buffer = io.BytesIO()\n",
    "    df.to_parquet(buffer, index=index)\n",
    "    boto3.resource('s3', region_name=region_name).Object(bucket, filename).put(Body=buffer.getvalue())"
   ]
  },
  {
   "cell_type": "code",
   "execution_count": 34,
   "id": "08e8c3d5",
   "metadata": {},
   "outputs": [],
   "source": [
    "# new_model_pool\n",
    "write_df_to_parquet_on_s3(new_model_pool, 'fcst-workspace', \n",
    "                          'forecast-cn/fcst-refined-demand-forecast-dev/test_data/cold_start_dev/new_model_pool_202138.parquet')\n",
    "\n",
    "# ref_model_pool\n",
    "write_df_to_parquet_on_s3(ref_model_pool, 'fcst-workspace', \n",
    "                          'forecast-cn/fcst-refined-demand-forecast-dev/test_data/cold_start_dev/ref_model_pool_202138.parquet')"
   ]
  },
  {
   "cell_type": "markdown",
   "id": "3f357440",
   "metadata": {},
   "source": [
    "#### EDA"
   ]
  },
  {
   "cell_type": "code",
   "execution_count": 35,
   "id": "4d00f08d",
   "metadata": {},
   "outputs": [
    {
     "data": {
      "text/plain": [
       "model_id              0\n",
       "start_selling_week    0\n",
       "last_selling_week     0\n",
       "length                0\n",
       "average_price         0\n",
       "family_id             0\n",
       "sub_department_id     0\n",
       "department_id         0\n",
       "univers_id            0\n",
       "product_nature_id     0\n",
       "brand_label           0\n",
       "brand_type            0\n",
       "dsm_code              9\n",
       "dtype: int64"
      ]
     },
     "execution_count": 35,
     "metadata": {},
     "output_type": "execute_result"
    }
   ],
   "source": [
    "new_model_pool.isna().sum()"
   ]
  },
  {
   "cell_type": "code",
   "execution_count": 36,
   "id": "e587d16e",
   "metadata": {},
   "outputs": [
    {
     "data": {
      "text/plain": [
       "model_id               0\n",
       "start_selling_week     0\n",
       "last_selling_week      0\n",
       "length                 0\n",
       "average_price          0\n",
       "family_id              0\n",
       "sub_department_id      0\n",
       "department_id          0\n",
       "univers_id             0\n",
       "product_nature_id      0\n",
       "brand_label            7\n",
       "brand_type             0\n",
       "dsm_code              26\n",
       "dtype: int64"
      ]
     },
     "execution_count": 36,
     "metadata": {},
     "output_type": "execute_result"
    }
   ],
   "source": [
    "ref_model_pool.isna().sum()"
   ]
  },
  {
   "cell_type": "code",
   "execution_count": 5,
   "id": "80035a11",
   "metadata": {},
   "outputs": [],
   "source": [
    "df_tree = read_multipart_parquet_s3('fcst-workspace/forecast-cn/fcst-refined-demand-forecast-dev',\n",
    "                                    'global/model_week_tree', prefix_filename ='part-')\n",
    "df_tree = df_tree[df_tree['week_id'] == 202138]"
   ]
  },
  {
   "cell_type": "code",
   "execution_count": 7,
   "id": "1849da38",
   "metadata": {},
   "outputs": [
    {
     "data": {
      "text/html": [
       "<div>\n",
       "<style scoped>\n",
       "    .dataframe tbody tr th:only-of-type {\n",
       "        vertical-align: middle;\n",
       "    }\n",
       "\n",
       "    .dataframe tbody tr th {\n",
       "        vertical-align: top;\n",
       "    }\n",
       "\n",
       "    .dataframe thead th {\n",
       "        text-align: right;\n",
       "    }\n",
       "</style>\n",
       "<table border=\"1\" class=\"dataframe\">\n",
       "  <thead>\n",
       "    <tr style=\"text-align: right;\">\n",
       "      <th></th>\n",
       "      <th>model_id</th>\n",
       "      <th>week_id</th>\n",
       "      <th>family_id</th>\n",
       "      <th>sub_department_id</th>\n",
       "      <th>department_id</th>\n",
       "      <th>univers_id</th>\n",
       "      <th>product_nature_id</th>\n",
       "      <th>model_label</th>\n",
       "      <th>family_label</th>\n",
       "      <th>sub_department_label</th>\n",
       "      <th>department_label</th>\n",
       "      <th>univers_label</th>\n",
       "      <th>product_nature_label</th>\n",
       "      <th>brand_label</th>\n",
       "      <th>brand_type</th>\n",
       "    </tr>\n",
       "  </thead>\n",
       "  <tbody>\n",
       "    <tr>\n",
       "      <th>800007</th>\n",
       "      <td>8313985</td>\n",
       "      <td>202138</td>\n",
       "      <td>2042</td>\n",
       "      <td>2861</td>\n",
       "      <td>471</td>\n",
       "      <td>7</td>\n",
       "      <td>25032</td>\n",
       "      <td>PARKA TAIGA 100 BLACK</td>\n",
       "      <td>WARM CLOTHS</td>\n",
       "      <td>CROSS HUNT CLOT</td>\n",
       "      <td>HUNTING AND SHO</td>\n",
       "      <td>HUNTING AND SHO</td>\n",
       "      <td>JACKET</td>\n",
       "      <td>SOLOGNAC</td>\n",
       "      <td>MP</td>\n",
       "    </tr>\n",
       "  </tbody>\n",
       "</table>\n",
       "</div>"
      ],
      "text/plain": [
       "        model_id  week_id  family_id  sub_department_id  department_id  \\\n",
       "800007   8313985   202138       2042               2861            471   \n",
       "\n",
       "        univers_id product_nature_id            model_label family_label  \\\n",
       "800007           7             25032  PARKA TAIGA 100 BLACK  WARM CLOTHS   \n",
       "\n",
       "       sub_department_label department_label    univers_label  \\\n",
       "800007      CROSS HUNT CLOT  HUNTING AND SHO  HUNTING AND SHO   \n",
       "\n",
       "       product_nature_label brand_label brand_type  \n",
       "800007               JACKET    SOLOGNAC         MP  "
      ]
     },
     "execution_count": 7,
     "metadata": {},
     "output_type": "execute_result"
    }
   ],
   "source": [
    "df_tree[df_tree.model_id == 8313985]"
   ]
  },
  {
   "cell_type": "code",
   "execution_count": null,
   "id": "3935acb6",
   "metadata": {},
   "outputs": [],
   "source": []
  }
 ],
 "metadata": {
  "kernelspec": {
   "display_name": "conda_python3",
   "language": "python",
   "name": "conda_python3"
  },
  "language_info": {
   "codemirror_mode": {
    "name": "ipython",
    "version": 3
   },
   "file_extension": ".py",
   "mimetype": "text/x-python",
   "name": "python",
   "nbconvert_exporter": "python",
   "pygments_lexer": "ipython3",
   "version": "3.6.13"
  }
 },
 "nbformat": 4,
 "nbformat_minor": 5
}

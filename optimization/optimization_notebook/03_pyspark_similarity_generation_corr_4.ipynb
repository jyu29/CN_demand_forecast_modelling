{
 "cells": [
  {
   "cell_type": "markdown",
   "id": "695ed0ee",
   "metadata": {},
   "source": [
    "#### Setup"
   ]
  },
  {
   "cell_type": "code",
   "execution_count": 1,
   "id": "3be76df3",
   "metadata": {},
   "outputs": [
    {
     "name": "stdout",
     "output_type": "stream",
     "text": [
      "Starting Spark application\n"
     ]
    },
    {
     "data": {
      "text/html": [
       "<table>\n",
       "<tr><th>ID</th><th>YARN Application ID</th><th>Kind</th><th>State</th><th>Spark UI</th><th>Driver log</th><th>User</th><th>Current session?</th></tr><tr><td>0</td><td>application_1641875220807_0003</td><td>pyspark</td><td>idle</td><td><a target=\"_blank\" href=\"http://ip-10-226-39-168.ie.aws.dktinfra.cloud:20888/proxy/application_1641875220807_0003/\">Link</a></td><td><a target=\"_blank\" href=\"http://ip-10-226-39-165.ie.aws.dktinfra.cloud:8042/node/containerlogs/container_1641875220807_0003_01_000001/livy\">Link</a></td><td>None</td><td>✔</td></tr></table>"
      ],
      "text/plain": [
       "<IPython.core.display.HTML object>"
      ]
     },
     "metadata": {},
     "output_type": "display_data"
    },
    {
     "data": {
      "application/vnd.jupyter.widget-view+json": {
       "model_id": "b2ee9486e0b94f769869d0b0112f0a06",
       "version_major": 2,
       "version_minor": 0
      },
      "text/plain": [
       "FloatProgress(value=0.0, bar_style='info', description='Progress:', layout=Layout(height='25px', width='50%'),…"
      ]
     },
     "metadata": {},
     "output_type": "display_data"
    },
    {
     "name": "stdout",
     "output_type": "stream",
     "text": [
      "SparkSession available as 'spark'.\n"
     ]
    },
    {
     "data": {
      "application/vnd.jupyter.widget-view+json": {
       "model_id": "9bd18c6cfea24e9ab5718ffb73227e28",
       "version_major": 2,
       "version_minor": 0
      },
      "text/plain": [
       "FloatProgress(value=0.0, bar_style='info', description='Progress:', layout=Layout(height='25px', width='50%'),…"
      ]
     },
     "metadata": {},
     "output_type": "display_data"
    }
   ],
   "source": [
    "import pyspark"
   ]
  },
  {
   "cell_type": "code",
   "execution_count": 2,
   "id": "de2f4864",
   "metadata": {},
   "outputs": [
    {
     "name": "stdout",
     "output_type": "stream",
     "text": [
      "Starting Spark application\n"
     ]
    },
    {
     "data": {
      "text/html": [
       "<table>\n",
       "<tr><th>ID</th><th>YARN Application ID</th><th>Kind</th><th>State</th><th>Spark UI</th><th>Driver log</th><th>User</th><th>Current session?</th></tr><tr><td>1</td><td>application_1641875220807_0004</td><td>pyspark</td><td>idle</td><td><a target=\"_blank\" href=\"http://ip-10-226-39-168.ie.aws.dktinfra.cloud:20888/proxy/application_1641875220807_0004/\">Link</a></td><td><a target=\"_blank\" href=\"http://ip-10-226-39-165.ie.aws.dktinfra.cloud:8042/node/containerlogs/container_1641875220807_0004_01_000001/livy\">Link</a></td><td>None</td><td>✔</td></tr></table>"
      ],
      "text/plain": [
       "<IPython.core.display.HTML object>"
      ]
     },
     "metadata": {},
     "output_type": "display_data"
    },
    {
     "data": {
      "application/vnd.jupyter.widget-view+json": {
       "model_id": "62c7dc85ef5e4b97a3a2a8277e06c66b",
       "version_major": 2,
       "version_minor": 0
      },
      "text/plain": [
       "FloatProgress(value=0.0, bar_style='info', description='Progress:', layout=Layout(height='25px', width='50%'),…"
      ]
     },
     "metadata": {},
     "output_type": "display_data"
    },
    {
     "name": "stdout",
     "output_type": "stream",
     "text": [
      "SparkSession available as 'spark'.\n"
     ]
    },
    {
     "data": {
      "text/html": [
       "Current session configs: <tt>{'conf': {'spark.serializer': 'org.apache.spark.serializer.KryoSerializer', 'spark.sql.legacy.parquet.int96RebaseModeInRead': 'CORRECTED', 'spark.sql.legacy.parquet.datetimeRebaseModeInWrite': 'CORRECTED', 'spark.sql.legacy.parquet.datetimeRebaseModeInRead': 'CORRECTED', 'spark.sql.legacy.timeParserPolicy': 'LEGACY'}, 'kind': 'pyspark'}</tt><br>"
      ],
      "text/plain": [
       "<IPython.core.display.HTML object>"
      ]
     },
     "metadata": {},
     "output_type": "display_data"
    },
    {
     "data": {
      "text/html": [
       "<table>\n",
       "<tr><th>ID</th><th>YARN Application ID</th><th>Kind</th><th>State</th><th>Spark UI</th><th>Driver log</th><th>User</th><th>Current session?</th></tr><tr><td>1</td><td>application_1641875220807_0004</td><td>pyspark</td><td>idle</td><td><a target=\"_blank\" href=\"http://ip-10-226-39-168.ie.aws.dktinfra.cloud:20888/proxy/application_1641875220807_0004/\">Link</a></td><td><a target=\"_blank\" href=\"http://ip-10-226-39-165.ie.aws.dktinfra.cloud:8042/node/containerlogs/container_1641875220807_0004_01_000001/livy\">Link</a></td><td>None</td><td>✔</td></tr></table>"
      ],
      "text/plain": [
       "<IPython.core.display.HTML object>"
      ]
     },
     "metadata": {},
     "output_type": "display_data"
    }
   ],
   "source": [
    "%%configure -f\n",
    "{\n",
    "\"conf\" :\n",
    "{\n",
    "\"spark.serializer\" : \"org.apache.spark.serializer.KryoSerializer\",\n",
    "\"spark.sql.legacy.parquet.int96RebaseModeInRead\" : \"CORRECTED\",\n",
    "\"spark.sql.legacy.parquet.datetimeRebaseModeInWrite\" : \"CORRECTED\",\n",
    "\"spark.sql.legacy.parquet.datetimeRebaseModeInRead\" : \"CORRECTED\",\n",
    "\"spark.sql.legacy.timeParserPolicy\" : \"LEGACY\"\n",
    "}\n",
    "}"
   ]
  },
  {
   "cell_type": "code",
   "execution_count": 3,
   "id": "67cd8192",
   "metadata": {},
   "outputs": [
    {
     "data": {
      "application/vnd.jupyter.widget-view+json": {
       "model_id": "0fc045894a0f45adb447760968a5100e",
       "version_major": 2,
       "version_minor": 0
      },
      "text/plain": [
       "FloatProgress(value=0.0, bar_style='info', description='Progress:', layout=Layout(height='25px', width='50%'),…"
      ]
     },
     "metadata": {},
     "output_type": "display_data"
    }
   ],
   "source": [
    "import time\n",
    "\n",
    "from datetime import datetime, timedelta\n",
    "from functools import reduce\n",
    "\n",
    "from pyspark import SparkConf, StorageLevel\n",
    "from pyspark.sql import SparkSession, HiveContext, Window\n",
    "import pyspark.sql.functions as F"
   ]
  },
  {
   "cell_type": "markdown",
   "id": "c75cc13b",
   "metadata": {},
   "source": [
    "#### Utils"
   ]
  },
  {
   "cell_type": "code",
   "execution_count": 4,
   "id": "964f0a60",
   "metadata": {},
   "outputs": [
    {
     "data": {
      "application/vnd.jupyter.widget-view+json": {
       "model_id": "e0fb9c00853540e2b5d7078e5384b78f",
       "version_major": 2,
       "version_minor": 0
      },
      "text/plain": [
       "FloatProgress(value=0.0, bar_style='info', description='Progress:', layout=Layout(height='25px', width='50%'),…"
      ]
     },
     "metadata": {},
     "output_type": "display_data"
    }
   ],
   "source": [
    "def to_uri(bucket, key):\n",
    "    \"\"\"\n",
    "    Transforms bucket & key strings into S3 URI\n",
    "\n",
    "    Args:\n",
    "        bucket (string): name of the S3 bucket\n",
    "        key (string): S3 key\n",
    "\n",
    "    Returns:\n",
    "        object (string): URI format\n",
    "    \"\"\"\n",
    "    return 's3://{}/{}'.format(bucket, key)\n",
    "\n",
    "\n",
    "def spark_read_parquet_s3(spark, bucket, path):\n",
    "    \"\"\"\n",
    "    Read parquet file(s) hosted on a S3 bucket, load and return as spark dataframe\n",
    "\n",
    "    Args:\n",
    "        spark (SparkSession): spark app\n",
    "        bucket (string): S3 bucket\n",
    "        path (string): full path to the parquet directory or file within the S3 bucket\n",
    "\n",
    "    Returns:\n",
    "        (SparkDataframe): data loaded\n",
    "    \"\"\"\n",
    "    return spark.read.parquet(to_uri(bucket, path))\n",
    "\n",
    "\n",
    "def spark_write_parquet_s3(df, bucket, dir_path, repartition=10, mode='overwrite'):\n",
    "    \"\"\"\n",
    "    Write a in-memory SparkDataframe to parquet files on a S3 bucket\n",
    "\n",
    "    Args:\n",
    "        df (SparkDataframe): the data to save\n",
    "        bucket (string): S3 bucket\n",
    "        dir_path (string): full path to the parquet directory within the S3 bucket\n",
    "        repartition (int): number of partitions files to write\n",
    "        mode (string): writing mode\n",
    "    \"\"\"\n",
    "    df.repartition(repartition).write.parquet(to_uri(bucket, dir_path), mode=mode)\n",
    "    \n",
    "\n",
    "def spark_write_parquet_s3_coal(df, bucket, dir_path, mode='overwrite'):\n",
    "    df.coalesce(10).write.parquet(to_uri(bucket, dir_path), mode=mode)\n",
    "    \n",
    "    \n",
    "def get_timer(starting_time):\n",
    "    \"\"\"\n",
    "    Displays the time that has elapsed between the input timer and the current time.\n",
    "\n",
    "    Args:\n",
    "        starting_time (timecode): timecode from Python 'time' package\n",
    "    \"\"\"\n",
    "    end_time = time.time()\n",
    "    minutes, seconds = divmod(int(end_time - starting_time), 60)\n",
    "    print(\"{} minute(s) {} second(s)\".format(int(minutes), seconds))\n",
    "\n",
    "\n",
    "def union_all(l_df):\n",
    "    \"\"\"\n",
    "    Apply union function on all spark dataframes in l_df\n",
    "\n",
    "    \"\"\"\n",
    "    return reduce(lambda df1, df2: df1.union(df2.select(df1.columns)), l_df)\n",
    "\n",
    "\n",
    "def date_to_week_id(date):\n",
    "    \"\"\"\n",
    "    Turn a date to Decathlon week id\n",
    "    Args:\n",
    "        date (str, pd.Timestamp or pd.Series): the date or pandas column of dates\n",
    "    Returns:\n",
    "        (int): the week id\n",
    "\n",
    "    \"\"\"\n",
    "    day_of_week = date.strftime(\"%w\")\n",
    "    date = date if (day_of_week != '0') else date + timedelta(days=1)\n",
    "    return int(str(date.isocalendar()[0]) + str(date.isocalendar()[1]).zfill(2))\n",
    "\n",
    "\n",
    "def get_current_week_id():\n",
    "    \"\"\"\n",
    "    Return current week id (international standard ISO 8601 - first day of week\n",
    "    is Sunday, with format 'YYYYWW', as integer\n",
    "\n",
    "    \"\"\"\n",
    "    return date_to_week_id(datetime.today())\n",
    "\n",
    "\n",
    "def get_shift_n_week(week_id, nb_weeks):\n",
    "    \"\"\"\n",
    "    Return input week_id shifted by nb_weeks (could be negative)\n",
    "\n",
    "    \"\"\"\n",
    "    shifted_date = datetime.strptime(str(week_id) + '1', '%G%V%u') + timedelta(weeks=nb_weeks)\n",
    "    ret_week_id = date_to_week_id(shifted_date)\n",
    "    return ret_week_id"
   ]
  },
  {
   "cell_type": "markdown",
   "id": "f1f32547",
   "metadata": {},
   "source": [
    "#### Fetch data & Processing"
   ]
  },
  {
   "cell_type": "code",
   "execution_count": 5,
   "id": "85d6b86b",
   "metadata": {},
   "outputs": [
    {
     "data": {
      "application/vnd.jupyter.widget-view+json": {
       "model_id": "0fff0d3202c24618a51a8764adc24919",
       "version_major": 2,
       "version_minor": 0
      },
      "text/plain": [
       "FloatProgress(value=0.0, bar_style='info', description='Progress:', layout=Layout(height='25px', width='50%'),…"
      ]
     },
     "metadata": {},
     "output_type": "display_data"
    }
   ],
   "source": [
    "bucket_refined = 'fcst-workspace/forecast-cn/fcst-refined-demand-forecast-dev'"
   ]
  },
  {
   "cell_type": "code",
   "execution_count": 6,
   "id": "6fa27553",
   "metadata": {},
   "outputs": [
    {
     "data": {
      "application/vnd.jupyter.widget-view+json": {
       "model_id": "b0da338f63f149ccb6a5161a96251aef",
       "version_major": 2,
       "version_minor": 0
      },
      "text/plain": [
       "FloatProgress(value=0.0, bar_style='info', description='Progress:', layout=Layout(height='25px', width='50%'),…"
      ]
     },
     "metadata": {},
     "output_type": "display_data"
    },
    {
     "name": "stdout",
     "output_type": "stream",
     "text": [
      "12741"
     ]
    }
   ],
   "source": [
    "# fetch sales to get the list of new model\n",
    "df_sales = spark_read_parquet_s3(spark,bucket_refined,'global/model_week_sales')\n",
    "selling_weeks = df_sales.groupby(['model_id']).agg(F.min('week_id').alias('start_selling_week'),\n",
    "                                                   F.max('week_id').alias('last_selling_week'),\n",
    "                                                   F.count('week_id').alias('selling_weeks')\n",
    "                                                  )\n",
    "selling_weeks_new = selling_weeks.filter('start_selling_week >= 201838').filter('last_selling_week >= 202137')\n",
    "selling_weeks_new.count()"
   ]
  },
  {
   "cell_type": "code",
   "execution_count": 9,
   "id": "a5c3463a",
   "metadata": {},
   "outputs": [
    {
     "data": {
      "application/vnd.jupyter.widget-view+json": {
       "model_id": "708896f01521438ba1d050c9351259ba",
       "version_major": 2,
       "version_minor": 0
      },
      "text/plain": [
       "FloatProgress(value=0.0, bar_style='info', description='Progress:', layout=Layout(height='25px', width='50%'),…"
      ]
     },
     "metadata": {},
     "output_type": "display_data"
    }
   ],
   "source": [
    "selling_weeks_ref = selling_weeks.filter('start_selling_week < 201838').filter('last_selling_week >= 202137')"
   ]
  },
  {
   "cell_type": "code",
   "execution_count": 10,
   "id": "d41d659e",
   "metadata": {},
   "outputs": [
    {
     "data": {
      "application/vnd.jupyter.widget-view+json": {
       "model_id": "e412e4b68805452ba863dee01ff31a41",
       "version_major": 2,
       "version_minor": 0
      },
      "text/plain": [
       "FloatProgress(value=0.0, bar_style='info', description='Progress:', layout=Layout(height='25px', width='50%'),…"
      ]
     },
     "metadata": {},
     "output_type": "display_data"
    },
    {
     "name": "stdout",
     "output_type": "stream",
     "text": [
      "6397"
     ]
    }
   ],
   "source": [
    "selling_weeks_ref.count()"
   ]
  },
  {
   "cell_type": "code",
   "execution_count": 11,
   "id": "91b4f6b9",
   "metadata": {},
   "outputs": [
    {
     "data": {
      "application/vnd.jupyter.widget-view+json": {
       "model_id": "523209e3d16c4a3c86adc4bbd99675d1",
       "version_major": 2,
       "version_minor": 0
      },
      "text/plain": [
       "FloatProgress(value=0.0, bar_style='info', description='Progress:', layout=Layout(height='25px', width='50%'),…"
      ]
     },
     "metadata": {},
     "output_type": "display_data"
    },
    {
     "name": "stdout",
     "output_type": "stream",
     "text": [
      "+---------+-------+--------------+\n",
      "|ref_model|week_id|sales_quantity|\n",
      "+---------+-------+--------------+\n",
      "|  1041951| 201844|             1|\n",
      "|  8064899| 202020|            10|\n",
      "+---------+-------+--------------+\n",
      "only showing top 2 rows"
     ]
    }
   ],
   "source": [
    "df_sales_model = df_sales.groupby(['model_id', 'week_id']).agg(F.sum('sales_quantity').alias('sales_quantity'))\n",
    "df_sales_ref = df_sales_model.withColumnRenamed('model_id', 'ref_model')\n",
    "df_sales_ref.show(2)"
   ]
  },
  {
   "cell_type": "code",
   "execution_count": 12,
   "id": "a3cadd5f",
   "metadata": {},
   "outputs": [
    {
     "data": {
      "application/vnd.jupyter.widget-view+json": {
       "model_id": "9c7295ab38554e28b8f0428649c87d18",
       "version_major": 2,
       "version_minor": 0
      },
      "text/plain": [
       "FloatProgress(value=0.0, bar_style='info', description='Progress:', layout=Layout(height='25px', width='50%'),…"
      ]
     },
     "metadata": {},
     "output_type": "display_data"
    },
    {
     "name": "stdout",
     "output_type": "stream",
     "text": [
      "+--------+---------+-----------------+\n",
      "|model_id|family_id|product_nature_id|\n",
      "+--------+---------+-----------------+\n",
      "| 8356685|    34003|            25014|\n",
      "| 8501382|     3180|            25216|\n",
      "+--------+---------+-----------------+\n",
      "only showing top 2 rows"
     ]
    }
   ],
   "source": [
    "# fetch sports tree\n",
    "df_tree = spark_read_parquet_s3(spark,bucket_refined,'global/model_week_tree')\n",
    "df_tree = df_tree.filter('week_id == 202138').select('model_id','family_id','product_nature_id')\n",
    "df_tree.show(2)"
   ]
  },
  {
   "cell_type": "code",
   "execution_count": 13,
   "id": "102d1088",
   "metadata": {},
   "outputs": [
    {
     "data": {
      "application/vnd.jupyter.widget-view+json": {
       "model_id": "88be4c7a36684086829e511cd3940d2f",
       "version_major": 2,
       "version_minor": 0
      },
      "text/plain": [
       "FloatProgress(value=0.0, bar_style='info', description='Progress:', layout=Layout(height='25px', width='50%'),…"
      ]
     },
     "metadata": {},
     "output_type": "display_data"
    },
    {
     "name": "stdout",
     "output_type": "stream",
     "text": [
      "+--------+------------------+\n",
      "|model_id|     average_price|\n",
      "+--------+------------------+\n",
      "|  964396| 635.5735808955442|\n",
      "| 8098218|2.6470588235294117|\n",
      "+--------+------------------+\n",
      "only showing top 2 rows"
     ]
    }
   ],
   "source": [
    "# fetch price\n",
    "df_price = spark_read_parquet_s3(spark,bucket_refined,'global/model_week_price')\n",
    "df_price = df_price.groupby(['model_id']).agg(F.mean('average_price').alias('average_price'))\n",
    "df_price.show(2)"
   ]
  },
  {
   "cell_type": "code",
   "execution_count": 14,
   "id": "3583bab5",
   "metadata": {},
   "outputs": [
    {
     "data": {
      "application/vnd.jupyter.widget-view+json": {
       "model_id": "30c61f39a8a643e3b7c0f8c9b04971ee",
       "version_major": 2,
       "version_minor": 0
      },
      "text/plain": [
       "FloatProgress(value=0.0, bar_style='info', description='Progress:', layout=Layout(height='25px', width='50%'),…"
      ]
     },
     "metadata": {},
     "output_type": "display_data"
    },
    {
     "name": "stdout",
     "output_type": "stream",
     "text": [
      "+--------+--------+\n",
      "|model_id|dsm_code|\n",
      "+--------+--------+\n",
      "|  611790| X611790|\n",
      "|  621230| X621230|\n",
      "+--------+--------+\n",
      "only showing top 2 rows"
     ]
    }
   ],
   "source": [
    "# fetch d_sku\n",
    "d_sku = spark.read.parquet('s3://fcst-clean-prod/datalake/d_sku/')\n",
    "d_sku = d_sku.withColumn('rn',F.row_number().over(Window.partitionBy('mdl_num_model_r3').orderBy(F.desc('rs_technical_date'))))\\\n",
    ".filter('rn = 1').drop('rn')\\\n",
    ".selectExpr('mdl_num_model_r3 as model_id','dsm_code').filter('dsm_code is not null')\n",
    "d_sku.show(2)"
   ]
  },
  {
   "cell_type": "code",
   "execution_count": 15,
   "id": "bef92ec2",
   "metadata": {},
   "outputs": [
    {
     "data": {
      "application/vnd.jupyter.widget-view+json": {
       "model_id": "a9247a289a9e479fbb02bbfdf304dc5f",
       "version_major": 2,
       "version_minor": 0
      },
      "text/plain": [
       "FloatProgress(value=0.0, bar_style='info', description='Progress:', layout=Layout(height='25px', width='50%'),…"
      ]
     },
     "metadata": {},
     "output_type": "display_data"
    },
    {
     "name": "stdout",
     "output_type": "stream",
     "text": [
      "+--------+---------+-----------------+--------+------------------+\n",
      "|model_id|family_id|product_nature_id|dsm_code|     average_price|\n",
      "+--------+---------+-----------------+--------+------------------+\n",
      "|  960734|     8607|            25032|  307300|179.81955445583887|\n",
      "|  962836|    11956|            25015|  121764| 62.89103098512449|\n",
      "+--------+---------+-----------------+--------+------------------+\n",
      "only showing top 2 rows"
     ]
    }
   ],
   "source": [
    "new_model_pool = selling_weeks_new.selectExpr('model_id').join(df_tree,on='model_id',how='left')\\\n",
    ".join(d_sku,on='model_id',how='left')\\\n",
    ".join(df_price,on='model_id',how='left')\n",
    "new_model_pool.show(2)"
   ]
  },
  {
   "cell_type": "code",
   "execution_count": 16,
   "id": "59e6cacd",
   "metadata": {},
   "outputs": [
    {
     "data": {
      "application/vnd.jupyter.widget-view+json": {
       "model_id": "bb28ef2fa5e343c3b5b512c0143f58f7",
       "version_major": 2,
       "version_minor": 0
      },
      "text/plain": [
       "FloatProgress(value=0.0, bar_style='info', description='Progress:', layout=Layout(height='25px', width='50%'),…"
      ]
     },
     "metadata": {},
     "output_type": "display_data"
    },
    {
     "name": "stdout",
     "output_type": "stream",
     "text": [
      "+---------+-------------+------------+---------------------+-----------------+\n",
      "|ref_model|family_id_ref|dsm_code_ref|product_nature_id_ref|average_price_ref|\n",
      "+---------+-------------+------------+---------------------+-----------------+\n",
      "|  8369958|        11504|      146051|                25111| 7.96458341362338|\n",
      "|  8371831|         2502|      144349|                10855| 76.2989024230731|\n",
      "+---------+-------------+------------+---------------------+-----------------+\n",
      "only showing top 2 rows"
     ]
    }
   ],
   "source": [
    "# ref_model_pool\n",
    "ref_model_pool = spark_read_parquet_s3(spark,bucket_refined,'test_data/cold_start_dev/ref_model_pool_202138.parquet')\n",
    "ref_model_pool = selling_weeks_ref.selectExpr('model_id').join(ref_model_pool, on = 'model_id', how = 'inner')\n",
    "ref_model_pool = ref_model_pool.selectExpr('model_id as ref_model','family_id as family_id_ref','dsm_code as dsm_code_ref',\n",
    "                                           'product_nature_id as product_nature_id_ref','average_price as average_price_ref')\n",
    "ref_model_pool.show(2)"
   ]
  },
  {
   "cell_type": "code",
   "execution_count": 17,
   "id": "1c01f727",
   "metadata": {},
   "outputs": [
    {
     "data": {
      "application/vnd.jupyter.widget-view+json": {
       "model_id": "4162eacff3e34936afce7ba0ccefeecc",
       "version_major": 2,
       "version_minor": 0
      },
      "text/plain": [
       "FloatProgress(value=0.0, bar_style='info', description='Progress:', layout=Layout(height='25px', width='50%'),…"
      ]
     },
     "metadata": {},
     "output_type": "display_data"
    },
    {
     "name": "stdout",
     "output_type": "stream",
     "text": [
      "+--------+---------+-----------------+--------+------------------+---------+-------------+------------+---------------------+-----------------+\n",
      "|model_id|family_id|product_nature_id|dsm_code|     average_price|ref_model|family_id_ref|dsm_code_ref|product_nature_id_ref|average_price_ref|\n",
      "+--------+---------+-----------------+--------+------------------+---------+-------------+------------+---------------------+-----------------+\n",
      "|  960734|     8607|            25032|  307300|179.81955445583893|  8369958|        11504|      146051|                25111| 7.96458341362338|\n",
      "|  960734|     8607|            25032|  307300|179.81955445583893|  8371831|         2502|      144349|                10855| 76.2989024230731|\n",
      "+--------+---------+-----------------+--------+------------------+---------+-------------+------------+---------------------+-----------------+\n",
      "only showing top 2 rows\n",
      "\n",
      "43523256"
     ]
    }
   ],
   "source": [
    "# create ref_model_base with random sampling\n",
    "ref_model_base = new_model_pool.alias('df1')\\\n",
    ".join(ref_model_pool.alias('df2'),F.col('df1.model_id') != F.col('df2.ref_model'),how='left')\n",
    "ref_model_base.show(2)\n",
    "ref_model_base.count()"
   ]
  },
  {
   "cell_type": "code",
   "execution_count": 18,
   "id": "da32af1a",
   "metadata": {},
   "outputs": [
    {
     "data": {
      "application/vnd.jupyter.widget-view+json": {
       "model_id": "5bdfd3735cf14084b26f1551ea8e2bdf",
       "version_major": 2,
       "version_minor": 0
      },
      "text/plain": [
       "FloatProgress(value=0.0, bar_style='info', description='Progress:', layout=Layout(height='25px', width='50%'),…"
      ]
     },
     "metadata": {},
     "output_type": "display_data"
    }
   ],
   "source": [
    "ref_model_base = ref_model_base.withColumn('price_difference', ref_model_base.average_price - ref_model_base.average_price_ref)"
   ]
  },
  {
   "cell_type": "code",
   "execution_count": 19,
   "id": "0e0cf74d",
   "metadata": {},
   "outputs": [
    {
     "data": {
      "application/vnd.jupyter.widget-view+json": {
       "model_id": "5c09883570104e3baa5043d2c9cbce77",
       "version_major": 2,
       "version_minor": 0
      },
      "text/plain": [
       "FloatProgress(value=0.0, bar_style='info', description='Progress:', layout=Layout(height='25px', width='50%'),…"
      ]
     },
     "metadata": {},
     "output_type": "display_data"
    },
    {
     "name": "stdout",
     "output_type": "stream",
     "text": [
      "+---------------------+\n",
      "|min(price_difference)|\n",
      "+---------------------+\n",
      "|   -13650.96939190476|\n",
      "+---------------------+"
     ]
    }
   ],
   "source": [
    "ref_model_base.agg(F.min('price_difference')).show()"
   ]
  },
  {
   "cell_type": "code",
   "execution_count": 20,
   "id": "e7ce22c9",
   "metadata": {},
   "outputs": [
    {
     "data": {
      "application/vnd.jupyter.widget-view+json": {
       "model_id": "c3a4c11e882c4d31ba9ccdeed3cf2027",
       "version_major": 2,
       "version_minor": 0
      },
      "text/plain": [
       "FloatProgress(value=0.0, bar_style='info', description='Progress:', layout=Layout(height='25px', width='50%'),…"
      ]
     },
     "metadata": {},
     "output_type": "display_data"
    },
    {
     "name": "stdout",
     "output_type": "stream",
     "text": [
      "+---------------------+\n",
      "|max(price_difference)|\n",
      "+---------------------+\n",
      "| 1.2544574503583174E9|\n",
      "+---------------------+"
     ]
    }
   ],
   "source": [
    "ref_model_base.agg(F.max('price_difference')).show()"
   ]
  },
  {
   "cell_type": "code",
   "execution_count": 21,
   "id": "2fc251a0",
   "metadata": {},
   "outputs": [
    {
     "data": {
      "application/vnd.jupyter.widget-view+json": {
       "model_id": "1988937f80d742ee8f35bec0a710fb4c",
       "version_major": 2,
       "version_minor": 0
      },
      "text/plain": [
       "FloatProgress(value=0.0, bar_style='info', description='Progress:', layout=Layout(height='25px', width='50%'),…"
      ]
     },
     "metadata": {},
     "output_type": "display_data"
    }
   ],
   "source": [
    "ref_model_base = ref_model_base.withColumn('price_difference_norm',(ref_model_base.price_difference - (-13650.96939190476)) / (25998.000000000004 - (-13650.96939190476)))"
   ]
  },
  {
   "cell_type": "code",
   "execution_count": 22,
   "id": "17545e6c",
   "metadata": {},
   "outputs": [
    {
     "data": {
      "application/vnd.jupyter.widget-view+json": {
       "model_id": "9184af666fc34368887fe85e4a3f848f",
       "version_major": 2,
       "version_minor": 0
      },
      "text/plain": [
       "FloatProgress(value=0.0, bar_style='info', description='Progress:', layout=Layout(height='25px', width='50%'),…"
      ]
     },
     "metadata": {},
     "output_type": "display_data"
    },
    {
     "name": "stdout",
     "output_type": "stream",
     "text": [
      "+--------+---------+-----------------+--------+------------------+---------+-------------+------------+---------------------+------------------+------------------+---------------------+\n",
      "|model_id|family_id|product_nature_id|dsm_code|     average_price|ref_model|family_id_ref|dsm_code_ref|product_nature_id_ref| average_price_ref|  price_difference|price_difference_norm|\n",
      "+--------+---------+-----------------+--------+------------------+---------+-------------+------------+---------------------+------------------+------------------+---------------------+\n",
      "|  960734|     8607|            25032|  307300|179.81955445583887|  8371831|         2502|      144349|                10855|  76.2989024230731|103.52065203276577|  0.34690662216168017|\n",
      "|  960734|     8607|            25032|  307300|179.81955445583887|  8488150|        34010|      165554|                12183|26.532270075187963| 153.2872843806509|   0.3481618031439643|\n",
      "+--------+---------+-----------------+--------+------------------+---------+-------------+------------+---------------------+------------------+------------------+---------------------+\n",
      "only showing top 2 rows"
     ]
    }
   ],
   "source": [
    "ref_model_base.show(2)"
   ]
  },
  {
   "cell_type": "code",
   "execution_count": 23,
   "id": "eeb9a945",
   "metadata": {},
   "outputs": [
    {
     "data": {
      "application/vnd.jupyter.widget-view+json": {
       "model_id": "e1fa44d500c74f0683a55585101b896a",
       "version_major": 2,
       "version_minor": 0
      },
      "text/plain": [
       "FloatProgress(value=0.0, bar_style='info', description='Progress:', layout=Layout(height='25px', width='50%'),…"
      ]
     },
     "metadata": {},
     "output_type": "display_data"
    }
   ],
   "source": [
    "df_model_tran = new_model_pool.join(df_sales_model, on = 'model_id', how = 'left')\n",
    "df_ref_tran = ref_model_pool.join(df_sales_ref, 'ref_model', how = 'left')"
   ]
  },
  {
   "cell_type": "code",
   "execution_count": 24,
   "id": "59abd740",
   "metadata": {},
   "outputs": [
    {
     "data": {
      "application/vnd.jupyter.widget-view+json": {
       "model_id": "d14f1d059f1549b285a3d53a5b3970b1",
       "version_major": 2,
       "version_minor": 0
      },
      "text/plain": [
       "FloatProgress(value=0.0, bar_style='info', description='Progress:', layout=Layout(height='25px', width='50%'),…"
      ]
     },
     "metadata": {},
     "output_type": "display_data"
    }
   ],
   "source": [
    "def calculate_corr(feature):\n",
    "    \n",
    "    df_model = df_model_tran.groupby([feature,'week_id']).agg(F.sum('sales_quantity').alias('sales_quantity'))\n",
    "    df_ref = df_ref_tran.groupby([f'{feature}_ref','week_id']).agg(F.sum('sales_quantity').alias('sales_quantity_ref'))\n",
    "    base = df_model.join(df_ref, on = 'week_id', how='left')\n",
    "    base = base.groupby([feature, f'{feature}_ref']).agg(F.corr('sales_quantity', 'sales_quantity_ref').alias(f'{feature}_corr'))\n",
    "\n",
    "    return base"
   ]
  },
  {
   "cell_type": "code",
   "execution_count": 25,
   "id": "a62a8baa",
   "metadata": {
    "scrolled": true
   },
   "outputs": [
    {
     "data": {
      "application/vnd.jupyter.widget-view+json": {
       "model_id": "6b71fdec7e5c4449ad8228d6b9509ff4",
       "version_major": 2,
       "version_minor": 0
      },
      "text/plain": [
       "FloatProgress(value=0.0, bar_style='info', description='Progress:', layout=Layout(height='25px', width='50%'),…"
      ]
     },
     "metadata": {},
     "output_type": "display_data"
    },
    {
     "name": "stdout",
     "output_type": "stream",
     "text": [
      "Finish processing family...\n",
      "Finish processing dsm...\n",
      "Finish processing product nature..."
     ]
    }
   ],
   "source": [
    "df_family_corr = calculate_corr('family_id')\n",
    "print('Finish processing family...')\n",
    "df_dsm_corr = calculate_corr('dsm_code')\n",
    "print('Finish processing dsm...')\n",
    "df_product_nature_corr = calculate_corr('product_nature_id')\n",
    "print('Finish processing product nature...')"
   ]
  },
  {
   "cell_type": "code",
   "execution_count": 26,
   "id": "edb23c0d",
   "metadata": {},
   "outputs": [
    {
     "data": {
      "application/vnd.jupyter.widget-view+json": {
       "model_id": "3a8cd31d9e4a43e3a86ea94d2e4784fd",
       "version_major": 2,
       "version_minor": 0
      },
      "text/plain": [
       "FloatProgress(value=0.0, bar_style='info', description='Progress:', layout=Layout(height='25px', width='50%'),…"
      ]
     },
     "metadata": {},
     "output_type": "display_data"
    },
    {
     "name": "stdout",
     "output_type": "stream",
     "text": [
      "+---------+-------------+--------------------+\n",
      "|family_id|family_id_ref|      family_id_corr|\n",
      "+---------+-------------+--------------------+\n",
      "|    10778|        11689| 0.21983954186138918|\n",
      "|     5062|        10767|-0.17044132426778932|\n",
      "+---------+-------------+--------------------+\n",
      "only showing top 2 rows"
     ]
    }
   ],
   "source": [
    "df_family_corr.show(2)"
   ]
  },
  {
   "cell_type": "code",
   "execution_count": 27,
   "id": "0e5e15f0",
   "metadata": {},
   "outputs": [
    {
     "data": {
      "application/vnd.jupyter.widget-view+json": {
       "model_id": "8b83fe7eda8e49c9bac2dcf88909710d",
       "version_major": 2,
       "version_minor": 0
      },
      "text/plain": [
       "FloatProgress(value=0.0, bar_style='info', description='Progress:', layout=Layout(height='25px', width='50%'),…"
      ]
     },
     "metadata": {},
     "output_type": "display_data"
    },
    {
     "name": "stdout",
     "output_type": "stream",
     "text": [
      "+-----------------+---------------------+--------+------------+---------+-------------+--------+-------------+---------+------------------+------------------+---------------------+--------------+-------------+----------------------+\n",
      "|product_nature_id|product_nature_id_ref|dsm_code|dsm_code_ref|family_id|family_id_ref|model_id|average_price|ref_model| average_price_ref|  price_difference|price_difference_norm|family_id_corr|dsm_code_corr|product_nature_id_corr|\n",
      "+-----------------+---------------------+--------+------------+---------+-------------+--------+-------------+---------+------------------+------------------+---------------------+--------------+-------------+----------------------+\n",
      "|             null|                11009|X8768419|       15282|     null|        10943| 8768419|        169.0|  8319140|249.79833348061334|-80.79833348061334|  0.34225785099964806|          null|          1.0|                  null|\n",
      "|             null|                11009|X8763948|       15282|     null|        10943| 8763948|        539.0|  8319140|249.79833348061334|289.20166651938666|  0.35158974551480643|          null|         null|                  null|\n",
      "+-----------------+---------------------+--------+------------+---------+-------------+--------+-------------+---------+------------------+------------------+---------------------+--------------+-------------+----------------------+\n",
      "only showing top 2 rows"
     ]
    }
   ],
   "source": [
    "ref_model_base = ref_model_base.join(df_family_corr, ['family_id', 'family_id_ref'], how = 'left')\n",
    "ref_model_base = ref_model_base.join(df_dsm_corr, ['dsm_code', 'dsm_code_ref'], how = 'left')\n",
    "ref_model_base = ref_model_base.join(df_product_nature_corr, ['product_nature_id', 'product_nature_id_ref'], how = 'left')\n",
    "ref_model_base.show(2)"
   ]
  },
  {
   "cell_type": "code",
   "execution_count": 103,
   "id": "727166a5",
   "metadata": {},
   "outputs": [
    {
     "data": {
      "application/vnd.jupyter.widget-view+json": {
       "model_id": "a4afc5ad9a804b7e81c9d84096f5b47d",
       "version_major": 2,
       "version_minor": 0
      },
      "text/plain": [
       "FloatProgress(value=0.0, bar_style='info', description='Progress:', layout=Layout(height='25px', width='50%'),…"
      ]
     },
     "metadata": {},
     "output_type": "display_data"
    },
    {
     "name": "stdout",
     "output_type": "stream",
     "text": [
      "+--------+---------+-----------------+---------------------+\n",
      "|dsm_code|family_id|product_nature_id|price_difference_norm|\n",
      "+--------+---------+-----------------+---------------------+\n",
      "| 8385930|   105705|           105705|               155034|\n",
      "+--------+---------+-----------------+---------------------+"
     ]
    }
   ],
   "source": [
    "null_total = ref_model_base.select('dsm_code', 'family_id', 'product_nature_id', 'price_difference_norm')\n",
    "null_total.select([F.count(F.when(F.col(c).isNull(), c)).alias(c) for c in null_total.columns]).show() "
   ]
  },
  {
   "cell_type": "code",
   "execution_count": 28,
   "id": "ca8ed370",
   "metadata": {},
   "outputs": [
    {
     "data": {
      "application/vnd.jupyter.widget-view+json": {
       "model_id": "c968e99f25fb466da5d134d1d3eafcd5",
       "version_major": 2,
       "version_minor": 0
      },
      "text/plain": [
       "FloatProgress(value=0.0, bar_style='info', description='Progress:', layout=Layout(height='25px', width='50%'),…"
      ]
     },
     "metadata": {},
     "output_type": "display_data"
    }
   ],
   "source": [
    "# fill na with 0\n",
    "ref_model_base = ref_model_base.fillna({'dsm_code_corr': 0, 'family_id_corr': 0, 'product_nature_id_corr': 0, 'price_difference_norm': 0})\n",
    "#null_total = ref_model_base.select('dsm_code_corr', 'family_id_corr', 'product_nature_id_corr', 'price_difference_norm')\n",
    "#null_total.select([F.count(F.when(F.col(c).isNull(), c)).alias(c) for c in null_total.columns]).show() "
   ]
  },
  {
   "cell_type": "code",
   "execution_count": 29,
   "id": "c0c42112",
   "metadata": {},
   "outputs": [
    {
     "data": {
      "application/vnd.jupyter.widget-view+json": {
       "model_id": "18ce2f2bb18d47e9a79fbcf7e6d841bf",
       "version_major": 2,
       "version_minor": 0
      },
      "text/plain": [
       "FloatProgress(value=0.0, bar_style='info', description='Progress:', layout=Layout(height='25px', width='50%'),…"
      ]
     },
     "metadata": {},
     "output_type": "display_data"
    }
   ],
   "source": [
    "'''\n",
    "dsm_code\t1.622797071815100\n",
    "family_id\t0.606589832402213\n",
    "price_difference\t0.010834530380563\n",
    "product_nature_id\t0.121562762967326\n",
    "intercept\t-0.143325296539284\n",
    "'''\n",
    "ref_model_base = ref_model_base.withColumn('similarity',\n",
    "                                           (ref_model_base.dsm_code_corr * 1.622797071815100 + ref_model_base.family_id_corr * 0.606589832402213 \\\n",
    "                                            + ref_model_base.price_difference_norm * 0.010834530380563 + ref_model_base.product_nature_id_corr * 0.121562762967326))"
   ]
  },
  {
   "cell_type": "code",
   "execution_count": 30,
   "id": "2e09e5a3",
   "metadata": {},
   "outputs": [
    {
     "data": {
      "application/vnd.jupyter.widget-view+json": {
       "model_id": "7eedb6f286dc4f08b19232f28ec444bb",
       "version_major": 2,
       "version_minor": 0
      },
      "text/plain": [
       "FloatProgress(value=0.0, bar_style='info', description='Progress:', layout=Layout(height='25px', width='50%'),…"
      ]
     },
     "metadata": {},
     "output_type": "display_data"
    },
    {
     "name": "stdout",
     "output_type": "stream",
     "text": [
      "+-----------------+---------------------+--------+------------+---------+-------------+--------+--------------------+---------+------------------+--------------------+---------------------+------------------+------------------+----------------------+------------------+\n",
      "|product_nature_id|product_nature_id_ref|dsm_code|dsm_code_ref|family_id|family_id_ref|model_id|       average_price|ref_model| average_price_ref|    price_difference|price_difference_norm|    family_id_corr|     dsm_code_corr|product_nature_id_corr|        similarity|\n",
      "+-----------------+---------------------+--------+------------+---------+-------------+--------+--------------------+---------+------------------+--------------------+---------------------+------------------+------------------+----------------------+------------------+\n",
      "|            25014|                25014|  306876|      165437|    10861|        34378| 8556896|1.2544574522583175E9|  8488039|30.188868460064185| 1.254457422069449E9|   31639.437097070408|0.7441169835899806|0.9404492496654564|    0.7244712231270941|344.86404326060625|\n",
      "|            25014|                25014|  306876|      165437|    10861|        34378| 8556896|1.2544574522583175E9|  8488035|30.287016229712833|1.2544574219713013E9|   31639.437094594996|0.7441169835899806|0.9404492496654564|    0.7244712231270941|344.86404323378633|\n",
      "+-----------------+---------------------+--------+------------+---------+-------------+--------+--------------------+---------+------------------+--------------------+---------------------+------------------+------------------+----------------------+------------------+\n",
      "only showing top 2 rows"
     ]
    }
   ],
   "source": [
    "ref_model_base.sort('similarity', ascending = False).show(2)"
   ]
  },
  {
   "cell_type": "code",
   "execution_count": 31,
   "id": "394040e8",
   "metadata": {},
   "outputs": [
    {
     "data": {
      "application/vnd.jupyter.widget-view+json": {
       "model_id": "4fe29996f052467a8355167a37c12d94",
       "version_major": 2,
       "version_minor": 0
      },
      "text/plain": [
       "FloatProgress(value=0.0, bar_style='info', description='Progress:', layout=Layout(height='25px', width='50%'),…"
      ]
     },
     "metadata": {},
     "output_type": "display_data"
    },
    {
     "name": "stdout",
     "output_type": "stream",
     "text": [
      "43523256"
     ]
    }
   ],
   "source": [
    "ref_model_base.count()"
   ]
  },
  {
   "cell_type": "code",
   "execution_count": 32,
   "id": "42ac9159",
   "metadata": {},
   "outputs": [
    {
     "data": {
      "application/vnd.jupyter.widget-view+json": {
       "model_id": "92f9cb8d32bb40eaa7f32330e44390b2",
       "version_major": 2,
       "version_minor": 0
      },
      "text/plain": [
       "FloatProgress(value=0.0, bar_style='info', description='Progress:', layout=Layout(height='25px', width='50%'),…"
      ]
     },
     "metadata": {},
     "output_type": "display_data"
    }
   ],
   "source": [
    "# Save to S3\n",
    "spark_write_parquet_s3(ref_model_base.select('model_id','ref_model','similarity'), 'fcst-workspace',\n",
    "                       'forecast-cn/fcst-refined-demand-forecast-dev/global/ref_model_base_simple_v3',\n",
    "                       repartition=10, mode='overwrite')"
   ]
  },
  {
   "cell_type": "code",
   "execution_count": null,
   "id": "9201f456",
   "metadata": {},
   "outputs": [],
   "source": []
  }
 ],
 "metadata": {
  "kernelspec": {
   "display_name": "Sparkmagic (PySpark)",
   "language": "python",
   "name": "pysparkkernel"
  },
  "language_info": {
   "codemirror_mode": {
    "name": "python",
    "version": 3
   },
   "file_extension": ".py",
   "mimetype": "text/x-python",
   "name": "pyspark",
   "pygments_lexer": "python3"
  }
 },
 "nbformat": 4,
 "nbformat_minor": 5
}

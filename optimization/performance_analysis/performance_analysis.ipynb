{
 "cells": [
  {
   "cell_type": "code",
   "execution_count": 2,
   "id": "bf485e10",
   "metadata": {},
   "outputs": [
    {
     "name": "stdout",
     "output_type": "stream",
     "text": [
      "Collecting uritools\n",
      "  Downloading uritools-3.0.2-py3-none-any.whl (12 kB)\n",
      "Installing collected packages: uritools\n",
      "Successfully installed uritools-3.0.2\n"
     ]
    }
   ],
   "source": [
    "!pip install uritools"
   ]
  },
  {
   "cell_type": "code",
   "execution_count": 102,
   "id": "47a7f625",
   "metadata": {},
   "outputs": [],
   "source": [
    "import pandas as pd\n",
    "import numpy as np\n",
    "import boto3\n",
    "import pyarrow.parquet as pq\n",
    "import s3fs\n",
    "import math\n",
    "import yaml\n",
    "\n",
    "import sys\n",
    "sys.path.append('../../')\n",
    "from src.utils import read_multipart_parquet_s3, write_df_to_parquet_on_s3"
   ]
  },
  {
   "cell_type": "code",
   "execution_count": 14,
   "id": "0f1562e4",
   "metadata": {},
   "outputs": [],
   "source": [
    "version_ = {\n",
    "    '20211111_001':['predict-2021-11-11-02-11-40-991.parquet.out'],\n",
    "    '20211121_002':['predict-2021-11-21-13-55-13-776.parquet.out'],\n",
    "    '20211121_101':['predict-2021-11-21-14-39-27-332.parquet.out'],\n",
    "    '20211123_102':['predict-2021-11-23-01-35-04-699.parquet.out','predict-2021-11-25-08-22-59-160.parquet.out'],\n",
    "    '20211123_103':['predict-2021-11-23-07-55-26-180.parquet.out','predict-2021-11-25-07-41-23-812.parquet.out'],\n",
    "    '20211123_104':['predict-2021-11-23-14-02-04-205.parquet.out'],\n",
    "    '20211126_105':['predict-2021-11-26-00-31-33-209.parquet.out'],\n",
    "    '20211129_106':['predict-2021-11-29-15-02-24-595.parquet.out','predict-2021-11-29-15-48-07-635.parquet.out'],\n",
    "    '20211201_107':['predict-2021-12-01-12-42-18-742.parquet.out','predict-2021-12-01-13-48-08-809.parquet.out'],\n",
    "    '20211208_108':['predict-2021-12-08-09-20-13-444.parquet.out','predict-2021-12-08-11-46-24-787.parquet.out','predict-2021-12-09-01-56-35-039.parquet.out'],\n",
    "    '20211213_109':['predict-2021-12-13-04-22-12-835.parquet.out'],\n",
    "    '20211214_110':['predict-2021-12-14-12-15-12-419.parquet.out','predict-2021-12-16-06-54-32-471.parquet.out'],\n",
    "    '20211214_111':['predict-2021-12-14-08-38-28-448.parquet.out','predict-2021-12-17-08-05-49-494.parquet.out'],\n",
    "    '20211214_112':['predict-2021-12-14-12-15-12-419.parquet.out','predict-2021-12-14-08-38-28-448.parquet.out',\n",
    "                    'predict-2021-12-16-06-54-32-471.parquet.out','predict-2021-12-17-08-05-49-494.parquet.out'],\n",
    "    '20211215_113':['predict-2021-12-15-08-42-35-982.parquet.out'],\n",
    "    '20211215_114':['predict-2021-12-15-10-36-39-946.parquet.out'],\n",
    "    '20211215_115':['predict-2021-12-15-10-36-39-946.parquet.out','predict-2021-12-15-08-42-35-982.parquet.out'],\n",
    "    '20211222_116':['predict-2021-12-22-09-31-03-818.parquet.out'],\n",
    "    '20211222_117':['predict-2021-12-22-12-14-27-758.parquet.out'],\n",
    "    '20211222_118':['predict-2021-12-22-09-31-03-818.parquet.out','predict-2021-12-22-12-14-27-758.parquet.out'],\n",
    "    '20211223_119':['predict-2021-12-22-23-52-45-032.parquet.out'],\n",
    "    '20211223_120':['predict-2021-12-23-01-47-00-753.parquet.out'],\n",
    "    '20211223_121':['predict-2021-12-22-23-52-45-032.parquet.out','predict-2021-12-23-01-47-00-753.parquet.out'],\n",
    "    '20211223_122':['predict-2021-12-23-08-35-10-881.parquet.out'],\n",
    "    '20211224_123':['predict-2021-12-24-01-15-25-075.parquet.out'],\n",
    "    '20211227_124':['predict-2021-12-27-04-31-39-626.parquet.out'],\n",
    "    '20211227_125':['predict-2021-12-27-07-57-03-675.parquet.out'],\n",
    "    '20211228_126':['predict-2021-12-28-03-36-03-673.parquet.out'],\n",
    "    '20211228_127':['predict-2021-12-28-05-59-55-380.parquet.out'],\n",
    "    '20211229_128':['predict-2021-12-29-07-19-03-898.parquet.out'],\n",
    "    '20211230_129':['predict-2021-12-30-01-59-41-184.parquet.out'],\n",
    "    '20211230_130':['predict-2021-12-30-08-01-55-635.parquet.out'],\n",
    "    '20211230_131':['predict-2021-12-30-13-56-27-316.parquet.out'],\n",
    "    '20220104_132':['predict-2022-01-04-00-20-50-192.parquet.out'],\n",
    "    '20220105_133':['predict-2022-01-05-03-10-10-740.parquet.out'],\n",
    "    '20220105_134':['predict-2022-01-05-04-53-52-866.parquet.out'],\n",
    "    '20220105_135':['predict-2022-01-05-03-10-10-740.parquet.out','predict-2022-01-05-04-53-52-866.parquet.out'],\n",
    "    '20220105_136':['predict-2022-01-05-11-21-19-925.parquet.out'],\n",
    "    '20220105_137':['predict-2022-01-05-08-38-25-968.parquet.out'],\n",
    "    '20220105_138':['predict-2022-01-05-11-21-19-925.parquet.out','predict-2022-01-05-08-38-25-968.parquet.out'],\n",
    "    '20220106_139':['predict-2022-01-06-13-53-54-169.json.out'],\n",
    "    '20220109_140':['predict-2022-01-09-09-52-37-843.json.out'],\n",
    "    '20220109_141':['predict-2022-01-10-06-18-48-430.parquet.out'],\n",
    "    '20220110_142':['predict-2022-01-10-13-24-25-076.parquet.out'],\n",
    "    '20220113_143':['predict-2022-01-13-04-25-04-055.parquet.out'],\n",
    "    '20220113_144':['predict-2022-01-13-10-44-07-342.parquet.out'],\n",
    "    '20220113_145':['predict-2022-01-13-04-25-04-055.parquet.out','predict-2022-01-13-10-44-07-342.parquet.out']\n",
    "}"
   ]
  },
  {
   "cell_type": "markdown",
   "id": "6b8138a9",
   "metadata": {},
   "source": [
    "### Fetch Data"
   ]
  },
  {
   "cell_type": "markdown",
   "id": "7de8359b",
   "metadata": {},
   "source": [
    "##### Fetch realized sales"
   ]
  },
  {
   "cell_type": "code",
   "execution_count": 4,
   "id": "432cdc5f",
   "metadata": {},
   "outputs": [],
   "source": [
    "realized_sales = read_multipart_parquet_s3('fcst-workspace/forecast-cn/fcst-refined-demand-forecast-dev',\n",
    "                                       'global/model_week_sales', prefix_filename='part-')\n",
    "realized_sales = realized_sales.groupby(by=['model_id','week_id','date'],as_index=False).agg({'sales_quantity':'sum'})"
   ]
  },
  {
   "cell_type": "code",
   "execution_count": 5,
   "id": "cfa7d5a0",
   "metadata": {},
   "outputs": [
    {
     "name": "stdout",
     "output_type": "stream",
     "text": [
      "<class 'pandas.core.frame.DataFrame'>\n",
      "Int64Index: 3789624 entries, 0 to 3789623\n",
      "Data columns (total 4 columns):\n",
      " #   Column          Dtype         \n",
      "---  ------          -----         \n",
      " 0   model_id        int64         \n",
      " 1   week_id         int64         \n",
      " 2   date            datetime64[ns]\n",
      " 3   sales_quantity  int64         \n",
      "dtypes: datetime64[ns](1), int64(3)\n",
      "memory usage: 144.6 MB\n"
     ]
    }
   ],
   "source": [
    "realized_sales.info(2)"
   ]
  },
  {
   "cell_type": "markdown",
   "id": "69fdb7c4",
   "metadata": {},
   "source": [
    "##### Fetch APO forecast"
   ]
  },
  {
   "cell_type": "code",
   "execution_count": 6,
   "id": "ab5cf17c",
   "metadata": {},
   "outputs": [],
   "source": [
    "apo_gd = read_multipart_parquet_s3('fcst-workspace/forecast-cn/fcst-refined-demand-forecast-dev',\n",
    "                                       'global/apo_gd_7000.parquet', prefix_filename='part-')"
   ]
  },
  {
   "cell_type": "code",
   "execution_count": 7,
   "id": "ff8d6ede",
   "metadata": {},
   "outputs": [
    {
     "name": "stdout",
     "output_type": "stream",
     "text": [
      "The apo gd data covers cut_off from 202138 to 202147\n",
      "The apo gd data covers forecast from 202138 to 202152\n"
     ]
    }
   ],
   "source": [
    "# check data\n",
    "apo_cutoff = apo_gd['Weeks of snapshot'].unique()\n",
    "print(f'The apo gd data covers cut_off from {min(apo_cutoff)} to {max(apo_cutoff)}')\n",
    "\n",
    "apo_period = [int(i) for i in apo_gd.columns if i.startswith('2')]\n",
    "print(f'The apo gd data covers forecast from {min(apo_period)} to {max(apo_period)}')"
   ]
  },
  {
   "cell_type": "code",
   "execution_count": 8,
   "id": "e2518f05",
   "metadata": {},
   "outputs": [],
   "source": [
    "# transform the schema of apo global demand data\n",
    "cut_w, tar_w = pd.core.reshape.util.cartesian_product([apo_cutoff, apo_period])\n",
    "w = pd.DataFrame({'cut_off': cut_w, 'target': tar_w})\n",
    "w = w[(w.target - w.cut_off >= 0)]\n",
    "\n",
    "def get_value(data,x,y,col):\n",
    "    df = data[(data['Weeks of snapshot'] == x)][[str(y),'model_id']]\n",
    "    df[['cut_off','target']] = x,y\n",
    "    df.columns = [col,'model_id','cut_off','target']\n",
    "    return df[['cut_off','target','model_id',col]]\n",
    "\n",
    "fore = pd.DataFrame()\n",
    "for x, y in w.values:\n",
    "    tmp_fore = get_value(apo_gd,x,y,'apo_gd')\n",
    "    fore = fore.append(tmp_fore)"
   ]
  },
  {
   "cell_type": "code",
   "execution_count": 9,
   "id": "53863395",
   "metadata": {},
   "outputs": [
    {
     "name": "stdout",
     "output_type": "stream",
     "text": [
      "<class 'pandas.core.frame.DataFrame'>\n",
      "Int64Index: 710750 entries, 0 to 67715\n",
      "Data columns (total 4 columns):\n",
      " #   Column    Non-Null Count   Dtype  \n",
      "---  ------    --------------   -----  \n",
      " 0   cut_off   710750 non-null  int64  \n",
      " 1   target    710750 non-null  int64  \n",
      " 2   model_id  710750 non-null  int64  \n",
      " 3   apo_gd    686269 non-null  float64\n",
      "dtypes: float64(1), int64(3)\n",
      "memory usage: 27.1 MB\n"
     ]
    }
   ],
   "source": [
    "fore.info(2)"
   ]
  },
  {
   "cell_type": "markdown",
   "id": "a5a459dc",
   "metadata": {},
   "source": [
    "##### Fetch AI forecast result"
   ]
  },
  {
   "cell_type": "code",
   "execution_count": 10,
   "id": "30256822",
   "metadata": {},
   "outputs": [],
   "source": [
    "def keys(bucket_name, prefix='/', delimiter='/'):\n",
    "    prefix = prefix[1:] if prefix.startswith(delimiter) else prefix\n",
    "    bucket = boto3.resource('s3').Bucket(bucket_name)\n",
    "    return (_.key for _ in bucket.objects.filter(Prefix=prefix))\n",
    "\n",
    "def get_result_path(run_name,bucket_name,cut_off):\n",
    "    file = []\n",
    "    cutoff_l = []\n",
    "    for cutoff in cut_off:\n",
    "        for i in keys(bucket_name,\n",
    "                      prefix=f'forecast-cn/fcst-refined-demand-forecast-dev/specific/{run_name}/{run_name}-deepar-hw-{cutoff}/output/',\n",
    "                      delimiter='/'):\n",
    "            file.append(i)\n",
    "            cutoff_l.append(cutoff)\n",
    "    file_df = pd.DataFrame({'cut_off':cutoff_l,'path':file})\n",
    "    file_df = file_df[[i.endswith('parquet.out') for i in file_df.path]]\n",
    "    return file_df\n",
    "\n",
    "def get_week_id(str_,step):\n",
    "    str_ = str(str_)\n",
    "    year = int(str_[:4])\n",
    "    week = int(str_[4:])\n",
    "    step = step - 1\n",
    "    if week + step <= 52:\n",
    "        if week+step < 10:\n",
    "            return int(str(year) + '0' +str(week + step))\n",
    "        else:\n",
    "            return int(str(year) + str(week + step))\n",
    "    else:\n",
    "        round_ = math.floor((week + step) / 52)\n",
    "        year = year + round_\n",
    "        week = week + step - 52 * round_\n",
    "        if week < 10:\n",
    "            return int(str(year) + '0' + str(week))\n",
    "        else:\n",
    "            return int(str(year) + str(week))"
   ]
  },
  {
   "cell_type": "code",
   "execution_count": 11,
   "id": "25e681cd",
   "metadata": {},
   "outputs": [],
   "source": [
    "# To get all the path of model result\n",
    "run_name = 'piloted'\n",
    "ai_cut_off = [i for i in range(202101,202153)] + [i for i in range(202201,202204)]\n",
    "bucket_name = 'fcst-workspace'\n",
    "file = get_result_path(run_name,bucket_name,ai_cut_off)"
   ]
  },
  {
   "cell_type": "code",
   "execution_count": null,
   "id": "8f01f121",
   "metadata": {},
   "outputs": [],
   "source": [
    "# if you would like to only filter out results of certain version\n",
    "version_name = '20220113_145'\n",
    "file['path_'] = file.path.apply(lambda x:x.split('/')[-1])\n",
    "file = file[file.path_.isin(version_[version_name])]"
   ]
  },
  {
   "cell_type": "code",
   "execution_count": 15,
   "id": "285378ef",
   "metadata": {},
   "outputs": [],
   "source": [
    "ai_forecast = pd.DataFrame()\n",
    "for w,f in file[['cut_off','path']].values:\n",
    "    try:\n",
    "        forecast_df = read_multipart_parquet_s3('fcst-workspace',f, prefix_filename='part-')\n",
    "        forecast_df['cut_off'] = int(w)\n",
    "    except:\n",
    "        forecast_df = pd.DataFrame()\n",
    "    ai_forecast = ai_forecast.append(forecast_df)\n",
    "    \n",
    "ai_forecast = ai_forecast[(ai_forecast.forecast_step <= 10)].groupby(by=['model_id','forecast_step','cut_off'],\n",
    "                                                  as_index=False).agg({'forecast':'sum'})\n",
    "ai_forecast['target'] = [get_week_id(x,y) for x,y in zip(ai_forecast['cut_off'], ai_forecast['forecast_step'])]"
   ]
  },
  {
   "cell_type": "code",
   "execution_count": 16,
   "id": "8eb81748",
   "metadata": {},
   "outputs": [
    {
     "name": "stdout",
     "output_type": "stream",
     "text": [
      "<class 'pandas.core.frame.DataFrame'>\n",
      "Int64Index: 3951040 entries, 0 to 3951039\n",
      "Data columns (total 5 columns):\n",
      " #   Column         Dtype\n",
      "---  ------         -----\n",
      " 0   model_id       int64\n",
      " 1   forecast_step  int64\n",
      " 2   cut_off        int64\n",
      " 3   forecast       int64\n",
      " 4   target         int64\n",
      "dtypes: int64(5)\n",
      "memory usage: 180.9 MB\n"
     ]
    }
   ],
   "source": [
    "ai_forecast.info(2)"
   ]
  },
  {
   "cell_type": "markdown",
   "id": "4ed99c5b",
   "metadata": {},
   "source": [
    "##### Fetch Price"
   ]
  },
  {
   "cell_type": "code",
   "execution_count": 18,
   "id": "8e73826c",
   "metadata": {},
   "outputs": [],
   "source": [
    "# fetch price to calculate turnover\n",
    "price = read_multipart_parquet_s3('fcst-workspace/forecast-cn/fcst-refined-demand-forecast-dev',\n",
    "                                  'global/model_week_price', prefix_filename='part-')\n",
    "price = price[price.week_id >= min(ai_cut_off)].groupby(by=['model_id','week_id','date'],as_index=False).agg({'average_price':'mean'})"
   ]
  },
  {
   "cell_type": "code",
   "execution_count": 19,
   "id": "53b3bfc6",
   "metadata": {},
   "outputs": [],
   "source": [
    "df_price = price.groupby(by='model_id',as_index=False).agg(initial_price =('average_price','mean'))"
   ]
  },
  {
   "cell_type": "code",
   "execution_count": 20,
   "id": "4bb2fea2",
   "metadata": {},
   "outputs": [
    {
     "name": "stdout",
     "output_type": "stream",
     "text": [
      "<class 'pandas.core.frame.DataFrame'>\n",
      "Int64Index: 24699 entries, 0 to 24698\n",
      "Data columns (total 2 columns):\n",
      " #   Column         Non-Null Count  Dtype  \n",
      "---  ------         --------------  -----  \n",
      " 0   model_id       24699 non-null  int64  \n",
      " 1   initial_price  24699 non-null  float64\n",
      "dtypes: float64(1), int64(1)\n",
      "memory usage: 578.9 KB\n"
     ]
    }
   ],
   "source": [
    "df_price.info(2)"
   ]
  },
  {
   "cell_type": "markdown",
   "id": "23dcbf1c",
   "metadata": {},
   "source": [
    "### Generate features for analysis\n",
    "For now, we consider:\n",
    "- selling length\n",
    "- EC tags\n",
    "- seasonality"
   ]
  },
  {
   "cell_type": "markdown",
   "id": "a8c81ba6",
   "metadata": {},
   "source": [
    "##### Selling length"
   ]
  },
  {
   "cell_type": "code",
   "execution_count": 21,
   "id": "ec6f615d",
   "metadata": {},
   "outputs": [],
   "source": [
    "def selling_week_index(start_week, cut_off):\n",
    "    try:\n",
    "        if get_week_id(start_week,51) < cut_off:\n",
    "            return '>1year'\n",
    "        elif get_week_id(start_week,19) <= cut_off:\n",
    "            return '20-52W'\n",
    "        else:\n",
    "            return '<20W'\n",
    "    except:\n",
    "        return np.nan"
   ]
  },
  {
   "cell_type": "code",
   "execution_count": 22,
   "id": "96a02f95",
   "metadata": {},
   "outputs": [],
   "source": [
    "start_selling_week = realized_sales.groupby(by='model_id',as_index=False).agg(start_week=('week_id','min'),\n",
    "                                                                              last_week=('week_id','max')\n",
    "                                                                             )\n",
    "start_selling_week['selling_length'] = start_selling_week.start_week.apply(lambda x:selling_week_index(x,202208))"
   ]
  },
  {
   "cell_type": "code",
   "execution_count": 23,
   "id": "9e5dd66d",
   "metadata": {},
   "outputs": [
    {
     "name": "stdout",
     "output_type": "stream",
     "text": [
      "<class 'pandas.core.frame.DataFrame'>\n",
      "Int64Index: 48733 entries, 0 to 48732\n",
      "Data columns (total 4 columns):\n",
      " #   Column          Non-Null Count  Dtype \n",
      "---  ------          --------------  ----- \n",
      " 0   model_id        48733 non-null  int64 \n",
      " 1   start_week      48733 non-null  int64 \n",
      " 2   last_week       48733 non-null  int64 \n",
      " 3   selling_length  48733 non-null  object\n",
      "dtypes: int64(3), object(1)\n",
      "memory usage: 1.9+ MB\n"
     ]
    }
   ],
   "source": [
    "start_selling_week.info()"
   ]
  },
  {
   "cell_type": "markdown",
   "id": "05b5332e",
   "metadata": {},
   "source": [
    "##### EC tags"
   ]
  },
  {
   "cell_type": "code",
   "execution_count": 24,
   "id": "f1b30b7b",
   "metadata": {},
   "outputs": [],
   "source": [
    "def creat_d11_trend2020(df_sales):\n",
    "    df1 = df_sales[df_sales['week_id'].isin([202045,202046])]\n",
    "    df2 = df_sales[df_sales['week_id'].isin([202044,202047])]\n",
    "    df3 = df_sales[df_sales['week_id'].isin([202043,202044,202047,202048])]\n",
    "    \n",
    "    sales1 = df1.groupby('model_id',as_index=False).agg(sales_d11 = ('sales_quantity', 'mean'))\n",
    "    sales2 = df2.groupby('model_id',as_index=False).agg(sales_w2 = ('sales_quantity', 'mean'))\n",
    "    sales3 = df3.groupby('model_id',as_index=False).agg(sales_w4 = ('sales_quantity', 'mean'))\n",
    "    \n",
    "    ec_d11_trend = pd.merge(sales1, sales2, how='left')\n",
    "    ec_d11_trend = pd.merge(ec_d11_trend, sales3, how='left')\n",
    "    \n",
    "    ec_d11_trend['d11_2w'] = ec_d11_trend['sales_d11'] / ec_d11_trend['sales_w2']\n",
    "    ec_d11_trend['d11_4w'] = ec_d11_trend['sales_d11'] / ec_d11_trend['sales_w4']\n",
    "    \n",
    "    ec_d11_trend['ec_tag'] = np.nan\n",
    "    ec_d11_trend.loc[ec_d11_trend[ec_d11_trend['d11_4w'] >= 1.5].index, 'ec_tag'] = 'High'\n",
    "    ec_d11_trend.loc[ec_d11_trend[(ec_d11_trend['d11_4w'] < 1.5) & (ec_d11_trend['d11_2w'] > 2)].index, 'ec_tag'] = 'Low'\n",
    "    ec_d11_trend.loc[ec_d11_trend[ec_d11_trend['ec_tag'].isnull()].index, 'ec_tag'] = 'No'\n",
    "    \n",
    "    ec_d11_trend = ec_d11_trend[['model_id', 'ec_tag']]\n",
    "\n",
    "    return ec_d11_trend\n",
    "\n",
    "def creat_d11_trend2021(df_sales):\n",
    "    df1 = df_sales[df_sales['week_id'].isin([202144,202145])]\n",
    "    df2 = df_sales[df_sales['week_id'].isin([202143,202146])]\n",
    "    df3 = df_sales[df_sales['week_id'].isin([202142,202143,202146,202147])]\n",
    "    \n",
    "    sales1 = df1.groupby('model_id',as_index=False).agg(sales_d11 = ('sales_quantity', 'mean'))\n",
    "    sales2 = df2.groupby('model_id',as_index=False).agg(sales_w2 = ('sales_quantity', 'mean'))\n",
    "    sales3 = df3.groupby('model_id',as_index=False).agg(sales_w4 = ('sales_quantity', 'mean'))\n",
    "    \n",
    "    base = df_sales[['model_id']].drop_duplicates()\n",
    "    ec_d11_trend = base.merge(sales3, how='left').merge(sales2,how='left').merge(sales1,how='left')\n",
    "    \n",
    "    ec_d11_trend['d11_2w'] = ec_d11_trend['sales_d11'] / ec_d11_trend['sales_w2']\n",
    "    ec_d11_trend['d11_4w'] = ec_d11_trend['sales_d11'] / ec_d11_trend['sales_w4']\n",
    "    \n",
    "    \n",
    "    ec_d11_trend['ec_tag'] = np.nan\n",
    "    ec_d11_trend.loc[ec_d11_trend[ec_d11_trend['d11_4w'] >= 1.5].index, 'ec_tag'] = 'High'\n",
    "    ec_d11_trend.loc[ec_d11_trend[(ec_d11_trend['d11_4w'] < 1.5) & (ec_d11_trend['d11_2w'] > 2)].index, 'ec_tag'] = 'Low'\n",
    "\n",
    "    ec_d11_trend.loc[ec_d11_trend[ec_d11_trend['ec_tag'].isnull()].index, 'ec_tag'] = 'No'\n",
    "    \n",
    "    ec_d11_trend = ec_d11_trend[['model_id', 'ec_tag']]\n",
    "\n",
    "    return ec_d11_trend"
   ]
  },
  {
   "cell_type": "code",
   "execution_count": 25,
   "id": "294fd006",
   "metadata": {},
   "outputs": [],
   "source": [
    "ec_tag = creat_d11_trend2021(realized_sales)"
   ]
  },
  {
   "cell_type": "code",
   "execution_count": 26,
   "id": "141a5c55",
   "metadata": {},
   "outputs": [
    {
     "name": "stdout",
     "output_type": "stream",
     "text": [
      "<class 'pandas.core.frame.DataFrame'>\n",
      "Int64Index: 48733 entries, 0 to 48732\n",
      "Data columns (total 2 columns):\n",
      " #   Column    Non-Null Count  Dtype \n",
      "---  ------    --------------  ----- \n",
      " 0   model_id  48733 non-null  int64 \n",
      " 1   ec_tag    48733 non-null  object\n",
      "dtypes: int64(1), object(1)\n",
      "memory usage: 2.4+ MB\n"
     ]
    }
   ],
   "source": [
    "ec_tag.info()"
   ]
  },
  {
   "cell_type": "markdown",
   "id": "34ecac05",
   "metadata": {},
   "source": [
    "##### Seasonality label"
   ]
  },
  {
   "cell_type": "code",
   "execution_count": 27,
   "id": "83cb18b3",
   "metadata": {},
   "outputs": [],
   "source": [
    "all_seasonality = realized_sales.groupby(by='model_id',as_index=False).agg({'sales_quantity':['mean','std']})\n",
    "all_seasonality['annual_seasonality_ratio'] = all_seasonality['sales_quantity']['std'] / all_seasonality['sales_quantity']['mean']\n",
    "all_seasonality['annual_seasonality'] = ['Normal' if i <= 0.6 else 'Seasonal' for i in all_seasonality['annual_seasonality_ratio']]\n",
    "all_seasonality.columns = ['model_id','salse_std','sales_mean','annual_seasonality_ratio','annual_seasonality']\n",
    "\n",
    "aw_seasonality = realized_sales[(realized_sales.week_id >= 202138) & (realized_sales.week_id <= 202152)]\\\n",
    ".groupby(by='model_id',as_index=False).agg({'sales_quantity':['mean','std']})\n",
    "aw_seasonality['aw_seasonality_ratio'] = aw_seasonality['sales_quantity']['std'] / aw_seasonality['sales_quantity']['mean']\n",
    "aw_seasonality['aw_seasonality'] = ['Normal' if i <= 0.6 else 'Seasonal' for i in aw_seasonality['aw_seasonality_ratio']]\n",
    "aw_seasonality.columns = ['model_id','salse_std','sales_mean','aw_seasonality_ratio','aw_seasonality']"
   ]
  },
  {
   "cell_type": "code",
   "execution_count": 28,
   "id": "1c6f9b1f",
   "metadata": {},
   "outputs": [
    {
     "name": "stdout",
     "output_type": "stream",
     "text": [
      "<class 'pandas.core.frame.DataFrame'>\n",
      "Int64Index: 48733 entries, 0 to 48732\n",
      "Data columns (total 5 columns):\n",
      " #   Column                    Non-Null Count  Dtype  \n",
      "---  ------                    --------------  -----  \n",
      " 0   model_id                  48733 non-null  int64  \n",
      " 1   salse_std                 48733 non-null  float64\n",
      " 2   sales_mean                43736 non-null  float64\n",
      " 3   annual_seasonality_ratio  43736 non-null  float64\n",
      " 4   annual_seasonality        48733 non-null  object \n",
      "dtypes: float64(3), int64(1), object(1)\n",
      "memory usage: 2.2+ MB\n"
     ]
    }
   ],
   "source": [
    "all_seasonality.info()"
   ]
  },
  {
   "cell_type": "code",
   "execution_count": 29,
   "id": "66ee044f",
   "metadata": {},
   "outputs": [
    {
     "name": "stdout",
     "output_type": "stream",
     "text": [
      "<class 'pandas.core.frame.DataFrame'>\n",
      "Int64Index: 18967 entries, 0 to 18966\n",
      "Data columns (total 5 columns):\n",
      " #   Column                Non-Null Count  Dtype  \n",
      "---  ------                --------------  -----  \n",
      " 0   model_id              18967 non-null  int64  \n",
      " 1   salse_std             18967 non-null  float64\n",
      " 2   sales_mean            16694 non-null  float64\n",
      " 3   aw_seasonality_ratio  16694 non-null  float64\n",
      " 4   aw_seasonality        18967 non-null  object \n",
      "dtypes: float64(3), int64(1), object(1)\n",
      "memory usage: 889.1+ KB\n"
     ]
    }
   ],
   "source": [
    "aw_seasonality.info()"
   ]
  },
  {
   "cell_type": "markdown",
   "id": "d3249c74",
   "metadata": {},
   "source": [
    "### Calculating WPE and WAPE"
   ]
  },
  {
   "cell_type": "markdown",
   "id": "582d4266",
   "metadata": {},
   "source": [
    "##### Generate base"
   ]
  },
  {
   "cell_type": "code",
   "execution_count": 30,
   "id": "356e048c",
   "metadata": {},
   "outputs": [],
   "source": [
    "realized_sales = realized_sales.rename(columns={'week_id':'target'})"
   ]
  },
  {
   "cell_type": "code",
   "execution_count": 31,
   "id": "e73ae473",
   "metadata": {},
   "outputs": [],
   "source": [
    "base = ai_forecast[['model_id','cut_off','target','forecast','forecast_step']]\\\n",
    ".merge(realized_sales[['model_id','target','sales_quantity']],on=['model_id','target'],how='left')\\\n",
    ".merge(fore,on=['model_id','cut_off','target'],how='left')\\\n",
    ".merge(df_price,on='model_id',how='left')\\\n",
    ".merge(start_selling_week,on='model_id',how='left')"
   ]
  },
  {
   "cell_type": "code",
   "execution_count": 32,
   "id": "95d2cdec",
   "metadata": {},
   "outputs": [
    {
     "data": {
      "text/html": [
       "<div>\n",
       "<style scoped>\n",
       "    .dataframe tbody tr th:only-of-type {\n",
       "        vertical-align: middle;\n",
       "    }\n",
       "\n",
       "    .dataframe tbody tr th {\n",
       "        vertical-align: top;\n",
       "    }\n",
       "\n",
       "    .dataframe thead th {\n",
       "        text-align: right;\n",
       "    }\n",
       "</style>\n",
       "<table border=\"1\" class=\"dataframe\">\n",
       "  <thead>\n",
       "    <tr style=\"text-align: right;\">\n",
       "      <th></th>\n",
       "      <th>model_id</th>\n",
       "      <th>cut_off</th>\n",
       "      <th>target</th>\n",
       "      <th>forecast</th>\n",
       "      <th>forecast_step</th>\n",
       "      <th>sales_quantity</th>\n",
       "      <th>apo_gd</th>\n",
       "      <th>initial_price</th>\n",
       "      <th>start_week</th>\n",
       "      <th>last_week</th>\n",
       "      <th>selling_length</th>\n",
       "    </tr>\n",
       "  </thead>\n",
       "  <tbody>\n",
       "    <tr>\n",
       "      <th>0</th>\n",
       "      <td>720719</td>\n",
       "      <td>202101</td>\n",
       "      <td>202101</td>\n",
       "      <td>53</td>\n",
       "      <td>1</td>\n",
       "      <td>25.0</td>\n",
       "      <td>NaN</td>\n",
       "      <td>20.762043</td>\n",
       "      <td>201601</td>\n",
       "      <td>202203</td>\n",
       "      <td>&gt;1year</td>\n",
       "    </tr>\n",
       "    <tr>\n",
       "      <th>1</th>\n",
       "      <td>720719</td>\n",
       "      <td>202102</td>\n",
       "      <td>202102</td>\n",
       "      <td>40</td>\n",
       "      <td>1</td>\n",
       "      <td>20.0</td>\n",
       "      <td>NaN</td>\n",
       "      <td>20.762043</td>\n",
       "      <td>201601</td>\n",
       "      <td>202203</td>\n",
       "      <td>&gt;1year</td>\n",
       "    </tr>\n",
       "  </tbody>\n",
       "</table>\n",
       "</div>"
      ],
      "text/plain": [
       "   model_id  cut_off  target  forecast  forecast_step  sales_quantity  apo_gd  \\\n",
       "0    720719   202101  202101        53              1            25.0     NaN   \n",
       "1    720719   202102  202102        40              1            20.0     NaN   \n",
       "\n",
       "   initial_price  start_week  last_week selling_length  \n",
       "0      20.762043      201601     202203         >1year  \n",
       "1      20.762043      201601     202203         >1year  "
      ]
     },
     "execution_count": 32,
     "metadata": {},
     "output_type": "execute_result"
    }
   ],
   "source": [
    "base.head(2)"
   ]
  },
  {
   "cell_type": "code",
   "execution_count": 33,
   "id": "ad9e4b83",
   "metadata": {},
   "outputs": [],
   "source": [
    "# remove future weeks that could not do the back test\n",
    "base = base[base.target <= 202203]\n",
    "\n",
    "# To analyze models still have sales until now\n",
    "base = base[base.last_week >= 202203]\n",
    "\n",
    "# remove model_id with no price, which means there was no sales for this model since 2021W1 but the MRP status is active \n",
    "base = base[base.initial_price.isna() == False]\n",
    "\n",
    "# fill N/A sales quantity with 0\n",
    "base.sales_quantity = base.sales_quantity.fillna(0)"
   ]
  },
  {
   "cell_type": "code",
   "execution_count": 34,
   "id": "07586ffa",
   "metadata": {},
   "outputs": [
    {
     "data": {
      "text/plain": [
       "model_id                0\n",
       "cut_off                 0\n",
       "target                  0\n",
       "forecast                0\n",
       "forecast_step           0\n",
       "sales_quantity          0\n",
       "apo_gd            2617574\n",
       "initial_price           0\n",
       "start_week              0\n",
       "last_week               0\n",
       "selling_length          0\n",
       "dtype: int64"
      ]
     },
     "execution_count": 34,
     "metadata": {},
     "output_type": "execute_result"
    }
   ],
   "source": [
    "# check base\n",
    "base.isna().sum()"
   ]
  },
  {
   "cell_type": "markdown",
   "id": "33f7e10f",
   "metadata": {},
   "source": [
    "##### WPE 4W"
   ]
  },
  {
   "cell_type": "code",
   "execution_count": 35,
   "id": "0f38e2ad",
   "metadata": {},
   "outputs": [],
   "source": [
    "def wpe_func(forecast_base,horizon,forecast):\n",
    "    if forecast == 'apo_gd':\n",
    "        cutoff = apo_cutoff\n",
    "    else:\n",
    "        cutoff = ai_cut_off\n",
    "    recent_sales = forecast_base[forecast_base.sales_quantity.isna()==False].target.max()\n",
    "    cutoff = [i for i in cutoff if get_week_id(i,horizon) <= recent_sales]\n",
    "    wpe = forecast_base[(forecast_base.forecast_step <= horizon) \\\n",
    "                        & (forecast_base.cut_off.isin(cutoff))\\\n",
    "                        & (forecast_base.target <= recent_sales)]\\\n",
    "    .groupby(by=['cut_off','model_id'],as_index=False).agg({'sales_quantity':'sum',\n",
    "                                                            forecast:'sum',\n",
    "                                                            'initial_price':'mean'})\n",
    "    wpe['gap_qty'] = abs(wpe['sales_quantity'] - wpe[forecast])\n",
    "    wpe['gap_to'] = (wpe['gap_qty'] * wpe['initial_price']).astype(int)\n",
    "    wpe['wpe_{}W_qty'.format(horizon)] = wpe['gap_qty']/wpe['sales_quantity'] \n",
    "    wpe['total_to'] = (wpe['sales_quantity'] * wpe['initial_price']).astype(int)\n",
    "    wpe = wpe.fillna(0)    \n",
    "    wpe_all = wpe.groupby(by='cut_off',as_index=False).agg({'gap_qty':'sum','sales_quantity':'sum',\n",
    "                                                            'gap_to':'sum','total_to':'sum'})\n",
    "    wpe_all['wpe_{}W_qty'.format(horizon)] = wpe_all['gap_qty']/wpe_all['sales_quantity']\n",
    "    wpe['wpe_{}W_to'.format(horizon)] = wpe['gap_to']/wpe['total_to']\n",
    "  \n",
    "    return wpe, wpe_all\n",
    "\n",
    "\n",
    "def wpe_all(data,horizon):\n",
    "    data_ = data.groupby(by=['model_id'],as_index=False).agg({'gap_qty':'sum','sales_quantity':'sum',\n",
    "                                                          'gap_to':'sum','total_to':'sum'})\n",
    "\n",
    "    data_['wpe_{}W_qty'.format(horizon)] = data_['gap_qty']/data_['sales_quantity']\n",
    "    data_['wpe_{}W_to'.format(horizon)] = data_['gap_to']/data_['total_to']\n",
    "    return data_"
   ]
  },
  {
   "cell_type": "code",
   "execution_count": 36,
   "id": "a49cd645",
   "metadata": {},
   "outputs": [],
   "source": [
    "# Generate wpe 4W of APO global demand\n",
    "df_wpe_gd = wpe_func(base,4,'apo_gd')[0]\n",
    "df_wpe_all_gd = wpe_all(df_wpe_gd,4)\n",
    "df_wpe_all_gd.columns = ['model_id','gap_qty','sales_quantity','gap_to','total_to','wpe_4W_qty_gd','wpe_4W_to_gd']"
   ]
  },
  {
   "cell_type": "code",
   "execution_count": 37,
   "id": "711d4794",
   "metadata": {},
   "outputs": [],
   "source": [
    "# Generate wpe 4W of AI\n",
    "df_wpe_ai = wpe_func(base,4,'forecast')[0]\n",
    "df_wpe_all_ai = wpe_all(df_wpe_ai,4)\n",
    "df_wpe_all_ai.columns = ['model_id','gap_qty','sales_quantity','gap_to','total_to','wpe_4W_qty_ai','wpe_4W_to_ai']"
   ]
  },
  {
   "cell_type": "code",
   "execution_count": 38,
   "id": "9fe2c9da",
   "metadata": {},
   "outputs": [],
   "source": [
    "wpe = pd.pivot_table(data=df_wpe_ai, columns='cut_off', index='model_id', values='wpe_4W_qty')\n",
    "wpe = wpe.reset_index()"
   ]
  },
  {
   "cell_type": "code",
   "execution_count": null,
   "id": "3d081f0a",
   "metadata": {},
   "outputs": [],
   "source": [
    "# save result\n",
    "wpe.to_csv('wpe_all_cutoffs.csv',index=False)"
   ]
  },
  {
   "cell_type": "markdown",
   "id": "44d0a517",
   "metadata": {},
   "source": [
    "##### WAPE 10W"
   ]
  },
  {
   "cell_type": "code",
   "execution_count": 39,
   "id": "1711da96",
   "metadata": {},
   "outputs": [],
   "source": [
    "def wape_func(forecast_base,horizon,forecast):\n",
    "    if forecast == 'apo_gd':\n",
    "        cutoff = apo_cutoff\n",
    "    else:\n",
    "        cutoff = ai_cut_off\n",
    "    recent_sales = forecast_base[forecast_base.sales_quantity.isna()==False].target.max()\n",
    "    cutoff = [i for i in cutoff if get_week_id(i,horizon) <= recent_sales]\n",
    "    wape = forecast_base[(forecast_base.forecast_step <= horizon)\\\n",
    "                         & (forecast_base.cut_off.isin(cutoff))]\\\n",
    "    .groupby(by=['cut_off','model_id','forecast_step'],as_index=False).agg({'sales_quantity':'sum',\n",
    "                                                                            forecast:'sum','initial_price':'mean'})\n",
    "    wape['gap_qty'] = abs(wape['sales_quantity'] - wape[forecast])\n",
    "    wape['gap_to'] = (wape['gap_qty'] * wape['initial_price']).astype(int)\n",
    "    wape['total_to'] = (wape['sales_quantity'] * wape['initial_price']).astype(int)\n",
    "\n",
    "    wape['wape_{}W_qty'.format(horizon)] = wape['gap_qty']/wape['sales_quantity']\n",
    "    wape['wape_{}W_to'.format(horizon)] = wape['gap_to']/wape['total_to']\n",
    "    \n",
    "    wape = wape.fillna(0)\n",
    "    \n",
    "    wape_all = wape.groupby(by=['model_id','cut_off'],as_index=False).agg({'gap_qty':'sum','sales_quantity':'sum',\n",
    "                                                                           'gap_to':'sum','total_to':'sum'})\n",
    "    wape_all['wape_{}W_qty'.format(horizon)] = wape_all['gap_qty']/wape_all['sales_quantity']\n",
    "    wape_all['wape_{}W_to'.format(horizon)] = wape_all['gap_to']/wape_all['total_to']\n",
    "    \n",
    "    return wape, wape_all\n",
    "\n",
    "def wape_all(data,horizon):\n",
    "    data_ = data.groupby(by=['model_id'],as_index=False).agg({'gap_qty':'sum','sales_quantity':'sum',\n",
    "                                                              'gap_to':'sum','total_to':'sum'})\n",
    "\n",
    "    data_['wape_{}W_qty'.format(horizon)] = data_['gap_qty']/data_['sales_quantity']\n",
    "    data_['wape_{}W_to'.format(horizon)] = data_['gap_to']/data_['total_to']\n",
    "    return data_"
   ]
  },
  {
   "cell_type": "code",
   "execution_count": 40,
   "id": "04b08506",
   "metadata": {},
   "outputs": [],
   "source": [
    "# Generate wape 10W of APO global demand\n",
    "df_wape_gd = wape_func(base,10,'apo_gd')[0]\n",
    "df_wape_all_gd = wape_all(df_wape_gd,10)\n",
    "df_wape_all_gd.columns = ['model_id','gap_qty','sales_quantity','gap_to','total_to','wape_10W_qty_gd','wape_10W_to_gd']"
   ]
  },
  {
   "cell_type": "code",
   "execution_count": 41,
   "id": "3a66fce6",
   "metadata": {},
   "outputs": [],
   "source": [
    "# Generate wape 10W of AI\n",
    "df_wape_ai = wape_func(base,10,'forecast')[0]\n",
    "df_wape_all_ai = wape_all(df_wape_ai,10)\n",
    "df_wape_all_ai.columns = ['model_id','gap_qty','sales_quantity','gap_to','total_to','wape_10W_qty_ai','wape_10W_to_ai']"
   ]
  },
  {
   "cell_type": "code",
   "execution_count": 42,
   "id": "06f84bd7",
   "metadata": {},
   "outputs": [],
   "source": [
    "wape = pd.pivot_table(data=wape_func(base,10,'forecast')[1], columns='cut_off', index='model_id', values='wape_10W_qty')\n",
    "wape = wape.reset_index()"
   ]
  },
  {
   "cell_type": "code",
   "execution_count": null,
   "id": "50deff11",
   "metadata": {},
   "outputs": [],
   "source": [
    "wape.to_csv('wape_all_cutoffs.csv',index=False)"
   ]
  },
  {
   "cell_type": "markdown",
   "id": "8ea85775",
   "metadata": {},
   "source": [
    "##### Analysis"
   ]
  },
  {
   "cell_type": "code",
   "execution_count": 131,
   "id": "63969c44",
   "metadata": {},
   "outputs": [],
   "source": [
    "piloted = df_wpe_all_ai[['model_id','wpe_4W_qty_ai','wpe_4W_to_ai']]\\\n",
    ".merge(df_wape_all_ai[['model_id','wape_10W_qty_ai','wape_10W_to_ai']],on='model_id',how='left')\\\n",
    ".merge(start_selling_week,on='model_id',how='left')\\\n",
    ".merge(ec_tag,on='model_id',how='left')\\\n",
    ".merge(aw_seasonality[['model_id','aw_seasonality_ratio','aw_seasonality']],on='model_id',how='left')\\\n",
    ".merge(all_seasonality[['model_id','annual_seasonality_ratio','annual_seasonality']],on='model_id',how='left')"
   ]
  },
  {
   "cell_type": "code",
   "execution_count": 132,
   "id": "66309fdf",
   "metadata": {},
   "outputs": [],
   "source": [
    "# to check if reach target\n",
    "piloted['wpe_reach_target'] = [True if i <= 0.18 else False for i in piloted.wpe_4W_qty_ai]\n",
    "piloted['wape_reach_target'] = [True if i <= 0.27 else False for i in piloted.wape_10W_qty_ai]\n",
    "\n",
    "wpe_reach_target = df_wpe_ai[df_wpe_ai.wpe_4W_qty <= 0.18].groupby(by='model_id',as_index=False)\\\n",
    ".agg(num_wpe_reach_target=('cut_off','count'))\n",
    "\n",
    "wape_all = wape_func(base,10,'forecast')[1]\n",
    "wape_reach_target = wape_all[wape_all.wape_10W_qty <= 0.27].groupby(by='model_id',as_index=False)\\\n",
    ".agg(num_wape_reach_target=('cut_off','count'))\n",
    "\n",
    "wpe_profile = df_wpe_ai.groupby(by='model_id',as_index=False).agg(wpe_std=('wpe_4W_qty','std'),\n",
    "                                                                  wpe_max=('wpe_4W_qty','max'))\n",
    "\n",
    "wape_profile = wape_all.groupby(by='model_id',as_index=False).agg(wape_std=('wape_10W_qty','std'),\n",
    "                                                                  wape_max=('wape_10W_qty','max'))"
   ]
  },
  {
   "cell_type": "code",
   "execution_count": 134,
   "id": "74c5bb52",
   "metadata": {},
   "outputs": [],
   "source": [
    "# generate tier\n",
    "def tier_generation(data):\n",
    "    data['tier'] = np.nan\n",
    "    data.loc[data[(data.annual_seasonality == 'Normal') & (data.selling_length == '>1year')\\\n",
    "                  & (data.ec_tag == 'No')].index, 'tier'] = 'Tier_1'\n",
    "    # Tier 2\n",
    "    data.loc[data[(data.annual_seasonality == 'Normal') & (data.selling_length == '>1year')\\\n",
    "                  & (data.ec_tag.isin(['High','Low']))].index, 'tier'] = 'Tier_2'\n",
    "    data.loc[data[(data.annual_seasonality == 'Normal') & (data.selling_length == '20-52W')].index, 'tier'] = 'Tier_2'\n",
    "    # Tier 3\n",
    "    data.loc[data[(data.annual_seasonality == 'Seasonal') & (data.selling_length == '>1year')].index, 'tier'] = 'Tier_3'\n",
    "    data.loc[data[(data.annual_seasonality != 'Normal') & (data.aw_seasonality == 'Seasonal')\\\n",
    "                  & (data.selling_length == '>1year')].index, 'tier'] = 'Tier_3'\n",
    "    # Tier 4\n",
    "    data.loc[data[(data.annual_seasonality == 'Normal') & (data.selling_length == '<20W')].index, 'tier'] = 'Tier_4'\n",
    "    data.loc[data[(data.annual_seasonality == 'Seasonal') & (data.selling_length != '>1year')].index, 'tier'] = 'Tier_4'\n",
    "    return data\n",
    "\n",
    "piloted = tier_generation(piloted)"
   ]
  },
  {
   "cell_type": "code",
   "execution_count": 133,
   "id": "fadebe4d",
   "metadata": {},
   "outputs": [],
   "source": [
    "# Wheteher 2021 Code A\n",
    "with open('codeA_2021.yaml') as config_file:\n",
    "    codea_list = yaml.full_load(config_file)\n",
    "piloted['AW2021_CodeA'] = [True if i in codea_list['aw2021_codea'] else False for i in piloted.model_id]"
   ]
  },
  {
   "cell_type": "code",
   "execution_count": 85,
   "id": "b28b3062",
   "metadata": {},
   "outputs": [],
   "source": [
    "# mapping family, sports and RS information\n",
    "df_tree = read_multipart_parquet_s3('fcst-workspace/forecast-cn/fcst-refined-demand-forecast-dev',\n",
    "                                    'global/model_week_tree', prefix_filename='part-')\n",
    "df_tree = df_tree[(df_tree.week_id == 202203)]\n",
    "\n",
    "rs_info = read_multipart_parquet_s3('fcst-workspace/forecast-cn/fcst-refined-demand-forecast-dev',\n",
    "                                    'global/family_rs_mapping.parquet', prefix_filename='part-')\n",
    "rs_info = rs_info[['Family','RS Email Address']]\n",
    "rs_info.columns = ['family_id','rs_email']"
   ]
  },
  {
   "cell_type": "code",
   "execution_count": 97,
   "id": "88441fab",
   "metadata": {},
   "outputs": [],
   "source": [
    "# fetch MRP status\n",
    "df_mrp = read_multipart_parquet_s3('fcst-workspace/forecast-cn/fcst-refined-demand-forecast-dev',\n",
    "                                    'global/model_week_mrp', prefix_filename='part-')\n",
    "df_mrp = df_mrp[(df_mrp.week_id == 202203)]"
   ]
  },
  {
   "cell_type": "code",
   "execution_count": 135,
   "id": "1d079422",
   "metadata": {},
   "outputs": [],
   "source": [
    "piloted = piloted.merge(df_tree[['model_id','family_id','univers_label','department_label']], on='model_id', how='left')\\\n",
    ".merge(rs_info, on='family_id', how='left')\\\n",
    ".merge(df_mrp,on='model_id', how='left')\\\n",
    ".merge(wpe_reach_target,on='model_id', how='left')\\\n",
    ".merge(wape_reach_target,on='model_id', how='left')\\\n",
    ".merge(wape_profile,on='model_id', how='left')\\\n",
    ".merge(wpe_profile,on='model_id', how='left')"
   ]
  },
  {
   "cell_type": "code",
   "execution_count": 139,
   "id": "8c7f12ff",
   "metadata": {},
   "outputs": [],
   "source": [
    "# export to CSV\n",
    "piloted[['model_id','is_mrp_active','AW2021_CodeA','rs_email','family_id','univers_label','department_label','tier',\n",
    "         'wpe_reach_target', 'wpe_4W_qty_ai','wpe_4W_to_ai','num_wpe_reach_target','wpe_std','wpe_max',\n",
    "         'wape_reach_target', 'wape_10W_qty_ai','wape_10W_to_ai','num_wape_reach_target','wape_std','wape_max',\n",
    "         'start_week', 'selling_length', 'ec_tag',\n",
    "         'aw_seasonality_ratio','aw_seasonality', 'annual_seasonality_ratio','annual_seasonality']]\\\n",
    ".to_csv('piloted_analysis.csv',index=False)"
   ]
  },
  {
   "cell_type": "code",
   "execution_count": 49,
   "id": "056b3d64",
   "metadata": {},
   "outputs": [
    {
     "name": "stdout",
     "output_type": "stream",
     "text": [
      "  annual_seasonality     gap_qty  sales_quantity  wpe_4W_all\n",
      "0             Normal  41022363.0     236308818.0    0.173596\n",
      "1           Seasonal  66470511.0     245211616.0    0.271074\n",
      "  selling_length     gap_qty  sales_quantity  wpe_4W_all\n",
      "0         20-52W   9816008.0      30912203.0    0.317545\n",
      "1           <20W     59771.0        122404.0    0.488309\n",
      "2         >1year  97617095.0     450485827.0    0.216693\n",
      "     tier     gap_qty  sales_quantity  wpe_4W_all\n",
      "0  Tier_1  29720810.0     179897893.0    0.165209\n",
      "1  Tier_2  11258530.0      56319973.0    0.199903\n",
      "2  Tier_3  60891493.0     230623204.0    0.264030\n",
      "3  Tier_4   5622041.0      14679364.0    0.382989\n"
     ]
    }
   ],
   "source": [
    "data = df_wpe_all_ai.merge(piloted[['model_id','annual_seasonality','selling_length','tier']],on='model_id',how='left')\n",
    "for dimension in ['annual_seasonality','selling_length','tier']:\n",
    "    data_ = data.groupby(by=[dimension],as_index=False).agg({'gap_qty':'sum','sales_quantity':'sum'})\n",
    "    data_['wpe_{}W_all'.format(4)] = data_['gap_qty']/data_['sales_quantity']\n",
    "    print(data_)"
   ]
  }
 ],
 "metadata": {
  "kernelspec": {
   "display_name": "conda_python3",
   "language": "python",
   "name": "conda_python3"
  },
  "language_info": {
   "codemirror_mode": {
    "name": "ipython",
    "version": 3
   },
   "file_extension": ".py",
   "mimetype": "text/x-python",
   "name": "python",
   "nbconvert_exporter": "python",
   "pygments_lexer": "ipython3",
   "version": "3.6.13"
  }
 },
 "nbformat": 4,
 "nbformat_minor": 5
}

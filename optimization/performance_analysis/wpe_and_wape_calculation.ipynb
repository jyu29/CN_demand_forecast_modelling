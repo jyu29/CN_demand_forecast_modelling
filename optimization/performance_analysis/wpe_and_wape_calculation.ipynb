{
 "cells": [
  {
   "cell_type": "markdown",
   "id": "7a7815ae",
   "metadata": {},
   "source": [
    "#### WPE & WAPE Calculation"
   ]
  },
  {
   "cell_type": "code",
   "execution_count": 1,
   "id": "5590d16c",
   "metadata": {},
   "outputs": [
    {
     "name": "stdout",
     "output_type": "stream",
     "text": [
      "Collecting uritools\n",
      "  Downloading uritools-3.0.2-py3-none-any.whl (12 kB)\n",
      "Installing collected packages: uritools\n",
      "Successfully installed uritools-3.0.2\n"
     ]
    }
   ],
   "source": [
    "!pip install uritools"
   ]
  },
  {
   "cell_type": "code",
   "execution_count": 2,
   "id": "9a43a24d",
   "metadata": {},
   "outputs": [],
   "source": [
    "import pandas as pd\n",
    "import numpy as np\n",
    "import boto3\n",
    "import pyarrow.parquet as pq\n",
    "import s3fs\n",
    "import math\n",
    "import yaml\n",
    "\n",
    "import sys\n",
    "sys.path.append('../../')\n",
    "from src.utils import read_multipart_parquet_s3, write_df_to_parquet_on_s3"
   ]
  },
  {
   "cell_type": "markdown",
   "id": "fab0a088",
   "metadata": {},
   "source": [
    "##### Fetch data\n",
    "- Fetch realized sales"
   ]
  },
  {
   "cell_type": "code",
   "execution_count": 3,
   "id": "3e3ffaca",
   "metadata": {},
   "outputs": [],
   "source": [
    "realized_sales = read_multipart_parquet_s3('fcst-workspace/forecast-cn/fcst-refined-demand-forecast-dev',\n",
    "                                       'global/model_week_sales', prefix_filename='part-')\n",
    "realized_sales = realized_sales.groupby(by=['model_id','week_id','date'],as_index=False).agg({'sales_quantity':'sum'})"
   ]
  },
  {
   "cell_type": "markdown",
   "id": "2ada296e",
   "metadata": {},
   "source": [
    "- Fetch AI forecast"
   ]
  },
  {
   "cell_type": "code",
   "execution_count": 5,
   "id": "8ac7c87f",
   "metadata": {},
   "outputs": [],
   "source": [
    "def keys(bucket_name, prefix='/', delimiter='/'):\n",
    "    prefix = prefix[1:] if prefix.startswith(delimiter) else prefix\n",
    "    bucket = boto3.resource('s3').Bucket(bucket_name)\n",
    "    return (_.key for _ in bucket.objects.filter(Prefix=prefix))\n",
    "\n",
    "def get_result_path(run_name,bucket_name,cut_off):\n",
    "    file = []\n",
    "    cutoff_l = []\n",
    "    for cutoff in cut_off:\n",
    "        for i in keys(bucket_name,\n",
    "                      prefix=f'forecast-cn/fcst-refined-demand-forecast-dev/specific/{run_name}/{run_name}-deepar-hw-{cutoff}/output/',\n",
    "                      delimiter='/'):\n",
    "            file.append(i)\n",
    "            cutoff_l.append(cutoff)\n",
    "    file_df = pd.DataFrame({'cut_off':cutoff_l,'path':file})\n",
    "    file_df = file_df[[i.endswith('parquet.out') for i in file_df.path]]\n",
    "    return file_df\n",
    "\n",
    "def get_week_id(str_,step):\n",
    "    str_ = str(str_)\n",
    "    year = int(str_[:4])\n",
    "    week = int(str_[4:])\n",
    "    step = step - 1\n",
    "    if week + step <= 52:\n",
    "        if week+step < 10:\n",
    "            return int(str(year) + '0' +str(week + step))\n",
    "        else:\n",
    "            return int(str(year) + str(week + step))\n",
    "    else:\n",
    "        round_ = math.floor((week + step) / 52)\n",
    "        year = year + round_\n",
    "        week = week + step - 52 * round_\n",
    "        if week < 10:\n",
    "            return int(str(year) + '0' + str(week))\n",
    "        else:\n",
    "            return int(str(year) + str(week))"
   ]
  },
  {
   "cell_type": "code",
   "execution_count": 11,
   "id": "0b58d862",
   "metadata": {},
   "outputs": [],
   "source": [
    "# To get all the path of model result\n",
    "run_name = 'piloted'\n",
    "ai_cut_off = [i for i in range(202001,202053)]\n",
    "bucket_name = 'fcst-workspace'\n",
    "file = get_result_path(run_name,bucket_name,ai_cut_off)"
   ]
  },
  {
   "cell_type": "code",
   "execution_count": 22,
   "id": "d894da95",
   "metadata": {},
   "outputs": [],
   "source": [
    "ai_forecast = pd.DataFrame()\n",
    "for w,f in file[['cut_off','path']].values:\n",
    "    try:\n",
    "        forecast_df = read_multipart_parquet_s3('fcst-workspace',f, prefix_filename='part-')\n",
    "        forecast_df['cut_off'] = int(w)\n",
    "    except:\n",
    "        forecast_df = pd.DataFrame()\n",
    "    ai_forecast = ai_forecast.append(forecast_df)\n",
    "    \n",
    "ai_forecast = ai_forecast[(ai_forecast.forecast_step <= 52)].groupby(by=['model_id','forecast_step','cut_off'],\n",
    "                                                  as_index=False).agg({'forecast':'sum'})\n",
    "ai_forecast['target'] = [get_week_id(x,y) for x,y in zip(ai_forecast['cut_off'], ai_forecast['forecast_step'])]"
   ]
  },
  {
   "cell_type": "code",
   "execution_count": 23,
   "id": "799ee63f",
   "metadata": {},
   "outputs": [
    {
     "name": "stdout",
     "output_type": "stream",
     "text": [
      "<class 'pandas.core.frame.DataFrame'>\n",
      "Int64Index: 17848688 entries, 0 to 17848687\n",
      "Data columns (total 5 columns):\n",
      " #   Column         Dtype\n",
      "---  ------         -----\n",
      " 0   model_id       int64\n",
      " 1   forecast_step  int64\n",
      " 2   cut_off        int64\n",
      " 3   forecast       int64\n",
      " 4   target         int64\n",
      "dtypes: int64(5)\n",
      "memory usage: 817.0 MB\n"
     ]
    }
   ],
   "source": [
    "ai_forecast.info(2)"
   ]
  },
  {
   "cell_type": "code",
   "execution_count": null,
   "id": "1b41aad6",
   "metadata": {},
   "outputs": [],
   "source": [
    "apo_gd = pd.read_csv('apo_gd.csv')"
   ]
  },
  {
   "cell_type": "code",
   "execution_count": null,
   "id": "f8e5a58b",
   "metadata": {},
   "outputs": [],
   "source": [
    "# transform the schema of apo global demand data\n",
    "cut_w, tar_w = pd.core.reshape.util.cartesian_product([apo_cutoff, apo_period])\n",
    "w = pd.DataFrame({'cut_off': cut_w, 'target': tar_w})\n",
    "w = w[(w.target - w.cut_off >= 0)]\n",
    "\n",
    "def get_value(data,x,y,col):\n",
    "    df = data[(data['Weeks of snapshot'] == x)][[str(y),'model_id']]\n",
    "    df[['cut_off','target']] = x,y\n",
    "    df.columns = [col,'model_id','cut_off','target']\n",
    "    return df[['cut_off','target','model_id',col]]\n",
    "\n",
    "fore = pd.DataFrame()\n",
    "for x, y in w.values:\n",
    "    tmp_fore = get_value(apo_gd,x,y,'apo_gd')\n",
    "    fore = fore.append(tmp_fore)"
   ]
  },
  {
   "cell_type": "markdown",
   "id": "2827aa37",
   "metadata": {},
   "source": [
    "- Fetch price"
   ]
  },
  {
   "cell_type": "code",
   "execution_count": 14,
   "id": "5cc9c73f",
   "metadata": {},
   "outputs": [],
   "source": [
    "# fetch price to calculate turnover\n",
    "price = read_multipart_parquet_s3('fcst-workspace/forecast-cn/fcst-refined-demand-forecast-dev',\n",
    "                                  'global/model_week_price', prefix_filename='part-')\n",
    "price = price[price.week_id >= min(ai_cut_off)].groupby(by=['model_id','week_id','date'],as_index=False).agg({'average_price':'mean'})"
   ]
  },
  {
   "cell_type": "code",
   "execution_count": 15,
   "id": "8dee8639",
   "metadata": {},
   "outputs": [],
   "source": [
    "df_price = price.groupby(by='model_id',as_index=False).agg(initial_price =('average_price','mean'))"
   ]
  },
  {
   "cell_type": "code",
   "execution_count": 16,
   "id": "ecb78767",
   "metadata": {},
   "outputs": [
    {
     "name": "stdout",
     "output_type": "stream",
     "text": [
      "<class 'pandas.core.frame.DataFrame'>\n",
      "Int64Index: 28932 entries, 0 to 28931\n",
      "Data columns (total 2 columns):\n",
      " #   Column         Non-Null Count  Dtype  \n",
      "---  ------         --------------  -----  \n",
      " 0   model_id       28932 non-null  int64  \n",
      " 1   initial_price  28932 non-null  float64\n",
      "dtypes: float64(1), int64(1)\n",
      "memory usage: 678.1 KB\n"
     ]
    }
   ],
   "source": [
    "df_price.info(2)"
   ]
  },
  {
   "cell_type": "markdown",
   "id": "e7b22c29",
   "metadata": {},
   "source": [
    "- Selling length"
   ]
  },
  {
   "cell_type": "code",
   "execution_count": 17,
   "id": "5434bdc7",
   "metadata": {},
   "outputs": [],
   "source": [
    "start_selling_week = realized_sales.groupby(by='model_id',as_index=False).agg(start_week=('week_id','min'),\n",
    "                                                                              last_week=('week_id','max')\n",
    "                                                                             )"
   ]
  },
  {
   "cell_type": "markdown",
   "id": "43d5342e",
   "metadata": {},
   "source": [
    "#### Generate WPE and WAPE"
   ]
  },
  {
   "cell_type": "code",
   "execution_count": 18,
   "id": "cb271e58",
   "metadata": {},
   "outputs": [],
   "source": [
    "realized_sales = realized_sales.rename(columns={'week_id':'target'})"
   ]
  },
  {
   "cell_type": "code",
   "execution_count": 26,
   "id": "f5259ec1",
   "metadata": {},
   "outputs": [],
   "source": [
    "base = ai_forecast[['model_id','cut_off','target','forecast','forecast_step']]\\\n",
    ".merge(realized_sales[['model_id','target','sales_quantity']],on=['model_id','target'],how='left')\\\n",
    ".merge(df_price,on='model_id',how='left')\\\n",
    ".merge(start_selling_week,on='model_id',how='left')\\"
   ]
  },
  {
   "cell_type": "code",
   "execution_count": 69,
   "id": "e6627d26",
   "metadata": {},
   "outputs": [],
   "source": [
    "# remove model_id with no price, which means there was no sales for this model since 2021W1 but the MRP status is active \n",
    "base = base[(base.initial_price.isna() == False) & (base.last_week >= 202152)]"
   ]
  },
  {
   "cell_type": "markdown",
   "id": "20dcc5b8",
   "metadata": {},
   "source": [
    "- WPE"
   ]
  },
  {
   "cell_type": "code",
   "execution_count": 72,
   "id": "10760e42",
   "metadata": {},
   "outputs": [],
   "source": [
    "def wpe_func(forecast_base,horizon,forecast):\n",
    "    if forecast == 'apo_gd':\n",
    "        cutoff = apo_cutoff\n",
    "    else:\n",
    "        cutoff = ai_cut_off\n",
    "    recent_sales = forecast_base[forecast_base.sales_quantity.isna()==False].target.max()\n",
    "    cutoff = [i for i in cutoff if get_week_id(i,horizon) <= recent_sales]\n",
    "    wpe = forecast_base[(forecast_base.forecast_step <= horizon) \\\n",
    "                        & (forecast_base.cut_off.isin(cutoff))\\\n",
    "                        & (forecast_base.target <= recent_sales)]\\\n",
    "    .groupby(by=['cut_off','model_id'],as_index=False).agg({'sales_quantity':'sum',\n",
    "                                                            forecast:'sum',\n",
    "                                                            'initial_price':'mean'})\n",
    "    wpe['gap_qty'] = abs(wpe['sales_quantity'] - wpe[forecast])\n",
    "    wpe['gap_to'] = (wpe['gap_qty'] * wpe['initial_price']).astype(int)\n",
    "    wpe['wpe_{}W_qty'.format(horizon)] = wpe['gap_qty']/wpe['sales_quantity'] \n",
    "    wpe['total_to'] = (wpe['sales_quantity'] * wpe['initial_price']).astype(int)\n",
    "    wpe = wpe.fillna(0)    \n",
    "    wpe_all = wpe.groupby(by='cut_off',as_index=False).agg({'gap_qty':'sum','sales_quantity':'sum',\n",
    "                                                            'gap_to':'sum','total_to':'sum'})\n",
    "    wpe_all['wpe_{}W_qty'.format(horizon)] = wpe_all['gap_qty']/wpe_all['sales_quantity']\n",
    "    wpe['wpe_{}W_to'.format(horizon)] = wpe['gap_to']/wpe['total_to']\n",
    "  \n",
    "    return wpe, wpe_all\n",
    "\n",
    "\n",
    "def wpe_all(data,horizon):\n",
    "    data_ = data.groupby(by=['model_id'],as_index=False).agg({'gap_qty':'sum','sales_quantity':'sum',\n",
    "                                                          'gap_to':'sum','total_to':'sum'})\n",
    "\n",
    "    data_['wpe_{}W_qty'.format(horizon)] = data_['gap_qty']/data_['sales_quantity']\n",
    "    data_['wpe_{}W_to'.format(horizon)] = data_['gap_to']/data_['total_to']\n",
    "    return data_"
   ]
  },
  {
   "cell_type": "code",
   "execution_count": 73,
   "id": "226b6950",
   "metadata": {},
   "outputs": [],
   "source": [
    "# Generate wpe 52W of AI\n",
    "df_wpe_ai = wpe_func(base,52,'forecast')[0]\n",
    "df_wpe_all_ai = wpe_all(df_wpe_ai,52)\n",
    "df_wpe_all_ai.columns = ['model_id','gap_qty','sales_quantity','gap_to','total_to','wpe_52W_qty_ai','wpe_52W_to_ai']"
   ]
  },
  {
   "cell_type": "code",
   "execution_count": 83,
   "id": "070506bf",
   "metadata": {},
   "outputs": [],
   "source": [
    "# 8333487, 8313985\n",
    "realized_sales[(realized_sales.model_id == 8333487)].to_csv('sales.csv',index=False)"
   ]
  },
  {
   "cell_type": "code",
   "execution_count": 96,
   "id": "564bc829",
   "metadata": {},
   "outputs": [],
   "source": [
    "df_wpe_all_ai.to_csv('wpe_by_model.csv',index=False)"
   ]
  },
  {
   "cell_type": "code",
   "execution_count": 55,
   "id": "ce636ef7",
   "metadata": {},
   "outputs": [],
   "source": [
    "def mul_wpe_all(data,horizon):\n",
    "    data_ = data.groupby(by=['cut_off'],as_index=False).agg({'gap_qty':'sum','sales_quantity':'sum',\n",
    "                                                          'gap_to':'sum','total_to':'sum'})\n",
    "\n",
    "    data_['wpe_{}W_qty'.format(horizon)] = data_['gap_qty']/data_['sales_quantity']\n",
    "    data_['wpe_{}W_to'.format(horizon)] = data_['gap_to']/data_['total_to']\n",
    "    return data_\n",
    "wpe_by_cutoff = mul_wpe_all(df_wpe_ai,52)"
   ]
  },
  {
   "cell_type": "code",
   "execution_count": 57,
   "id": "a1344385",
   "metadata": {},
   "outputs": [],
   "source": [
    "wpe_by_cutoff.to_csv('wpe_52.csv',index=False)"
   ]
  },
  {
   "cell_type": "markdown",
   "id": "67985fac",
   "metadata": {},
   "source": [
    "- WAPE"
   ]
  },
  {
   "cell_type": "code",
   "execution_count": 49,
   "id": "f43624e5",
   "metadata": {},
   "outputs": [],
   "source": [
    "def wape_func(forecast_base,horizon,forecast):\n",
    "    if forecast == 'apo_gd':\n",
    "        cutoff = apo_cutoff\n",
    "    else:\n",
    "        cutoff = ai_cut_off\n",
    "    recent_sales = forecast_base[forecast_base.sales_quantity.isna()==False].target.max()\n",
    "    cutoff = [i for i in cutoff if get_week_id(i,horizon) <= recent_sales]\n",
    "    wape = forecast_base[(forecast_base.forecast_step <= horizon)\\\n",
    "                         & (forecast_base.cut_off.isin(cutoff))]\\\n",
    "    .groupby(by=['cut_off','model_id','forecast_step'],as_index=False).agg({'sales_quantity':'sum',\n",
    "                                                                            forecast:'sum','initial_price':'mean'})\n",
    "    wape['gap_qty'] = abs(wape['sales_quantity'] - wape[forecast])\n",
    "    wape['gap_to'] = (wape['gap_qty'] * wape['initial_price']).astype(int)\n",
    "    wape['total_to'] = (wape['sales_quantity'] * wape['initial_price']).astype(int)\n",
    "\n",
    "    wape['wape_{}W_qty'.format(horizon)] = wape['gap_qty']/wape['sales_quantity']\n",
    "    wape['wape_{}W_to'.format(horizon)] = wape['gap_to']/wape['total_to']\n",
    "    \n",
    "    wape = wape.fillna(0)\n",
    "    \n",
    "    wape_all = wape.groupby(by=['model_id','cut_off'],as_index=False).agg({'gap_qty':'sum','sales_quantity':'sum',\n",
    "                                                                           'gap_to':'sum','total_to':'sum'})\n",
    "    wape_all['wape_{}W_qty'.format(horizon)] = wape_all['gap_qty']/wape_all['sales_quantity']\n",
    "    wape_all['wape_{}W_to'.format(horizon)] = wape_all['gap_to']/wape_all['total_to']\n",
    "    \n",
    "    return wape, wape_all\n",
    "\n",
    "def wape_all(data,horizon):\n",
    "    data_ = data.groupby(by=['model_id'],as_index=False).agg({'gap_qty':'sum','sales_quantity':'sum',\n",
    "                                                              'gap_to':'sum','total_to':'sum'})\n",
    "\n",
    "    data_['wape_{}W_qty'.format(horizon)] = data_['gap_qty']/data_['sales_quantity']\n",
    "    data_['wape_{}W_to'.format(horizon)] = data_['gap_to']/data_['total_to']\n",
    "    return data_"
   ]
  },
  {
   "cell_type": "code",
   "execution_count": 84,
   "id": "5424f564",
   "metadata": {},
   "outputs": [],
   "source": [
    "# Generate wape 10W of AI\n",
    "df_wape_ai = wape_func(base,52,'forecast')[0]\n",
    "df_wape_all_ai = wape_all(df_wape_ai,52)\n",
    "df_wape_all_ai.columns = ['model_id','gap_qty','sales_quantity','gap_to','total_to','wape_10W_qty_ai','wape_10W_to_ai']"
   ]
  },
  {
   "cell_type": "code",
   "execution_count": 90,
   "id": "613533b3",
   "metadata": {},
   "outputs": [],
   "source": [
    "def mul_wape_all(data,horizon):\n",
    "    data_ = data.groupby(by=['cut_off'],as_index=False).agg({'gap_qty':'sum','sales_quantity':'sum',\n",
    "                                                              'gap_to':'sum','total_to':'sum'})\n",
    "\n",
    "    data_['wape_{}W_qty'.format(horizon)] = data_['gap_qty']/data_['sales_quantity']\n",
    "    data_['wape_{}W_to'.format(horizon)] = data_['gap_to']/data_['total_to']\n",
    "    return data_\n",
    "wape_by_cutoff = mul_wape_all(wape_func(base,52,'forecast')[1],52)"
   ]
  },
  {
   "cell_type": "code",
   "execution_count": 92,
   "id": "326f4f26",
   "metadata": {},
   "outputs": [],
   "source": [
    "wape_by_cutoff.to_csv('wape_52.csv',index=False)"
   ]
  },
  {
   "cell_type": "code",
   "execution_count": 97,
   "id": "9a1a1d6e",
   "metadata": {},
   "outputs": [
    {
     "data": {
      "text/html": [
       "<div>\n",
       "<style scoped>\n",
       "    .dataframe tbody tr th:only-of-type {\n",
       "        vertical-align: middle;\n",
       "    }\n",
       "\n",
       "    .dataframe tbody tr th {\n",
       "        vertical-align: top;\n",
       "    }\n",
       "\n",
       "    .dataframe thead th {\n",
       "        text-align: right;\n",
       "    }\n",
       "</style>\n",
       "<table border=\"1\" class=\"dataframe\">\n",
       "  <thead>\n",
       "    <tr style=\"text-align: right;\">\n",
       "      <th></th>\n",
       "      <th>model_id</th>\n",
       "      <th>target</th>\n",
       "      <th>date</th>\n",
       "      <th>sales_quantity</th>\n",
       "    </tr>\n",
       "  </thead>\n",
       "  <tbody>\n",
       "  </tbody>\n",
       "</table>\n",
       "</div>"
      ],
      "text/plain": [
       "Empty DataFrame\n",
       "Columns: [model_id, target, date, sales_quantity]\n",
       "Index: []"
      ]
     },
     "execution_count": 97,
     "metadata": {},
     "output_type": "execute_result"
    }
   ],
   "source": [
    "realized_sales[realized_sales.model_id == 164123]"
   ]
  },
  {
   "cell_type": "code",
   "execution_count": null,
   "id": "43814695",
   "metadata": {},
   "outputs": [],
   "source": []
  }
 ],
 "metadata": {
  "kernelspec": {
   "display_name": "conda_python3",
   "language": "python",
   "name": "conda_python3"
  },
  "language_info": {
   "codemirror_mode": {
    "name": "ipython",
    "version": 3
   },
   "file_extension": ".py",
   "mimetype": "text/x-python",
   "name": "python",
   "nbconvert_exporter": "python",
   "pygments_lexer": "ipython3",
   "version": "3.6.13"
  }
 },
 "nbformat": 4,
 "nbformat_minor": 5
}

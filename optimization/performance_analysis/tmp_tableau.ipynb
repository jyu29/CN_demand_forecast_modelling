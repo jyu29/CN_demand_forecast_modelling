{
 "cells": [
  {
   "cell_type": "markdown",
   "id": "435d559e",
   "metadata": {},
   "source": [
    "#### WPE & WAPE Calculation"
   ]
  },
  {
   "cell_type": "code",
   "execution_count": 1,
   "id": "0ffbc6b1",
   "metadata": {},
   "outputs": [
    {
     "name": "stdout",
     "output_type": "stream",
     "text": [
      "Requirement already satisfied: uritools in /home/ec2-user/anaconda3/envs/python3/lib/python3.6/site-packages (3.0.2)\n"
     ]
    }
   ],
   "source": [
    "!pip install uritools"
   ]
  },
  {
   "cell_type": "code",
   "execution_count": 2,
   "id": "9e6a8178",
   "metadata": {},
   "outputs": [],
   "source": [
    "import pandas as pd\n",
    "import numpy as np\n",
    "import boto3\n",
    "import pyarrow.parquet as pq\n",
    "import s3fs\n",
    "import math\n",
    "import yaml\n",
    "\n",
    "import sys\n",
    "sys.path.append('../../')\n",
    "from src.utils import read_multipart_parquet_s3, write_df_to_parquet_on_s3,read_csv_s3"
   ]
  },
  {
   "cell_type": "code",
   "execution_count": 3,
   "id": "dd52e2a9",
   "metadata": {},
   "outputs": [],
   "source": [
    "with open('monitor_whitelist.yaml') as config_file:\n",
    "    monitor_wl = yaml.full_load(config_file)"
   ]
  },
  {
   "cell_type": "markdown",
   "id": "c1d811fe",
   "metadata": {},
   "source": [
    "##### Fetch data"
   ]
  },
  {
   "cell_type": "code",
   "execution_count": 13,
   "id": "fe2fc6a2",
   "metadata": {},
   "outputs": [],
   "source": [
    "df_tree = read_multipart_parquet_s3('fcst-workspace/forecast-cn/fcst-refined-demand-forecast-dev',\n",
    "                                    'global/model_week_tree', prefix_filename='part-')\n",
    "df_tree = df_tree[(df_tree.week_id == 202211)]"
   ]
  },
  {
   "cell_type": "code",
   "execution_count": 68,
   "id": "b4ff5ee1",
   "metadata": {},
   "outputs": [
    {
     "data": {
      "text/html": [
       "<div>\n",
       "<style scoped>\n",
       "    .dataframe tbody tr th:only-of-type {\n",
       "        vertical-align: middle;\n",
       "    }\n",
       "\n",
       "    .dataframe tbody tr th {\n",
       "        vertical-align: top;\n",
       "    }\n",
       "\n",
       "    .dataframe thead th {\n",
       "        text-align: right;\n",
       "    }\n",
       "</style>\n",
       "<table border=\"1\" class=\"dataframe\">\n",
       "  <thead>\n",
       "    <tr style=\"text-align: right;\">\n",
       "      <th></th>\n",
       "      <th>model_id</th>\n",
       "      <th>week_id</th>\n",
       "      <th>family_id</th>\n",
       "      <th>sub_department_id</th>\n",
       "      <th>department_id</th>\n",
       "      <th>univers_id</th>\n",
       "      <th>product_nature_id</th>\n",
       "      <th>model_label</th>\n",
       "      <th>family_label</th>\n",
       "      <th>sub_department_label</th>\n",
       "      <th>department_label</th>\n",
       "      <th>univers_label</th>\n",
       "      <th>product_nature_label</th>\n",
       "      <th>brand_label</th>\n",
       "      <th>brand_type</th>\n",
       "    </tr>\n",
       "  </thead>\n",
       "  <tbody>\n",
       "    <tr>\n",
       "      <th>2682312</th>\n",
       "      <td>8301690</td>\n",
       "      <td>202211</td>\n",
       "      <td>7026</td>\n",
       "      <td>1618</td>\n",
       "      <td>400</td>\n",
       "      <td>4</td>\n",
       "      <td>25179</td>\n",
       "      <td>ONRHYTHM 110 BLACK</td>\n",
       "      <td>WATCHES HRM PED</td>\n",
       "      <td>ELECTRONIC</td>\n",
       "      <td>RUNNING TRAIL A</td>\n",
       "      <td>RUNNING WALKING</td>\n",
       "      <td>HEART RATE MONITOR</td>\n",
       "      <td>KALENJI</td>\n",
       "      <td>MP</td>\n",
       "    </tr>\n",
       "  </tbody>\n",
       "</table>\n",
       "</div>"
      ],
      "text/plain": [
       "         model_id  week_id  family_id  sub_department_id  department_id  \\\n",
       "2682312   8301690   202211       7026               1618            400   \n",
       "\n",
       "         univers_id product_nature_id         model_label     family_label  \\\n",
       "2682312           4             25179  ONRHYTHM 110 BLACK  WATCHES HRM PED   \n",
       "\n",
       "        sub_department_label department_label    univers_label  \\\n",
       "2682312           ELECTRONIC  RUNNING TRAIL A  RUNNING WALKING   \n",
       "\n",
       "        product_nature_label brand_label brand_type  \n",
       "2682312   HEART RATE MONITOR     KALENJI         MP  "
      ]
     },
     "execution_count": 68,
     "metadata": {},
     "output_type": "execute_result"
    }
   ],
   "source": [
    "df_tree[(df_tree.model_id == 8301690) & (df_tree.week_id >= 202206)]"
   ]
  },
  {
   "cell_type": "code",
   "execution_count": 70,
   "id": "43adb7e7",
   "metadata": {},
   "outputs": [],
   "source": [
    "fcst_bi_static_feat = read_csv_s3('fcst-workspace', \n",
    "                                   'forecast-cn/fcst-data-exchange-dev/dashboard/tableau/total_cutoff/fcst_bi_static_feat_w.csv')"
   ]
  },
  {
   "cell_type": "code",
   "execution_count": 71,
   "id": "06976a67",
   "metadata": {},
   "outputs": [],
   "source": [
    "fcst_bi_static_feat = fcst_bi_static_feat.merge(df_tree[['model_id','family_id']],on='model_id')\n",
    "fcst_bi_static_feat = fcst_bi_static_feat[(fcst_bi_static_feat.family_id.isin(monitor_wl['pre_selection_family']))]"
   ]
  },
  {
   "cell_type": "code",
   "execution_count": 73,
   "id": "e8b4dace",
   "metadata": {},
   "outputs": [],
   "source": [
    "fcst_bi_static_feat[['model_id', 'wpe_reach_target', 'wape_reach_target',\n",
    "       'univers_label', 'department_label', 'family_label', 'rs_email',\n",
    "       'AW2021_CodeA', 'tier', 'model_label', 'ec_tag', 'selling_length',\n",
    "       'aw_seasonality', 'annual_seasonality', 'wpe_cutoff_ok_pct',\n",
    "       'wape_cutoff_ok_pct', 'update_time']].to_csv('fcst_bi_static_feat_w.csv',index=False)"
   ]
  },
  {
   "cell_type": "code",
   "execution_count": 74,
   "id": "a0740932",
   "metadata": {},
   "outputs": [],
   "source": [
    "fcst_bi_dynamic_feat = read_csv_s3('fcst-workspace', \n",
    "                                   'forecast-cn/fcst-data-exchange-dev/dashboard/tableau/total_cutoff/fcst_bi_dynamic_feat.csv')"
   ]
  },
  {
   "cell_type": "code",
   "execution_count": 75,
   "id": "7e6986db",
   "metadata": {},
   "outputs": [],
   "source": [
    "fcst_bi_dynamic_feat = fcst_bi_dynamic_feat.merge(df_tree[['model_id','family_id']],on='model_id')\n",
    "fcst_bi_dynamic_feat = fcst_bi_dynamic_feat[(fcst_bi_dynamic_feat.family_id.isin(monitor_wl['pre_selection_family']))]"
   ]
  },
  {
   "cell_type": "code",
   "execution_count": 76,
   "id": "b7287646",
   "metadata": {},
   "outputs": [],
   "source": [
    "fcst_bi_dynamic_feat[['model_id','week_id','weekly_average_price','num_store_following']]\\\n",
    ".to_csv('fcst_bi_dynamic_feat.csv',index=False)"
   ]
  },
  {
   "cell_type": "code",
   "execution_count": 10,
   "id": "19fa66f7",
   "metadata": {},
   "outputs": [],
   "source": [
    "fcst_bi_forecast_result = read_csv_s3('fcst-workspace', \n",
    "                                      'forecast-cn/fcst-data-exchange-dev/dashboard/tableau/total_cutoff/fcst_bi_forecast_result.csv')"
   ]
  },
  {
   "cell_type": "code",
   "execution_count": 11,
   "id": "c4bf6444",
   "metadata": {},
   "outputs": [
    {
     "data": {
      "text/plain": [
       "155040168.0"
      ]
     },
     "execution_count": 11,
     "metadata": {},
     "output_type": "execute_result"
    }
   ],
   "source": [
    "fcst_bi_forecast_result[(fcst_bi_forecast_result.algorithm == 'realized_sales') \\\n",
    "                        & (fcst_bi_forecast_result.qty_tag == 'sales_w')].quantity.sum()\n",
    "\n",
    "#51537265/152819899"
   ]
  },
  {
   "cell_type": "code",
   "execution_count": 14,
   "id": "274d0417",
   "metadata": {},
   "outputs": [],
   "source": [
    "fcst_bi_forecast_result = fcst_bi_forecast_result.merge(df_tree[['model_id','family_id']],on='model_id')\n",
    "fcst_bi_forecast_result = fcst_bi_forecast_result[(fcst_bi_forecast_result.family_id.isin(monitor_wl['pre_selection_family']))]"
   ]
  },
  {
   "cell_type": "code",
   "execution_count": 15,
   "id": "dae00015",
   "metadata": {},
   "outputs": [],
   "source": [
    "df_sales = read_multipart_parquet_s3('fcst-workspace/forecast-cn/fcst-refined-demand-forecast-dev',\n",
    "                                     'global/model_week_sales', prefix_filename='part-')"
   ]
  },
  {
   "cell_type": "code",
   "execution_count": 16,
   "id": "caead84b",
   "metadata": {},
   "outputs": [],
   "source": [
    "df_sales = df_sales.groupby(by=['model_id','week_id'],as_index=False).agg({'sales_quantity':'sum'})"
   ]
  },
  {
   "cell_type": "code",
   "execution_count": 24,
   "id": "65344fac",
   "metadata": {},
   "outputs": [],
   "source": [
    "fcst_bi_forecast_result_1 = fcst_bi_forecast_result[(fcst_bi_forecast_result.algorithm != 'realized_sales')][['model_id','week_id','algorithm','qty_tag','quantity']]\n",
    "model = fcst_bi_forecast_result_1.model_id.unique()"
   ]
  },
  {
   "cell_type": "code",
   "execution_count": 25,
   "id": "ffb24cf5",
   "metadata": {
    "collapsed": true,
    "jupyter": {
     "outputs_hidden": true
    }
   },
   "outputs": [
    {
     "name": "stderr",
     "output_type": "stream",
     "text": [
      "/home/ec2-user/anaconda3/envs/python3/lib/python3.6/site-packages/ipykernel/__main__.py:3: SettingWithCopyWarning: \n",
      "A value is trying to be set on a copy of a slice from a DataFrame.\n",
      "Try using .loc[row_indexer,col_indexer] = value instead\n",
      "\n",
      "See the caveats in the documentation: https://pandas.pydata.org/pandas-docs/stable/user_guide/indexing.html#returning-a-view-versus-a-copy\n",
      "  app.launch_new_instance()\n",
      "/home/ec2-user/anaconda3/envs/python3/lib/python3.6/site-packages/ipykernel/__main__.py:4: SettingWithCopyWarning: \n",
      "A value is trying to be set on a copy of a slice from a DataFrame.\n",
      "Try using .loc[row_indexer,col_indexer] = value instead\n",
      "\n",
      "See the caveats in the documentation: https://pandas.pydata.org/pandas-docs/stable/user_guide/indexing.html#returning-a-view-versus-a-copy\n"
     ]
    }
   ],
   "source": [
    "#sales_w\n",
    "df = df_sales[(df_sales.model_id.isin(model)) & (df_sales.week_id >= 202101) & (df_sales.week_id <= 202210)]\n",
    "df['algorithm'] = 'realized_sales'\n",
    "df['qty_tag'] = 'sales_w'\n",
    "df = df.rename(columns = {'sales_quantity':'quantity'})\n",
    "df = df[['model_id','week_id','algorithm','qty_tag','quantity']]"
   ]
  },
  {
   "cell_type": "code",
   "execution_count": 35,
   "id": "f6256f49",
   "metadata": {
    "collapsed": true,
    "jupyter": {
     "outputs_hidden": true
    }
   },
   "outputs": [
    {
     "name": "stderr",
     "output_type": "stream",
     "text": [
      "/home/ec2-user/anaconda3/envs/python3/lib/python3.6/site-packages/ipykernel/__main__.py:2: SettingWithCopyWarning: \n",
      "A value is trying to be set on a copy of a slice from a DataFrame.\n",
      "Try using .loc[row_indexer,col_indexer] = value instead\n",
      "\n",
      "See the caveats in the documentation: https://pandas.pydata.org/pandas-docs/stable/user_guide/indexing.html#returning-a-view-versus-a-copy\n",
      "  from ipykernel import kernelapp as app\n",
      "/home/ec2-user/anaconda3/envs/python3/lib/python3.6/site-packages/ipykernel/__main__.py:3: SettingWithCopyWarning: \n",
      "A value is trying to be set on a copy of a slice from a DataFrame.\n",
      "Try using .loc[row_indexer,col_indexer] = value instead\n",
      "\n",
      "See the caveats in the documentation: https://pandas.pydata.org/pandas-docs/stable/user_guide/indexing.html#returning-a-view-versus-a-copy\n",
      "  app.launch_new_instance()\n",
      "/home/ec2-user/anaconda3/envs/python3/lib/python3.6/site-packages/ipykernel/__main__.py:4: SettingWithCopyWarning: \n",
      "A value is trying to be set on a copy of a slice from a DataFrame.\n",
      "Try using .loc[row_indexer,col_indexer] = value instead\n",
      "\n",
      "See the caveats in the documentation: https://pandas.pydata.org/pandas-docs/stable/user_guide/indexing.html#returning-a-view-versus-a-copy\n"
     ]
    }
   ],
   "source": [
    "df2 = df_sales[(df_sales.model_id.isin(model)) & (df_sales.week_id >= 202001) & (df_sales.week_id <= 202110)]\n",
    "df2['week_id'] = df2['week_id'].apply(lambda x:x+100)\n",
    "df2['algorithm'] = 'realized_sales'\n",
    "df2['qty_tag'] = 'sales_52w_bf'\n",
    "df2 = df2.rename(columns = {'sales_quantity':'quantity'})\n",
    "df2 = df2[['model_id','week_id','algorithm','qty_tag','quantity']]"
   ]
  },
  {
   "cell_type": "code",
   "execution_count": 36,
   "id": "11434bfa",
   "metadata": {
    "collapsed": true,
    "jupyter": {
     "outputs_hidden": true
    }
   },
   "outputs": [
    {
     "name": "stderr",
     "output_type": "stream",
     "text": [
      "/home/ec2-user/anaconda3/envs/python3/lib/python3.6/site-packages/ipykernel/__main__.py:2: SettingWithCopyWarning: \n",
      "A value is trying to be set on a copy of a slice from a DataFrame.\n",
      "Try using .loc[row_indexer,col_indexer] = value instead\n",
      "\n",
      "See the caveats in the documentation: https://pandas.pydata.org/pandas-docs/stable/user_guide/indexing.html#returning-a-view-versus-a-copy\n",
      "  from ipykernel import kernelapp as app\n",
      "/home/ec2-user/anaconda3/envs/python3/lib/python3.6/site-packages/ipykernel/__main__.py:3: SettingWithCopyWarning: \n",
      "A value is trying to be set on a copy of a slice from a DataFrame.\n",
      "Try using .loc[row_indexer,col_indexer] = value instead\n",
      "\n",
      "See the caveats in the documentation: https://pandas.pydata.org/pandas-docs/stable/user_guide/indexing.html#returning-a-view-versus-a-copy\n",
      "  app.launch_new_instance()\n",
      "/home/ec2-user/anaconda3/envs/python3/lib/python3.6/site-packages/ipykernel/__main__.py:4: SettingWithCopyWarning: \n",
      "A value is trying to be set on a copy of a slice from a DataFrame.\n",
      "Try using .loc[row_indexer,col_indexer] = value instead\n",
      "\n",
      "See the caveats in the documentation: https://pandas.pydata.org/pandas-docs/stable/user_guide/indexing.html#returning-a-view-versus-a-copy\n"
     ]
    }
   ],
   "source": [
    "df3 = df_sales[(df_sales.model_id.isin(model)) & (df_sales.week_id >= 201901) & (df_sales.week_id <= 202010)]\n",
    "df3['week_id'] = df3['week_id'].apply(lambda x:x+200)\n",
    "df3['algorithm'] = 'realized_sales'\n",
    "df3['qty_tag'] = 'sales_104w_bf'\n",
    "df3 = df3.rename(columns = {'sales_quantity':'quantity'})\n",
    "df3 = df3[['model_id','week_id','algorithm','qty_tag','quantity']]"
   ]
  },
  {
   "cell_type": "code",
   "execution_count": 42,
   "id": "b6946c11",
   "metadata": {},
   "outputs": [],
   "source": [
    "fcst_bi_forecast_result = fcst_bi_forecast_result_1.append(df).append(df2).append(df3)"
   ]
  },
  {
   "cell_type": "code",
   "execution_count": 43,
   "id": "77c304cd",
   "metadata": {},
   "outputs": [],
   "source": [
    "fcst_bi_forecast_result[['model_id','week_id','algorithm','qty_tag','quantity']]\\\n",
    ".to_csv('fcst_bi_forecast_result.csv',index=False)"
   ]
  },
  {
   "cell_type": "code",
   "execution_count": 82,
   "id": "06d0f83e",
   "metadata": {},
   "outputs": [],
   "source": [
    "fcst_bi_forecast_performance = read_csv_s3('fcst-workspace', \n",
    "                                   'forecast-cn/fcst-data-exchange-dev/dashboard/tableau/total_cutoff/fcst_bi_forecast_performance_a.csv')"
   ]
  },
  {
   "cell_type": "code",
   "execution_count": 83,
   "id": "a906102c",
   "metadata": {},
   "outputs": [],
   "source": [
    "fcst_bi_forecast_performance = fcst_bi_forecast_performance.merge(df_tree[['model_id','family_id']],on='model_id')\n",
    "fcst_bi_forecast_performance = fcst_bi_forecast_performance[(fcst_bi_forecast_performance.family_id.isin(monitor_wl['pre_selection_family']))]"
   ]
  },
  {
   "cell_type": "code",
   "execution_count": 87,
   "id": "2d4c0a3b",
   "metadata": {},
   "outputs": [],
   "source": [
    "fcst_bi_forecast_performance.to_csv('fcst_bi_forecast_performance_a.csv',index=False)"
   ]
  },
  {
   "cell_type": "code",
   "execution_count": 88,
   "id": "45dfa832",
   "metadata": {},
   "outputs": [],
   "source": [
    "fcst_bi_forecast_performance[['model_id']].drop_duplicates().to_csv('model_id.csv',index=False)"
   ]
  },
  {
   "cell_type": "code",
   "execution_count": 89,
   "id": "e93a6274",
   "metadata": {},
   "outputs": [],
   "source": [
    "fcst_bi_static_feat[['model_id']].drop_duplicates().to_csv('model_id.csv',index=False)"
   ]
  },
  {
   "cell_type": "markdown",
   "id": "65d011f4",
   "metadata": {},
   "source": [
    "#### Check"
   ]
  },
  {
   "cell_type": "code",
   "execution_count": 91,
   "id": "08e0aa1f",
   "metadata": {},
   "outputs": [],
   "source": [
    "df_sales = read_multipart_parquet_s3('fcst-workspace/forecast-cn/fcst-refined-demand-forecast-dev',\n",
    "                                    'global/model_week_sales', prefix_filename='part-')"
   ]
  },
  {
   "cell_type": "code",
   "execution_count": 99,
   "id": "1a070e55",
   "metadata": {},
   "outputs": [
    {
     "data": {
      "text/html": [
       "<div>\n",
       "<style scoped>\n",
       "    .dataframe tbody tr th:only-of-type {\n",
       "        vertical-align: middle;\n",
       "    }\n",
       "\n",
       "    .dataframe tbody tr th {\n",
       "        vertical-align: top;\n",
       "    }\n",
       "\n",
       "    .dataframe thead th {\n",
       "        text-align: right;\n",
       "    }\n",
       "</style>\n",
       "<table border=\"1\" class=\"dataframe\">\n",
       "  <thead>\n",
       "    <tr style=\"text-align: right;\">\n",
       "      <th></th>\n",
       "      <th>model_id</th>\n",
       "      <th>week_id</th>\n",
       "      <th>date</th>\n",
       "      <th>channel</th>\n",
       "      <th>sales_quantity</th>\n",
       "    </tr>\n",
       "  </thead>\n",
       "  <tbody>\n",
       "    <tr>\n",
       "      <th>333253</th>\n",
       "      <td>8552490</td>\n",
       "      <td>202106</td>\n",
       "      <td>2021-02-07</td>\n",
       "      <td>offline</td>\n",
       "      <td>600</td>\n",
       "    </tr>\n",
       "    <tr>\n",
       "      <th>333347</th>\n",
       "      <td>8552490</td>\n",
       "      <td>202107</td>\n",
       "      <td>2021-02-14</td>\n",
       "      <td>online</td>\n",
       "      <td>18</td>\n",
       "    </tr>\n",
       "    <tr>\n",
       "      <th>713318</th>\n",
       "      <td>8552490</td>\n",
       "      <td>202108</td>\n",
       "      <td>2021-02-21</td>\n",
       "      <td>online</td>\n",
       "      <td>15</td>\n",
       "    </tr>\n",
       "    <tr>\n",
       "      <th>1543057</th>\n",
       "      <td>8552490</td>\n",
       "      <td>202110</td>\n",
       "      <td>2021-03-07</td>\n",
       "      <td>online</td>\n",
       "      <td>20</td>\n",
       "    </tr>\n",
       "    <tr>\n",
       "      <th>2314819</th>\n",
       "      <td>8552490</td>\n",
       "      <td>202108</td>\n",
       "      <td>2021-02-21</td>\n",
       "      <td>offline</td>\n",
       "      <td>549</td>\n",
       "    </tr>\n",
       "    <tr>\n",
       "      <th>3181716</th>\n",
       "      <td>8552490</td>\n",
       "      <td>202107</td>\n",
       "      <td>2021-02-14</td>\n",
       "      <td>offline</td>\n",
       "      <td>800</td>\n",
       "    </tr>\n",
       "    <tr>\n",
       "      <th>3941196</th>\n",
       "      <td>8552490</td>\n",
       "      <td>202109</td>\n",
       "      <td>2021-02-28</td>\n",
       "      <td>online</td>\n",
       "      <td>4</td>\n",
       "    </tr>\n",
       "    <tr>\n",
       "      <th>5222200</th>\n",
       "      <td>8552490</td>\n",
       "      <td>202106</td>\n",
       "      <td>2021-02-07</td>\n",
       "      <td>online</td>\n",
       "      <td>9</td>\n",
       "    </tr>\n",
       "    <tr>\n",
       "      <th>5222517</th>\n",
       "      <td>8552490</td>\n",
       "      <td>202109</td>\n",
       "      <td>2021-02-28</td>\n",
       "      <td>offline</td>\n",
       "      <td>582</td>\n",
       "    </tr>\n",
       "    <tr>\n",
       "      <th>5222935</th>\n",
       "      <td>8552490</td>\n",
       "      <td>202110</td>\n",
       "      <td>2021-03-07</td>\n",
       "      <td>offline</td>\n",
       "      <td>677</td>\n",
       "    </tr>\n",
       "  </tbody>\n",
       "</table>\n",
       "</div>"
      ],
      "text/plain": [
       "         model_id  week_id       date  channel  sales_quantity\n",
       "333253    8552490   202106 2021-02-07  offline             600\n",
       "333347    8552490   202107 2021-02-14   online              18\n",
       "713318    8552490   202108 2021-02-21   online              15\n",
       "1543057   8552490   202110 2021-03-07   online              20\n",
       "2314819   8552490   202108 2021-02-21  offline             549\n",
       "3181716   8552490   202107 2021-02-14  offline             800\n",
       "3941196   8552490   202109 2021-02-28   online               4\n",
       "5222200   8552490   202106 2021-02-07   online               9\n",
       "5222517   8552490   202109 2021-02-28  offline             582\n",
       "5222935   8552490   202110 2021-03-07  offline             677"
      ]
     },
     "execution_count": 99,
     "metadata": {},
     "output_type": "execute_result"
    }
   ],
   "source": [
    "df_sales[(df_sales.model_id == 8552490) & (df_sales.week_id.isin([202106,202107,202108,202109,202110]))]"
   ]
  },
  {
   "cell_type": "code",
   "execution_count": null,
   "id": "2e520fc3",
   "metadata": {},
   "outputs": [],
   "source": []
  }
 ],
 "metadata": {
  "kernelspec": {
   "display_name": "conda_python3",
   "language": "python",
   "name": "conda_python3"
  },
  "language_info": {
   "codemirror_mode": {
    "name": "ipython",
    "version": 3
   },
   "file_extension": ".py",
   "mimetype": "text/x-python",
   "name": "python",
   "nbconvert_exporter": "python",
   "pygments_lexer": "ipython3",
   "version": "3.6.13"
  }
 },
 "nbformat": 4,
 "nbformat_minor": 5
}

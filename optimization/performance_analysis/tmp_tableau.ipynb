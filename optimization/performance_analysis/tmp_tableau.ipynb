{
 "cells": [
  {
   "cell_type": "markdown",
   "id": "bba01167",
   "metadata": {},
   "source": [
    "#### WPE & WAPE Calculation"
   ]
  },
  {
   "cell_type": "code",
   "execution_count": 2,
   "id": "955d08f6",
   "metadata": {},
   "outputs": [
    {
     "name": "stdout",
     "output_type": "stream",
     "text": [
      "Collecting uritools\n",
      "  Downloading uritools-3.0.2-py3-none-any.whl (12 kB)\n",
      "Installing collected packages: uritools\n",
      "Successfully installed uritools-3.0.2\n"
     ]
    }
   ],
   "source": [
    "!pip install uritools"
   ]
  },
  {
   "cell_type": "code",
   "execution_count": 3,
   "id": "d8128173",
   "metadata": {},
   "outputs": [],
   "source": [
    "import pandas as pd\n",
    "import numpy as np\n",
    "import boto3\n",
    "import pyarrow.parquet as pq\n",
    "import s3fs\n",
    "import math\n",
    "import yaml\n",
    "\n",
    "import sys\n",
    "sys.path.append('../../')\n",
    "from src.utils import read_multipart_parquet_s3, write_df_to_parquet_on_s3,read_csv_s3"
   ]
  },
  {
   "cell_type": "code",
   "execution_count": 4,
   "id": "6724e97f",
   "metadata": {},
   "outputs": [],
   "source": [
    "with open('monitor_whitelist.yaml') as config_file:\n",
    "    monitor_wl = yaml.full_load(config_file)"
   ]
  },
  {
   "cell_type": "markdown",
   "id": "215dc9d2",
   "metadata": {},
   "source": [
    "##### Fetch data"
   ]
  },
  {
   "cell_type": "code",
   "execution_count": 5,
   "id": "a8b3b849",
   "metadata": {},
   "outputs": [],
   "source": [
    "df_tree = read_multipart_parquet_s3('fcst-workspace/forecast-cn/fcst-refined-demand-forecast-dev',\n",
    "                                    'global/model_week_tree', prefix_filename='part-')\n",
    "df_tree = df_tree[(df_tree.week_id == 202214)]"
   ]
  },
  {
   "cell_type": "code",
   "execution_count": 6,
   "id": "e7e6a18b",
   "metadata": {},
   "outputs": [],
   "source": [
    "df_mrp = read_multipart_parquet_s3('fcst-workspace/forecast-cn/fcst-refined-demand-forecast-dev',\n",
    "                                    'global/model_week_mrp', prefix_filename='part-')\n",
    "df_mrp = df_mrp[(df_mrp.week_id == 202214)][['model_id','is_mrp_active']]"
   ]
  },
  {
   "cell_type": "code",
   "execution_count": 7,
   "id": "aa5f1abc",
   "metadata": {},
   "outputs": [],
   "source": [
    "fcst_bi_static_feat = pd.read_csv('s3://fcst-data-exchange-dev/demand-forecast/cn/dashboard/tableau/total_cutoff/fcst_bi_static_feat_w.csv')"
   ]
  },
  {
   "cell_type": "code",
   "execution_count": 8,
   "id": "742aa49a",
   "metadata": {},
   "outputs": [
    {
     "data": {
      "text/html": [
       "<div>\n",
       "<style scoped>\n",
       "    .dataframe tbody tr th:only-of-type {\n",
       "        vertical-align: middle;\n",
       "    }\n",
       "\n",
       "    .dataframe tbody tr th {\n",
       "        vertical-align: top;\n",
       "    }\n",
       "\n",
       "    .dataframe thead th {\n",
       "        text-align: right;\n",
       "    }\n",
       "</style>\n",
       "<table border=\"1\" class=\"dataframe\">\n",
       "  <thead>\n",
       "    <tr style=\"text-align: right;\">\n",
       "      <th></th>\n",
       "      <th>model_id</th>\n",
       "      <th>wpe_reach_target</th>\n",
       "      <th>wape_reach_target</th>\n",
       "      <th>univers_label</th>\n",
       "      <th>department_label</th>\n",
       "      <th>family_label</th>\n",
       "      <th>rs_email</th>\n",
       "      <th>AW2021_CodeA</th>\n",
       "      <th>tier</th>\n",
       "      <th>model_label</th>\n",
       "      <th>ec_tag</th>\n",
       "      <th>selling_length</th>\n",
       "      <th>aw_seasonality</th>\n",
       "      <th>annual_seasonality</th>\n",
       "      <th>wpe_cutoff_ok_pct</th>\n",
       "      <th>wape_cutoff_ok_pct</th>\n",
       "      <th>update_time</th>\n",
       "    </tr>\n",
       "  </thead>\n",
       "  <tbody>\n",
       "    <tr>\n",
       "      <th>0</th>\n",
       "      <td>720719</td>\n",
       "      <td>False</td>\n",
       "      <td>False</td>\n",
       "      <td>HIKING TREKKING</td>\n",
       "      <td>HIKING TREK GEA</td>\n",
       "      <td>3174_MT BP ACC SECU</td>\n",
       "      <td>jerry.xiao@decathlon.com</td>\n",
       "      <td>False</td>\n",
       "      <td>Tier_1</td>\n",
       "      <td>720719_2 STRAPS BACKPACK 25MM*1M</td>\n",
       "      <td>No</td>\n",
       "      <td>&gt;1year</td>\n",
       "      <td>Normal</td>\n",
       "      <td>Normal</td>\n",
       "      <td>0.2063</td>\n",
       "      <td>0.3509</td>\n",
       "      <td>04/06/2022-14:01:18</td>\n",
       "    </tr>\n",
       "    <tr>\n",
       "      <th>1</th>\n",
       "      <td>863879</td>\n",
       "      <td>False</td>\n",
       "      <td>False</td>\n",
       "      <td>HIKING TREKKING</td>\n",
       "      <td>HIKING TREK GEA</td>\n",
       "      <td>1165_HIKE BINOCULARS</td>\n",
       "      <td>yingzhong.huo@decathlon.com</td>\n",
       "      <td>False</td>\n",
       "      <td>Tier_3</td>\n",
       "      <td>863879_MH M 120 X8 GREEN</td>\n",
       "      <td>No</td>\n",
       "      <td>&gt;1year</td>\n",
       "      <td>Seasonal</td>\n",
       "      <td>Seasonal</td>\n",
       "      <td>0.2500</td>\n",
       "      <td>0.3500</td>\n",
       "      <td>04/06/2022-14:01:18</td>\n",
       "    </tr>\n",
       "    <tr>\n",
       "      <th>2</th>\n",
       "      <td>863881</td>\n",
       "      <td>False</td>\n",
       "      <td>False</td>\n",
       "      <td>HIKING TREKKING</td>\n",
       "      <td>HIKING TREK GEA</td>\n",
       "      <td>1165_HIKE BINOCULARS</td>\n",
       "      <td>yingzhong.huo@decathlon.com</td>\n",
       "      <td>False</td>\n",
       "      <td>Tier_1</td>\n",
       "      <td>863881_MH M 120 X8 ORANGE</td>\n",
       "      <td>No</td>\n",
       "      <td>&gt;1year</td>\n",
       "      <td>Normal</td>\n",
       "      <td>Normal</td>\n",
       "      <td>0.3469</td>\n",
       "      <td>0.4318</td>\n",
       "      <td>04/06/2022-14:01:18</td>\n",
       "    </tr>\n",
       "    <tr>\n",
       "      <th>3</th>\n",
       "      <td>863883</td>\n",
       "      <td>False</td>\n",
       "      <td>False</td>\n",
       "      <td>HIKING TREKKING</td>\n",
       "      <td>HIKING TREK GEA</td>\n",
       "      <td>1165_HIKE BINOCULARS</td>\n",
       "      <td>yingzhong.huo@decathlon.com</td>\n",
       "      <td>False</td>\n",
       "      <td>Tier_3</td>\n",
       "      <td>863883_MH M 120 X8 BLUE</td>\n",
       "      <td>No</td>\n",
       "      <td>&gt;1year</td>\n",
       "      <td>Normal</td>\n",
       "      <td>Seasonal</td>\n",
       "      <td>0.2167</td>\n",
       "      <td>0.2909</td>\n",
       "      <td>04/06/2022-14:01:18</td>\n",
       "    </tr>\n",
       "    <tr>\n",
       "      <th>4</th>\n",
       "      <td>863896</td>\n",
       "      <td>False</td>\n",
       "      <td>False</td>\n",
       "      <td>FITNESS WELLNES</td>\n",
       "      <td>FITNESS TRAININ</td>\n",
       "      <td>11956_WOMAN TS LEGG</td>\n",
       "      <td>sibyl.wang@decathlon.com</td>\n",
       "      <td>False</td>\n",
       "      <td>Tier_3</td>\n",
       "      <td>863896_SPORTEE 100 TEST TAILLANT CHINE PINK</td>\n",
       "      <td>No</td>\n",
       "      <td>&gt;1year</td>\n",
       "      <td>Normal</td>\n",
       "      <td>Seasonal</td>\n",
       "      <td>0.3175</td>\n",
       "      <td>0.3684</td>\n",
       "      <td>04/06/2022-14:01:18</td>\n",
       "    </tr>\n",
       "    <tr>\n",
       "      <th>...</th>\n",
       "      <td>...</td>\n",
       "      <td>...</td>\n",
       "      <td>...</td>\n",
       "      <td>...</td>\n",
       "      <td>...</td>\n",
       "      <td>...</td>\n",
       "      <td>...</td>\n",
       "      <td>...</td>\n",
       "      <td>...</td>\n",
       "      <td>...</td>\n",
       "      <td>...</td>\n",
       "      <td>...</td>\n",
       "      <td>...</td>\n",
       "      <td>...</td>\n",
       "      <td>...</td>\n",
       "      <td>...</td>\n",
       "      <td>...</td>\n",
       "    </tr>\n",
       "    <tr>\n",
       "      <th>10907</th>\n",
       "      <td>8773706</td>\n",
       "      <td>False</td>\n",
       "      <td>False</td>\n",
       "      <td>FITNESS WELLNES</td>\n",
       "      <td>FITNESS TRAININ</td>\n",
       "      <td>214_WEIGHTS&amp;ELAST.</td>\n",
       "      <td>darren.zhen@decathlon.com</td>\n",
       "      <td>False</td>\n",
       "      <td>Tier_4</td>\n",
       "      <td>8773706_CN MINI BAND 20LB BLUE</td>\n",
       "      <td>No</td>\n",
       "      <td>&lt;20W</td>\n",
       "      <td>NaN</td>\n",
       "      <td>Normal</td>\n",
       "      <td>0.0000</td>\n",
       "      <td>NaN</td>\n",
       "      <td>04/06/2022-14:01:18</td>\n",
       "    </tr>\n",
       "    <tr>\n",
       "      <th>10908</th>\n",
       "      <td>8781243</td>\n",
       "      <td>False</td>\n",
       "      <td>False</td>\n",
       "      <td>FITNESS WELLNES</td>\n",
       "      <td>YOGA</td>\n",
       "      <td>10786_WOMAN YOGA</td>\n",
       "      <td>sibyl.wang@decathlon.com</td>\n",
       "      <td>False</td>\n",
       "      <td>Tier_4</td>\n",
       "      <td>8781243_BRA 520 BLACK</td>\n",
       "      <td>No</td>\n",
       "      <td>&lt;20W</td>\n",
       "      <td>NaN</td>\n",
       "      <td>Normal</td>\n",
       "      <td>0.1429</td>\n",
       "      <td>0.0000</td>\n",
       "      <td>04/06/2022-14:01:18</td>\n",
       "    </tr>\n",
       "    <tr>\n",
       "      <th>10909</th>\n",
       "      <td>8781245</td>\n",
       "      <td>False</td>\n",
       "      <td>False</td>\n",
       "      <td>FITNESS WELLNES</td>\n",
       "      <td>YOGA</td>\n",
       "      <td>10786_WOMAN YOGA</td>\n",
       "      <td>sibyl.wang@decathlon.com</td>\n",
       "      <td>False</td>\n",
       "      <td>Tier_4</td>\n",
       "      <td>8781245_BRA 520 RED</td>\n",
       "      <td>No</td>\n",
       "      <td>&lt;20W</td>\n",
       "      <td>NaN</td>\n",
       "      <td>Normal</td>\n",
       "      <td>0.0000</td>\n",
       "      <td>NaN</td>\n",
       "      <td>04/06/2022-14:01:18</td>\n",
       "    </tr>\n",
       "    <tr>\n",
       "      <th>10910</th>\n",
       "      <td>8781247</td>\n",
       "      <td>False</td>\n",
       "      <td>False</td>\n",
       "      <td>FITNESS WELLNES</td>\n",
       "      <td>YOGA</td>\n",
       "      <td>10786_WOMAN YOGA</td>\n",
       "      <td>sibyl.wang@decathlon.com</td>\n",
       "      <td>False</td>\n",
       "      <td>Tier_4</td>\n",
       "      <td>8781247_BRA 520 BLUE</td>\n",
       "      <td>No</td>\n",
       "      <td>&lt;20W</td>\n",
       "      <td>NaN</td>\n",
       "      <td>Normal</td>\n",
       "      <td>0.0000</td>\n",
       "      <td>NaN</td>\n",
       "      <td>04/06/2022-14:01:18</td>\n",
       "    </tr>\n",
       "    <tr>\n",
       "      <th>10911</th>\n",
       "      <td>8781363</td>\n",
       "      <td>False</td>\n",
       "      <td>False</td>\n",
       "      <td>HIKING TREKKING</td>\n",
       "      <td>HIKING TREK GEA</td>\n",
       "      <td>1165_HIKE BINOCULARS</td>\n",
       "      <td>yingzhong.huo@decathlon.com</td>\n",
       "      <td>False</td>\n",
       "      <td>Tier_4</td>\n",
       "      <td>8781363_MH M120 X8</td>\n",
       "      <td>No</td>\n",
       "      <td>&lt;20W</td>\n",
       "      <td>NaN</td>\n",
       "      <td>Normal</td>\n",
       "      <td>0.0000</td>\n",
       "      <td>0.0000</td>\n",
       "      <td>04/06/2022-14:01:18</td>\n",
       "    </tr>\n",
       "  </tbody>\n",
       "</table>\n",
       "<p>10912 rows × 17 columns</p>\n",
       "</div>"
      ],
      "text/plain": [
       "       model_id  wpe_reach_target  wape_reach_target    univers_label  \\\n",
       "0        720719             False              False  HIKING TREKKING   \n",
       "1        863879             False              False  HIKING TREKKING   \n",
       "2        863881             False              False  HIKING TREKKING   \n",
       "3        863883             False              False  HIKING TREKKING   \n",
       "4        863896             False              False  FITNESS WELLNES   \n",
       "...         ...               ...                ...              ...   \n",
       "10907   8773706             False              False  FITNESS WELLNES   \n",
       "10908   8781243             False              False  FITNESS WELLNES   \n",
       "10909   8781245             False              False  FITNESS WELLNES   \n",
       "10910   8781247             False              False  FITNESS WELLNES   \n",
       "10911   8781363             False              False  HIKING TREKKING   \n",
       "\n",
       "      department_label          family_label                     rs_email  \\\n",
       "0      HIKING TREK GEA   3174_MT BP ACC SECU     jerry.xiao@decathlon.com   \n",
       "1      HIKING TREK GEA  1165_HIKE BINOCULARS  yingzhong.huo@decathlon.com   \n",
       "2      HIKING TREK GEA  1165_HIKE BINOCULARS  yingzhong.huo@decathlon.com   \n",
       "3      HIKING TREK GEA  1165_HIKE BINOCULARS  yingzhong.huo@decathlon.com   \n",
       "4      FITNESS TRAININ   11956_WOMAN TS LEGG     sibyl.wang@decathlon.com   \n",
       "...                ...                   ...                          ...   \n",
       "10907  FITNESS TRAININ    214_WEIGHTS&ELAST.    darren.zhen@decathlon.com   \n",
       "10908             YOGA      10786_WOMAN YOGA     sibyl.wang@decathlon.com   \n",
       "10909             YOGA      10786_WOMAN YOGA     sibyl.wang@decathlon.com   \n",
       "10910             YOGA      10786_WOMAN YOGA     sibyl.wang@decathlon.com   \n",
       "10911  HIKING TREK GEA  1165_HIKE BINOCULARS  yingzhong.huo@decathlon.com   \n",
       "\n",
       "       AW2021_CodeA    tier                                  model_label  \\\n",
       "0             False  Tier_1             720719_2 STRAPS BACKPACK 25MM*1M   \n",
       "1             False  Tier_3                     863879_MH M 120 X8 GREEN   \n",
       "2             False  Tier_1                    863881_MH M 120 X8 ORANGE   \n",
       "3             False  Tier_3                      863883_MH M 120 X8 BLUE   \n",
       "4             False  Tier_3  863896_SPORTEE 100 TEST TAILLANT CHINE PINK   \n",
       "...             ...     ...                                          ...   \n",
       "10907         False  Tier_4               8773706_CN MINI BAND 20LB BLUE   \n",
       "10908         False  Tier_4                        8781243_BRA 520 BLACK   \n",
       "10909         False  Tier_4                          8781245_BRA 520 RED   \n",
       "10910         False  Tier_4                         8781247_BRA 520 BLUE   \n",
       "10911         False  Tier_4                           8781363_MH M120 X8   \n",
       "\n",
       "      ec_tag selling_length aw_seasonality annual_seasonality  \\\n",
       "0         No         >1year         Normal             Normal   \n",
       "1         No         >1year       Seasonal           Seasonal   \n",
       "2         No         >1year         Normal             Normal   \n",
       "3         No         >1year         Normal           Seasonal   \n",
       "4         No         >1year         Normal           Seasonal   \n",
       "...      ...            ...            ...                ...   \n",
       "10907     No           <20W            NaN             Normal   \n",
       "10908     No           <20W            NaN             Normal   \n",
       "10909     No           <20W            NaN             Normal   \n",
       "10910     No           <20W            NaN             Normal   \n",
       "10911     No           <20W            NaN             Normal   \n",
       "\n",
       "       wpe_cutoff_ok_pct  wape_cutoff_ok_pct          update_time  \n",
       "0                 0.2063              0.3509  04/06/2022-14:01:18  \n",
       "1                 0.2500              0.3500  04/06/2022-14:01:18  \n",
       "2                 0.3469              0.4318  04/06/2022-14:01:18  \n",
       "3                 0.2167              0.2909  04/06/2022-14:01:18  \n",
       "4                 0.3175              0.3684  04/06/2022-14:01:18  \n",
       "...                  ...                 ...                  ...  \n",
       "10907             0.0000                 NaN  04/06/2022-14:01:18  \n",
       "10908             0.1429              0.0000  04/06/2022-14:01:18  \n",
       "10909             0.0000                 NaN  04/06/2022-14:01:18  \n",
       "10910             0.0000                 NaN  04/06/2022-14:01:18  \n",
       "10911             0.0000              0.0000  04/06/2022-14:01:18  \n",
       "\n",
       "[10912 rows x 17 columns]"
      ]
     },
     "execution_count": 8,
     "metadata": {},
     "output_type": "execute_result"
    }
   ],
   "source": [
    "fcst_bi_static_feat"
   ]
  },
  {
   "cell_type": "code",
   "execution_count": 9,
   "id": "ee020323",
   "metadata": {},
   "outputs": [],
   "source": [
    "fcst_bi_static_feat = fcst_bi_static_feat.merge(df_tree[['model_id','family_id']],on='model_id')\n",
    "fcst_bi_static_feat = fcst_bi_static_feat[(fcst_bi_static_feat.family_id.isin(monitor_wl['pre_selection_family']))]"
   ]
  },
  {
   "cell_type": "code",
   "execution_count": 10,
   "id": "4ca88fc3",
   "metadata": {},
   "outputs": [],
   "source": [
    "fcst_bi_static_feat = fcst_bi_static_feat.merge(df_mrp,on='model_id',how='left')"
   ]
  },
  {
   "cell_type": "code",
   "execution_count": 11,
   "id": "192202de",
   "metadata": {},
   "outputs": [],
   "source": [
    "fcst_bi_static_feat[['model_id', 'wpe_reach_target', 'wape_reach_target',\n",
    "       'univers_label', 'department_label', 'family_label', 'rs_email',\n",
    "       'AW2021_CodeA', 'tier', 'model_label', 'ec_tag', 'selling_length',\n",
    "       'aw_seasonality', 'annual_seasonality', 'wpe_cutoff_ok_pct',\n",
    "       'wape_cutoff_ok_pct','is_mrp_active', 'update_time']].to_csv('fcst_bi_static_feat_w.csv',index=False)"
   ]
  },
  {
   "cell_type": "code",
   "execution_count": 12,
   "id": "cbe7684a",
   "metadata": {},
   "outputs": [],
   "source": [
    "fcst_bi_dynamic_feat = pd.read_csv('s3://fcst-data-exchange-dev/demand-forecast/cn/dashboard/tableau/total_cutoff/fcst_bi_dynamic_feat.csv')"
   ]
  },
  {
   "cell_type": "code",
   "execution_count": 13,
   "id": "a6fa6396",
   "metadata": {},
   "outputs": [
    {
     "data": {
      "text/html": [
       "<div>\n",
       "<style scoped>\n",
       "    .dataframe tbody tr th:only-of-type {\n",
       "        vertical-align: middle;\n",
       "    }\n",
       "\n",
       "    .dataframe tbody tr th {\n",
       "        vertical-align: top;\n",
       "    }\n",
       "\n",
       "    .dataframe thead th {\n",
       "        text-align: right;\n",
       "    }\n",
       "</style>\n",
       "<table border=\"1\" class=\"dataframe\">\n",
       "  <thead>\n",
       "    <tr style=\"text-align: right;\">\n",
       "      <th></th>\n",
       "      <th>model_id</th>\n",
       "      <th>week_id</th>\n",
       "      <th>weekly_average_price</th>\n",
       "      <th>num_store_following</th>\n",
       "      <th>update_time</th>\n",
       "    </tr>\n",
       "  </thead>\n",
       "  <tbody>\n",
       "    <tr>\n",
       "      <th>0</th>\n",
       "      <td>720719</td>\n",
       "      <td>202101</td>\n",
       "      <td>21.059167</td>\n",
       "      <td>12</td>\n",
       "      <td>2022-04-07T03:11:36.860Z</td>\n",
       "    </tr>\n",
       "    <tr>\n",
       "      <th>1</th>\n",
       "      <td>765283</td>\n",
       "      <td>202101</td>\n",
       "      <td>20.462963</td>\n",
       "      <td>54</td>\n",
       "      <td>2022-04-07T03:11:36.860Z</td>\n",
       "    </tr>\n",
       "  </tbody>\n",
       "</table>\n",
       "</div>"
      ],
      "text/plain": [
       "   model_id  week_id  weekly_average_price  num_store_following  \\\n",
       "0    720719   202101             21.059167                   12   \n",
       "1    765283   202101             20.462963                   54   \n",
       "\n",
       "                update_time  \n",
       "0  2022-04-07T03:11:36.860Z  \n",
       "1  2022-04-07T03:11:36.860Z  "
      ]
     },
     "execution_count": 13,
     "metadata": {},
     "output_type": "execute_result"
    }
   ],
   "source": [
    "fcst_bi_dynamic_feat.head(2)"
   ]
  },
  {
   "cell_type": "code",
   "execution_count": 64,
   "id": "90085763",
   "metadata": {
    "collapsed": true,
    "jupyter": {
     "outputs_hidden": true
    }
   },
   "outputs": [
    {
     "name": "stdout",
     "output_type": "stream",
     "text": [
      "202101\n",
      "202102\n",
      "202103\n",
      "202104\n",
      "202105\n",
      "202106\n",
      "202107\n",
      "202108\n",
      "202109\n",
      "202110\n",
      "202111\n",
      "202112\n",
      "202113\n",
      "202114\n",
      "202115\n",
      "202116\n",
      "202117\n",
      "202118\n",
      "202119\n",
      "202120\n",
      "202121\n",
      "202122\n",
      "202123\n",
      "202124\n",
      "202125\n",
      "202126\n",
      "202127\n",
      "202128\n",
      "202129\n",
      "202130\n",
      "202131\n",
      "202132\n",
      "202133\n",
      "202134\n",
      "202135\n",
      "202136\n",
      "202137\n",
      "202138\n",
      "202139\n",
      "202140\n",
      "202141\n",
      "202142\n",
      "202143\n",
      "202144\n",
      "202145\n",
      "202146\n",
      "202147\n",
      "202148\n",
      "202149\n",
      "202150\n",
      "202151\n",
      "202152\n",
      "202201\n",
      "202202\n",
      "202203\n",
      "202204\n",
      "202205\n",
      "202206\n",
      "202207\n",
      "202208\n",
      "202209\n",
      "202210\n",
      "202211\n",
      "202212\n",
      "202213\n"
     ]
    }
   ],
   "source": [
    "fcst_bi_dynamic_feat = pd.DataFrame()\n",
    "for cutoff in list(range(202101,202153)) + list(range(202201,202214)):\n",
    "    print(cutoff)\n",
    "    df = pd.read_csv(f\"s3://fcst-data-exchange-dev/demand-forecast/cn/dashboard/tableau/postgres/fcst_bi_dynamic_feat/fcst_bi_dynamic_feat_{cutoff}.csv\")\n",
    "    fcst_bi_dynamic_feat = fcst_bi_dynamic_feat.append(df)"
   ]
  },
  {
   "cell_type": "code",
   "execution_count": 14,
   "id": "209f9ed1",
   "metadata": {},
   "outputs": [],
   "source": [
    "fcst_bi_dynamic_feat = fcst_bi_dynamic_feat.merge(df_tree[['model_id','family_id']],on='model_id')\n",
    "fcst_bi_dynamic_feat = fcst_bi_dynamic_feat[(fcst_bi_dynamic_feat.family_id.isin(monitor_wl['pre_selection_family']))]"
   ]
  },
  {
   "cell_type": "code",
   "execution_count": 15,
   "id": "61390dae",
   "metadata": {},
   "outputs": [],
   "source": [
    "fcst_bi_dynamic_feat[['model_id','week_id','weekly_average_price','num_store_following']]\\\n",
    ".to_csv('fcst_bi_dynamic_feat.csv',index=False)"
   ]
  },
  {
   "cell_type": "code",
   "execution_count": 16,
   "id": "95231fdb",
   "metadata": {},
   "outputs": [
    {
     "name": "stderr",
     "output_type": "stream",
     "text": [
      "/home/ec2-user/anaconda3/envs/python3/lib/python3.6/site-packages/IPython/core/interactiveshell.py:3072: DtypeWarning: Columns (3) have mixed types.Specify dtype option on import or set low_memory=False.\n",
      "  interactivity=interactivity, compiler=compiler, result=result)\n"
     ]
    }
   ],
   "source": [
    "fcst_bi_forecast_result = pd.read_csv('s3://fcst-data-exchange-dev/demand-forecast/cn/dashboard/tableau/total_cutoff/fcst_bi_forecast_result.csv')"
   ]
  },
  {
   "cell_type": "code",
   "execution_count": 59,
   "id": "12fc6511",
   "metadata": {
    "collapsed": true,
    "jupyter": {
     "outputs_hidden": true
    }
   },
   "outputs": [
    {
     "name": "stdout",
     "output_type": "stream",
     "text": [
      "202101\n",
      "202102\n",
      "202103\n",
      "202104\n",
      "202105\n",
      "202106\n",
      "202107\n",
      "202108\n",
      "202109\n",
      "202110\n",
      "202111\n",
      "202112\n",
      "202113\n",
      "202114\n",
      "202115\n",
      "202116\n",
      "202117\n",
      "202118\n",
      "202119\n"
     ]
    },
    {
     "name": "stderr",
     "output_type": "stream",
     "text": [
      "/home/ec2-user/anaconda3/envs/python3/lib/python3.6/site-packages/IPython/core/interactiveshell.py:3072: DtypeWarning: Columns (3) have mixed types.Specify dtype option on import or set low_memory=False.\n",
      "  interactivity=interactivity, compiler=compiler, result=result)\n"
     ]
    },
    {
     "name": "stdout",
     "output_type": "stream",
     "text": [
      "202120\n",
      "202121\n",
      "202122\n",
      "202123\n",
      "202124\n",
      "202125\n",
      "202126\n",
      "202127\n",
      "202128\n",
      "202129\n",
      "202130\n",
      "202131\n",
      "202132\n",
      "202133\n",
      "202134\n",
      "202135\n",
      "202136\n",
      "202137\n",
      "202138\n",
      "202139\n",
      "202140\n",
      "202141\n",
      "202142\n",
      "202143\n",
      "202144\n",
      "202145\n",
      "202146\n",
      "202147\n",
      "202148\n",
      "202149\n",
      "202150\n",
      "202151\n",
      "202152\n",
      "202201\n",
      "202202\n",
      "202203\n",
      "202204\n",
      "202205\n",
      "202206\n",
      "202207\n",
      "202208\n",
      "202209\n",
      "202210\n",
      "202211\n",
      "202212\n",
      "202213\n",
      "202214\n"
     ]
    }
   ],
   "source": [
    "fcst_bi_forecast_result = pd.DataFrame()\n",
    "for cutoff in list(range(202101,202153)) + list(range(202201,202215)):\n",
    "    print(cutoff)\n",
    "    df = pd.read_csv(f\"s3://fcst-data-exchange-dev/demand-forecast/cn/dashboard/tableau/postgres/fcst_bi_forecast_result/fcst_bi_forecast_result_{cutoff}.csv\")\n",
    "    fcst_bi_forecast_result = fcst_bi_forecast_result.append(df)"
   ]
  },
  {
   "cell_type": "code",
   "execution_count": 17,
   "id": "5511a111",
   "metadata": {},
   "outputs": [
    {
     "data": {
      "text/plain": [
       "165043649"
      ]
     },
     "execution_count": 17,
     "metadata": {},
     "output_type": "execute_result"
    }
   ],
   "source": [
    "fcst_bi_forecast_result[(fcst_bi_forecast_result.algorithm == 'realized_sales') \\\n",
    "                        & (fcst_bi_forecast_result.qty_tag == 'sales_w')].quantity.sum()\n",
    "\n",
    "#51537265/152819899"
   ]
  },
  {
   "cell_type": "code",
   "execution_count": 18,
   "id": "74993ab4",
   "metadata": {},
   "outputs": [],
   "source": [
    "fcst_bi_forecast_result = fcst_bi_forecast_result.merge(df_tree[['model_id','family_id']],on='model_id')\n",
    "fcst_bi_forecast_result = fcst_bi_forecast_result[(fcst_bi_forecast_result.family_id.isin(monitor_wl['pre_selection_family']))]"
   ]
  },
  {
   "cell_type": "code",
   "execution_count": 19,
   "id": "dc8edf4c",
   "metadata": {},
   "outputs": [],
   "source": [
    "fcst_bi_forecast_result[['model_id','week_id','algorithm','qty_tag','quantity']]\\\n",
    ".to_csv('fcst_bi_forecast_result.csv',index=False)"
   ]
  },
  {
   "cell_type": "code",
   "execution_count": 20,
   "id": "a19a7753",
   "metadata": {},
   "outputs": [
    {
     "data": {
      "text/html": [
       "<div>\n",
       "<style scoped>\n",
       "    .dataframe tbody tr th:only-of-type {\n",
       "        vertical-align: middle;\n",
       "    }\n",
       "\n",
       "    .dataframe tbody tr th {\n",
       "        vertical-align: top;\n",
       "    }\n",
       "\n",
       "    .dataframe thead th {\n",
       "        text-align: right;\n",
       "    }\n",
       "</style>\n",
       "<table border=\"1\" class=\"dataframe\">\n",
       "  <thead>\n",
       "    <tr style=\"text-align: right;\">\n",
       "      <th></th>\n",
       "      <th>algorithm</th>\n",
       "      <th>week_id</th>\n",
       "    </tr>\n",
       "  </thead>\n",
       "  <tbody>\n",
       "    <tr>\n",
       "      <th>0</th>\n",
       "      <td>AI</td>\n",
       "      <td>202224</td>\n",
       "    </tr>\n",
       "    <tr>\n",
       "      <th>1</th>\n",
       "      <td>APO_GD</td>\n",
       "      <td>202218</td>\n",
       "    </tr>\n",
       "    <tr>\n",
       "      <th>2</th>\n",
       "      <td>APO_STAT</td>\n",
       "      <td>202218</td>\n",
       "    </tr>\n",
       "    <tr>\n",
       "      <th>3</th>\n",
       "      <td>realized_sales</td>\n",
       "      <td>202214</td>\n",
       "    </tr>\n",
       "  </tbody>\n",
       "</table>\n",
       "</div>"
      ],
      "text/plain": [
       "        algorithm  week_id\n",
       "0              AI   202224\n",
       "1          APO_GD   202218\n",
       "2        APO_STAT   202218\n",
       "3  realized_sales   202214"
      ]
     },
     "execution_count": 20,
     "metadata": {},
     "output_type": "execute_result"
    }
   ],
   "source": [
    "fcst_bi_forecast_result.groupby(by='algorithm',as_index=False).agg({\"week_id\":\"max\"})"
   ]
  },
  {
   "cell_type": "code",
   "execution_count": 26,
   "id": "fe0ef69f",
   "metadata": {},
   "outputs": [
    {
     "data": {
      "text/plain": [
       "(2539572, 7)"
      ]
     },
     "execution_count": 26,
     "metadata": {},
     "output_type": "execute_result"
    }
   ],
   "source": [
    "fcst_bi_forecast_result.shape"
   ]
  },
  {
   "cell_type": "code",
   "execution_count": 23,
   "id": "18b5fa2d",
   "metadata": {},
   "outputs": [],
   "source": [
    "fcst_bi_forecast_performance = pd.read_csv('s3://fcst-data-exchange-dev/demand-forecast/cn/dashboard/tableau/total_cutoff/fcst_bi_forecast_performance_a.csv')"
   ]
  },
  {
   "cell_type": "code",
   "execution_count": 29,
   "id": "345b5624",
   "metadata": {},
   "outputs": [
    {
     "data": {
      "text/plain": [
       "202211"
      ]
     },
     "execution_count": 29,
     "metadata": {},
     "output_type": "execute_result"
    }
   ],
   "source": [
    "fcst_bi_forecast_performance.cut_off.max()"
   ]
  },
  {
   "cell_type": "code",
   "execution_count": 22,
   "id": "3164921c",
   "metadata": {
    "collapsed": true,
    "jupyter": {
     "outputs_hidden": true
    }
   },
   "outputs": [
    {
     "name": "stdout",
     "output_type": "stream",
     "text": [
      "202101\n",
      "202102\n",
      "202103\n",
      "202104\n",
      "202105\n",
      "202106\n",
      "202107\n",
      "202108\n",
      "202109\n",
      "202110\n",
      "202111\n",
      "202112\n",
      "202113\n",
      "202114\n",
      "202115\n",
      "202116\n",
      "202117\n",
      "202118\n",
      "202119\n",
      "202120\n",
      "202121\n",
      "202122\n",
      "202123\n",
      "202124\n",
      "202125\n",
      "202126\n",
      "202127\n",
      "202128\n",
      "202129\n",
      "202130\n",
      "202131\n",
      "202132\n",
      "202133\n",
      "202134\n",
      "202135\n"
     ]
    },
    {
     "ename": "ParserError",
     "evalue": "Error tokenizing data. C error: Calling read(nbytes) on source failed. Try engine='python'.",
     "output_type": "error",
     "traceback": [
      "\u001b[0;31m---------------------------------------------------------------------------\u001b[0m",
      "\u001b[0;31mParserError\u001b[0m                               Traceback (most recent call last)",
      "\u001b[0;32m<ipython-input-22-021c63d591b1>\u001b[0m in \u001b[0;36m<module>\u001b[0;34m\u001b[0m\n\u001b[1;32m      2\u001b[0m \u001b[0;32mfor\u001b[0m \u001b[0mcutoff\u001b[0m \u001b[0;32min\u001b[0m \u001b[0mlist\u001b[0m\u001b[0;34m(\u001b[0m\u001b[0mrange\u001b[0m\u001b[0;34m(\u001b[0m\u001b[0;36m202101\u001b[0m\u001b[0;34m,\u001b[0m\u001b[0;36m202153\u001b[0m\u001b[0;34m)\u001b[0m\u001b[0;34m)\u001b[0m \u001b[0;34m+\u001b[0m \u001b[0mlist\u001b[0m\u001b[0;34m(\u001b[0m\u001b[0mrange\u001b[0m\u001b[0;34m(\u001b[0m\u001b[0;36m202201\u001b[0m\u001b[0;34m,\u001b[0m\u001b[0;36m202211\u001b[0m\u001b[0;34m)\u001b[0m\u001b[0;34m)\u001b[0m\u001b[0;34m:\u001b[0m\u001b[0;34m\u001b[0m\u001b[0;34m\u001b[0m\u001b[0m\n\u001b[1;32m      3\u001b[0m     \u001b[0mprint\u001b[0m\u001b[0;34m(\u001b[0m\u001b[0mcutoff\u001b[0m\u001b[0;34m)\u001b[0m\u001b[0;34m\u001b[0m\u001b[0;34m\u001b[0m\u001b[0m\n\u001b[0;32m----> 4\u001b[0;31m     \u001b[0mdf\u001b[0m \u001b[0;34m=\u001b[0m \u001b[0mpd\u001b[0m\u001b[0;34m.\u001b[0m\u001b[0mread_csv\u001b[0m\u001b[0;34m(\u001b[0m\u001b[0;34mf\"s3://fcst-data-exchange-dev/demand-forecast/cn/dashboard/tableau/postgres/fcst_bi_forecast_performance_a/fcst_bi_forecast_performance_a_{cutoff}.csv\"\u001b[0m\u001b[0;34m)\u001b[0m\u001b[0;34m\u001b[0m\u001b[0;34m\u001b[0m\u001b[0m\n\u001b[0m\u001b[1;32m      5\u001b[0m     \u001b[0mfcst_bi_forecast_performance\u001b[0m \u001b[0;34m=\u001b[0m \u001b[0mfcst_bi_forecast_performance\u001b[0m\u001b[0;34m.\u001b[0m\u001b[0mappend\u001b[0m\u001b[0;34m(\u001b[0m\u001b[0mdf\u001b[0m\u001b[0;34m)\u001b[0m\u001b[0;34m\u001b[0m\u001b[0;34m\u001b[0m\u001b[0m\n",
      "\u001b[0;32m~/anaconda3/envs/python3/lib/python3.6/site-packages/pandas/io/parsers.py\u001b[0m in \u001b[0;36mread_csv\u001b[0;34m(filepath_or_buffer, sep, delimiter, header, names, index_col, usecols, squeeze, prefix, mangle_dupe_cols, dtype, engine, converters, true_values, false_values, skipinitialspace, skiprows, skipfooter, nrows, na_values, keep_default_na, na_filter, verbose, skip_blank_lines, parse_dates, infer_datetime_format, keep_date_col, date_parser, dayfirst, cache_dates, iterator, chunksize, compression, thousands, decimal, lineterminator, quotechar, quoting, doublequote, escapechar, comment, encoding, dialect, error_bad_lines, warn_bad_lines, delim_whitespace, low_memory, memory_map, float_precision)\u001b[0m\n\u001b[1;32m    686\u001b[0m     )\n\u001b[1;32m    687\u001b[0m \u001b[0;34m\u001b[0m\u001b[0m\n\u001b[0;32m--> 688\u001b[0;31m     \u001b[0;32mreturn\u001b[0m \u001b[0m_read\u001b[0m\u001b[0;34m(\u001b[0m\u001b[0mfilepath_or_buffer\u001b[0m\u001b[0;34m,\u001b[0m \u001b[0mkwds\u001b[0m\u001b[0;34m)\u001b[0m\u001b[0;34m\u001b[0m\u001b[0;34m\u001b[0m\u001b[0m\n\u001b[0m\u001b[1;32m    689\u001b[0m \u001b[0;34m\u001b[0m\u001b[0m\n\u001b[1;32m    690\u001b[0m \u001b[0;34m\u001b[0m\u001b[0m\n",
      "\u001b[0;32m~/anaconda3/envs/python3/lib/python3.6/site-packages/pandas/io/parsers.py\u001b[0m in \u001b[0;36m_read\u001b[0;34m(filepath_or_buffer, kwds)\u001b[0m\n\u001b[1;32m    458\u001b[0m \u001b[0;34m\u001b[0m\u001b[0m\n\u001b[1;32m    459\u001b[0m     \u001b[0;32mtry\u001b[0m\u001b[0;34m:\u001b[0m\u001b[0;34m\u001b[0m\u001b[0;34m\u001b[0m\u001b[0m\n\u001b[0;32m--> 460\u001b[0;31m         \u001b[0mdata\u001b[0m \u001b[0;34m=\u001b[0m \u001b[0mparser\u001b[0m\u001b[0;34m.\u001b[0m\u001b[0mread\u001b[0m\u001b[0;34m(\u001b[0m\u001b[0mnrows\u001b[0m\u001b[0;34m)\u001b[0m\u001b[0;34m\u001b[0m\u001b[0;34m\u001b[0m\u001b[0m\n\u001b[0m\u001b[1;32m    461\u001b[0m     \u001b[0;32mfinally\u001b[0m\u001b[0;34m:\u001b[0m\u001b[0;34m\u001b[0m\u001b[0;34m\u001b[0m\u001b[0m\n\u001b[1;32m    462\u001b[0m         \u001b[0mparser\u001b[0m\u001b[0;34m.\u001b[0m\u001b[0mclose\u001b[0m\u001b[0;34m(\u001b[0m\u001b[0;34m)\u001b[0m\u001b[0;34m\u001b[0m\u001b[0;34m\u001b[0m\u001b[0m\n",
      "\u001b[0;32m~/anaconda3/envs/python3/lib/python3.6/site-packages/pandas/io/parsers.py\u001b[0m in \u001b[0;36mread\u001b[0;34m(self, nrows)\u001b[0m\n\u001b[1;32m   1196\u001b[0m     \u001b[0;32mdef\u001b[0m \u001b[0mread\u001b[0m\u001b[0;34m(\u001b[0m\u001b[0mself\u001b[0m\u001b[0;34m,\u001b[0m \u001b[0mnrows\u001b[0m\u001b[0;34m=\u001b[0m\u001b[0;32mNone\u001b[0m\u001b[0;34m)\u001b[0m\u001b[0;34m:\u001b[0m\u001b[0;34m\u001b[0m\u001b[0;34m\u001b[0m\u001b[0m\n\u001b[1;32m   1197\u001b[0m         \u001b[0mnrows\u001b[0m \u001b[0;34m=\u001b[0m \u001b[0m_validate_integer\u001b[0m\u001b[0;34m(\u001b[0m\u001b[0;34m\"nrows\"\u001b[0m\u001b[0;34m,\u001b[0m \u001b[0mnrows\u001b[0m\u001b[0;34m)\u001b[0m\u001b[0;34m\u001b[0m\u001b[0;34m\u001b[0m\u001b[0m\n\u001b[0;32m-> 1198\u001b[0;31m         \u001b[0mret\u001b[0m \u001b[0;34m=\u001b[0m \u001b[0mself\u001b[0m\u001b[0;34m.\u001b[0m\u001b[0m_engine\u001b[0m\u001b[0;34m.\u001b[0m\u001b[0mread\u001b[0m\u001b[0;34m(\u001b[0m\u001b[0mnrows\u001b[0m\u001b[0;34m)\u001b[0m\u001b[0;34m\u001b[0m\u001b[0;34m\u001b[0m\u001b[0m\n\u001b[0m\u001b[1;32m   1199\u001b[0m \u001b[0;34m\u001b[0m\u001b[0m\n\u001b[1;32m   1200\u001b[0m         \u001b[0;31m# May alter columns / col_dict\u001b[0m\u001b[0;34m\u001b[0m\u001b[0;34m\u001b[0m\u001b[0;34m\u001b[0m\u001b[0m\n",
      "\u001b[0;32m~/anaconda3/envs/python3/lib/python3.6/site-packages/pandas/io/parsers.py\u001b[0m in \u001b[0;36mread\u001b[0;34m(self, nrows)\u001b[0m\n\u001b[1;32m   2155\u001b[0m     \u001b[0;32mdef\u001b[0m \u001b[0mread\u001b[0m\u001b[0;34m(\u001b[0m\u001b[0mself\u001b[0m\u001b[0;34m,\u001b[0m \u001b[0mnrows\u001b[0m\u001b[0;34m=\u001b[0m\u001b[0;32mNone\u001b[0m\u001b[0;34m)\u001b[0m\u001b[0;34m:\u001b[0m\u001b[0;34m\u001b[0m\u001b[0;34m\u001b[0m\u001b[0m\n\u001b[1;32m   2156\u001b[0m         \u001b[0;32mtry\u001b[0m\u001b[0;34m:\u001b[0m\u001b[0;34m\u001b[0m\u001b[0;34m\u001b[0m\u001b[0m\n\u001b[0;32m-> 2157\u001b[0;31m             \u001b[0mdata\u001b[0m \u001b[0;34m=\u001b[0m \u001b[0mself\u001b[0m\u001b[0;34m.\u001b[0m\u001b[0m_reader\u001b[0m\u001b[0;34m.\u001b[0m\u001b[0mread\u001b[0m\u001b[0;34m(\u001b[0m\u001b[0mnrows\u001b[0m\u001b[0;34m)\u001b[0m\u001b[0;34m\u001b[0m\u001b[0;34m\u001b[0m\u001b[0m\n\u001b[0m\u001b[1;32m   2158\u001b[0m         \u001b[0;32mexcept\u001b[0m \u001b[0mStopIteration\u001b[0m\u001b[0;34m:\u001b[0m\u001b[0;34m\u001b[0m\u001b[0;34m\u001b[0m\u001b[0m\n\u001b[1;32m   2159\u001b[0m             \u001b[0;32mif\u001b[0m \u001b[0mself\u001b[0m\u001b[0;34m.\u001b[0m\u001b[0m_first_chunk\u001b[0m\u001b[0;34m:\u001b[0m\u001b[0;34m\u001b[0m\u001b[0;34m\u001b[0m\u001b[0m\n",
      "\u001b[0;32mpandas/_libs/parsers.pyx\u001b[0m in \u001b[0;36mpandas._libs.parsers.TextReader.read\u001b[0;34m()\u001b[0m\n",
      "\u001b[0;32mpandas/_libs/parsers.pyx\u001b[0m in \u001b[0;36mpandas._libs.parsers.TextReader._read_low_memory\u001b[0;34m()\u001b[0m\n",
      "\u001b[0;32mpandas/_libs/parsers.pyx\u001b[0m in \u001b[0;36mpandas._libs.parsers.TextReader._read_rows\u001b[0;34m()\u001b[0m\n",
      "\u001b[0;32mpandas/_libs/parsers.pyx\u001b[0m in \u001b[0;36mpandas._libs.parsers.TextReader._tokenize_rows\u001b[0;34m()\u001b[0m\n",
      "\u001b[0;32mpandas/_libs/parsers.pyx\u001b[0m in \u001b[0;36mpandas._libs.parsers.raise_parser_error\u001b[0;34m()\u001b[0m\n",
      "\u001b[0;31mParserError\u001b[0m: Error tokenizing data. C error: Calling read(nbytes) on source failed. Try engine='python'."
     ]
    }
   ],
   "source": [
    "fcst_bi_forecast_performance = pd.DataFrame()\n",
    "for cutoff in list(range(202101,202153)) + list(range(202201,202211)):\n",
    "    print(cutoff)\n",
    "    df = pd.read_csv(f\"s3://fcst-data-exchange-dev/demand-forecast/cn/dashboard/tableau/postgres/fcst_bi_forecast_performance_a/fcst_bi_forecast_performance_a_{cutoff}.csv\")\n",
    "    fcst_bi_forecast_performance = fcst_bi_forecast_performance.append(df)"
   ]
  },
  {
   "cell_type": "code",
   "execution_count": 24,
   "id": "c8561e08",
   "metadata": {},
   "outputs": [],
   "source": [
    "fcst_bi_forecast_performance = fcst_bi_forecast_performance.merge(df_tree[['model_id','family_id']],on='model_id')\n",
    "fcst_bi_forecast_performance = fcst_bi_forecast_performance[(fcst_bi_forecast_performance.family_id.isin(monitor_wl['pre_selection_family']))]"
   ]
  },
  {
   "cell_type": "code",
   "execution_count": 25,
   "id": "b6f48376",
   "metadata": {},
   "outputs": [],
   "source": [
    "fcst_bi_forecast_performance.to_csv('fcst_bi_forecast_performance_a.csv',index=False)"
   ]
  },
  {
   "cell_type": "code",
   "execution_count": 20,
   "id": "62a29331",
   "metadata": {},
   "outputs": [],
   "source": [
    "fcst_bi_static_feat[['model_id']].drop_duplicates().to_csv('model_id.csv',index=False)"
   ]
  },
  {
   "cell_type": "markdown",
   "id": "253be614",
   "metadata": {},
   "source": [
    "#### Check"
   ]
  },
  {
   "cell_type": "code",
   "execution_count": 6,
   "id": "df54c4fc",
   "metadata": {},
   "outputs": [],
   "source": [
    "df_sales = read_multipart_parquet_s3('fcst-workspace/forecast-cn/fcst-refined-demand-forecast-dev',\n",
    "                                    'global/model_week_sales', prefix_filename='part-')"
   ]
  },
  {
   "cell_type": "code",
   "execution_count": 9,
   "id": "61e0bbae",
   "metadata": {},
   "outputs": [
    {
     "data": {
      "text/html": [
       "<div>\n",
       "<style scoped>\n",
       "    .dataframe tbody tr th:only-of-type {\n",
       "        vertical-align: middle;\n",
       "    }\n",
       "\n",
       "    .dataframe tbody tr th {\n",
       "        vertical-align: top;\n",
       "    }\n",
       "\n",
       "    .dataframe thead th {\n",
       "        text-align: right;\n",
       "    }\n",
       "</style>\n",
       "<table border=\"1\" class=\"dataframe\">\n",
       "  <thead>\n",
       "    <tr style=\"text-align: right;\">\n",
       "      <th></th>\n",
       "      <th>sales_quantity</th>\n",
       "    </tr>\n",
       "    <tr>\n",
       "      <th>week_id</th>\n",
       "      <th></th>\n",
       "    </tr>\n",
       "  </thead>\n",
       "  <tbody>\n",
       "    <tr>\n",
       "      <th>201952</th>\n",
       "      <td>144</td>\n",
       "    </tr>\n",
       "    <tr>\n",
       "      <th>202001</th>\n",
       "      <td>434</td>\n",
       "    </tr>\n",
       "    <tr>\n",
       "      <th>202002</th>\n",
       "      <td>477</td>\n",
       "    </tr>\n",
       "    <tr>\n",
       "      <th>202003</th>\n",
       "      <td>554</td>\n",
       "    </tr>\n",
       "    <tr>\n",
       "      <th>202004</th>\n",
       "      <td>552</td>\n",
       "    </tr>\n",
       "    <tr>\n",
       "      <th>...</th>\n",
       "      <td>...</td>\n",
       "    </tr>\n",
       "    <tr>\n",
       "      <th>202208</th>\n",
       "      <td>503</td>\n",
       "    </tr>\n",
       "    <tr>\n",
       "      <th>202209</th>\n",
       "      <td>396</td>\n",
       "    </tr>\n",
       "    <tr>\n",
       "      <th>202210</th>\n",
       "      <td>409</td>\n",
       "    </tr>\n",
       "    <tr>\n",
       "      <th>202211</th>\n",
       "      <td>437</td>\n",
       "    </tr>\n",
       "    <tr>\n",
       "      <th>202212</th>\n",
       "      <td>431</td>\n",
       "    </tr>\n",
       "  </tbody>\n",
       "</table>\n",
       "<p>117 rows × 1 columns</p>\n",
       "</div>"
      ],
      "text/plain": [
       "         sales_quantity\n",
       "week_id                \n",
       "201952              144\n",
       "202001              434\n",
       "202002              477\n",
       "202003              554\n",
       "202004              552\n",
       "...                 ...\n",
       "202208              503\n",
       "202209              396\n",
       "202210              409\n",
       "202211              437\n",
       "202212              431\n",
       "\n",
       "[117 rows x 1 columns]"
      ]
     },
     "execution_count": 9,
     "metadata": {},
     "output_type": "execute_result"
    }
   ],
   "source": [
    "df_sales[(df_sales.model_id == 8554046)].groupby(by='week_id').agg({\"sales_quantity\":\"sum\"})"
   ]
  },
  {
   "cell_type": "code",
   "execution_count": null,
   "id": "78ef77ff",
   "metadata": {},
   "outputs": [],
   "source": []
  }
 ],
 "metadata": {
  "kernelspec": {
   "display_name": "conda_python3",
   "language": "python",
   "name": "conda_python3"
  },
  "language_info": {
   "codemirror_mode": {
    "name": "ipython",
    "version": 3
   },
   "file_extension": ".py",
   "mimetype": "text/x-python",
   "name": "python",
   "nbconvert_exporter": "python",
   "pygments_lexer": "ipython3",
   "version": "3.6.13"
  }
 },
 "nbformat": 4,
 "nbformat_minor": 5
}

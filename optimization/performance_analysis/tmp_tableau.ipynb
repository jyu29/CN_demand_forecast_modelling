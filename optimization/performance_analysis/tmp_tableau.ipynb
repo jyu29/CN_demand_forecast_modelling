{
 "cells": [
  {
   "cell_type": "markdown",
   "id": "e59ce24e",
   "metadata": {},
   "source": [
    "#### WPE & WAPE Calculation"
   ]
  },
  {
   "cell_type": "code",
   "execution_count": 1,
   "id": "f9efa500",
   "metadata": {},
   "outputs": [
    {
     "name": "stdout",
     "output_type": "stream",
     "text": [
      "Requirement already satisfied: uritools in /home/ec2-user/anaconda3/envs/python3/lib/python3.6/site-packages (3.0.2)\n"
     ]
    }
   ],
   "source": [
    "!pip install uritools"
   ]
  },
  {
   "cell_type": "code",
   "execution_count": 2,
   "id": "e740d86b",
   "metadata": {},
   "outputs": [],
   "source": [
    "import pandas as pd\n",
    "import numpy as np\n",
    "import boto3\n",
    "import pyarrow.parquet as pq\n",
    "import s3fs\n",
    "import math\n",
    "import yaml\n",
    "\n",
    "import sys\n",
    "sys.path.append('../../')\n",
    "from src.utils import read_multipart_parquet_s3, write_df_to_parquet_on_s3,read_csv_s3"
   ]
  },
  {
   "cell_type": "code",
   "execution_count": 3,
   "id": "c56a12fd",
   "metadata": {},
   "outputs": [],
   "source": [
    "with open('monitor_whitelist.yaml') as config_file:\n",
    "    monitor_wl = yaml.full_load(config_file)"
   ]
  },
  {
   "cell_type": "markdown",
   "id": "521ea923",
   "metadata": {},
   "source": [
    "##### Fetch data"
   ]
  },
  {
   "cell_type": "code",
   "execution_count": 4,
   "id": "f55136d4",
   "metadata": {},
   "outputs": [],
   "source": [
    "df_tree = read_multipart_parquet_s3('fcst-workspace/forecast-cn/fcst-refined-demand-forecast-dev',\n",
    "                                    'global/model_week_tree', prefix_filename='part-')\n",
    "df_tree = df_tree[(df_tree.week_id == 202213)]"
   ]
  },
  {
   "cell_type": "code",
   "execution_count": 5,
   "id": "4878edee",
   "metadata": {},
   "outputs": [],
   "source": [
    "df_mrp = read_multipart_parquet_s3('fcst-workspace/forecast-cn/fcst-refined-demand-forecast-dev',\n",
    "                                    'global/model_week_mrp', prefix_filename='part-')\n",
    "df_mrp = df_mrp[(df_mrp.week_id == 202213)][['model_id','is_mrp_active']]"
   ]
  },
  {
   "cell_type": "code",
   "execution_count": 5,
   "id": "944ece96",
   "metadata": {},
   "outputs": [],
   "source": [
    "fcst_bi_static_feat = read_csv_s3('fcst-workspace', \n",
    "                                   'forecast-cn/fcst-data-exchange-dev/dashboard/tableau/total_cutoff/fcst_bi_static_feat_w.csv')"
   ]
  },
  {
   "cell_type": "code",
   "execution_count": 6,
   "id": "5349e757",
   "metadata": {},
   "outputs": [
    {
     "data": {
      "text/html": [
       "<div>\n",
       "<style scoped>\n",
       "    .dataframe tbody tr th:only-of-type {\n",
       "        vertical-align: middle;\n",
       "    }\n",
       "\n",
       "    .dataframe tbody tr th {\n",
       "        vertical-align: top;\n",
       "    }\n",
       "\n",
       "    .dataframe thead th {\n",
       "        text-align: right;\n",
       "    }\n",
       "</style>\n",
       "<table border=\"1\" class=\"dataframe\">\n",
       "  <thead>\n",
       "    <tr style=\"text-align: right;\">\n",
       "      <th></th>\n",
       "      <th>model_id</th>\n",
       "      <th>wpe_reach_target</th>\n",
       "      <th>wape_reach_target</th>\n",
       "      <th>univers_label</th>\n",
       "      <th>department_label</th>\n",
       "      <th>family_label</th>\n",
       "      <th>rs_email</th>\n",
       "      <th>AW2021_CodeA</th>\n",
       "      <th>tier</th>\n",
       "      <th>model_label</th>\n",
       "      <th>ec_tag</th>\n",
       "      <th>selling_length</th>\n",
       "      <th>aw_seasonality</th>\n",
       "      <th>annual_seasonality</th>\n",
       "      <th>wpe_cutoff_ok_pct</th>\n",
       "      <th>wape_cutoff_ok_pct</th>\n",
       "      <th>update_time</th>\n",
       "    </tr>\n",
       "  </thead>\n",
       "  <tbody>\n",
       "    <tr>\n",
       "      <th>4757</th>\n",
       "      <td>8554046</td>\n",
       "      <td>False</td>\n",
       "      <td>False</td>\n",
       "      <td>RUNNING WALKING</td>\n",
       "      <td>RUNNING TRAIL A</td>\n",
       "      <td>224_ADULT RUN SOCKS</td>\n",
       "      <td>april.wang@decathlon.com</td>\n",
       "      <td>False</td>\n",
       "      <td>Tier_4</td>\n",
       "      <td>8554046_5 FINGERS SOCK BLACK YELLOW</td>\n",
       "      <td>No</td>\n",
       "      <td>&lt;20W</td>\n",
       "      <td>Normal</td>\n",
       "      <td>Seasonal</td>\n",
       "      <td>0.0</td>\n",
       "      <td>0.0</td>\n",
       "      <td>03/28/2022-05:20:49</td>\n",
       "    </tr>\n",
       "  </tbody>\n",
       "</table>\n",
       "</div>"
      ],
      "text/plain": [
       "      model_id  wpe_reach_target  wape_reach_target    univers_label  \\\n",
       "4757   8554046             False              False  RUNNING WALKING   \n",
       "\n",
       "     department_label         family_label                  rs_email  \\\n",
       "4757  RUNNING TRAIL A  224_ADULT RUN SOCKS  april.wang@decathlon.com   \n",
       "\n",
       "      AW2021_CodeA    tier                          model_label ec_tag  \\\n",
       "4757         False  Tier_4  8554046_5 FINGERS SOCK BLACK YELLOW     No   \n",
       "\n",
       "     selling_length aw_seasonality annual_seasonality  wpe_cutoff_ok_pct  \\\n",
       "4757           <20W         Normal           Seasonal                0.0   \n",
       "\n",
       "      wape_cutoff_ok_pct          update_time  \n",
       "4757                 0.0  03/28/2022-05:20:49  "
      ]
     },
     "execution_count": 6,
     "metadata": {},
     "output_type": "execute_result"
    }
   ],
   "source": [
    "fcst_bi_static_feat[fcst_bi_static_feat.model_id == 8554046]"
   ]
  },
  {
   "cell_type": "code",
   "execution_count": 41,
   "id": "293c3f7d",
   "metadata": {},
   "outputs": [],
   "source": [
    "fcst_bi_static_feat = fcst_bi_static_feat.merge(df_tree[['model_id','family_id']],on='model_id')\n",
    "fcst_bi_static_feat = fcst_bi_static_feat[(fcst_bi_static_feat.family_id.isin(monitor_wl['pre_selection_family']))]"
   ]
  },
  {
   "cell_type": "code",
   "execution_count": 42,
   "id": "55c53895",
   "metadata": {},
   "outputs": [],
   "source": [
    "fcst_bi_static_feat = fcst_bi_static_feat.merge(df_mrp,on='model_id',how='left')"
   ]
  },
  {
   "cell_type": "code",
   "execution_count": 43,
   "id": "7902158b",
   "metadata": {},
   "outputs": [],
   "source": [
    "fcst_bi_static_feat[['model_id', 'wpe_reach_target', 'wape_reach_target',\n",
    "       'univers_label', 'department_label', 'family_label', 'rs_email',\n",
    "       'AW2021_CodeA', 'tier', 'model_label', 'ec_tag', 'selling_length',\n",
    "       'aw_seasonality', 'annual_seasonality', 'wpe_cutoff_ok_pct',\n",
    "       'wape_cutoff_ok_pct','is_mrp_active', 'update_time']].to_csv('fcst_bi_static_feat_w.csv',index=False)"
   ]
  },
  {
   "cell_type": "code",
   "execution_count": 44,
   "id": "8f5edec8",
   "metadata": {},
   "outputs": [],
   "source": [
    "fcst_bi_dynamic_feat = read_csv_s3('fcst-workspace', \n",
    "                                   'forecast-cn/fcst-data-exchange-dev/dashboard/tableau/total_cutoff/fcst_bi_dynamic_feat.csv')"
   ]
  },
  {
   "cell_type": "code",
   "execution_count": 45,
   "id": "f84e6361",
   "metadata": {},
   "outputs": [],
   "source": [
    "fcst_bi_dynamic_feat = fcst_bi_dynamic_feat.merge(df_tree[['model_id','family_id']],on='model_id')\n",
    "fcst_bi_dynamic_feat = fcst_bi_dynamic_feat[(fcst_bi_dynamic_feat.family_id.isin(monitor_wl['pre_selection_family']))]"
   ]
  },
  {
   "cell_type": "code",
   "execution_count": 46,
   "id": "03889850",
   "metadata": {},
   "outputs": [],
   "source": [
    "fcst_bi_dynamic_feat[['model_id','week_id','weekly_average_price','num_store_following']]\\\n",
    ".to_csv('fcst_bi_dynamic_feat.csv',index=False)"
   ]
  },
  {
   "cell_type": "code",
   "execution_count": 47,
   "id": "24e274d3",
   "metadata": {},
   "outputs": [],
   "source": [
    "fcst_bi_forecast_result = read_csv_s3('fcst-workspace', \n",
    "                                      'forecast-cn/fcst-data-exchange-dev/dashboard/tableau/total_cutoff/fcst_bi_forecast_result.csv')"
   ]
  },
  {
   "cell_type": "code",
   "execution_count": 48,
   "id": "6e885984",
   "metadata": {},
   "outputs": [
    {
     "data": {
      "text/plain": [
       "160994956"
      ]
     },
     "execution_count": 48,
     "metadata": {},
     "output_type": "execute_result"
    }
   ],
   "source": [
    "fcst_bi_forecast_result[(fcst_bi_forecast_result.algorithm == 'realized_sales') \\\n",
    "                        & (fcst_bi_forecast_result.qty_tag == 'sales_w')].quantity.sum()\n",
    "\n",
    "#51537265/152819899"
   ]
  },
  {
   "cell_type": "code",
   "execution_count": 49,
   "id": "5a25949c",
   "metadata": {},
   "outputs": [],
   "source": [
    "fcst_bi_forecast_result = fcst_bi_forecast_result.merge(df_tree[['model_id','family_id']],on='model_id')\n",
    "fcst_bi_forecast_result = fcst_bi_forecast_result[(fcst_bi_forecast_result.family_id.isin(monitor_wl['pre_selection_family']))]"
   ]
  },
  {
   "cell_type": "code",
   "execution_count": 50,
   "id": "4ee2b792",
   "metadata": {},
   "outputs": [],
   "source": [
    "fcst_bi_forecast_result[['model_id','week_id','algorithm','qty_tag','quantity']]\\\n",
    ".to_csv('fcst_bi_forecast_result.csv',index=False)"
   ]
  },
  {
   "cell_type": "code",
   "execution_count": 51,
   "id": "c56d9f84",
   "metadata": {},
   "outputs": [
    {
     "data": {
      "text/html": [
       "<div>\n",
       "<style scoped>\n",
       "    .dataframe tbody tr th:only-of-type {\n",
       "        vertical-align: middle;\n",
       "    }\n",
       "\n",
       "    .dataframe tbody tr th {\n",
       "        vertical-align: top;\n",
       "    }\n",
       "\n",
       "    .dataframe thead th {\n",
       "        text-align: right;\n",
       "    }\n",
       "</style>\n",
       "<table border=\"1\" class=\"dataframe\">\n",
       "  <thead>\n",
       "    <tr style=\"text-align: right;\">\n",
       "      <th></th>\n",
       "      <th>algorithm</th>\n",
       "      <th>week_id</th>\n",
       "    </tr>\n",
       "  </thead>\n",
       "  <tbody>\n",
       "    <tr>\n",
       "      <th>0</th>\n",
       "      <td>AI</td>\n",
       "      <td>202222</td>\n",
       "    </tr>\n",
       "    <tr>\n",
       "      <th>1</th>\n",
       "      <td>APO_GD</td>\n",
       "      <td>202218</td>\n",
       "    </tr>\n",
       "    <tr>\n",
       "      <th>2</th>\n",
       "      <td>APO_STAT</td>\n",
       "      <td>202218</td>\n",
       "    </tr>\n",
       "    <tr>\n",
       "      <th>3</th>\n",
       "      <td>realized_sales</td>\n",
       "      <td>202212</td>\n",
       "    </tr>\n",
       "  </tbody>\n",
       "</table>\n",
       "</div>"
      ],
      "text/plain": [
       "        algorithm  week_id\n",
       "0              AI   202222\n",
       "1          APO_GD   202218\n",
       "2        APO_STAT   202218\n",
       "3  realized_sales   202212"
      ]
     },
     "execution_count": 51,
     "metadata": {},
     "output_type": "execute_result"
    }
   ],
   "source": [
    "fcst_bi_forecast_result.groupby(by='algorithm',as_index=False).agg({\"week_id\":\"max\"})"
   ]
  },
  {
   "cell_type": "code",
   "execution_count": 52,
   "id": "0055f9cc",
   "metadata": {},
   "outputs": [],
   "source": [
    "fcst_bi_forecast_performance = read_csv_s3('fcst-workspace', \n",
    "                                           'forecast-cn/fcst-data-exchange-dev/dashboard/tableau/total_cutoff/fcst_bi_forecast_performance_a.csv')"
   ]
  },
  {
   "cell_type": "code",
   "execution_count": 53,
   "id": "b3592d83",
   "metadata": {},
   "outputs": [],
   "source": [
    "fcst_bi_forecast_performance = fcst_bi_forecast_performance.merge(df_tree[['model_id','family_id']],on='model_id')\n",
    "fcst_bi_forecast_performance = fcst_bi_forecast_performance[(fcst_bi_forecast_performance.family_id.isin(monitor_wl['pre_selection_family']))]"
   ]
  },
  {
   "cell_type": "code",
   "execution_count": null,
   "id": "9469fc08",
   "metadata": {},
   "outputs": [],
   "source": [
    "fcst_bi_forecast_performance"
   ]
  },
  {
   "cell_type": "code",
   "execution_count": 54,
   "id": "5b588c46",
   "metadata": {},
   "outputs": [],
   "source": [
    "fcst_bi_forecast_performance.to_csv('fcst_bi_forecast_performance_a.csv',index=False)"
   ]
  },
  {
   "cell_type": "code",
   "execution_count": 55,
   "id": "783fbe4d",
   "metadata": {},
   "outputs": [],
   "source": [
    "fcst_bi_forecast_performance[['model_id']].drop_duplicates().to_csv('model_id.csv',index=False)"
   ]
  },
  {
   "cell_type": "code",
   "execution_count": 56,
   "id": "5293565f",
   "metadata": {},
   "outputs": [],
   "source": [
    "fcst_bi_static_feat[['model_id']].drop_duplicates().to_csv('model_id.csv',index=False)"
   ]
  },
  {
   "cell_type": "markdown",
   "id": "33d6edfb",
   "metadata": {},
   "source": [
    "#### Check"
   ]
  },
  {
   "cell_type": "code",
   "execution_count": 6,
   "id": "c6e04acc",
   "metadata": {},
   "outputs": [],
   "source": [
    "df_sales = read_multipart_parquet_s3('fcst-workspace/forecast-cn/fcst-refined-demand-forecast-dev',\n",
    "                                    'global/model_week_sales', prefix_filename='part-')"
   ]
  },
  {
   "cell_type": "code",
   "execution_count": 9,
   "id": "3762a364",
   "metadata": {},
   "outputs": [
    {
     "data": {
      "text/html": [
       "<div>\n",
       "<style scoped>\n",
       "    .dataframe tbody tr th:only-of-type {\n",
       "        vertical-align: middle;\n",
       "    }\n",
       "\n",
       "    .dataframe tbody tr th {\n",
       "        vertical-align: top;\n",
       "    }\n",
       "\n",
       "    .dataframe thead th {\n",
       "        text-align: right;\n",
       "    }\n",
       "</style>\n",
       "<table border=\"1\" class=\"dataframe\">\n",
       "  <thead>\n",
       "    <tr style=\"text-align: right;\">\n",
       "      <th></th>\n",
       "      <th>sales_quantity</th>\n",
       "    </tr>\n",
       "    <tr>\n",
       "      <th>week_id</th>\n",
       "      <th></th>\n",
       "    </tr>\n",
       "  </thead>\n",
       "  <tbody>\n",
       "    <tr>\n",
       "      <th>201952</th>\n",
       "      <td>144</td>\n",
       "    </tr>\n",
       "    <tr>\n",
       "      <th>202001</th>\n",
       "      <td>434</td>\n",
       "    </tr>\n",
       "    <tr>\n",
       "      <th>202002</th>\n",
       "      <td>477</td>\n",
       "    </tr>\n",
       "    <tr>\n",
       "      <th>202003</th>\n",
       "      <td>554</td>\n",
       "    </tr>\n",
       "    <tr>\n",
       "      <th>202004</th>\n",
       "      <td>552</td>\n",
       "    </tr>\n",
       "    <tr>\n",
       "      <th>...</th>\n",
       "      <td>...</td>\n",
       "    </tr>\n",
       "    <tr>\n",
       "      <th>202208</th>\n",
       "      <td>503</td>\n",
       "    </tr>\n",
       "    <tr>\n",
       "      <th>202209</th>\n",
       "      <td>396</td>\n",
       "    </tr>\n",
       "    <tr>\n",
       "      <th>202210</th>\n",
       "      <td>409</td>\n",
       "    </tr>\n",
       "    <tr>\n",
       "      <th>202211</th>\n",
       "      <td>437</td>\n",
       "    </tr>\n",
       "    <tr>\n",
       "      <th>202212</th>\n",
       "      <td>431</td>\n",
       "    </tr>\n",
       "  </tbody>\n",
       "</table>\n",
       "<p>117 rows × 1 columns</p>\n",
       "</div>"
      ],
      "text/plain": [
       "         sales_quantity\n",
       "week_id                \n",
       "201952              144\n",
       "202001              434\n",
       "202002              477\n",
       "202003              554\n",
       "202004              552\n",
       "...                 ...\n",
       "202208              503\n",
       "202209              396\n",
       "202210              409\n",
       "202211              437\n",
       "202212              431\n",
       "\n",
       "[117 rows x 1 columns]"
      ]
     },
     "execution_count": 9,
     "metadata": {},
     "output_type": "execute_result"
    }
   ],
   "source": [
    "df_sales[(df_sales.model_id == 8554046)].groupby(by='week_id').agg({\"sales_quantity\":\"sum\"})"
   ]
  },
  {
   "cell_type": "code",
   "execution_count": null,
   "id": "031cfd89",
   "metadata": {},
   "outputs": [],
   "source": []
  }
 ],
 "metadata": {
  "kernelspec": {
   "display_name": "conda_python3",
   "language": "python",
   "name": "conda_python3"
  },
  "language_info": {
   "codemirror_mode": {
    "name": "ipython",
    "version": 3
   },
   "file_extension": ".py",
   "mimetype": "text/x-python",
   "name": "python",
   "nbconvert_exporter": "python",
   "pygments_lexer": "ipython3",
   "version": "3.6.13"
  }
 },
 "nbformat": 4,
 "nbformat_minor": 5
}

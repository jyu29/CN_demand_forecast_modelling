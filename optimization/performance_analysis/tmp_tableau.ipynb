{
 "cells": [
  {
   "cell_type": "markdown",
   "id": "5db2e7c4",
   "metadata": {},
   "source": [
    "#### WPE & WAPE Calculation"
   ]
  },
  {
   "cell_type": "code",
   "execution_count": 1,
   "id": "e96f31fa",
   "metadata": {},
   "outputs": [
    {
     "name": "stdout",
     "output_type": "stream",
     "text": [
      "Requirement already satisfied: uritools in /home/ec2-user/anaconda3/envs/python3/lib/python3.6/site-packages (3.0.2)\n"
     ]
    }
   ],
   "source": [
    "!pip install uritools"
   ]
  },
  {
   "cell_type": "code",
   "execution_count": 2,
   "id": "c2176404",
   "metadata": {},
   "outputs": [],
   "source": [
    "import pandas as pd\n",
    "import numpy as np\n",
    "import boto3\n",
    "import pyarrow.parquet as pq\n",
    "import s3fs\n",
    "import math\n",
    "import yaml\n",
    "\n",
    "import sys\n",
    "sys.path.append('../../')\n",
    "from src.utils import read_multipart_parquet_s3, write_df_to_parquet_on_s3,read_csv_s3"
   ]
  },
  {
   "cell_type": "code",
   "execution_count": 3,
   "id": "8bcf4996",
   "metadata": {},
   "outputs": [],
   "source": [
    "with open('monitor_whitelist.yaml') as config_file:\n",
    "    monitor_wl = yaml.full_load(config_file)"
   ]
  },
  {
   "cell_type": "markdown",
   "id": "85dcb66f",
   "metadata": {},
   "source": [
    "##### Fetch data"
   ]
  },
  {
   "cell_type": "code",
   "execution_count": 4,
   "id": "6974ebbc",
   "metadata": {},
   "outputs": [],
   "source": [
    "df_tree = read_multipart_parquet_s3('fcst-workspace/forecast-cn/fcst-refined-demand-forecast-dev',\n",
    "                                    'global/model_week_tree', prefix_filename='part-')\n",
    "df_tree = df_tree[(df_tree.week_id == 202213)]"
   ]
  },
  {
   "cell_type": "code",
   "execution_count": 5,
   "id": "8371f6b6",
   "metadata": {},
   "outputs": [],
   "source": [
    "df_mrp = read_multipart_parquet_s3('fcst-workspace/forecast-cn/fcst-refined-demand-forecast-dev',\n",
    "                                    'global/model_week_mrp', prefix_filename='part-')\n",
    "df_mrp = df_mrp[(df_mrp.week_id == 202213)][['model_id','is_mrp_active']]"
   ]
  },
  {
   "cell_type": "code",
   "execution_count": 40,
   "id": "2ab05a66",
   "metadata": {},
   "outputs": [],
   "source": [
    "fcst_bi_static_feat = read_csv_s3('fcst-workspace', \n",
    "                                   'forecast-cn/fcst-data-exchange-dev/dashboard/tableau/total_cutoff/fcst_bi_static_feat_w.csv')"
   ]
  },
  {
   "cell_type": "code",
   "execution_count": 41,
   "id": "31e27aba",
   "metadata": {},
   "outputs": [],
   "source": [
    "fcst_bi_static_feat = fcst_bi_static_feat.merge(df_tree[['model_id','family_id']],on='model_id')\n",
    "fcst_bi_static_feat = fcst_bi_static_feat[(fcst_bi_static_feat.family_id.isin(monitor_wl['pre_selection_family']))]"
   ]
  },
  {
   "cell_type": "code",
   "execution_count": 42,
   "id": "ee3e7bb6",
   "metadata": {},
   "outputs": [],
   "source": [
    "fcst_bi_static_feat = fcst_bi_static_feat.merge(df_mrp,on='model_id',how='left')"
   ]
  },
  {
   "cell_type": "code",
   "execution_count": 43,
   "id": "637787b8",
   "metadata": {},
   "outputs": [],
   "source": [
    "fcst_bi_static_feat[['model_id', 'wpe_reach_target', 'wape_reach_target',\n",
    "       'univers_label', 'department_label', 'family_label', 'rs_email',\n",
    "       'AW2021_CodeA', 'tier', 'model_label', 'ec_tag', 'selling_length',\n",
    "       'aw_seasonality', 'annual_seasonality', 'wpe_cutoff_ok_pct',\n",
    "       'wape_cutoff_ok_pct','is_mrp_active', 'update_time']].to_csv('fcst_bi_static_feat_w.csv',index=False)"
   ]
  },
  {
   "cell_type": "code",
   "execution_count": 44,
   "id": "e5e3938d",
   "metadata": {},
   "outputs": [],
   "source": [
    "fcst_bi_dynamic_feat = read_csv_s3('fcst-workspace', \n",
    "                                   'forecast-cn/fcst-data-exchange-dev/dashboard/tableau/total_cutoff/fcst_bi_dynamic_feat.csv')"
   ]
  },
  {
   "cell_type": "code",
   "execution_count": 45,
   "id": "68f9dbdb",
   "metadata": {},
   "outputs": [],
   "source": [
    "fcst_bi_dynamic_feat = fcst_bi_dynamic_feat.merge(df_tree[['model_id','family_id']],on='model_id')\n",
    "fcst_bi_dynamic_feat = fcst_bi_dynamic_feat[(fcst_bi_dynamic_feat.family_id.isin(monitor_wl['pre_selection_family']))]"
   ]
  },
  {
   "cell_type": "code",
   "execution_count": 46,
   "id": "f24430ca",
   "metadata": {},
   "outputs": [],
   "source": [
    "fcst_bi_dynamic_feat[['model_id','week_id','weekly_average_price','num_store_following']]\\\n",
    ".to_csv('fcst_bi_dynamic_feat.csv',index=False)"
   ]
  },
  {
   "cell_type": "code",
   "execution_count": 47,
   "id": "092f3a85",
   "metadata": {},
   "outputs": [],
   "source": [
    "fcst_bi_forecast_result = read_csv_s3('fcst-workspace', \n",
    "                                      'forecast-cn/fcst-data-exchange-dev/dashboard/tableau/total_cutoff/fcst_bi_forecast_result.csv')"
   ]
  },
  {
   "cell_type": "code",
   "execution_count": 48,
   "id": "2e82833e",
   "metadata": {},
   "outputs": [
    {
     "data": {
      "text/plain": [
       "160994956"
      ]
     },
     "execution_count": 48,
     "metadata": {},
     "output_type": "execute_result"
    }
   ],
   "source": [
    "fcst_bi_forecast_result[(fcst_bi_forecast_result.algorithm == 'realized_sales') \\\n",
    "                        & (fcst_bi_forecast_result.qty_tag == 'sales_w')].quantity.sum()\n",
    "\n",
    "#51537265/152819899"
   ]
  },
  {
   "cell_type": "code",
   "execution_count": 49,
   "id": "cbd797ae",
   "metadata": {},
   "outputs": [],
   "source": [
    "fcst_bi_forecast_result = fcst_bi_forecast_result.merge(df_tree[['model_id','family_id']],on='model_id')\n",
    "fcst_bi_forecast_result = fcst_bi_forecast_result[(fcst_bi_forecast_result.family_id.isin(monitor_wl['pre_selection_family']))]"
   ]
  },
  {
   "cell_type": "code",
   "execution_count": 50,
   "id": "703aad15",
   "metadata": {},
   "outputs": [],
   "source": [
    "fcst_bi_forecast_result[['model_id','week_id','algorithm','qty_tag','quantity']]\\\n",
    ".to_csv('fcst_bi_forecast_result.csv',index=False)"
   ]
  },
  {
   "cell_type": "code",
   "execution_count": 51,
   "id": "d8045f99",
   "metadata": {},
   "outputs": [
    {
     "data": {
      "text/html": [
       "<div>\n",
       "<style scoped>\n",
       "    .dataframe tbody tr th:only-of-type {\n",
       "        vertical-align: middle;\n",
       "    }\n",
       "\n",
       "    .dataframe tbody tr th {\n",
       "        vertical-align: top;\n",
       "    }\n",
       "\n",
       "    .dataframe thead th {\n",
       "        text-align: right;\n",
       "    }\n",
       "</style>\n",
       "<table border=\"1\" class=\"dataframe\">\n",
       "  <thead>\n",
       "    <tr style=\"text-align: right;\">\n",
       "      <th></th>\n",
       "      <th>algorithm</th>\n",
       "      <th>week_id</th>\n",
       "    </tr>\n",
       "  </thead>\n",
       "  <tbody>\n",
       "    <tr>\n",
       "      <th>0</th>\n",
       "      <td>AI</td>\n",
       "      <td>202222</td>\n",
       "    </tr>\n",
       "    <tr>\n",
       "      <th>1</th>\n",
       "      <td>APO_GD</td>\n",
       "      <td>202218</td>\n",
       "    </tr>\n",
       "    <tr>\n",
       "      <th>2</th>\n",
       "      <td>APO_STAT</td>\n",
       "      <td>202218</td>\n",
       "    </tr>\n",
       "    <tr>\n",
       "      <th>3</th>\n",
       "      <td>realized_sales</td>\n",
       "      <td>202212</td>\n",
       "    </tr>\n",
       "  </tbody>\n",
       "</table>\n",
       "</div>"
      ],
      "text/plain": [
       "        algorithm  week_id\n",
       "0              AI   202222\n",
       "1          APO_GD   202218\n",
       "2        APO_STAT   202218\n",
       "3  realized_sales   202212"
      ]
     },
     "execution_count": 51,
     "metadata": {},
     "output_type": "execute_result"
    }
   ],
   "source": [
    "fcst_bi_forecast_result.groupby(by='algorithm',as_index=False).agg({\"week_id\":\"max\"})"
   ]
  },
  {
   "cell_type": "code",
   "execution_count": 52,
   "id": "03acad36",
   "metadata": {},
   "outputs": [],
   "source": [
    "fcst_bi_forecast_performance = read_csv_s3('fcst-workspace', \n",
    "                                           'forecast-cn/fcst-data-exchange-dev/dashboard/tableau/total_cutoff/fcst_bi_forecast_performance_a.csv')"
   ]
  },
  {
   "cell_type": "code",
   "execution_count": 53,
   "id": "033044e6",
   "metadata": {},
   "outputs": [],
   "source": [
    "fcst_bi_forecast_performance = fcst_bi_forecast_performance.merge(df_tree[['model_id','family_id']],on='model_id')\n",
    "fcst_bi_forecast_performance = fcst_bi_forecast_performance[(fcst_bi_forecast_performance.family_id.isin(monitor_wl['pre_selection_family']))]"
   ]
  },
  {
   "cell_type": "code",
   "execution_count": null,
   "id": "d2bb4917",
   "metadata": {},
   "outputs": [],
   "source": [
    "fcst_bi_forecast_performance"
   ]
  },
  {
   "cell_type": "code",
   "execution_count": 54,
   "id": "e485c2ad",
   "metadata": {},
   "outputs": [],
   "source": [
    "fcst_bi_forecast_performance.to_csv('fcst_bi_forecast_performance_a.csv',index=False)"
   ]
  },
  {
   "cell_type": "code",
   "execution_count": 55,
   "id": "3f5f2be7",
   "metadata": {},
   "outputs": [],
   "source": [
    "fcst_bi_forecast_performance[['model_id']].drop_duplicates().to_csv('model_id.csv',index=False)"
   ]
  },
  {
   "cell_type": "code",
   "execution_count": 56,
   "id": "c6c52183",
   "metadata": {},
   "outputs": [],
   "source": [
    "fcst_bi_static_feat[['model_id']].drop_duplicates().to_csv('model_id.csv',index=False)"
   ]
  },
  {
   "cell_type": "markdown",
   "id": "b8692900",
   "metadata": {},
   "source": [
    "#### Check"
   ]
  },
  {
   "cell_type": "code",
   "execution_count": 23,
   "id": "0b1b66ea",
   "metadata": {},
   "outputs": [],
   "source": [
    "df_sales = read_multipart_parquet_s3('fcst-workspace/forecast-cn/fcst-refined-demand-forecast-dev',\n",
    "                                    'global/model_week_sales', prefix_filename='part-')"
   ]
  },
  {
   "cell_type": "code",
   "execution_count": 99,
   "id": "245cb836",
   "metadata": {},
   "outputs": [
    {
     "data": {
      "text/html": [
       "<div>\n",
       "<style scoped>\n",
       "    .dataframe tbody tr th:only-of-type {\n",
       "        vertical-align: middle;\n",
       "    }\n",
       "\n",
       "    .dataframe tbody tr th {\n",
       "        vertical-align: top;\n",
       "    }\n",
       "\n",
       "    .dataframe thead th {\n",
       "        text-align: right;\n",
       "    }\n",
       "</style>\n",
       "<table border=\"1\" class=\"dataframe\">\n",
       "  <thead>\n",
       "    <tr style=\"text-align: right;\">\n",
       "      <th></th>\n",
       "      <th>model_id</th>\n",
       "      <th>week_id</th>\n",
       "      <th>date</th>\n",
       "      <th>channel</th>\n",
       "      <th>sales_quantity</th>\n",
       "    </tr>\n",
       "  </thead>\n",
       "  <tbody>\n",
       "    <tr>\n",
       "      <th>333253</th>\n",
       "      <td>8552490</td>\n",
       "      <td>202106</td>\n",
       "      <td>2021-02-07</td>\n",
       "      <td>offline</td>\n",
       "      <td>600</td>\n",
       "    </tr>\n",
       "    <tr>\n",
       "      <th>333347</th>\n",
       "      <td>8552490</td>\n",
       "      <td>202107</td>\n",
       "      <td>2021-02-14</td>\n",
       "      <td>online</td>\n",
       "      <td>18</td>\n",
       "    </tr>\n",
       "    <tr>\n",
       "      <th>713318</th>\n",
       "      <td>8552490</td>\n",
       "      <td>202108</td>\n",
       "      <td>2021-02-21</td>\n",
       "      <td>online</td>\n",
       "      <td>15</td>\n",
       "    </tr>\n",
       "    <tr>\n",
       "      <th>1543057</th>\n",
       "      <td>8552490</td>\n",
       "      <td>202110</td>\n",
       "      <td>2021-03-07</td>\n",
       "      <td>online</td>\n",
       "      <td>20</td>\n",
       "    </tr>\n",
       "    <tr>\n",
       "      <th>2314819</th>\n",
       "      <td>8552490</td>\n",
       "      <td>202108</td>\n",
       "      <td>2021-02-21</td>\n",
       "      <td>offline</td>\n",
       "      <td>549</td>\n",
       "    </tr>\n",
       "    <tr>\n",
       "      <th>3181716</th>\n",
       "      <td>8552490</td>\n",
       "      <td>202107</td>\n",
       "      <td>2021-02-14</td>\n",
       "      <td>offline</td>\n",
       "      <td>800</td>\n",
       "    </tr>\n",
       "    <tr>\n",
       "      <th>3941196</th>\n",
       "      <td>8552490</td>\n",
       "      <td>202109</td>\n",
       "      <td>2021-02-28</td>\n",
       "      <td>online</td>\n",
       "      <td>4</td>\n",
       "    </tr>\n",
       "    <tr>\n",
       "      <th>5222200</th>\n",
       "      <td>8552490</td>\n",
       "      <td>202106</td>\n",
       "      <td>2021-02-07</td>\n",
       "      <td>online</td>\n",
       "      <td>9</td>\n",
       "    </tr>\n",
       "    <tr>\n",
       "      <th>5222517</th>\n",
       "      <td>8552490</td>\n",
       "      <td>202109</td>\n",
       "      <td>2021-02-28</td>\n",
       "      <td>offline</td>\n",
       "      <td>582</td>\n",
       "    </tr>\n",
       "    <tr>\n",
       "      <th>5222935</th>\n",
       "      <td>8552490</td>\n",
       "      <td>202110</td>\n",
       "      <td>2021-03-07</td>\n",
       "      <td>offline</td>\n",
       "      <td>677</td>\n",
       "    </tr>\n",
       "  </tbody>\n",
       "</table>\n",
       "</div>"
      ],
      "text/plain": [
       "         model_id  week_id       date  channel  sales_quantity\n",
       "333253    8552490   202106 2021-02-07  offline             600\n",
       "333347    8552490   202107 2021-02-14   online              18\n",
       "713318    8552490   202108 2021-02-21   online              15\n",
       "1543057   8552490   202110 2021-03-07   online              20\n",
       "2314819   8552490   202108 2021-02-21  offline             549\n",
       "3181716   8552490   202107 2021-02-14  offline             800\n",
       "3941196   8552490   202109 2021-02-28   online               4\n",
       "5222200   8552490   202106 2021-02-07   online               9\n",
       "5222517   8552490   202109 2021-02-28  offline             582\n",
       "5222935   8552490   202110 2021-03-07  offline             677"
      ]
     },
     "execution_count": 99,
     "metadata": {},
     "output_type": "execute_result"
    }
   ],
   "source": [
    "df_sales[(df_sales.model_id == 8552490) & (df_sales.week_id.isin([202106,202107,202108,202109,202110]))]"
   ]
  },
  {
   "cell_type": "code",
   "execution_count": null,
   "id": "5ac85c9a",
   "metadata": {},
   "outputs": [],
   "source": []
  }
 ],
 "metadata": {
  "kernelspec": {
   "display_name": "conda_python3",
   "language": "python",
   "name": "conda_python3"
  },
  "language_info": {
   "codemirror_mode": {
    "name": "ipython",
    "version": 3
   },
   "file_extension": ".py",
   "mimetype": "text/x-python",
   "name": "python",
   "nbconvert_exporter": "python",
   "pygments_lexer": "ipython3",
   "version": "3.6.13"
  }
 },
 "nbformat": 4,
 "nbformat_minor": 5
}

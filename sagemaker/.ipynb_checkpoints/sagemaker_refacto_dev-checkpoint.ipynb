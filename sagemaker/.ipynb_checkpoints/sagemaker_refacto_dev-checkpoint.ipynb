{
 "cells": [
  {
   "cell_type": "code",
   "execution_count": 1,
   "metadata": {},
   "outputs": [],
   "source": [
    "import os\n",
    "\n",
    "os.environ['HTTP_PROXY'] = \"http://proxy-internet-aws-eu.subsidia.org:3128\"\n",
    "os.environ['HTTPS_PROXY'] = \"http://proxy-internet-aws-eu.subsidia.org:3128\"\n",
    "os.environ['no_proxy'] = \"169.254.169.254,127.0.0.1\""
   ]
  },
  {
   "cell_type": "code",
   "execution_count": 2,
   "metadata": {},
   "outputs": [
    {
     "name": "stdout",
     "output_type": "stream",
     "text": [
      "Stopping docker: [  OK  ]\n",
      "Starting docker:\t.[  OK  ]\n"
     ]
    }
   ],
   "source": [
    "%%sh\n",
    "\n",
    "sudo su\n",
    "\n",
    "cat <<EOF >> /etc/sysconfig/docker\n",
    "export HTTPS_PROXY=http://proxy-internet-aws-eu.subsidia.org:3128\n",
    "export HTTP_PROXY=http://proxy-internet-aws-eu.subsidia.org:3128\n",
    "export NO_PROXY=169.254.169.254,127.0.0.1\n",
    "EOF\n",
    "\n",
    "service docker restart"
   ]
  },
  {
   "cell_type": "markdown",
   "metadata": {},
   "source": [
    "## Build Docker images for train & serve"
   ]
  },
  {
   "cell_type": "code",
   "execution_count": null,
   "metadata": {},
   "outputs": [],
   "source": [
    "%%sh\n",
    "\n",
    "export HTTPS_PROXY=http://proxy-internet-aws-eu.subsidia.org:3128\n",
    "export HTTP_PROXY=http://proxy-internet-aws-eu.subsidia.org:3128\n",
    "export NO_PROXY=169.254.169.254,127.0.0.1\n",
    "\n",
    "# The name of our algorithm\n",
    "image_name=mxnet-gluonts-training-0.3.3\n",
    "\n",
    "cd container\n",
    "account=$(aws sts get-caller-identity --query Account --output text)\n",
    "\n",
    "# Get the region defined in the current configuration (default to us-west-2 if none defined)\n",
    "region=$(aws configure get region)\n",
    "region=${region:-eu-west-1}\n",
    "\n",
    "fullname=\"${account}.dkr.ecr.${region}.amazonaws.com/${image_name}:latest\"\n",
    "\n",
    "# If the repository doesn't exist in ECR, create it.\n",
    "aws ecr describe-repositories --repository-names \"${algorithm_name}\" > /dev/null 2>&1\n",
    "if [ $? -ne 0 ]\n",
    "then\n",
    "    aws ecr create-repository --repository-name \"${algorithm_name}\" > /dev/null\n",
    "fi\n",
    "\n",
    "# Get the login command from ECR and execute it directly\n",
    "$(aws ecr get-login --region ${region} --registry-ids ${account} --no-include-email) #for docker you must authenticate both accounts, dkt and amazon\n",
    "$(aws ecr get-login --region ${region} --registry-ids 763104351884 --no-include-email) #for amazon\n",
    "\n",
    "# Build the docker image locally with the image name and then push it to ECR\n",
    "# with the full name.\n",
    "docker build  --no-cache --pull --file 'Dockerfile_gluonts' -t ${algorithm_name} .\n",
    "docker tag ${algorithm_name} ${fullname}\n",
    "docker push ${fullname}"
   ]
  },
  {
   "cell_type": "markdown",
   "metadata": {},
   "source": [
    "### Build generic train image : MXNET + Gluonts"
   ]
  },
  {
   "cell_type": "code",
   "execution_count": 13,
   "metadata": {},
   "outputs": [
    {
     "name": "stdout",
     "output_type": "stream",
     "text": [
      "Login Succeeded\n",
      "Login Succeeded\n",
      "Sending build context to Docker daemon   47.1kB\r",
      "\r\n",
      "Step 1/11 : FROM 763104351884.dkr.ecr.eu-west-1.amazonaws.com/mxnet-training:1.4.1-cpu-py3\n",
      "1.4.1-cpu-py3: Pulling from mxnet-training\n",
      "Digest: sha256:410c43d45e016699375ad45064ce35244ec32671f6f5a20a0799c62ea71168e2\n",
      "Status: Image is up to date for 763104351884.dkr.ecr.eu-west-1.amazonaws.com/mxnet-training:1.4.1-cpu-py3\n",
      " ---> b46f891d2614\n",
      "Step 2/11 : ENV http_proxy=http://proxy-internet-aws-eu.subsidia.org:3128\n",
      " ---> Running in 9f3db8d40477\n",
      "Removing intermediate container 9f3db8d40477\n",
      " ---> 7fa8936ca7ce\n",
      "Step 3/11 : ENV https_proxy=http://proxy-internet-aws-eu.subsidia.org:3128\n",
      " ---> Running in 0d3b3a8b71b0\n",
      "Removing intermediate container 0d3b3a8b71b0\n",
      " ---> c1d620d5b180\n",
      "Step 4/11 : ENV no_proxy=169.254.169.254,127.0.0.1\n",
      " ---> Running in f5ad10db2861\n",
      "Removing intermediate container f5ad10db2861\n",
      " ---> ccb1b30381e5\n",
      "Step 5/11 : RUN mkdir -p /opt/program\n",
      " ---> Running in 396a89ced866\n",
      "Removing intermediate container 396a89ced866\n",
      " ---> 594fddb75e65\n",
      "Step 6/11 : ENV PATH=\"/opt/program:${PATH}\"\n",
      " ---> Running in 7cafb9115e0a\n",
      "Removing intermediate container 7cafb9115e0a\n",
      " ---> ea2c9c13784c\n",
      "Step 7/11 : COPY train /opt/program\n",
      " ---> e81e2b629b92\n",
      "Step 8/11 : COPY requirements.txt /opt/program\n",
      " ---> 26285ed291b6\n",
      "Step 9/11 : WORKDIR /opt/program\n",
      " ---> Running in 7d96871f9d7d\n",
      "Removing intermediate container 7d96871f9d7d\n",
      " ---> 3f6866cd042a\n",
      "Step 10/11 : RUN pip install -r requirements.txt\n",
      " ---> Running in 71a645cb3f53\n",
      "Collecting gluonts==0.3.3 (from -r requirements.txt (line 1))\n",
      "  Downloading https://files.pythonhosted.org/packages/09/a3/6bf439e90552770142efa5dedb73ee61879a22579fe7d561a66912e30b90/gluonts-0.3.3-py3-none-any.whl (288kB)\n",
      "Collecting fbprophet (from -r requirements.txt (line 2))\n",
      "  Downloading https://files.pythonhosted.org/packages/33/fb/ad98d46773929079657706e6b2b6e366ba6c282bc2397d8f9b0ea8e5614c/fbprophet-0.5.tar.gz (49kB)\n",
      "Collecting isoweek (from -r requirements.txt (line 3))\n",
      "  Downloading https://files.pythonhosted.org/packages/c2/d4/fe7e2637975c476734fcbf53776e650a29680194eb0dd21dbdc020ca92de/isoweek-1.3.3-py2.py3-none-any.whl\n",
      "Collecting plotly==3.10.0 (from -r requirements.txt (line 4))\n",
      "  Downloading https://files.pythonhosted.org/packages/ff/75/3982bac5076d0ce6d23103c03840fcaec90c533409f9d82c19f54512a38a/plotly-3.10.0-py2.py3-none-any.whl (41.5MB)\n",
      "Collecting matplotlib (from -r requirements.txt (line 5))\n",
      "  Downloading https://files.pythonhosted.org/packages/4e/11/06958a2b895a3853206dea1fb2a5b11bf044f626f90745987612af9c8f2c/matplotlib-3.1.2-cp36-cp36m-manylinux1_x86_64.whl (13.1MB)\n",
      "Collecting joblib (from -r requirements.txt (line 6))\n",
      "  Downloading https://files.pythonhosted.org/packages/28/5c/cf6a2b65a321c4a209efcdf64c2689efae2cb62661f8f6f4bb28547cf1bf/joblib-0.14.1-py2.py3-none-any.whl (294kB)\n",
      "Collecting pandas>=0.25.0 (from gluonts==0.3.3->-r requirements.txt (line 1))\n",
      "  Downloading https://files.pythonhosted.org/packages/52/3f/f6a428599e0d4497e1595030965b5ba455fd8ade6e977e3c819973c4b41d/pandas-0.25.3-cp36-cp36m-manylinux1_x86_64.whl (10.4MB)\n",
      "Requirement already satisfied: boto3==1.* in /usr/local/lib/python3.6/site-packages (from gluonts==0.3.3->-r requirements.txt (line 1)) (1.9.176)\n",
      "Collecting tqdm>=4.23.0 (from gluonts==0.3.3->-r requirements.txt (line 1))\n",
      "  Downloading https://files.pythonhosted.org/packages/8c/c3/d049cf3fb31094ee045ec1ee29fffac218c91e82c8838c49ab4c3e52627b/tqdm-4.41.0-py2.py3-none-any.whl (56kB)\n",
      "Requirement already satisfied: numpy==1.14.* in /usr/local/lib/python3.6/site-packages (from gluonts==0.3.3->-r requirements.txt (line 1)) (1.14.5)\n",
      "Collecting pydantic==0.28.* (from gluonts==0.3.3->-r requirements.txt (line 1))\n",
      "  Downloading https://files.pythonhosted.org/packages/0a/bc/fe7d98f0b4b1e72d0c444f343a798461c1f9d8656fb1c335416dbb8b7976/pydantic-0.28-cp36-cp36m-manylinux1_x86_64.whl (4.8MB)\n",
      "Collecting ujson>=1.35 (from gluonts==0.3.3->-r requirements.txt (line 1))\n",
      "  Downloading https://files.pythonhosted.org/packages/16/c4/79f3409bc710559015464e5f49b9879430d8f87498ecdc335899732e5377/ujson-1.35.tar.gz (192kB)\n",
      "Collecting holidays==0.9.* (from gluonts==0.3.3->-r requirements.txt (line 1))\n",
      "  Downloading https://files.pythonhosted.org/packages/d0/17/a452275a0b3e811a381137ff6a61649086af4c5bf2a25755f518cc64b39e/holidays-0.9.11.tar.gz (81kB)\n",
      "Collecting mxnet<1.5.*,>=1.3.1 (from gluonts==0.3.3->-r requirements.txt (line 1))\n",
      "  Downloading https://files.pythonhosted.org/packages/58/f4/bc147a1ba7175f9890523ff8f1a928a43ac8a79d5897a067158cac4d092f/mxnet-1.4.1-py2.py3-none-manylinux1_x86_64.whl (28.4MB)\n",
      "Collecting Cython>=0.22 (from fbprophet->-r requirements.txt (line 2))\n",
      "  Downloading https://files.pythonhosted.org/packages/df/d1/4d3f8a7a920e805488a966cc6ab55c978a712240f584445d703c08b9f405/Cython-0.29.14-cp36-cp36m-manylinux1_x86_64.whl (2.1MB)\n",
      "Collecting pystan>=2.14 (from fbprophet->-r requirements.txt (line 2))\n",
      "  Downloading https://files.pythonhosted.org/packages/b9/97/a613a98b72090e36b3bc5edc56977596038986cd224a2ae651c4c6a688b3/pystan-2.19.1.1-cp36-cp36m-manylinux1_x86_64.whl (67.3MB)\n",
      "Collecting lunardate>=0.1.5 (from fbprophet->-r requirements.txt (line 2))\n",
      "  Downloading https://files.pythonhosted.org/packages/4e/7e/377a3cbba646ec0cf79433ef858881d809a3b87eb887b0901cb83c66a758/lunardate-0.2.0-py3-none-any.whl\n",
      "Collecting convertdate>=2.1.2 (from fbprophet->-r requirements.txt (line 2))\n",
      "  Downloading https://files.pythonhosted.org/packages/c9/f8/02a18000b0fbfd714f78aa16359796727a181e80f679682e3f62771a5c23/convertdate-2.2.0-py3-none-any.whl\n",
      "Collecting setuptools-git>=1.2 (from fbprophet->-r requirements.txt (line 2))\n",
      "  Downloading https://files.pythonhosted.org/packages/05/97/dd99fa9c0d9627a7b3c103a00f1566d8193aca8d473884ed258cca82b06f/setuptools_git-1.2-py2.py3-none-any.whl\n",
      "Collecting decorator>=4.0.6 (from plotly==3.10.0->-r requirements.txt (line 4))\n",
      "  Downloading https://files.pythonhosted.org/packages/8f/b7/f329cfdc75f3d28d12c65980e4469e2fa373f1953f5df6e370e84ea2e875/decorator-4.4.1-py2.py3-none-any.whl\n",
      "Requirement already satisfied: retrying>=1.3.3 in /usr/local/lib/python3.6/site-packages (from plotly==3.10.0->-r requirements.txt (line 4)) (1.3.3)\n",
      "Collecting nbformat>=4.2 (from plotly==3.10.0->-r requirements.txt (line 4))\n",
      "  Downloading https://files.pythonhosted.org/packages/da/27/9a654d2b6cc1eaa517d1c5a4405166c7f6d72f04f6e7eea41855fe808a46/nbformat-4.4.0-py2.py3-none-any.whl (155kB)\n",
      "Requirement already satisfied: pytz in /usr/local/lib/python3.6/site-packages (from plotly==3.10.0->-r requirements.txt (line 4)) (2019.1)\n",
      "Requirement already satisfied: requests in /usr/local/lib/python3.6/site-packages (from plotly==3.10.0->-r requirements.txt (line 4)) (2.21.0)\n",
      "Requirement already satisfied: six in /usr/local/lib/python3.6/site-packages (from plotly==3.10.0->-r requirements.txt (line 4)) (1.12.0)\n",
      "Requirement already satisfied: python-dateutil>=2.1 in /usr/local/lib/python3.6/site-packages (from matplotlib->-r requirements.txt (line 5)) (2.8.0)\n",
      "Collecting pyparsing!=2.0.4,!=2.1.2,!=2.1.6,>=2.0.1 (from matplotlib->-r requirements.txt (line 5))\n",
      "  Downloading https://files.pythonhosted.org/packages/c0/0c/fc2e007d9a992d997f04a80125b0f183da7fb554f1de701bbb70a8e7d479/pyparsing-2.4.5-py2.py3-none-any.whl (67kB)\n",
      "Collecting kiwisolver>=1.0.1 (from matplotlib->-r requirements.txt (line 5))\n",
      "  Downloading https://files.pythonhosted.org/packages/f8/a1/5742b56282449b1c0968197f63eae486eca2c35dcd334bab75ad524e0de1/kiwisolver-1.1.0-cp36-cp36m-manylinux1_x86_64.whl (90kB)\n",
      "Collecting cycler>=0.10 (from matplotlib->-r requirements.txt (line 5))\n",
      "  Downloading https://files.pythonhosted.org/packages/f7/d2/e07d3ebb2bd7af696440ce7e754c59dd546ffe1bbe732c8ab68b9c834e61/cycler-0.10.0-py2.py3-none-any.whl\n",
      "Requirement already satisfied: botocore<1.13.0,>=1.12.176 in /usr/local/lib/python3.6/site-packages (from boto3==1.*->gluonts==0.3.3->-r requirements.txt (line 1)) (1.12.176)\n",
      "Requirement already satisfied: jmespath<1.0.0,>=0.7.1 in /usr/local/lib/python3.6/site-packages (from boto3==1.*->gluonts==0.3.3->-r requirements.txt (line 1)) (0.9.4)\n",
      "Requirement already satisfied: s3transfer<0.3.0,>=0.2.0 in /usr/local/lib/python3.6/site-packages (from boto3==1.*->gluonts==0.3.3->-r requirements.txt (line 1)) (0.2.1)\n",
      "Collecting dataclasses>=0.6; python_version < \"3.7\" (from pydantic==0.28.*->gluonts==0.3.3->-r requirements.txt (line 1))\n",
      "  Downloading https://files.pythonhosted.org/packages/e1/d2/6f02df2616fd4016075f60157c7a0452b38d8f7938ae94343911e0fb0b09/dataclasses-0.7-py3-none-any.whl\n",
      "Requirement already satisfied: graphviz<0.9.0,>=0.8.1 in /usr/local/lib/python3.6/site-packages (from mxnet<1.5.*,>=1.3.1->gluonts==0.3.3->-r requirements.txt (line 1)) (0.8.4)\n",
      "Collecting pymeeus<=1,>=0.3.6 (from convertdate>=2.1.2->fbprophet->-r requirements.txt (line 2))\n",
      "  Downloading https://files.pythonhosted.org/packages/a3/78/6aef07082e4f4ebc9ce7b86ec0560e1b12f21d90f7a5706dc341b3538c49/PyMeeus-0.3.6.tar.gz (736kB)\n",
      "Collecting jsonschema!=2.5.0,>=2.4 (from nbformat>=4.2->plotly==3.10.0->-r requirements.txt (line 4))\n",
      "  Downloading https://files.pythonhosted.org/packages/c5/8f/51e89ce52a085483359217bc72cdbf6e75ee595d5b1d4b5ade40c7e018b8/jsonschema-3.2.0-py2.py3-none-any.whl (56kB)\n",
      "Collecting jupyter-core (from nbformat>=4.2->plotly==3.10.0->-r requirements.txt (line 4))\n",
      "  Downloading https://files.pythonhosted.org/packages/fb/82/86437f661875e30682e99d04c13ba6c216f86f5f6ca6ef212d3ee8b6ca11/jupyter_core-4.6.1-py2.py3-none-any.whl (82kB)\n",
      "Collecting ipython-genutils (from nbformat>=4.2->plotly==3.10.0->-r requirements.txt (line 4))\n",
      "  Downloading https://files.pythonhosted.org/packages/fa/bc/9bd3b5c2b4774d5f33b2d544f1460be9df7df2fe42f352135381c347c69a/ipython_genutils-0.2.0-py2.py3-none-any.whl\n",
      "Collecting traitlets>=4.1 (from nbformat>=4.2->plotly==3.10.0->-r requirements.txt (line 4))\n",
      "  Downloading https://files.pythonhosted.org/packages/ca/ab/872a23e29cec3cf2594af7e857f18b687ad21039c1f9b922fac5b9b142d5/traitlets-4.3.3-py2.py3-none-any.whl (75kB)\n",
      "Requirement already satisfied: urllib3<1.25,>=1.21.1 in /usr/local/lib/python3.6/site-packages (from requests->plotly==3.10.0->-r requirements.txt (line 4)) (1.24.3)\n",
      "Requirement already satisfied: chardet<3.1.0,>=3.0.2 in /usr/local/lib/python3.6/site-packages (from requests->plotly==3.10.0->-r requirements.txt (line 4)) (3.0.4)\n",
      "Requirement already satisfied: idna<2.9,>=2.5 in /usr/local/lib/python3.6/site-packages (from requests->plotly==3.10.0->-r requirements.txt (line 4)) (2.8)\n",
      "Requirement already satisfied: certifi>=2017.4.17 in /usr/local/lib/python3.6/site-packages (from requests->plotly==3.10.0->-r requirements.txt (line 4)) (2019.6.16)\n",
      "Requirement already satisfied: setuptools in /usr/local/lib/python3.6/site-packages (from kiwisolver>=1.0.1->matplotlib->-r requirements.txt (line 5)) (41.0.1)\n",
      "Requirement already satisfied: docutils>=0.10 in /usr/local/lib/python3.6/site-packages (from botocore<1.13.0,>=1.12.176->boto3==1.*->gluonts==0.3.3->-r requirements.txt (line 1)) (0.14)\n",
      "Collecting importlib-metadata; python_version < \"3.8\" (from jsonschema!=2.5.0,>=2.4->nbformat>=4.2->plotly==3.10.0->-r requirements.txt (line 4))\n",
      "  Downloading https://files.pythonhosted.org/packages/e9/71/1a1e0ed0981bb6a67bce55a210f168126b7ebd2065958673797ea66489ca/importlib_metadata-1.3.0-py2.py3-none-any.whl\n",
      "Collecting attrs>=17.4.0 (from jsonschema!=2.5.0,>=2.4->nbformat>=4.2->plotly==3.10.0->-r requirements.txt (line 4))\n",
      "  Downloading https://files.pythonhosted.org/packages/a2/db/4313ab3be961f7a763066401fb77f7748373b6094076ae2bda2806988af6/attrs-19.3.0-py2.py3-none-any.whl\n",
      "Collecting pyrsistent>=0.14.0 (from jsonschema!=2.5.0,>=2.4->nbformat>=4.2->plotly==3.10.0->-r requirements.txt (line 4))\n",
      "  Downloading https://files.pythonhosted.org/packages/6c/6f/c1a2e8da80a0029f6b618d7e20e1a6f2a61dd04e2e54225309c2cc4268f7/pyrsistent-0.15.6.tar.gz (107kB)\n",
      "Collecting zipp>=0.5 (from importlib-metadata; python_version < \"3.8\"->jsonschema!=2.5.0,>=2.4->nbformat>=4.2->plotly==3.10.0->-r requirements.txt (line 4))\n",
      "  Downloading https://files.pythonhosted.org/packages/74/3d/1ee25a26411ba0401b43c6376d2316a71addcc72ef8690b101b4ea56d76a/zipp-0.6.0-py2.py3-none-any.whl\n",
      "Collecting more-itertools (from zipp>=0.5->importlib-metadata; python_version < \"3.8\"->jsonschema!=2.5.0,>=2.4->nbformat>=4.2->plotly==3.10.0->-r requirements.txt (line 4))\n",
      "  Downloading https://files.pythonhosted.org/packages/68/03/0604cec1ea13c9f063dd50f900d1a36160334dd3cfb01fd0e638f61b46ba/more_itertools-8.0.2-py3-none-any.whl (40kB)\n",
      "Installing collected packages: pyparsing, kiwisolver, cycler, matplotlib, pandas, tqdm, dataclasses, pydantic, ujson, holidays, mxnet, gluonts, Cython, pystan, lunardate, pymeeus, convertdate, setuptools-git, fbprophet, isoweek, decorator, more-itertools, zipp, importlib-metadata, attrs, pyrsistent, jsonschema, ipython-genutils, traitlets, jupyter-core, nbformat, plotly, joblib\n",
      "  Found existing installation: pandas 0.24.1\n",
      "    Uninstalling pandas-0.24.1:\n",
      "      Successfully uninstalled pandas-0.24.1\n",
      "  Running setup.py install for ujson: started\n",
      "    Running setup.py install for ujson: finished with status 'done'\n",
      "  Running setup.py install for holidays: started\n",
      "    Running setup.py install for holidays: finished with status 'done'\n",
      "  Running setup.py install for pymeeus: started\n",
      "    Running setup.py install for pymeeus: finished with status 'done'\n",
      "  Running setup.py install for fbprophet: started\n",
      "    Running setup.py install for fbprophet: still running...\n",
      "    Running setup.py install for fbprophet: finished with status 'done'\n",
      "  Running setup.py install for pyrsistent: started\n",
      "    Running setup.py install for pyrsistent: finished with status 'done'\n",
      "Successfully installed Cython-0.29.14 attrs-19.3.0 convertdate-2.2.0 cycler-0.10.0 dataclasses-0.7 decorator-4.4.1 fbprophet-0.5 gluonts-0.3.3 holidays-0.9.11 importlib-metadata-1.3.0 ipython-genutils-0.2.0 isoweek-1.3.3 joblib-0.14.1 jsonschema-3.2.0 jupyter-core-4.6.1 kiwisolver-1.1.0 lunardate-0.2.0 matplotlib-3.1.2 more-itertools-8.0.2 mxnet-1.4.1 nbformat-4.4.0 pandas-0.25.3 plotly-3.10.0 pydantic-0.28 pymeeus-0.3.6 pyparsing-2.4.5 pyrsistent-0.15.6 pystan-2.19.1.1 setuptools-git-1.2 tqdm-4.41.0 traitlets-4.3.3 ujson-1.35 zipp-0.6.0\n",
      "\u001b[91mWARNING: You are using pip version 19.1.1, however version 19.3.1 is available.\n",
      "You should consider upgrading via the 'pip install --upgrade pip' command.\n",
      "\u001b[0mRemoving intermediate container 71a645cb3f53\n",
      " ---> c94a0be4c2fb\n",
      "Step 11/11 : ENTRYPOINT [\"python\"]\n",
      " ---> Running in 87505648e0a3\n",
      "Removing intermediate container 87505648e0a3\n",
      " ---> 6c64c6329992\n",
      "Successfully built 6c64c6329992\n",
      "Successfully tagged apo-demand-forecast-training:latest\n",
      "The push refers to repository [150258775384.dkr.ecr.eu-west-1.amazonaws.com/apo-demand-forecast-training]\n",
      "47c351bdcae7: Preparing\n",
      "0d2328d8e246: Preparing\n",
      "b16efc970d30: Preparing\n",
      "b19f79a359a0: Preparing\n",
      "8dfd6a9b4a23: Preparing\n",
      "76f3ba8c633a: Preparing\n",
      "6994e2dcf65c: Preparing\n",
      "2ba2938b1081: Preparing\n",
      "c2bd17c23a00: Preparing\n",
      "03d55c086506: Preparing\n",
      "0b1e8a5461c8: Preparing\n",
      "92d3f22d44f3: Preparing\n",
      "10e46f329a25: Preparing\n",
      "24ab7de5faec: Preparing\n",
      "1ea5a27b0484: Preparing\n",
      "c2bd17c23a00: Waiting\n",
      "03d55c086506: Waiting\n",
      "0b1e8a5461c8: Waiting\n",
      "92d3f22d44f3: Waiting\n",
      "10e46f329a25: Waiting\n",
      "24ab7de5faec: Waiting\n",
      "1ea5a27b0484: Waiting\n",
      "6994e2dcf65c: Waiting\n",
      "2ba2938b1081: Waiting\n",
      "76f3ba8c633a: Waiting\n",
      "8dfd6a9b4a23: Layer already exists\n",
      "76f3ba8c633a: Layer already exists\n",
      "6994e2dcf65c: Layer already exists\n",
      "2ba2938b1081: Layer already exists\n",
      "c2bd17c23a00: Layer already exists\n",
      "03d55c086506: Layer already exists\n",
      "0b1e8a5461c8: Layer already exists\n",
      "b19f79a359a0: Pushed\n",
      "92d3f22d44f3: Layer already exists\n",
      "0d2328d8e246: Pushed\n",
      "10e46f329a25: Layer already exists\n",
      "b16efc970d30: Pushed\n",
      "24ab7de5faec: Layer already exists\n",
      "1ea5a27b0484: Layer already exists\n",
      "47c351bdcae7: Pushed\n",
      "latest: digest: sha256:eb44e631a90da5449a81ab874feae57b275b09564144ad944cfc6ed29bf44668 size: 3458\n"
     ]
    },
    {
     "name": "stderr",
     "output_type": "stream",
     "text": [
      "WARNING! Using --password via the CLI is insecure. Use --password-stdin.\n",
      "WARNING! Your password will be stored unencrypted in /home/ec2-user/.docker/config.json.\n",
      "Configure a credential helper to remove this warning. See\n",
      "https://docs.docker.com/engine/reference/commandline/login/#credentials-store\n",
      "\n",
      "WARNING! Using --password via the CLI is insecure. Use --password-stdin.\n",
      "WARNING! Your password will be stored unencrypted in /home/ec2-user/.docker/config.json.\n",
      "Configure a credential helper to remove this warning. See\n",
      "https://docs.docker.com/engine/reference/commandline/login/#credentials-store\n",
      "\n"
     ]
    }
   ],
   "source": [
    "%%sh\n",
    "\n",
    "export HTTPS_PROXY=http://proxy-internet-aws-eu.subsidia.org:3128\n",
    "export HTTP_PROXY=http://proxy-internet-aws-eu.subsidia.org:3128\n",
    "export NO_PROXY=169.254.169.254,127.0.0.1\n",
    "\n",
    "# The name of our algorithm\n",
    "algorithm_name=apo-demand-forecast-training\n",
    "\n",
    "cd container\n",
    "chmod +x train\n",
    "\n",
    "account=$(aws sts get-caller-identity --query Account --output text)\n",
    "\n",
    "# Get the region defined in the current configuration (default to us-west-2 if none defined)\n",
    "region=$(aws configure get region)\n",
    "region=${region:-eu-west-1}\n",
    "\n",
    "fullname=\"${account}.dkr.ecr.${region}.amazonaws.com/${algorithm_name}:latest\"\n",
    "\n",
    "# If the repository doesn't exist in ECR, create it.\n",
    "aws ecr describe-repositories --repository-names \"${algorithm_name}\" > /dev/null 2>&1\n",
    "if [ $? -ne 0 ]\n",
    "then\n",
    "    aws ecr create-repository --repository-name \"${algorithm_name}\" > /dev/null\n",
    "fi\n",
    "\n",
    "# Get the login command from ECR and execute it directly\n",
    "$(aws ecr get-login --region ${region} --registry-ids ${account} --no-include-email) #for docker you must authenticate both accounts, dkt and amazon\n",
    "$(aws ecr get-login --region ${region} --registry-ids 763104351884 --no-include-email) #for amazon\n",
    "\n",
    "#cd ../../\n",
    "\n",
    "# Build the docker image locally with the image name and then push it to ECR\n",
    "# with the full name.\n",
    "docker build  --no-cache --pull --file 'Dockerfile_train' -t ${algorithm_name} .\n",
    "docker tag ${algorithm_name} ${fullname}\n",
    "docker push ${fullname}"
   ]
  },
  {
   "cell_type": "code",
   "execution_count": 4,
   "metadata": {},
   "outputs": [],
   "source": [
    "from sagemaker import get_execution_role"
   ]
  },
  {
   "cell_type": "code",
   "execution_count": 5,
   "metadata": {},
   "outputs": [
    {
     "data": {
      "text/plain": [
       "'arn:aws:iam::150258775384:role/FORECAST-SAGEMAKER-DEV'"
      ]
     },
     "execution_count": 5,
     "metadata": {},
     "output_type": "execute_result"
    }
   ],
   "source": [
    "role = get_execution_role()\n",
    "role"
   ]
  },
  {
   "cell_type": "code",
   "execution_count": 6,
   "metadata": {},
   "outputs": [],
   "source": [
    "bucket = 'fcst-workspace'\n",
    "project_id = 'qlik/data/refined/domyos_nov_2019/gluonts_data' #/train_data_cutoff_201922.csv"
   ]
  },
  {
   "cell_type": "markdown",
   "metadata": {
    "jupyter": {
     "source_hidden": true
    }
   },
   "source": [
    "## AWS MXNet Image"
   ]
  },
  {
   "cell_type": "code",
   "execution_count": null,
   "metadata": {
    "jupyter": {
     "source_hidden": true
    }
   },
   "outputs": [],
   "source": [
    "from sagemaker.mxnet import MXNet"
   ]
  },
  {
   "cell_type": "code",
   "execution_count": null,
   "metadata": {
    "jupyter": {
     "source_hidden": true
    }
   },
   "outputs": [],
   "source": [
    "mxnet_estimator = MXNet('train.py',\n",
    "                        train_instance_type='ml.m5.xlarge',\n",
    "                        train_instance_count=1,\n",
    "                        framework_version='1.4.1',\n",
    "                        security_group_ids=[\"sg-0186b5ab868f43e42\"],\n",
    "                        subnets=[\"subnet-0f87a7ed73f4ead6d\", \"subnet-02c60aed04f0d4ee5\"],\n",
    "                        role=role,\n",
    "                        #source_dir='.',\n",
    "                        #requirements_file='requirements.text',\n",
    "                        hyperparameters={'batch-size': 100,\n",
    "                                         'epochs': 10,\n",
    "                                         'learning-rate': 0.1})\n",
    "mxnet_estimator.fit('s3://'+bucket+'/'+project_id+'/gluonts_ds_cutoff_201922.pkl')"
   ]
  },
  {
   "cell_type": "markdown",
   "metadata": {},
   "source": [
    "## Bring your own Docker Image Sagemaker"
   ]
  },
  {
   "cell_type": "code",
   "execution_count": 7,
   "metadata": {},
   "outputs": [],
   "source": [
    "image_name = '150258775384.dkr.ecr.eu-west-1.amazonaws.com/apo-demand-forecast-training:latest'"
   ]
  },
  {
   "cell_type": "code",
   "execution_count": 8,
   "metadata": {},
   "outputs": [],
   "source": [
    "hyperparameters = {\n",
    "        'yearly_order': 27,\n",
    "        'quaterly_order': 5,\n",
    "    \n",
    "        'weekly_seasonality': False,\n",
    "        'daily_seasonality': False,\n",
    "        'yearly_seasonality': False,\n",
    "    \n",
    "        'n_changepoints': 36,\n",
    "        'changepoint_range': 0.69,\n",
    "        'changepoint_prior_scale': 1.91,\n",
    "        'seasonality_prior_scale': 2.04\n",
    "}"
   ]
  },
  {
   "cell_type": "code",
   "execution_count": null,
   "metadata": {},
   "outputs": [
    {
     "name": "stdout",
     "output_type": "stream",
     "text": [
      "2019-12-23 14:27:17 Starting - Starting the training job...\n",
      "2019-12-23 14:27:19 Starting - Launching requested ML instances......\n",
      "2019-12-23 14:28:18 Starting - Preparing the instances for training...\n",
      "2019-12-23 14:28:59 Downloading - Downloading input data...\n",
      "2019-12-23 14:29:20 Training - Downloading the training image..."
     ]
    }
   ],
   "source": [
    "from sagemaker.estimator import Estimator\n",
    "\n",
    "#hyperparameters = {'train-steps': 100}\n",
    "\n",
    "instance_type = 'ml.m5.2xlarge' #'ml.m5.xlarge' #'local'#'local'#'ml.p3.2xlarge' # #'local' #'local_gpu'\n",
    "\n",
    "estimator = Estimator(role=role,\n",
    "                      train_instance_count=1,\n",
    "                      train_instance_type=instance_type,\n",
    "                      image_name=image_name,\n",
    "                      hyperparameters=hyperparameters,\n",
    "                      security_group_ids=[\"sg-0186b5ab868f43e42\"],\n",
    "                      subnets=[\"subnet-0f87a7ed73f4ead6d\", \"subnet-02c60aed04f0d4ee5\"]\n",
    "                      )\n",
    "\n",
    "#estimator.fit(+'/gluonts_ds_cutoff_201922.pkl')\n",
    "#estimator.fit({'training': 's3://'+bucket+'/'+project_id,\n",
    "#                   'test': 's3://'+bucket+'/'+project_id})\n",
    "#predictor = estimator.deploy(1, instance_type)\n",
    "\n",
    "estimator.fit('s3://'+bucket+'/'+project_id) #'/gluonts_ds_cutoff_201922.pkl'"
   ]
  },
  {
   "cell_type": "markdown",
   "metadata": {},
   "source": [
    "## Bring your own hyperopt"
   ]
  },
  {
   "cell_type": "code",
   "execution_count": null,
   "metadata": {},
   "outputs": [],
   "source": [
    "import boto3\n",
    "\n",
    "from time import gmtime, strftime\n",
    "from sagemaker.tuner import IntegerParameter, CategoricalParameter, ContinuousParameter, HyperparameterTuner"
   ]
  },
  {
   "cell_type": "code",
   "execution_count": null,
   "metadata": {},
   "outputs": [],
   "source": [
    "tuning_job_name = 'demand-forecast-prophet-tuning'# + strftime(\"%d-%H-%M-%S\", gmtime())\n",
    "\n",
    "\n",
    "hyperparameter_ranges = {\n",
    "        'yearly_order': IntegerParameter (26, 29), #(1, 30)\n",
    "        'quaterly_order': IntegerParameter(4, 6), #(1, 10)\n",
    "    \n",
    "        'n_changepoints': IntegerParameter(30, 32), #(1, 50)\n",
    "        'changepoint_range': ContinuousParameter(0.65, 0.69), #(0.6, 1.)\n",
    "        'changepoint_prior_scale': ContinuousParameter(1.8, 1.9, scaling_type=\"Logarithmic\"), #1e-2, 1e2\n",
    "        'seasonality_prior_scale': ContinuousParameter(2.2, 2.4, scaling_type=\"Logarithmic\")\n",
    "}\n"
   ]
  },
  {
   "cell_type": "code",
   "execution_count": null,
   "metadata": {},
   "outputs": [],
   "source": [
    "objective_metric_name = 'loss'\n",
    "objective_type = 'Minimize'\n",
    "metric_definitions = [{'Name': 'loss',\n",
    "                       'Regex': 'loss = ([0-9\\\\.]+)'}]"
   ]
  },
  {
   "cell_type": "code",
   "execution_count": null,
   "metadata": {},
   "outputs": [],
   "source": [
    "tuner = HyperparameterTuner(tf_estimator,\n",
    "                            objective_metric_name,\n",
    "                            hyperparameter_ranges,\n",
    "                            metric_definitions,\n",
    "                            max_jobs=9,\n",
    "                            max_parallel_jobs=1,\n",
    "                            objective_type=objective_type)"
   ]
  },
  {
   "cell_type": "code",
   "execution_count": null,
   "metadata": {},
   "outputs": [],
   "source": [
    "tuner.fit({'training': 's3://'+bucket+'/'+project_id,\n",
    "          'test': 's3://'+bucket+'/'+project_id})"
   ]
  },
  {
   "cell_type": "code",
   "execution_count": null,
   "metadata": {},
   "outputs": [],
   "source": [
    "boto3.client('sagemaker').describe_hyper_parameter_tuning_job(\n",
    "    HyperParameterTuningJobName=tuner.latest_tuning_job.job_name)['HyperParameterTuningJobStatus']"
   ]
  },
  {
   "cell_type": "markdown",
   "metadata": {},
   "source": [
    "## Bring your own Batch Transform"
   ]
  },
  {
   "cell_type": "code",
   "execution_count": null,
   "metadata": {},
   "outputs": [],
   "source": [
    "transform_output_folder = \"oaitel05/deep-forecast-batch-transform-output\"\n",
    "\n",
    "output_path=\"s3://{}/{}\".format(bucket, transform_output_folder)\n",
    "\n",
    "instance_type='ml.m5.xlarge'#'local'#'ml.p3.2xlarge'\n",
    "\n",
    "transformer = estimator.transformer(instance_count=1,\n",
    "                               instance_type=instance_type,\n",
    "                               output_path=output_path,\n",
    "                               #assemble_with='Line',\n",
    "                               accept='application/x-hdf5')"
   ]
  }
 ],
 "metadata": {
  "kernelspec": {
   "display_name": "conda_python3",
   "language": "python",
   "name": "conda_python3"
  },
  "language_info": {
   "codemirror_mode": {
    "name": "ipython",
    "version": 3
   },
   "file_extension": ".py",
   "mimetype": "text/x-python",
   "name": "python",
   "nbconvert_exporter": "python",
   "pygments_lexer": "ipython3",
   "version": "3.6.5"
  }
 },
 "nbformat": 4,
 "nbformat_minor": 4
}
